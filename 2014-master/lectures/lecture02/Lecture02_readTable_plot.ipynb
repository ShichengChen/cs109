{
 "metadata": {
  "name": "",
  "signature": "sha256:0359f66b1bc71afcdbff7d35d0be8149675a154abd6bee7188c44715c0a92f19"
 },
 "nbformat": 3,
 "nbformat_minor": 0,
 "worksheets": [
  {
   "cells": [
    {
     "cell_type": "code",
     "collapsed": false,
     "input": [
      "from IPython.core.display import HTML\n",
      "\n",
      "print(\"Setting custom CSS for the IPython Notebook\")\n",
      "styles = open('custom.css', 'r').read()\n",
      "HTML(styles)"
     ],
     "language": "python",
     "metadata": {},
     "outputs": [
      {
       "output_type": "stream",
       "stream": "stdout",
       "text": [
        "Setting custom CSS for the IPython Notebook\n"
       ]
      },
      {
       "html": [
        "<style>\n",
        "    @font-face {\n",
        "        font-family: \"Computer Modern\";\n",
        "        src: url('http://mirrors.ctan.org/fonts/cm-unicode/fonts/otf/cmunss.otf');\n",
        "    }\n",
        "    div.cell{\n",
        "        width:1000px;\n",
        "        margin-left:10% !important;\n",
        "        margin-right:auto;\n",
        "    }\n",
        "    h1 {\n",
        "        font-family: Helvetica, serif;\n",
        "    }\n",
        "    h4{\n",
        "        margin-top:12px;\n",
        "        margin-bottom: 3px;\n",
        "       }\n",
        "    div.text_cell_render{\n",
        "        font-family: Computer Modern, \"Helvetica Neue\", Arial, Helvetica, Geneva, sans-serif;\n",
        "        line-height: 145%;\n",
        "        font-size: 170%;\n",
        "        width:800px;\n",
        "        margin-left:auto;\n",
        "        margin-right:auto;\n",
        "    }\n",
        "\n",
        "    div.text_cell_render li {\n",
        "        line-height: 145%;\n",
        "    }\n",
        "\n",
        "    div.text_cell_render code {\n",
        "        color: rgb(0, 204, 0);\n",
        "        font-family: \"Source Code Pro\", source-code-pro,Consolas, monospace;\n",
        "        font-size: 90%;\n",
        "    }\n",
        "\n",
        "    .CodeMirror{\n",
        "            font-family: \"Source Code Pro\", source-code-pro,Consolas, monospace;\n",
        "    }\n",
        "\n",
        "    .text_cell_render h5 {\n",
        "        font-weight: 300;\n",
        "        font-size: 16pt;\n",
        "        color: #4057A1;\n",
        "        font-style: italic;\n",
        "        margin-bottom: .5em;\n",
        "        margin-top: 0.5em;\n",
        "        display: block;\n",
        "    }\n",
        "\n",
        "    .warning{\n",
        "        color: rgb( 240, 20, 20 )\n",
        "        }\n",
        "\n",
        "    strong{\n",
        "        color: rgb(23, 103, 140);\n",
        "\t#border: 1px solid;\n",
        "    }\n",
        "\n",
        "div#notebook {\n",
        "font-size: 22px;\n",
        "}\n",
        "\n",
        "</style>\n",
        "<script>\n",
        "    MathJax.Hub.Config({\n",
        "                        TeX: {\n",
        "                           extensions: [\"AMSmath.js\"]\n",
        "                           },\n",
        "                tex2jax: {\n",
        "                    inlineMath: [ ['$','$'], [\"\\\\(\",\"\\\\)\"] ],\n",
        "                    displayMath: [ ['$$','$$'], [\"\\\\[\",\"\\\\]\"] ]\n",
        "                },\n",
        "                displayAlign: 'center', // Change this to 'center' to center equations.\n",
        "                \"HTML-CSS\": {\n",
        "                    styles: {'.MathJax_Display': {\"margin\": 4}}\n",
        "                }\n",
        "        });\n",
        "</script>"
       ],
       "metadata": {},
       "output_type": "pyout",
       "prompt_number": 10,
       "text": [
        "<IPython.core.display.HTML at 0x174aee10>"
       ]
      }
     ],
     "prompt_number": 10
    },
    {
     "cell_type": "code",
     "collapsed": false,
     "input": [
      "## all imports\n",
      "import numpy as np\n",
      "\n",
      "import pandas as pd\n",
      "from pandas import Series\n",
      "from pandas import DataFrame\n",
      "pd.options.display.mpl_style = 'default'\n",
      "\n",
      "import matplotlib.pyplot as plt\n",
      "%matplotlib inline  \n",
      "\n",
      "import seaborn as sns\n",
      "sns.set_context(\"talk\")"
     ],
     "language": "python",
     "metadata": {},
     "outputs": [],
     "prompt_number": 11
    },
    {
     "cell_type": "markdown",
     "metadata": {
      "slideshow": {
       "slide_type": "slide"
      }
     },
     "source": [
      "CS109\n",
      "=====\n",
      "\n",
      "Verena Kaynig-Fittkau\n",
      "\n",
      "vkaynig@seas.harvard.edu"
     ]
    },
    {
     "cell_type": "markdown",
     "metadata": {
      "slideshow": {
       "slide_type": "slide"
      }
     },
     "source": [
      "IPython Notebooks:\n",
      "===================\n",
      "\n",
      "![IPython](images/ipython.png \"IPython\")"
     ]
    },
    {
     "cell_type": "markdown",
     "metadata": {
      "slideshow": {
       "slide_type": "subslide"
      }
     },
     "source": [
      "IPython Notebooks:\n",
      "===================\n",
      "\n",
      "* These slides are an IPython notebook!\n",
      "* https://github.com/damianavila/live_reveal"
     ]
    },
    {
     "cell_type": "code",
     "collapsed": false,
     "input": [
      "print \"Hello CS109\"\n",
      "\n",
      "print \"I love IPython very much\""
     ],
     "language": "python",
     "metadata": {
      "slideshow": {
       "slide_type": "fragment"
      }
     },
     "outputs": [
      {
       "output_type": "stream",
       "stream": "stdout",
       "text": [
        "Hello CS109\n",
        "I love IPython very much\n"
       ]
      }
     ],
     "prompt_number": 12
    },
    {
     "cell_type": "markdown",
     "metadata": {
      "slideshow": {
       "slide_type": "slide"
      }
     },
     "source": [
      "Todays topics:\n",
      "===============\n",
      "\n",
      "* get started with data\n",
      "* read in a data file\n",
      "* visualize it"
     ]
    },
    {
     "cell_type": "markdown",
     "metadata": {
      "slideshow": {
       "slide_type": "slide"
      }
     },
     "source": [
      "How to load a table\n",
      "===================\n",
      "\n",
      "* we use Pandas for this\n",
      "* Pandas can do a __lot__ more\n",
      "* more about it later\n",
      "\n",
      "<img src=\"images/cute_panda.jpg\" width=400 />"
     ]
    },
    {
     "cell_type": "code",
     "collapsed": false,
     "input": [
      "url = 'https://raw.githubusercontent.com/cs109/2014/master/lectures/wur2013.txt'\n",
      "ranking = pd.read_table(url)\n",
      "ranking = ranking[:30]\n",
      "ranking.head()"
     ],
     "language": "python",
     "metadata": {
      "slideshow": {
       "slide_type": "subslide"
      }
     },
     "outputs": [
      {
       "html": [
        "<div style=\"max-height:1000px;max-width:1500px;overflow:auto;\">\n",
        "<table border=\"1\" class=\"dataframe\">\n",
        "  <thead>\n",
        "    <tr style=\"text-align: right;\">\n",
        "      <th></th>\n",
        "      <th>qsrank</th>\n",
        "      <th>schoolname</th>\n",
        "      <th>qsstars</th>\n",
        "      <th>overall</th>\n",
        "      <th>academic</th>\n",
        "      <th>employer</th>\n",
        "      <th>faculty</th>\n",
        "      <th>international</th>\n",
        "      <th>internationalstudents</th>\n",
        "      <th>citations</th>\n",
        "      <th>arts</th>\n",
        "      <th>engineering</th>\n",
        "      <th>life</th>\n",
        "      <th>natural</th>\n",
        "      <th>social</th>\n",
        "    </tr>\n",
        "  </thead>\n",
        "  <tbody>\n",
        "    <tr>\n",
        "      <th>0</th>\n",
        "      <td> 1</td>\n",
        "      <td> Massachusetts Institute of Technology (MIT) </td>\n",
        "      <td>  6</td>\n",
        "      <td> 100.0</td>\n",
        "      <td> 100.0</td>\n",
        "      <td> 100.0</td>\n",
        "      <td> 100.0</td>\n",
        "      <td> 97.6</td>\n",
        "      <td>  96.3</td>\n",
        "      <td>  99.7</td>\n",
        "      <td> 78.7</td>\n",
        "      <td> 96.3</td>\n",
        "      <td> 90.9</td>\n",
        "      <td> 96.3</td>\n",
        "      <td> 87.4</td>\n",
        "    </tr>\n",
        "    <tr>\n",
        "      <th>1</th>\n",
        "      <td> 2</td>\n",
        "      <td>                           Harvard University</td>\n",
        "      <td>  5</td>\n",
        "      <td>  99.2</td>\n",
        "      <td> 100.0</td>\n",
        "      <td> 100.0</td>\n",
        "      <td>  99.3</td>\n",
        "      <td> 94.1</td>\n",
        "      <td>  85.3</td>\n",
        "      <td> 100.0</td>\n",
        "      <td> 89.7</td>\n",
        "      <td> 85.7</td>\n",
        "      <td> 98.2</td>\n",
        "      <td> 92.3</td>\n",
        "      <td> 96.3</td>\n",
        "    </tr>\n",
        "    <tr>\n",
        "      <th>2</th>\n",
        "      <td> 3</td>\n",
        "      <td>                      University of Cambridge</td>\n",
        "      <td>  5</td>\n",
        "      <td>  99.0</td>\n",
        "      <td> 100.0</td>\n",
        "      <td> 100.0</td>\n",
        "      <td>  99.6</td>\n",
        "      <td> 95.5</td>\n",
        "      <td>  96.0</td>\n",
        "      <td>  95.8</td>\n",
        "      <td> 93.5</td>\n",
        "      <td> 90.5</td>\n",
        "      <td> 91.8</td>\n",
        "      <td> 97.0</td>\n",
        "      <td> 91.2</td>\n",
        "    </tr>\n",
        "    <tr>\n",
        "      <th>3</th>\n",
        "      <td> 4</td>\n",
        "      <td>              UCL (University College London)</td>\n",
        "      <td>NaN</td>\n",
        "      <td>  98.9</td>\n",
        "      <td>  99.9</td>\n",
        "      <td>  98.7</td>\n",
        "      <td>  98.9</td>\n",
        "      <td> 96.5</td>\n",
        "      <td> 100.0</td>\n",
        "      <td>  95.6</td>\n",
        "      <td> 85.6</td>\n",
        "      <td> 75.9</td>\n",
        "      <td> 85.4</td>\n",
        "      <td> 79.6</td>\n",
        "      <td> 81.2</td>\n",
        "    </tr>\n",
        "    <tr>\n",
        "      <th>4</th>\n",
        "      <td> 5</td>\n",
        "      <td>                      Imperial College London</td>\n",
        "      <td>NaN</td>\n",
        "      <td>  98.8</td>\n",
        "      <td>  99.9</td>\n",
        "      <td> 100.0</td>\n",
        "      <td>  99.8</td>\n",
        "      <td> 99.9</td>\n",
        "      <td>  99.9</td>\n",
        "      <td>  92.5</td>\n",
        "      <td> 59.5</td>\n",
        "      <td> 88.3</td>\n",
        "      <td> 85.5</td>\n",
        "      <td> 89.4</td>\n",
        "      <td> 74.9</td>\n",
        "    </tr>\n",
        "  </tbody>\n",
        "</table>\n",
        "</div>"
       ],
       "metadata": {},
       "output_type": "pyout",
       "prompt_number": 13,
       "text": [
        "  qsrank                                    schoolname  qsstars  overall  \\\n",
        "0      1  Massachusetts Institute of Technology (MIT)         6    100.0   \n",
        "1      2                            Harvard University        5     99.2   \n",
        "2      3                       University of Cambridge        5     99.0   \n",
        "3      4               UCL (University College London)      NaN     98.9   \n",
        "4      5                       Imperial College London      NaN     98.8   \n",
        "\n",
        "   academic  employer  faculty  international  internationalstudents  \\\n",
        "0     100.0     100.0    100.0           97.6                   96.3   \n",
        "1     100.0     100.0     99.3           94.1                   85.3   \n",
        "2     100.0     100.0     99.6           95.5                   96.0   \n",
        "3      99.9      98.7     98.9           96.5                  100.0   \n",
        "4      99.9     100.0     99.8           99.9                   99.9   \n",
        "\n",
        "   citations  arts  engineering  life  natural  social  \n",
        "0       99.7  78.7         96.3  90.9     96.3    87.4  \n",
        "1      100.0  89.7         85.7  98.2     92.3    96.3  \n",
        "2       95.8  93.5         90.5  91.8     97.0    91.2  \n",
        "3       95.6  85.6         75.9  85.4     79.6    81.2  \n",
        "4       92.5  59.5         88.3  85.5     89.4    74.9  "
       ]
      }
     ],
     "prompt_number": 13
    },
    {
     "cell_type": "markdown",
     "metadata": {
      "slideshow": {
       "slide_type": "slide"
      }
     },
     "source": [
      "Visualization\n",
      "=============\n",
      "\n",
      "* Data is now in a Pandas DataFrame\n",
      "* Lets try a bar plot\n",
      "\n",
      "\n"
     ]
    },
    {
     "cell_type": "markdown",
     "metadata": {
      "slideshow": {
       "slide_type": "subslide"
      }
     },
     "source": [
      "Matplotlib\n",
      "====================\n",
      "\n"
     ]
    },
    {
     "cell_type": "code",
     "collapsed": false,
     "input": [
      "data_to_plot = ranking.overall\n",
      "plt.bar(data_to_plot.index, data_to_plot)\n",
      "plt.show()"
     ],
     "language": "python",
     "metadata": {},
     "outputs": [
      {
       "metadata": {},
       "output_type": "display_data",
       "png": "[encoded data removed]",
       "text": [
        "<matplotlib.figure.Figure at 0x174aecc0>"
       ]
      }
     ],
     "prompt_number": 14
    },
    {
     "cell_type": "markdown",
     "metadata": {
      "slideshow": {
       "slide_type": "slide"
      }
     },
     "source": [
      "Plotting with Pandas\n",
      "====================\n",
      "\n"
     ]
    },
    {
     "cell_type": "code",
     "collapsed": false,
     "input": [
      "data_to_plot.plot(kind='bar')\n",
      "plt.show()"
     ],
     "language": "python",
     "metadata": {},
     "outputs": [
      {
       "metadata": {},
       "output_type": "display_data",
       "png": "[encoded data removed]",
       "text": [
        "<matplotlib.figure.Figure at 0x176b0278>"
       ]
      }
     ],
     "prompt_number": 23
    },
    {
     "cell_type": "markdown",
     "metadata": {
      "slideshow": {
       "slide_type": "slide"
      }
     },
     "source": [
      "How to Rank Universities\n",
      "========================\n",
      "\n",
      "* Academic peer review (40%)\n",
      "* Faculty student ratio (20%)\n",
      "* Citations per faculty (20%)\n",
      "* Recruiter review (10%)\n",
      "* International orientation (10%)\n",
      "\n",
      "http://en.wikipedia.org/wiki/QS_World_University_Rankings"
     ]
    },
    {
     "cell_type": "markdown",
     "metadata": {
      "slideshow": {
       "slide_type": "subslide"
      }
     },
     "source": [
      "Selecting a Subframe\n",
      "===================="
     ]
    },
    {
     "cell_type": "code",
     "collapsed": false,
     "input": [
      "relevant_columns = ['academic','faculty','citations',\n",
      "                    'employer','international']\n",
      "ranking_categories=ranking[relevant_columns]\n",
      "ranking_categories.head()"
     ],
     "language": "python",
     "metadata": {},
     "outputs": [
      {
       "html": [
        "<div style=\"max-height:1000px;max-width:1500px;overflow:auto;\">\n",
        "<table border=\"1\" class=\"dataframe\">\n",
        "  <thead>\n",
        "    <tr style=\"text-align: right;\">\n",
        "      <th></th>\n",
        "      <th>academic</th>\n",
        "      <th>faculty</th>\n",
        "      <th>citations</th>\n",
        "      <th>employer</th>\n",
        "      <th>international</th>\n",
        "    </tr>\n",
        "  </thead>\n",
        "  <tbody>\n",
        "    <tr>\n",
        "      <th>0</th>\n",
        "      <td> 100.0</td>\n",
        "      <td> 100.0</td>\n",
        "      <td>  99.7</td>\n",
        "      <td> 100.0</td>\n",
        "      <td> 97.6</td>\n",
        "    </tr>\n",
        "    <tr>\n",
        "      <th>1</th>\n",
        "      <td> 100.0</td>\n",
        "      <td>  99.3</td>\n",
        "      <td> 100.0</td>\n",
        "      <td> 100.0</td>\n",
        "      <td> 94.1</td>\n",
        "    </tr>\n",
        "    <tr>\n",
        "      <th>2</th>\n",
        "      <td> 100.0</td>\n",
        "      <td>  99.6</td>\n",
        "      <td>  95.8</td>\n",
        "      <td> 100.0</td>\n",
        "      <td> 95.5</td>\n",
        "    </tr>\n",
        "    <tr>\n",
        "      <th>3</th>\n",
        "      <td>  99.9</td>\n",
        "      <td>  98.9</td>\n",
        "      <td>  95.6</td>\n",
        "      <td>  98.7</td>\n",
        "      <td> 96.5</td>\n",
        "    </tr>\n",
        "    <tr>\n",
        "      <th>4</th>\n",
        "      <td>  99.9</td>\n",
        "      <td>  99.8</td>\n",
        "      <td>  92.5</td>\n",
        "      <td> 100.0</td>\n",
        "      <td> 99.9</td>\n",
        "    </tr>\n",
        "  </tbody>\n",
        "</table>\n",
        "</div>"
       ],
       "metadata": {},
       "output_type": "pyout",
       "prompt_number": 27,
       "text": [
        "   academic  faculty  citations  employer  international\n",
        "0     100.0    100.0       99.7     100.0           97.6\n",
        "1     100.0     99.3      100.0     100.0           94.1\n",
        "2     100.0     99.6       95.8     100.0           95.5\n",
        "3      99.9     98.9       95.6      98.7           96.5\n",
        "4      99.9     99.8       92.5     100.0           99.9"
       ]
      }
     ],
     "prompt_number": 27
    },
    {
     "cell_type": "markdown",
     "metadata": {
      "slideshow": {
       "slide_type": "subslide"
      }
     },
     "source": [
      "Weighting categories\n",
      "===================="
     ]
    },
    {
     "cell_type": "code",
     "collapsed": false,
     "input": [
      "weights = [0.4,0.2,0.2,0.1,0.1]\n",
      "ranking_categories_weighted = ranking_categories * weights\n",
      "ranking_categories_weighted.head()"
     ],
     "language": "python",
     "metadata": {},
     "outputs": [
      {
       "html": [
        "<div style=\"max-height:1000px;max-width:1500px;overflow:auto;\">\n",
        "<table border=\"1\" class=\"dataframe\">\n",
        "  <thead>\n",
        "    <tr style=\"text-align: right;\">\n",
        "      <th></th>\n",
        "      <th>academic</th>\n",
        "      <th>faculty</th>\n",
        "      <th>citations</th>\n",
        "      <th>employer</th>\n",
        "      <th>international</th>\n",
        "    </tr>\n",
        "  </thead>\n",
        "  <tbody>\n",
        "    <tr>\n",
        "      <th>0</th>\n",
        "      <td> 40.00</td>\n",
        "      <td> 20.00</td>\n",
        "      <td> 19.94</td>\n",
        "      <td> 10.00</td>\n",
        "      <td> 9.76</td>\n",
        "    </tr>\n",
        "    <tr>\n",
        "      <th>1</th>\n",
        "      <td> 40.00</td>\n",
        "      <td> 19.86</td>\n",
        "      <td> 20.00</td>\n",
        "      <td> 10.00</td>\n",
        "      <td> 9.41</td>\n",
        "    </tr>\n",
        "    <tr>\n",
        "      <th>2</th>\n",
        "      <td> 40.00</td>\n",
        "      <td> 19.92</td>\n",
        "      <td> 19.16</td>\n",
        "      <td> 10.00</td>\n",
        "      <td> 9.55</td>\n",
        "    </tr>\n",
        "    <tr>\n",
        "      <th>3</th>\n",
        "      <td> 39.96</td>\n",
        "      <td> 19.78</td>\n",
        "      <td> 19.12</td>\n",
        "      <td>  9.87</td>\n",
        "      <td> 9.65</td>\n",
        "    </tr>\n",
        "    <tr>\n",
        "      <th>4</th>\n",
        "      <td> 39.96</td>\n",
        "      <td> 19.96</td>\n",
        "      <td> 18.50</td>\n",
        "      <td> 10.00</td>\n",
        "      <td> 9.99</td>\n",
        "    </tr>\n",
        "  </tbody>\n",
        "</table>\n",
        "</div>"
       ],
       "metadata": {},
       "output_type": "pyout",
       "prompt_number": 17,
       "text": [
        "   academic  faculty  citations  employer  international\n",
        "0     40.00    20.00      19.94     10.00           9.76\n",
        "1     40.00    19.86      20.00     10.00           9.41\n",
        "2     40.00    19.92      19.16     10.00           9.55\n",
        "3     39.96    19.78      19.12      9.87           9.65\n",
        "4     39.96    19.96      18.50     10.00           9.99"
       ]
      }
     ],
     "prompt_number": 17
    },
    {
     "cell_type": "markdown",
     "metadata": {
      "slideshow": {
       "slide_type": "subslide"
      }
     },
     "source": [
      "Multiple Bar Plot\n",
      "===================="
     ]
    },
    {
     "cell_type": "code",
     "collapsed": false,
     "input": [
      "ranking_categories_weighted.head().plot(kind='bar')\n",
      "plt.show()"
     ],
     "language": "python",
     "metadata": {},
     "outputs": [
      {
       "metadata": {},
       "output_type": "display_data",
       "png": "[encoded data removed]",
       "text": [
        "<matplotlib.figure.Figure at 0x176b5dd8>"
       ]
      }
     ],
     "prompt_number": 18
    },
    {
     "cell_type": "markdown",
     "metadata": {
      "slideshow": {
       "slide_type": "slide"
      }
     },
     "source": [
      "Quiz: Fix the Legend\n",
      "===================="
     ]
    },
    {
     "cell_type": "code",
     "collapsed": false,
     "input": [
      "ax = ranking_categories_weighted.head().plot(kind='bar', legend=False)\n",
      "\n",
      "# Put a legend to the right of the current axis\n",
      "ax.legend(loc='center left', bbox_to_anchor=(1, 0.5))\n",
      "\n",
      "plt.show()"
     ],
     "language": "python",
     "metadata": {},
     "outputs": [
      {
       "metadata": {},
       "output_type": "display_data",
       "png": "[encoded data removed]",
       "text": [
        "<matplotlib.figure.Figure at 0x175d4e80>"
       ]
      }
     ],
     "prompt_number": 30
    },
    {
     "cell_type": "markdown",
     "metadata": {
      "slideshow": {
       "slide_type": "slide"
      }
     },
     "source": [
      "Stacked Bar Plot\n",
      "===================="
     ]
    },
    {
     "cell_type": "code",
     "collapsed": false,
     "input": [
      "ranking_categories_weighted.head().plot(kind='bar', legend=False, \n",
      "                                        stacked=True)\n",
      "plt.show()"
     ],
     "language": "python",
     "metadata": {},
     "outputs": [
      {
       "metadata": {},
       "output_type": "display_data",
       "png": "[encoded data removed]",
       "text": [
        "<matplotlib.figure.Figure at 0x371a9e8>"
       ]
      }
     ],
     "prompt_number": 20
    },
    {
     "cell_type": "markdown",
     "metadata": {
      "slideshow": {
       "slide_type": "slide"
      }
     },
     "source": [
      "Horizontal Barplot\n",
      "===================="
     ]
    },
    {
     "cell_type": "code",
     "collapsed": false,
     "input": [
      "ranking_categories_weighted.plot(kind='barh', \n",
      "                                 legend=False, stacked=True)\n",
      "plt.show()"
     ],
     "language": "python",
     "metadata": {},
     "outputs": [
      {
       "metadata": {},
       "output_type": "display_data",
       "png": "[encoded data removed]",
       "text": [
        "<matplotlib.figure.Figure at 0x1797d2e8>"
       ]
      }
     ],
     "prompt_number": 21
    },
    {
     "cell_type": "markdown",
     "metadata": {
      "slideshow": {
       "slide_type": "slide"
      }
     },
     "source": [
      "Adding Labels\n",
      "===================="
     ]
    },
    {
     "cell_type": "code",
     "collapsed": false,
     "input": [
      "ranking.head().schoolname\n",
      "ranking_categories.set_index(ranking.schoolname, inplace=True)\n",
      "\n",
      "ranking_categories.plot(kind='barh', legend=False, stacked=True)\n",
      "plt.show()"
     ],
     "language": "python",
     "metadata": {},
     "outputs": [
      {
       "metadata": {},
       "output_type": "display_data",
       "png": "[encoded data removed]",
       "text": [
        "<matplotlib.figure.Figure at 0x371a9e8>"
       ]
      }
     ],
     "prompt_number": 22
    },
    {
     "cell_type": "markdown",
     "metadata": {
      "slideshow": {
       "slide_type": "slide"
      }
     },
     "source": [
      "You Should Know Now\n",
      "====================\n",
      "\n",
      "* How to read in a data file \n",
      "* How to plot from a DataFrame\n",
      "* How to get help\n",
      "* Matplotlib is great\n",
      "* and can be painful"
     ]
    },
    {
     "cell_type": "code",
     "collapsed": false,
     "input": [],
     "language": "python",
     "metadata": {},
     "outputs": [],
     "prompt_number": 22
    },
    {
     "cell_type": "code",
     "collapsed": false,
     "input": [],
     "language": "python",
     "metadata": {},
     "outputs": [],
     "prompt_number": 22
    }
   ],
   "metadata": {}
  }
 ]
}