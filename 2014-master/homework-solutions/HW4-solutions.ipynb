{
 "metadata": {
  "name": "",
  "signature": "sha256:128dacef41d136e1432e691c2de0a925e997965f0e9217fe4e213a78cd8c4bf7"
 },
 "nbformat": 3,
 "nbformat_minor": 0,
 "worksheets": [
  {
   "cells": [
    {
     "cell_type": "markdown",
     "metadata": {},
     "source": [
      "# Homework 4: Can you predict the Midterm Elections?\n",
      "\n",
      "Due: Monday, November 3, 2014 11:59 PM\n",
      "\n",
      "<a href=https://raw.githubusercontent.com/cs109/2014/master/homework/HW4.ipynb download=HW4.ipynb> Download this assignment</a>\n",
      "\n",
      "#### Submission Instructions\n",
      "To submit your homework, create a folder named lastname_firstinitial_hw# and place your IPython notebooks, data files, and any other files in this folder. Your IPython Notebooks should be completely executed with the results visible in the notebook. We should not have to run any code. Compress the folder (please use .zip compression) and submit to the CS109 dropbox in the appropriate folder. If we cannot access your work because these directions are not followed correctly, we will not grade your work. For the competition (problem 4), we will post a link on Piazza to a Google Form for you to submit your predictions. \n",
      "\n",
      "---"
     ]
    },
    {
     "cell_type": "markdown",
     "metadata": {},
     "source": [
      "## Introduction\n",
      "\n",
      "**Add Introduction**\n",
      "\n",
      "You will use the [HuffPost Pollster API](http://elections.huffingtonpost.com/pollster/api) to extract the polls for the current 2014 Senate Midterm Elections and provide a final prediction of the result of each state.\n",
      "\n",
      "#### Data\n",
      "\n",
      "We will use the polls from the [2014 Senate Midterm Elections](http://elections.huffingtonpost.com/pollster) from the [HuffPost Pollster API](http://elections.huffingtonpost.com/pollster/api). \n",
      "\n",
      "---"
     ]
    },
    {
     "cell_type": "markdown",
     "metadata": {},
     "source": [
      "## Load Python modules"
     ]
    },
    {
     "cell_type": "code",
     "collapsed": false,
     "input": [
      "# special IPython command to prepare the notebook for matplotlib\n",
      "%matplotlib inline \n",
      "\n",
      "import requests \n",
      "from StringIO import StringIO\n",
      "import numpy as np\n",
      "import pandas as pd # pandas\n",
      "import matplotlib.pyplot as plt # module for plotting \n",
      "import datetime as dt # module for manipulating dates and times\n",
      "import numpy.linalg as lin # module for performing linear algebra operations\n",
      "import collections"
     ],
     "language": "python",
     "metadata": {},
     "outputs": [],
     "prompt_number": 1
    },
    {
     "cell_type": "code",
     "collapsed": false,
     "input": [
      "# special matplotlib argument for improved plots\n",
      "from matplotlib import rcParams\n",
      "\n",
      "#colorbrewer2 Dark2 qualitative color table\n",
      "dark2_colors = [(0.10588235294117647, 0.6196078431372549, 0.4666666666666667),\n",
      "                (0.8509803921568627, 0.37254901960784315, 0.00784313725490196),\n",
      "                (0.4588235294117647, 0.4392156862745098, 0.7019607843137254),\n",
      "                (0.9058823529411765, 0.1607843137254902, 0.5411764705882353),\n",
      "                (0.4, 0.6509803921568628, 0.11764705882352941),\n",
      "                (0.9019607843137255, 0.6705882352941176, 0.00784313725490196),\n",
      "                (0.6509803921568628, 0.4627450980392157, 0.11372549019607843)]\n",
      "\n",
      "rcParams['figure.figsize'] = (10, 6)\n",
      "rcParams['figure.dpi'] = 150\n",
      "rcParams['axes.color_cycle'] = dark2_colors\n",
      "rcParams['lines.linewidth'] = 2\n",
      "rcParams['axes.facecolor'] = 'white'\n",
      "rcParams['font.size'] = 14\n",
      "rcParams['patch.edgecolor'] = 'white'\n",
      "rcParams['patch.facecolor'] = dark2_colors[0]\n",
      "rcParams['font.family'] = 'StixGeneral'"
     ],
     "language": "python",
     "metadata": {},
     "outputs": [],
     "prompt_number": 2
    },
    {
     "cell_type": "markdown",
     "metadata": {},
     "source": [
      "## Problem 1: Data Wrangling\n",
      "\n",
      "We will read in the polls from the [2014 Senate Midterm Elections](http://elections.huffingtonpost.com/pollster) from the [HuffPost Pollster API](http://elections.huffingtonpost.com/pollster/api) and create a dictionary of DataFrames as well a master table information for each race."
     ]
    },
    {
     "cell_type": "markdown",
     "metadata": {},
     "source": [
      "#### Problem 1(a)\n",
      "\n",
      "Read in [this JSON object](http://elections.huffingtonpost.com/pollster/api/charts/?topic=2014-senate) containing the polls for the 2014 Senate Elections using the HuffPost API. Call this JSON object `info`.  This JSON object is imported as a list in Python where each element contains the information for one race.  Use the function `type` to confirm the that `info` is a list. "
     ]
    },
    {
     "cell_type": "code",
     "collapsed": false,
     "input": [
      "### Your code here ###\n",
      "url_str = \"http://elections.huffingtonpost.com/pollster/api/charts/?topic=2014-senate\"\n",
      "info = requests.get(url_str).json()\n",
      "type(info)"
     ],
     "language": "python",
     "metadata": {},
     "outputs": [
      {
       "metadata": {},
       "output_type": "pyout",
       "prompt_number": 3,
       "text": [
        "list"
       ]
      }
     ],
     "prompt_number": 3
    },
    {
     "cell_type": "markdown",
     "metadata": {},
     "source": [
      "#### Problem 1(b)\n",
      "\n",
      "For each element of the list in `info` extract the state. We should have one poll per state, but we do not. Why?\n",
      "\n",
      "**Hint**: Use the internet to find out information on the races in each state that has more than one entry. Eliminate entries of the list that represent races that are not happening."
     ]
    },
    {
     "cell_type": "code",
     "collapsed": false,
     "input": [
      "### Your code here ###"
     ],
     "language": "python",
     "metadata": {},
     "outputs": [],
     "prompt_number": 4
    },
    {
     "cell_type": "markdown",
     "metadata": {},
     "source": [
      "First, we use a list comprehension to extract the `state` from each race. Then, we use the python module `collections.Counter` to determine which states have multiple races."
     ]
    },
    {
     "cell_type": "code",
     "collapsed": false,
     "input": [
      "states = [str(election['state']) for election in info]\n",
      "titles = [str(election['title']) for election in info]\n",
      "\n",
      "countStates = collections.Counter(states)\n",
      "print countStates"
     ],
     "language": "python",
     "metadata": {},
     "outputs": [
      {
       "output_type": "stream",
       "stream": "stdout",
       "text": [
        "Counter({'NH': 2, 'GA': 2, 'OK': 2, 'SC': 2, 'DE': 1, 'WV': 1, 'HI': 1, 'WY': 1, 'NJ': 1, 'NM': 1, 'TX': 1, 'LA': 1, 'NC': 1, 'NE': 1, 'TN': 1, 'RI': 1, 'VA': 1, 'CO': 1, 'AK': 1, 'AR': 1, 'IL': 1, 'IA': 1, 'MA': 1, 'ID': 1, 'ME': 1, 'MN': 1, 'MI': 1, 'KS': 1, 'MT': 1, 'MS': 1, 'KY': 1, 'OR': 1, 'SD': 1})\n"
       ]
      }
     ],
     "prompt_number": 5
    },
    {
     "cell_type": "code",
     "collapsed": false,
     "input": [
      "twoPollIndex = [elem[0] for elem in countStates.most_common(4)]\n",
      "twoPollIndex"
     ],
     "language": "python",
     "metadata": {},
     "outputs": [
      {
       "metadata": {},
       "output_type": "pyout",
       "prompt_number": 6,
       "text": [
        "['NH', 'GA', 'OK', 'SC']"
       ]
      }
     ],
     "prompt_number": 6
    },
    {
     "cell_type": "markdown",
     "metadata": {},
     "source": [
      "We can print all the titles of each state with more than one race and use google to find out more information about each race. "
     ]
    },
    {
     "cell_type": "code",
     "collapsed": false,
     "input": [
      "for state in twoPollIndex:\n",
      "    ind = [i for i, x in enumerate(states) if x == state]\n",
      "    for elem in ind:\n",
      "        print \"title: %s (index: %g)\" % (titles[elem], elem)"
     ],
     "language": "python",
     "metadata": {},
     "outputs": [
      {
       "output_type": "stream",
       "stream": "stdout",
       "text": [
        "title: 2014 New Hampshire Senate: Brown vs. Shaheen (index: 4)\n",
        "title: 2014 New Hampshire Senate: Bass vs. Shaheen (index: 6)\n",
        "title: 2014 Georgia Senate: Perdue vs. Nunn (index: 15)\n",
        "title: 2014 Georgia Senate Runoff (index: 36)\n",
        "title: 2014 Oklahoma Senate: Inhofe vs. Silverstein (index: 23)\n",
        "title: 2014 Oklahoma Senate: Lankford vs. Johnson (index: 31)\n",
        "title: 2014 South Carolina Senate: Graham vs. Hutto (index: 21)\n",
        "title: 2014 South Carolina Senate: Scott vs. Dickerson (index: 22)\n"
       ]
      }
     ],
     "prompt_number": 7
    },
    {
     "cell_type": "markdown",
     "metadata": {},
     "source": [
      "** Your answer here: **\n",
      "\n",
      "Using some [google-fu](http://www.urbandictionary.com/define.php?term=google-fu), we see the races in Oklahoma and South Carolina are special elections. In Georgia, we should remove the senate runoff races and in New Hampshire, we see Bass withdrew so we will take out both of these races from our `info` JSON object.  The indices in the `info` list is 6 and 36. Therefore, we will remove these indices. "
     ]
    },
    {
     "cell_type": "code",
     "collapsed": false,
     "input": [
      "removeset = set([6, 36])\n",
      "infoClean = [v for i, v in enumerate(info) if i not in removeset]"
     ],
     "language": "python",
     "metadata": {},
     "outputs": [],
     "prompt_number": 8
    },
    {
     "cell_type": "markdown",
     "metadata": {},
     "source": [
      "#### Problem 1(c)\n",
      "\n",
      "Create a dictionary of pandas DataFrames called `polls` keyed by the name of the election (a string). Each value in the dictionary should contain the polls for one of the races."
     ]
    },
    {
     "cell_type": "code",
     "collapsed": false,
     "input": [
      "### Your code here ###\n",
      "election_urls = [election['url'] + '.csv' for election in infoClean]"
     ],
     "language": "python",
     "metadata": {},
     "outputs": [],
     "prompt_number": 9
    },
    {
     "cell_type": "markdown",
     "metadata": {},
     "source": [
      "To create a dictionary of pandas DataFrames that will be keyed by the name of the election (a string), we use the following function `build_frame` introduced in [Homework 2](http://nbviewer.ipython.org/github/cs109/2014/blob/master/homework/HW2.ipynb). "
     ]
    },
    {
     "cell_type": "code",
     "collapsed": false,
     "input": [
      "def build_frame(url):\n",
      "    \"\"\"\n",
      "    Returns a pandas DataFrame object containing\n",
      "    the data returned from the given url\n",
      "    \"\"\"\n",
      "    source = requests.get(url).text\n",
      "    \n",
      "    # Use StringIO because pd.DataFrame.from_csv requires .read() method\n",
      "    s = StringIO(source)\n",
      "    \n",
      "    return pd.DataFrame.from_csv(s, index_col=None).convert_objects(\n",
      "            convert_dates=\"coerce\", convert_numeric=True)"
     ],
     "language": "python",
     "metadata": {},
     "outputs": [],
     "prompt_number": 10
    },
    {
     "cell_type": "code",
     "collapsed": false,
     "input": [
      "# Makes a dictionary of pandas DataFrames keyed on election string.\n",
      "polls = dict((election['slug'], build_frame(election['url']+'.csv')) for election in infoClean)"
     ],
     "language": "python",
     "metadata": {},
     "outputs": [],
     "prompt_number": 11
    },
    {
     "cell_type": "markdown",
     "metadata": {},
     "source": [
      "The `dfs` dictionary contains a set of key-value pairs where the `key` is string of the election and the value is a pandas DataFrame with the polls for one 2014 Senate race. We can print the first few keys of the `dfs` dictionary using `keys()`. "
     ]
    },
    {
     "cell_type": "code",
     "collapsed": false,
     "input": [
      "#your code here\n",
      "polls.keys()[0:5]"
     ],
     "language": "python",
     "metadata": {},
     "outputs": [
      {
       "metadata": {},
       "output_type": "pyout",
       "prompt_number": 12,
       "text": [
        "[u'2014-kentucky-senate-mcconnell-vs-grimes',\n",
        " u'2014-montana-senate-daines-vs-curtis',\n",
        " u'2014-north-carolina-senate-tillis-vs-hagan',\n",
        " u'2014-tennessee-senate-alexander-vs-ball',\n",
        " u'2014-michigan-senate-land-vs-peters']"
       ]
      }
     ],
     "prompt_number": 12
    },
    {
     "cell_type": "markdown",
     "metadata": {},
     "source": [
      "#### Problem 1(d)\n",
      "\n",
      "Now create a master table information containing information about each race. Create a pandas DataFrame called `candidates` with rows containing information about each race. The `candidates` DataFrame should have the following columns: \n",
      "\n",
      "1. `State` = the state where the race is being held\n",
      "2. `R` = name of republican candidate\n",
      "3. `D` = name of non-republican candidate (Democrate or Independent) \n",
      "4. `incumbent` = R, D or NA\n",
      "\n",
      "**Hint**: You will need a considerable amount of data wrangling for this."
     ]
    },
    {
     "cell_type": "code",
     "collapsed": false,
     "input": [
      "### Your code here ###\n",
      "rows = []\n",
      "\n",
      "for i,dt in enumerate(infoClean):\n",
      "    x = dt['estimates'][0:2]\n",
      "    if not x[0]['last_name']:\n",
      "        tmp = dt['url'].split('-')+['vs']\n",
      "        j = tmp.index('vs')\n",
      "        if j!=len(tmp)-1:\n",
      "            R = tmp[j-1].capitalize()\n",
      "            D = tmp[j+1].capitalize()\n",
      "            incumbent = np.nan\n",
      "            #if no data means race is decided\n",
      "    else:\n",
      "        tmp = [x[0]['party'],x[1]['party']]\n",
      "        R = x[tmp.index('Rep')]['last_name']\n",
      "        idx = [k for k in range(len(tmp)) if tmp[k]!='Rep'][0]\n",
      "        D = x[idx]['last_name']\n",
      "        tmp2 = [x[0]['incumbent'],x[1]['incumbent']]\n",
      "        tmp2+=[True]\n",
      "        incumbent = np.nan\n",
      "        if tmp2.index(True)!=2:\n",
      "            incumbent = tmp[tmp2.index(True)]\n",
      "            \n",
      "    rows.append((dt['state'], R, D, incumbent))\n",
      "    \n",
      "candidates = pd.DataFrame(rows, columns=[\"State\", \"R\", \"D\", \"incumbent\"])\n",
      "        \n",
      "#remove second last name \n",
      "candidates.R = [candidate.split(' ')[-1] for candidate in candidates.R]\n",
      "candidates"
     ],
     "language": "python",
     "metadata": {},
     "outputs": [
      {
       "html": [
        "<div style=\"max-height:1000px;max-width:1500px;overflow:auto;\">\n",
        "<table border=\"1\" class=\"dataframe\">\n",
        "  <thead>\n",
        "    <tr style=\"text-align: right;\">\n",
        "      <th></th>\n",
        "      <th>State</th>\n",
        "      <th>R</th>\n",
        "      <th>D</th>\n",
        "      <th>incumbent</th>\n",
        "    </tr>\n",
        "  </thead>\n",
        "  <tbody>\n",
        "    <tr>\n",
        "      <th>0 </th>\n",
        "      <td> KY</td>\n",
        "      <td> McConnell</td>\n",
        "      <td>      Grimes</td>\n",
        "      <td> Rep</td>\n",
        "    </tr>\n",
        "    <tr>\n",
        "      <th>1 </th>\n",
        "      <td> AR</td>\n",
        "      <td>    Cotton</td>\n",
        "      <td>       Pryor</td>\n",
        "      <td> Dem</td>\n",
        "    </tr>\n",
        "    <tr>\n",
        "      <th>2 </th>\n",
        "      <td> MI</td>\n",
        "      <td>      Land</td>\n",
        "      <td>      Peters</td>\n",
        "      <td> NaN</td>\n",
        "    </tr>\n",
        "    <tr>\n",
        "      <th>3 </th>\n",
        "      <td> LA</td>\n",
        "      <td>   Cassidy</td>\n",
        "      <td>    Landrieu</td>\n",
        "      <td> Dem</td>\n",
        "    </tr>\n",
        "    <tr>\n",
        "      <th>4 </th>\n",
        "      <td> NH</td>\n",
        "      <td>     Brown</td>\n",
        "      <td>     Shaheen</td>\n",
        "      <td> Dem</td>\n",
        "    </tr>\n",
        "    <tr>\n",
        "      <th>5 </th>\n",
        "      <td> WV</td>\n",
        "      <td>    Capito</td>\n",
        "      <td>     Tennant</td>\n",
        "      <td> NaN</td>\n",
        "    </tr>\n",
        "    <tr>\n",
        "      <th>6 </th>\n",
        "      <td> NC</td>\n",
        "      <td>    Tillis</td>\n",
        "      <td>       Hagan</td>\n",
        "      <td> Dem</td>\n",
        "    </tr>\n",
        "    <tr>\n",
        "      <th>7 </th>\n",
        "      <td> VA</td>\n",
        "      <td> Gillespie</td>\n",
        "      <td>      Warner</td>\n",
        "      <td> Dem</td>\n",
        "    </tr>\n",
        "    <tr>\n",
        "      <th>8 </th>\n",
        "      <td> CO</td>\n",
        "      <td>   Gardner</td>\n",
        "      <td>       Udall</td>\n",
        "      <td> Dem</td>\n",
        "    </tr>\n",
        "    <tr>\n",
        "      <th>9 </th>\n",
        "      <td> IL</td>\n",
        "      <td>  Oberweis</td>\n",
        "      <td>      Durbin</td>\n",
        "      <td> Dem</td>\n",
        "    </tr>\n",
        "    <tr>\n",
        "      <th>10</th>\n",
        "      <td> AK</td>\n",
        "      <td>  Sullivan</td>\n",
        "      <td>      Begich</td>\n",
        "      <td> Dem</td>\n",
        "    </tr>\n",
        "    <tr>\n",
        "      <th>11</th>\n",
        "      <td> IA</td>\n",
        "      <td>     Ernst</td>\n",
        "      <td>      Braley</td>\n",
        "      <td> NaN</td>\n",
        "    </tr>\n",
        "    <tr>\n",
        "      <th>12</th>\n",
        "      <td> MS</td>\n",
        "      <td>   Cochran</td>\n",
        "      <td>    Childers</td>\n",
        "      <td> Rep</td>\n",
        "    </tr>\n",
        "    <tr>\n",
        "      <th>13</th>\n",
        "      <td> OR</td>\n",
        "      <td>     Wehby</td>\n",
        "      <td>     Merkley</td>\n",
        "      <td> Dem</td>\n",
        "    </tr>\n",
        "    <tr>\n",
        "      <th>14</th>\n",
        "      <td> GA</td>\n",
        "      <td>    Perdue</td>\n",
        "      <td>        Nunn</td>\n",
        "      <td> NaN</td>\n",
        "    </tr>\n",
        "    <tr>\n",
        "      <th>15</th>\n",
        "      <td> NE</td>\n",
        "      <td>     Sasse</td>\n",
        "      <td>      Domina</td>\n",
        "      <td> NaN</td>\n",
        "    </tr>\n",
        "    <tr>\n",
        "      <th>16</th>\n",
        "      <td> SD</td>\n",
        "      <td>    Rounds</td>\n",
        "      <td>     Weiland</td>\n",
        "      <td> NaN</td>\n",
        "    </tr>\n",
        "    <tr>\n",
        "      <th>17</th>\n",
        "      <td> ME</td>\n",
        "      <td>   Collins</td>\n",
        "      <td>     Bellows</td>\n",
        "      <td> Rep</td>\n",
        "    </tr>\n",
        "    <tr>\n",
        "      <th>18</th>\n",
        "      <td> MN</td>\n",
        "      <td>  McFadden</td>\n",
        "      <td>     Franken</td>\n",
        "      <td> Dem</td>\n",
        "    </tr>\n",
        "    <tr>\n",
        "      <th>19</th>\n",
        "      <td> TX</td>\n",
        "      <td>    Cornyn</td>\n",
        "      <td>     Alameel</td>\n",
        "      <td> Rep</td>\n",
        "    </tr>\n",
        "    <tr>\n",
        "      <th>20</th>\n",
        "      <td> SC</td>\n",
        "      <td>    Graham</td>\n",
        "      <td>       Hutto</td>\n",
        "      <td> Rep</td>\n",
        "    </tr>\n",
        "    <tr>\n",
        "      <th>21</th>\n",
        "      <td> SC</td>\n",
        "      <td>     Scott</td>\n",
        "      <td>   Dickerson</td>\n",
        "      <td> Rep</td>\n",
        "    </tr>\n",
        "    <tr>\n",
        "      <th>22</th>\n",
        "      <td> OK</td>\n",
        "      <td>    Inhofe</td>\n",
        "      <td> Silverstein</td>\n",
        "      <td> Rep</td>\n",
        "    </tr>\n",
        "    <tr>\n",
        "      <th>23</th>\n",
        "      <td> NM</td>\n",
        "      <td>       Weh</td>\n",
        "      <td>       Udall</td>\n",
        "      <td> Dem</td>\n",
        "    </tr>\n",
        "    <tr>\n",
        "      <th>24</th>\n",
        "      <td> NJ</td>\n",
        "      <td>      Bell</td>\n",
        "      <td>      Booker</td>\n",
        "      <td> Dem</td>\n",
        "    </tr>\n",
        "    <tr>\n",
        "      <th>25</th>\n",
        "      <td> ID</td>\n",
        "      <td>     Risch</td>\n",
        "      <td>    Mitchell</td>\n",
        "      <td> Rep</td>\n",
        "    </tr>\n",
        "    <tr>\n",
        "      <th>26</th>\n",
        "      <td> TN</td>\n",
        "      <td> Alexander</td>\n",
        "      <td>        Ball</td>\n",
        "      <td> Rep</td>\n",
        "    </tr>\n",
        "    <tr>\n",
        "      <th>27</th>\n",
        "      <td> WY</td>\n",
        "      <td>      Enzi</td>\n",
        "      <td>       Hardy</td>\n",
        "      <td> Rep</td>\n",
        "    </tr>\n",
        "    <tr>\n",
        "      <th>28</th>\n",
        "      <td> KS</td>\n",
        "      <td>   Roberts</td>\n",
        "      <td>       Orman</td>\n",
        "      <td> Rep</td>\n",
        "    </tr>\n",
        "    <tr>\n",
        "      <th>29</th>\n",
        "      <td> HI</td>\n",
        "      <td>   Cavasso</td>\n",
        "      <td>      Schatz</td>\n",
        "      <td> Dem</td>\n",
        "    </tr>\n",
        "    <tr>\n",
        "      <th>30</th>\n",
        "      <td> OK</td>\n",
        "      <td>  Lankford</td>\n",
        "      <td>     Johnson</td>\n",
        "      <td> NaN</td>\n",
        "    </tr>\n",
        "    <tr>\n",
        "      <th>31</th>\n",
        "      <td> MT</td>\n",
        "      <td>    Daines</td>\n",
        "      <td>      Curtis</td>\n",
        "      <td> NaN</td>\n",
        "    </tr>\n",
        "    <tr>\n",
        "      <th>32</th>\n",
        "      <td> RI</td>\n",
        "      <td>  Zaccaria</td>\n",
        "      <td>        Reed</td>\n",
        "      <td> Dem</td>\n",
        "    </tr>\n",
        "    <tr>\n",
        "      <th>33</th>\n",
        "      <td> MA</td>\n",
        "      <td>      Herr</td>\n",
        "      <td>      Markey</td>\n",
        "      <td> Dem</td>\n",
        "    </tr>\n",
        "    <tr>\n",
        "      <th>34</th>\n",
        "      <td> DE</td>\n",
        "      <td>      Wade</td>\n",
        "      <td>       Coons</td>\n",
        "      <td> Dem</td>\n",
        "    </tr>\n",
        "  </tbody>\n",
        "</table>\n",
        "</div>"
       ],
       "metadata": {},
       "output_type": "pyout",
       "prompt_number": 13,
       "text": [
        "   State          R            D incumbent\n",
        "0     KY  McConnell       Grimes       Rep\n",
        "1     AR     Cotton        Pryor       Dem\n",
        "2     MI       Land       Peters       NaN\n",
        "3     LA    Cassidy     Landrieu       Dem\n",
        "4     NH      Brown      Shaheen       Dem\n",
        "5     WV     Capito      Tennant       NaN\n",
        "6     NC     Tillis        Hagan       Dem\n",
        "7     VA  Gillespie       Warner       Dem\n",
        "8     CO    Gardner        Udall       Dem\n",
        "9     IL   Oberweis       Durbin       Dem\n",
        "10    AK   Sullivan       Begich       Dem\n",
        "11    IA      Ernst       Braley       NaN\n",
        "12    MS    Cochran     Childers       Rep\n",
        "13    OR      Wehby      Merkley       Dem\n",
        "14    GA     Perdue         Nunn       NaN\n",
        "15    NE      Sasse       Domina       NaN\n",
        "16    SD     Rounds      Weiland       NaN\n",
        "17    ME    Collins      Bellows       Rep\n",
        "18    MN   McFadden      Franken       Dem\n",
        "19    TX     Cornyn      Alameel       Rep\n",
        "20    SC     Graham        Hutto       Rep\n",
        "21    SC      Scott    Dickerson       Rep\n",
        "22    OK     Inhofe  Silverstein       Rep\n",
        "23    NM        Weh        Udall       Dem\n",
        "24    NJ       Bell       Booker       Dem\n",
        "25    ID      Risch     Mitchell       Rep\n",
        "26    TN  Alexander         Ball       Rep\n",
        "27    WY       Enzi        Hardy       Rep\n",
        "28    KS    Roberts        Orman       Rep\n",
        "29    HI    Cavasso       Schatz       Dem\n",
        "30    OK   Lankford      Johnson       NaN\n",
        "31    MT     Daines       Curtis       NaN\n",
        "32    RI   Zaccaria         Reed       Dem\n",
        "33    MA       Herr       Markey       Dem\n",
        "34    DE       Wade        Coons       Dem"
       ]
      }
     ],
     "prompt_number": 13
    },
    {
     "cell_type": "markdown",
     "metadata": {},
     "source": [
      "## Problem 2: Confidence Intervals\n",
      "\n",
      "Compute a 99% confidence interval for each state. "
     ]
    },
    {
     "cell_type": "markdown",
     "metadata": {},
     "source": [
      "#### Problem 2(a)\n",
      "\n",
      "Assume you have $M$ polls with sample sizes $n_1, \\dots, n_M$. If the polls are independent, what is the average of the variances of each poll if the true proportion is $p$?"
     ]
    },
    {
     "cell_type": "markdown",
     "metadata": {},
     "source": [
      "** Your answer here: **\n",
      "\n",
      "The variance of a single poll with sample $n_i$ is $Var(X_i) = \\frac{p(1-p)}{n_i}$. Therefore, the average of the variances across $M$ polls is\n",
      "\n",
      "$$ \\frac{1}{M} \\sum_{i=1}^M Var( {X}_i) = \\frac{1}{M} p(1-p)(1/n_1 + \\dots +1/n_M) $$"
     ]
    },
    {
     "cell_type": "markdown",
     "metadata": {},
     "source": [
      "#### Problem 2(b)\n",
      "\n",
      "Compute the square root of these values in Problem 2(a) for the republican candidates in each race. Then, compute the standard deviations of the observed poll results for each race. "
     ]
    },
    {
     "cell_type": "code",
     "collapsed": false,
     "input": [
      "import datetime\n",
      "\n",
      "def calc_sds(infoClean, polls, numdays=None):\n",
      "    theo_sds = []\n",
      "    obs_sds = []\n",
      "    npolls = []\n",
      "    for ii,election in enumerate(infoClean):\n",
      "        #Note that the `polls` dictionary does not have a guaranteed ordering\n",
      "        #because Python dictionaries are unordered object. For this reason, we\n",
      "        #need to be careful and use the ordered `infoClean` object to make sure we\n",
      "        #are correctly aligning the elements of `polls` and the rows in `candidates`.\n",
      "        polls_key = election['slug']\n",
      "        this_election = polls[polls_key]\n",
      "        \n",
      "        #Optional argument to filter on age of polls.\n",
      "        if numdays is not None:\n",
      "            monthdiff = this_election['End Date'].apply(lambda x: (datetime.datetime.now()-x).days)\n",
      "            this_election = this_election.ix[monthdiff <= numdays,:]\n",
      "            \n",
      "        npoll = this_election.shape[0]\n",
      "\n",
      "        #Use the candidates dataframe to find the name of the Republican in this race.\n",
      "        #Use this to grab the column of polling results for this candidate.\n",
      "        #Put poll results onto the proportion (not percentage) scale\n",
      "        p = this_election[candidates.R.ix[ii]]/100\n",
      "        n = this_election[\"Number of Observations\"]\n",
      "\n",
      "        #Theoretical sd assumes a common value of p across all polls. Use the mean.\n",
      "        p_mean = np.mean(p)\n",
      "        theo_sd = np.sqrt(p_mean*(1-p_mean)*np.mean(1./n))\n",
      "\n",
      "        #Observed sd is a simple calculation.\n",
      "        obs_sd = np.std(p)\n",
      "\n",
      "        theo_sds.append(theo_sd)\n",
      "        obs_sds.append(obs_sd)\n",
      "        npolls.append(npoll)\n",
      "        \n",
      "    return (theo_sds, obs_sds, npolls)\n",
      "\n",
      "theo, obs, npolls = calc_sds(infoClean, polls)"
     ],
     "language": "python",
     "metadata": {},
     "outputs": [],
     "prompt_number": 14
    },
    {
     "cell_type": "markdown",
     "metadata": {},
     "source": [
      "#### Problem 2(c) \n",
      "\n",
      "Plot observed versus theoretical (average of the theoretical SDs) with the area of the point proportional to number of polls. How do these compare?"
     ]
    },
    {
     "cell_type": "code",
     "collapsed": false,
     "input": [
      "#Grab the poll count from the infoClean object.\n",
      "plt.scatter(theo, obs, marker=\"o\", s=npolls*10)\n",
      "plt.xlabel(\"Theoretical Standard Deviation\")\n",
      "plt.ylabel(\"Observed Standard Deviation\")\n",
      "plt.title(\"Observed vs Theoretical Polling SD's\")\n",
      "\n",
      "currentx = plt.xlim()\n",
      "currenty = plt.ylim()\n",
      "plt.plot((0,1),(0,1), c='black', linewidth=1)\n",
      "plt.xlim(currentx)\n",
      "plt.ylim(currenty)\n",
      "plt.show()"
     ],
     "language": "python",
     "metadata": {},
     "outputs": [
      {
       "metadata": {},
       "output_type": "display_data",
       "png": "[encoded data removed]",
       "text": [
        "<matplotlib.figure.Figure at 0x109b75290>"
       ]
      }
     ],
     "prompt_number": 15
    },
    {
     "cell_type": "markdown",
     "metadata": {},
     "source": [
      "** Your answer here: **\n",
      "\n",
      "Observed sd's are much larger than theoretical sd's. The overshoot is particularly large when there are large numbers of polls, suggesting that there is variation between pollsters that is not explained by the theoretical model."
     ]
    },
    {
     "cell_type": "markdown",
     "metadata": {},
     "source": [
      "#### Problem 2(d)\n",
      "\n",
      "Repeat Problem 2(c) but include only the most recent polls from the last two months. Do they match better or worse or the same? Can we just trust the theoretical values?"
     ]
    },
    {
     "cell_type": "code",
     "collapsed": false,
     "input": [
      "### Your code here ###\n",
      "# Use the `calc_sds` optional argument to filter on number of days.\n",
      "# Filter to 60 days.\n",
      "\n",
      "theo, obs, npolls = calc_sds(infoClean, polls, 60)\n",
      "plt.scatter(theo, obs, marker=\"o\", s=npolls*10)\n",
      "plt.xlabel(\"Theoretical Standard Deviation\")\n",
      "plt.ylabel(\"Observed Standard Deviation\")\n",
      "plt.title(\"Observed vs Theoretical Polling SD's, Last 60 days\")\n",
      "\n",
      "currentx = plt.xlim()\n",
      "currenty = plt.ylim()\n",
      "plt.plot((0,1),(0,1), c='black', linewidth=1)\n",
      "plt.xlim(currentx)\n",
      "plt.ylim(currenty)\n",
      "plt.show()"
     ],
     "language": "python",
     "metadata": {},
     "outputs": [
      {
       "metadata": {},
       "output_type": "display_data",
       "png": "[encoded data removed]",
       "text": [
        "<matplotlib.figure.Figure at 0x109e2c910>"
       ]
      }
     ],
     "prompt_number": 16
    },
    {
     "cell_type": "markdown",
     "metadata": {},
     "source": [
      "** Your answer here: **\n",
      "\n",
      "The gap between theoretical and observed does not seem to decrease as we focus on more recent polls. This suggests that the excess variation in the data with respect to the theoretical model is not explained by opinion shifts over time. It is more likely that this is due to differences between pollsters, which are time-invariant."
     ]
    },
    {
     "cell_type": "markdown",
     "metadata": {},
     "source": [
      "#### Problem 2(e)\n",
      "\n",
      "Create a scatter plot with each point representing one state. Is there one or more races that are outlier in that it they have much larger variabilities than expected? Explore the original poll data and explain why the discrepancy?"
     ]
    },
    {
     "cell_type": "code",
     "collapsed": false,
     "input": [
      "### Your code here ###\n",
      "#Compute the standard deviations on the full data again.\n",
      "theo, obs, npolls = calc_sds(infoClean, polls)\n",
      "\n",
      "#This time, do the scatterplot using text labels on each datapoint.\n",
      "plt.scatter(theo, obs, marker=\"o\", s=0)\n",
      "plt.xlabel(\"Theoretical Standard Deviation\")\n",
      "plt.ylabel(\"Observed Standard Deviation\")\n",
      "plt.title(\"Observed vs Theoretical Polling SD's\")\n",
      "\n",
      "for i in range(len(theo)):\n",
      "    plt.text(theo[i], obs[i], candidates.ix[i,'State'])\n",
      "\n",
      "currentx = plt.xlim()\n",
      "currenty = plt.ylim()\n",
      "plt.plot((0,1),(0,1), c='black', linewidth=1)\n",
      "plt.xlim(currentx)\n",
      "plt.ylim(currenty)\n",
      "plt.show()"
     ],
     "language": "python",
     "metadata": {},
     "outputs": [
      {
       "metadata": {},
       "output_type": "display_data",
       "png": "[encoded data removed]",
       "text": [
        "<matplotlib.figure.Figure at 0x109b94bd0>"
       ]
      }
     ],
     "prompt_number": 17
    },
    {
     "cell_type": "markdown",
     "metadata": {},
     "source": [
      "** Your answer here: **\n",
      "\n",
      "Texas appears to be the biggest outlier."
     ]
    },
    {
     "cell_type": "markdown",
     "metadata": {},
     "source": [
      "#### Problem 2(f)\n",
      "\n",
      "Construct confidence intervals for the difference in each race. Use either theoretical or data driven estimates of the standard error depending on your answer to this question. Use the results in Problem 2(e), to justify your choice."
     ]
    },
    {
     "cell_type": "code",
     "collapsed": false,
     "input": [
      "### Your code here ###\n",
      "# this is mean +- 2.58 SD also save this results to candidate df\n",
      "def calc_diffs(infoClean, polls, numdays=None):\n",
      "    rows = []\n",
      "    for ii,election in enumerate(infoClean):\n",
      "        #Note that the `polls` dictionary does not have a guaranteed ordering\n",
      "        #because Python dictionaries are unordered object. For this reason, we\n",
      "        #need to be careful and use the ordered `infoClean` object to make sure we\n",
      "        #are correctly aligning the elements of `polls` and the rows in `candidates`.\n",
      "        polls_key = election['slug']\n",
      "        this_election = polls[polls_key]\n",
      "            \n",
      "        npoll = this_election.shape[0]\n",
      "\n",
      "        #Use the candidates dataframe to find the name of the Republican in this race.\n",
      "        #Use this to grab the column of polling results for this candidate.\n",
      "        #Put poll results onto the proportion (not percentage) scale\n",
      "        diffs = (this_election[candidates.R.ix[ii]]-this_election[candidates.D.ix[ii]])/100\n",
      "        \n",
      "        mean_diff = np.mean(diffs)\n",
      "        obs_se = np.std(diffs)/np.sqrt(npoll)\n",
      "        \n",
      "        rows.append((polls_key, mean_diff, obs_se, mean_diff-obs_se*2.58, mean_diff+obs_se*2.58))\n",
      "\n",
      "    return rows\n",
      "\n",
      "ests = pd.DataFrame(calc_diffs(infoClean, polls), columns=['race', 'mean', 'se', 'lower', 'upper'])\n",
      "print \"Unsorted:\"\n",
      "print ests[['race', 'lower', 'upper']]\n",
      "ests.sort(\"mean\", inplace=True)\n",
      "print \"Sorted:\"\n",
      "print ests[['race', 'lower', 'upper']]\n",
      "\n",
      "plt.errorbar(range(ests.shape[0]), ests['mean'], yerr=ests['se']*2.58, fmt='o')\n",
      "plt.xticks(range(ests.shape[0]), ests['race'].values, rotation=90)\n",
      "plt.xlim(-1, ests.shape[0])\n",
      "plt.axhline(0, linewidth=1, color='black')\n",
      "plt.xlabel(\"Race\")\n",
      "plt.ylabel(\"Difference\")\n",
      "plt.title(\"99% Confidence intervals for Diff (Rep-Dem) for each race\")\n",
      "plt.show()"
     ],
     "language": "python",
     "metadata": {},
     "outputs": [
      {
       "output_type": "stream",
       "stream": "stdout",
       "text": [
        "Unsorted:\n",
        "                                             race     lower     upper\n",
        "0        2014-kentucky-senate-mcconnell-vs-grimes  0.017166  0.042834\n",
        "1            2014-arkansas-senate-cotton-vs-pryor -0.001097  0.031261\n",
        "2             2014-michigan-senate-land-vs-peters -0.072256 -0.038047\n",
        "3       2014-louisiana-senate-cassidy-vs-landrieu -0.011521  0.033946\n",
        "4      2014-new-hampshire-senate-brown-vs-shaheen -0.070720 -0.040946\n",
        "5     2014-west-virginia-senate-capito-vs-tennant  0.100469  0.180960\n",
        "6      2014-north-carolina-senate-tillis-vs-hagan -0.037714 -0.014019\n",
        "7        2014-virginia-senate-gillespie-vs-warner -0.190260 -0.118831\n",
        "8           2014-colorado-senate-gardner-vs-udall -0.007714  0.018825\n",
        "9         2014-illinois-senate-oberweis-vs-durbin -0.150401 -0.097599\n",
        "10          2014-alaska-senate-sullivan-vs-begich -0.028545  0.020309\n",
        "11               2014-iowa-senate-ernst-vs-braley -0.015953  0.014471\n",
        "12    2014-mississippi-senate-cochran-vs-childers  0.125796  0.184204\n",
        "13            2014-oregon-senate-wehby-vs-merkley -0.171230 -0.095086\n",
        "14             2014-georgia-senate-perdue-vs-nunn  0.001064  0.032127\n",
        "15           2014-nebraska-senate-sasse-vs-domina  0.204777  0.285223\n",
        "16     2014-south-dakota-senate-rounds-vs-weiland  0.100054  0.159946\n",
        "17           2014-maine-senate-collins-vs-bellows  0.265348  0.382152\n",
        "18      2014-minnesota-senate-mcfadden-vs-franken -0.128527 -0.087473\n",
        "19            2014-texas-senate-cornyn-vs-alameel  0.158357  0.226087\n",
        "20     2014-south-carolina-senate-graham-vs-hutto  0.127196  0.172804\n",
        "21  2014-south-carolina-senate-scott-vs-dickerson  0.168389  0.261611\n",
        "22     2014-oklahoma-senate-inhofe-vs-silverstein  0.275750  0.390917\n",
        "23            2014-new-mexico-senate-weh-vs-udall -0.182630 -0.109036\n",
        "24          2014-new-jersey-senate-bell-vs-booker -0.168230 -0.113199\n",
        "25            2014-idaho-senate-risch-vs-mitchell  0.230231  0.366436\n",
        "26        2014-tennessee-senate-alexander-vs-ball  0.144901  0.235099\n",
        "27                            2014-wyoming-senate  0.362462  0.533538\n",
        "28  2014-kansas-senate-roberts-vs-orman-vs-taylor -0.035758  0.065758\n",
        "29           2014-hawaii-senate-cavasso-vs-schatz -0.493233 -0.314267\n",
        "30       2014-oklahoma-senate-lankford-vs-johnson  0.261152  0.375514\n",
        "31           2014-montana-senate-daines-vs-curtis  0.144632  0.198225\n",
        "32      2014-rhode-island-senate-zaccaria-vs-reed -0.479570 -0.230430\n",
        "33       2014-massachusetts-senate-herr-vs-markey -0.253322 -0.195908\n",
        "34             2014-delaware-senate-wade-vs-coons -0.221629 -0.126371\n",
        "Sorted:\n",
        "                                             race     lower     upper\n",
        "29           2014-hawaii-senate-cavasso-vs-schatz -0.493233 -0.314267\n",
        "32      2014-rhode-island-senate-zaccaria-vs-reed -0.479570 -0.230430\n",
        "33       2014-massachusetts-senate-herr-vs-markey -0.253322 -0.195908\n",
        "34             2014-delaware-senate-wade-vs-coons -0.221629 -0.126371\n",
        "7        2014-virginia-senate-gillespie-vs-warner -0.190260 -0.118831\n",
        "23            2014-new-mexico-senate-weh-vs-udall -0.182630 -0.109036\n",
        "24          2014-new-jersey-senate-bell-vs-booker -0.168230 -0.113199\n",
        "13            2014-oregon-senate-wehby-vs-merkley -0.171230 -0.095086\n",
        "9         2014-illinois-senate-oberweis-vs-durbin -0.150401 -0.097599\n",
        "18      2014-minnesota-senate-mcfadden-vs-franken -0.128527 -0.087473\n",
        "4      2014-new-hampshire-senate-brown-vs-shaheen -0.070720 -0.040946\n",
        "2             2014-michigan-senate-land-vs-peters -0.072256 -0.038047\n",
        "6      2014-north-carolina-senate-tillis-vs-hagan -0.037714 -0.014019\n",
        "10          2014-alaska-senate-sullivan-vs-begich -0.028545  0.020309\n",
        "11               2014-iowa-senate-ernst-vs-braley -0.015953  0.014471\n",
        "8           2014-colorado-senate-gardner-vs-udall -0.007714  0.018825\n",
        "3       2014-louisiana-senate-cassidy-vs-landrieu -0.011521  0.033946\n",
        "28  2014-kansas-senate-roberts-vs-orman-vs-taylor -0.035758  0.065758\n",
        "1            2014-arkansas-senate-cotton-vs-pryor -0.001097  0.031261\n",
        "14             2014-georgia-senate-perdue-vs-nunn  0.001064  0.032127\n",
        "0        2014-kentucky-senate-mcconnell-vs-grimes  0.017166  0.042834\n",
        "16     2014-south-dakota-senate-rounds-vs-weiland  0.100054  0.159946\n",
        "5     2014-west-virginia-senate-capito-vs-tennant  0.100469  0.180960\n",
        "20     2014-south-carolina-senate-graham-vs-hutto  0.127196  0.172804\n",
        "12    2014-mississippi-senate-cochran-vs-childers  0.125796  0.184204\n",
        "31           2014-montana-senate-daines-vs-curtis  0.144632  0.198225\n",
        "26        2014-tennessee-senate-alexander-vs-ball  0.144901  0.235099\n",
        "19            2014-texas-senate-cornyn-vs-alameel  0.158357  0.226087\n",
        "21  2014-south-carolina-senate-scott-vs-dickerson  0.168389  0.261611\n",
        "15           2014-nebraska-senate-sasse-vs-domina  0.204777  0.285223\n",
        "25            2014-idaho-senate-risch-vs-mitchell  0.230231  0.366436\n",
        "30       2014-oklahoma-senate-lankford-vs-johnson  0.261152  0.375514\n",
        "17           2014-maine-senate-collins-vs-bellows  0.265348  0.382152\n",
        "22     2014-oklahoma-senate-inhofe-vs-silverstein  0.275750  0.390917\n",
        "27                            2014-wyoming-senate  0.362462  0.533538\n"
       ]
      },
      {
       "metadata": {},
       "output_type": "display_data",
       "png": "[encoded data removed]",
       "text": [
        "<matplotlib.figure.Figure at 0x109b94b10>"
       ]
      }
     ],
     "prompt_number": 18
    },
    {
     "cell_type": "markdown",
     "metadata": {},
     "source": [
      "# Problem 3: Prediction and Posterior Probabilities\n",
      "\n",
      "Perform a Bayesian analysis to predict the probability of Republicans winning in each state then provide a posterior distribution of the number of republicans in the senate."
     ]
    },
    {
     "cell_type": "markdown",
     "metadata": {},
     "source": [
      "#### Problem 3(a)\n",
      "\n",
      "First, we define a Bayesian model for each race. The prior for the difference $\\theta$ between republicans and democtrats will be $N(\\mu,\\tau^2)$. Say before seeing poll data you have no idea who is going to win, what should $\\mu$ be? How about $\\tau$, should it be large or small? "
     ]
    },
    {
     "cell_type": "markdown",
     "metadata": {},
     "source": [
      "** Your answer here: **\n",
      "Because we have no prior idea who will win, the prior mean $\\mu$ should be 0. And again we don't know anything about the data, but we know that the difference should not be very large. So $\\tau$ should be small."
     ]
    },
    {
     "cell_type": "markdown",
     "metadata": {},
     "source": [
      "#### Problem 3(b)\n",
      "\n",
      "What is the distribution of $d$ conditioned on $\\theta$. What is the posterior distribution of $\\theta | d$? \n",
      "\n",
      "**Hint**: Use normal approximation. "
     ]
    },
    {
     "cell_type": "markdown",
     "metadata": {},
     "source": [
      "**Your answer here:**\n",
      "\n",
      "$d \\mid \\theta \\sim N(\\theta, \\sigma^2/M)$. We assume that $\\sigma^2$ is known based on the observed sample variance, and $M$ is the number of polls averaged together to obtain $d$.\n",
      "\n",
      "$\\theta \\mid d \\sim N\\left(B\\mu + (1-B)d, (1-B)\\sigma^2/M\\right)$, where $B = \\frac{1/\\tau^2}{M/\\sigma^2 + 1/\\tau^2}$. (Note that there are lots of equivalent ways to write $B$, but this one shows that it is a *precision weight*, based on the ratio of the prior precision to the total precision of the prior and the data. Precision here is the inverse of the variance).\n",
      "\n",
      "Equivalently, $\\theta | d$ is $\\theta | d \\sim N( B \\mu + (1-B) d, 1/(M/\\sigma^2 + 1/ \\tau^2))$."
     ]
    },
    {
     "cell_type": "markdown",
     "metadata": {},
     "source": [
      "#### Problem 3(c)\n",
      "\n",
      "The prior represents what we think before hand. We do not know who is expected to win, so we assume $\\mu=0$. For this problem estimate $\\tau$ using the observed differences across states (Hint: $\\tau$ represents the standard deviation of a typical difference). Compute the posterior mean for each state and plot it against original average. Is there much change? Why or why not? "
     ]
    },
    {
     "cell_type": "code",
     "collapsed": false,
     "input": [
      "### Your code here ###\n",
      "# A cheap but slightly biased way to estimate tau is to take the\n",
      "# standard deviation of the state polling means.\n",
      "# Use `ests` from last question.\n",
      "tau = np.std(ests['mean'])\n",
      "B = (1/tau**2)/(1/ests['se']**2+1/tau**2)\n",
      "ests['mu_post'] = (1-B)*ests['mean']\n",
      "\n",
      "plt.scatter(ests['mean'], ests['mu_post'], s=50)\n",
      "plt.title(\"Bayes vs. Raw Poll Averages\")\n",
      "plt.xlabel(\"Raw Average\")\n",
      "plt.ylabel(\"Bayes\")\n",
      "\n",
      "currentx = plt.xlim()\n",
      "currenty = plt.ylim()\n",
      "plt.plot((-1,1),(-1,1), c='black', linewidth=1)\n",
      "plt.xlim(currentx)\n",
      "plt.ylim(currenty)\n",
      "plt.show()"
     ],
     "language": "python",
     "metadata": {},
     "outputs": [
      {
       "metadata": {},
       "output_type": "display_data",
       "png": "[encoded data removed]",
       "text": [
        "<matplotlib.figure.Figure at 0x109bed150>"
       ]
      }
     ],
     "prompt_number": 19
    },
    {
     "cell_type": "markdown",
     "metadata": {},
     "source": [
      "**Your answer here:**\n",
      "\n",
      "Because there are a lot of datapoints (i.e. a lot of polls), $\\sigma^2/M$ is much smaller than $\\tau^2$, which results in a very small shrinkage factor for each datapoint (most elements of $B$ are extremely small). When you have this much data, the data largely overwhelms the prior. We do see that in those cases where the estimates are moved by the prior, they are pulled closer to zero than their raw average, resulting in a slope slightly shallower than 1."
     ]
    },
    {
     "cell_type": "markdown",
     "metadata": {},
     "source": [
      "#### Problem 3(d)\n",
      "\n",
      "For each state, report a probabilty of Republicans winning. How does your answer here compare to the other aggregators?"
     ]
    },
    {
     "cell_type": "code",
     "collapsed": false,
     "input": [
      "### Your code here ###\n",
      "#First, compute a standard deviation for each poll\n",
      "ests['sd_post'] = np.sqrt((1-B)*ests['se']**2)\n",
      "\n",
      "#Now, use normal CDF to find the posterior probability that the difference is greater than zero.\n",
      "import scipy.stats\n",
      "ests['R_win_prob'] = 1-scipy.stats.norm.cdf(0, loc=ests['mu_post'], scale=ests['sd_post'])\n",
      "print ests[['race','R_win_prob']].sort('R_win_prob')"
     ],
     "language": "python",
     "metadata": {},
     "outputs": [
      {
       "output_type": "stream",
       "stream": "stdout",
       "text": [
        "                                             race    R_win_prob\n",
        "29           2014-hawaii-senate-cavasso-vs-schatz  0.000000e+00\n",
        "33       2014-massachusetts-senate-herr-vs-markey  0.000000e+00\n",
        "34             2014-delaware-senate-wade-vs-coons  0.000000e+00\n",
        "7        2014-virginia-senate-gillespie-vs-warner  0.000000e+00\n",
        "23            2014-new-mexico-senate-weh-vs-udall  0.000000e+00\n",
        "24          2014-new-jersey-senate-bell-vs-booker  0.000000e+00\n",
        "13            2014-oregon-senate-wehby-vs-merkley  0.000000e+00\n",
        "9         2014-illinois-senate-oberweis-vs-durbin  0.000000e+00\n",
        "18      2014-minnesota-senate-mcfadden-vs-franken  0.000000e+00\n",
        "4      2014-new-hampshire-senate-brown-vs-shaheen  0.000000e+00\n",
        "2             2014-michigan-senate-land-vs-peters  0.000000e+00\n",
        "32      2014-rhode-island-senate-zaccaria-vs-reed  4.728440e-13\n",
        "6      2014-north-carolina-senate-tillis-vs-hagan  8.944923e-09\n",
        "10          2014-alaska-senate-sullivan-vs-begich  3.319987e-01\n",
        "11               2014-iowa-senate-ernst-vs-braley  4.500337e-01\n",
        "28  2014-kansas-senate-roberts-vs-orman-vs-taylor  7.759567e-01\n",
        "8           2014-colorado-senate-gardner-vs-udall  8.598881e-01\n",
        "3       2014-louisiana-senate-cassidy-vs-landrieu  8.981644e-01\n",
        "1            2014-arkansas-senate-cotton-vs-pryor  9.918881e-01\n",
        "14             2014-georgia-senate-perdue-vs-nunn  9.970695e-01\n",
        "0        2014-kentucky-senate-mcconnell-vs-grimes  1.000000e+00\n",
        "17           2014-maine-senate-collins-vs-bellows  1.000000e+00\n",
        "30       2014-oklahoma-senate-lankford-vs-johnson  1.000000e+00\n",
        "25            2014-idaho-senate-risch-vs-mitchell  1.000000e+00\n",
        "15           2014-nebraska-senate-sasse-vs-domina  1.000000e+00\n",
        "21  2014-south-carolina-senate-scott-vs-dickerson  1.000000e+00\n",
        "19            2014-texas-senate-cornyn-vs-alameel  1.000000e+00\n",
        "31           2014-montana-senate-daines-vs-curtis  1.000000e+00\n",
        "12    2014-mississippi-senate-cochran-vs-childers  1.000000e+00\n",
        "20     2014-south-carolina-senate-graham-vs-hutto  1.000000e+00\n",
        "5     2014-west-virginia-senate-capito-vs-tennant  1.000000e+00\n",
        "16     2014-south-dakota-senate-rounds-vs-weiland  1.000000e+00\n",
        "22     2014-oklahoma-senate-inhofe-vs-silverstein  1.000000e+00\n",
        "26        2014-tennessee-senate-alexander-vs-ball  1.000000e+00\n",
        "27                            2014-wyoming-senate  1.000000e+00\n"
       ]
      }
     ],
     "prompt_number": 20
    },
    {
     "cell_type": "markdown",
     "metadata": {},
     "source": [
      "**Your answer here:**\n",
      "\n",
      "As expected from other aggregators, only a few states have outcomes that seem uncertain. Our model seems to be more certain about these tossup races than most aggregators. For us, the states that are less than 99% leaning one way or the other are IA, AK, CO, KS, LA, AR. Other aggregators also include NH, GA, and KY as being closer to tossups. Our model here does not seem to incorporate enough uncertainty (for example, the possibility that all of the polls in a given state might be clustered around the wrong value, as happened in NV in 2010)."
     ]
    },
    {
     "cell_type": "markdown",
     "metadata": {},
     "source": [
      "#### Problem 3(e)\n",
      "\n",
      "Use the posterior distributions in a Monte Carlo simulation to generate election results. In each simulation compute the total number of seats the Republican control. Show a histogram of these results."
     ]
    },
    {
     "cell_type": "code",
     "collapsed": false,
     "input": [
      "### made up numbers\n",
      "num_states = ests.shape[0]\n",
      "\n",
      "NSIM = 10000\n",
      "simarr = np.zeros(NSIM, dtype=int)\n",
      "for i in xrange(NSIM):\n",
      "    simulated = 30 + np.sum(np.random.normal(ests['mu_post'], scale=ests['sd_post'], size =num_states) > 0 )\n",
      "    simarr[i] = int(simulated)\n",
      "plt.hist(simarr, bins=range(min(simarr)-1, max(simarr)+3))\n",
      "plt.xlabel('Number of Seats in Republican Control')\n",
      "plt.ylabel('Frequency')\n",
      "plt.title('Monte Carlo simulation of Number of Seats in Republican Control')\n",
      "plt.show()"
     ],
     "language": "python",
     "metadata": {},
     "outputs": [
      {
       "metadata": {},
       "output_type": "display_data",
       "png": "[encoded data removed]",
       "text": [
        "<matplotlib.figure.Figure at 0x10b292fd0>"
       ]
      }
     ],
     "prompt_number": 21
    },
    {
     "cell_type": "markdown",
     "metadata": {},
     "source": [
      "## Problem 4\n",
      "\n",
      "Predict the results for the 2014 Midterm Elections. We will have a three competitions with the terms for scoring entries described above. For both questions below, **explain** or provide commentary on how you arrived at your predictions including code. \n",
      "\n",
      "**Hint**: Use election results from 2010, 2012 to build and test models."
     ]
    },
    {
     "cell_type": "markdown",
     "metadata": {},
     "source": [
      "#### Problem 4(a)\n",
      "\n",
      "Predict the number of Republican senators. You may provide an interval. Smallest interval that includes the election day result wins. \n",
      "\n",
      "**Note**: we want the total so add the numbers of those that are not up for election."
     ]
    },
    {
     "cell_type": "code",
     "collapsed": false,
     "input": [
      "### Your code here ###"
     ],
     "language": "python",
     "metadata": {},
     "outputs": [],
     "prompt_number": 22
    },
    {
     "cell_type": "markdown",
     "metadata": {},
     "source": [
      "**Provide an explanation of methodology here**:"
     ]
    },
    {
     "cell_type": "markdown",
     "metadata": {},
     "source": [
      "#### Problem 4(b)\n",
      "\n",
      "Predict the R-D difference in each state. The predictions that minimize the residual sum of squares between predicted and observed differences wins."
     ]
    },
    {
     "cell_type": "code",
     "collapsed": false,
     "input": [
      "### Your code here ###"
     ],
     "language": "python",
     "metadata": {},
     "outputs": [],
     "prompt_number": 23
    },
    {
     "cell_type": "markdown",
     "metadata": {},
     "source": [
      "**Provide an explanation of methodology here**:"
     ]
    },
    {
     "cell_type": "markdown",
     "metadata": {},
     "source": [
      "#### Problem 4(c)\n",
      "\n",
      "Report a confidence interval for the R-D difference in each state. If the election day result falls outside your confidence interval in more than two states you are eliminated. For those surviving this cutoff, we will add up the size of all confidence intervals and sum. The smallest total length of confidence interval wins. \n",
      "\n",
      "**Note**: you can use Bayesian credible intervals or whatever else you want. "
     ]
    },
    {
     "cell_type": "code",
     "collapsed": false,
     "input": [
      "### Your code here ###"
     ],
     "language": "python",
     "metadata": {},
     "outputs": [],
     "prompt_number": 24
    },
    {
     "cell_type": "markdown",
     "metadata": {},
     "source": [
      "**Provide an explanation of methodology here**:"
     ]
    },
    {
     "cell_type": "markdown",
     "metadata": {},
     "source": [
      "# Submission Instructions\n",
      "\n",
      "To submit your homework, create a folder named **lastname_firstinitial_hw#** and place your IPython notebooks, data files, and any other files in this folder. Your IPython Notebooks should be completely executed with the results visible in the notebook. We should not have to run any code.  Compress the folder (please use .zip compression) and submit to the CS109 dropbox in the appropriate folder. *If we cannot access your work because these directions are not followed correctly, we will not grade your work.*\n"
     ]
    }
   ],
   "metadata": {}
  }
 ]
}