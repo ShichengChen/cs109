{
 "cells": [
  {
   "cell_type": "code",
   "execution_count": 1,
   "metadata": {
    "collapsed": true,
    "slideshow": {
     "slide_type": "-"
    }
   },
   "outputs": [],
   "source": [
    "## all imports\n",
    "from IPython.display import HTML\n",
    "import numpy as np\n",
    "import urllib2\n",
    "import bs4 #this is beautiful soup\n",
    "import time\n",
    "import operator\n",
    "import socket\n",
    "import cPickle\n",
    "import re # regular expressions\n",
    "\n",
    "from pandas import Series\n",
    "import pandas as pd\n",
    "from pandas import DataFrame\n",
    "\n",
    "import matplotlib\n",
    "import matplotlib.pyplot as plt\n",
    "%matplotlib inline\n",
    "\n",
    "import seaborn as sns\n",
    "sns.set_context(\"talk\")\n",
    "sns.set_style(\"white\")"
   ]
  },
  {
   "cell_type": "markdown",
   "metadata": {
    "slideshow": {
     "slide_type": "skip"
    }
   },
   "source": [
    "API registrations\n",
    "=================\n",
    "\n",
    "If you would like to run all the examples in this notebook, you need to register for the following APIs:\n",
    "\n",
    "* Rotten Tomatoes\n",
    "\n",
    "http://developer.rottentomatoes.com/member/register\n",
    "\n",
    "* Twitter\n",
    "\n",
    "https://apps.twitter.com/app/new\n",
    "\n",
    "* Twitter instructions\n",
    "\n",
    "https://twittercommunity.com/t/how-to-get-my-api-key/7033"
   ]
  },
  {
   "cell_type": "markdown",
   "metadata": {
    "slideshow": {
     "slide_type": "slide"
    }
   },
   "source": [
    "CS109\n",
    "=====\n",
    "\n",
    "Verena Kaynig-Fittkau, Joe Blitzstein, Hanspeter Pfister\n",
    "\n",
    "* vkaynig@seas.harvard.edu\n",
    "* staff@cs109.org"
   ]
  },
  {
   "cell_type": "markdown",
   "metadata": {
    "slideshow": {
     "slide_type": "slide"
    }
   },
   "source": [
    "Announcements\n",
    "==============\n",
    "\n",
    "* Over 400 sign ups on github!\n",
    "* If you are still missing, fill out the survey, time is running out!\n",
    "* Make sure you are on Piazza!\n",
    "\n",
    "\n",
    "* More [git help](https://www.youtube.com/channel/UC0-KaiZFXBlGOFN71YsEV8g/videos)\n",
    "\n",
    "\n",
    "* HW0 is due on Thursday \n",
    "* HW1 is coming out on Thursday\n"
   ]
  },
  {
   "cell_type": "markdown",
   "metadata": {
    "slideshow": {
     "slide_type": "slide"
    }
   },
   "source": [
    "Todays lecture:\n",
    "===============\n",
    "\n",
    "* introduction to pandas\n",
    "    - read a table\n",
    "    - do some plots\n",
    "\n",
    "* all about data scraping\n",
    "* ***What is it? ***\n",
    "* How to do it:\n",
    "    - from a website\n",
    "    - with an API"
   ]
  },
  {
   "cell_type": "markdown",
   "metadata": {
    "slideshow": {
     "slide_type": "slide"
    }
   },
   "source": [
    "IPython Notebooks:\n",
    "===================\n",
    "\n",
    "![IPython](images/ipython.png \"IPython\")"
   ]
  },
  {
   "cell_type": "markdown",
   "metadata": {
    "collapsed": true,
    "slideshow": {
     "slide_type": "slide"
    }
   },
   "source": [
    "IPython Notebooks:\n",
    "===================\n",
    "\n",
    "* These slides are an IPython notebook!\n",
    "* https://github.com/damianavila/live_reveal"
   ]
  },
  {
   "cell_type": "code",
   "execution_count": 2,
   "metadata": {},
   "outputs": [
    {
     "name": "stdout",
     "output_type": "stream",
     "text": [
      "Hello CS109\n",
      "I love IPython\n",
      "[ 0.  0.  0.]\n"
     ]
    }
   ],
   "source": [
    "print \"Hello CS109\"\n",
    "\n",
    "print \"I love IPython\"\n",
    "\n",
    "# Ipython notebook have tab completion!\n",
    "# and inbuild help\n",
    "  \n",
    "a = np.zeros(3)\n",
    "print a\n"
   ]
  },
  {
   "cell_type": "markdown",
   "metadata": {
    "slideshow": {
     "slide_type": "slide"
    }
   },
   "source": [
    "General advice about programming\n",
    "==================================\n",
    "\n",
    "* You will find nearly everything on google\n",
    "* Try: length of a list in python\n",
    "* A programmer is someone who can turn stack overflow snippets into running code\n",
    "* Use tab completion\n",
    "* Make your variable names meaningful\n"
   ]
  },
  {
   "cell_type": "markdown",
   "metadata": {
    "slideshow": {
     "slide_type": "slide"
    }
   },
   "source": [
    "How to load a table\n",
    "===================\n",
    "\n",
    "* we use Pandas for this\n",
    "* Pandas can do a __lot__ more\n",
    "* more about it later"
   ]
  },
  {
   "cell_type": "markdown",
   "metadata": {
    "slideshow": {
     "slide_type": "slide"
    }
   },
   "source": [
    "The MovieLens data\n",
    "===================\n",
    "\n",
    "http://grouplens.org/datasets/movielens/\n",
    "\n",
    "![Grouplens](images/grouplens.jpg \"Grouplens\")\n",
    "\n",
    "Example inspired by [Greg Reda](http://www.gregreda.com/2013/10/26/using-pandas-on-the-movielens-dataset/)"
   ]
  },
  {
   "cell_type": "markdown",
   "metadata": {
    "slideshow": {
     "slide_type": "slide"
    }
   },
   "source": [
    "Read the user data\n",
    "=================="
   ]
  },
  {
   "cell_type": "code",
   "execution_count": 3,
   "metadata": {
    "slideshow": {
     "slide_type": "-"
    }
   },
   "outputs": [
    {
     "data": {
      "text/html": [
       "<div>\n",
       "<style>\n",
       "    .dataframe thead tr:only-child th {\n",
       "        text-align: right;\n",
       "    }\n",
       "\n",
       "    .dataframe thead th {\n",
       "        text-align: left;\n",
       "    }\n",
       "\n",
       "    .dataframe tbody tr th {\n",
       "        vertical-align: top;\n",
       "    }\n",
       "</style>\n",
       "<table border=\"1\" class=\"dataframe\">\n",
       "  <thead>\n",
       "    <tr style=\"text-align: right;\">\n",
       "      <th></th>\n",
       "      <th>user_id</th>\n",
       "      <th>age</th>\n",
       "      <th>sex</th>\n",
       "      <th>occupation</th>\n",
       "      <th>zip_code</th>\n",
       "    </tr>\n",
       "  </thead>\n",
       "  <tbody>\n",
       "    <tr>\n",
       "      <th>0</th>\n",
       "      <td>1</td>\n",
       "      <td>24</td>\n",
       "      <td>M</td>\n",
       "      <td>technician</td>\n",
       "      <td>85711</td>\n",
       "    </tr>\n",
       "    <tr>\n",
       "      <th>1</th>\n",
       "      <td>2</td>\n",
       "      <td>53</td>\n",
       "      <td>F</td>\n",
       "      <td>other</td>\n",
       "      <td>94043</td>\n",
       "    </tr>\n",
       "    <tr>\n",
       "      <th>2</th>\n",
       "      <td>3</td>\n",
       "      <td>23</td>\n",
       "      <td>M</td>\n",
       "      <td>writer</td>\n",
       "      <td>32067</td>\n",
       "    </tr>\n",
       "    <tr>\n",
       "      <th>3</th>\n",
       "      <td>4</td>\n",
       "      <td>24</td>\n",
       "      <td>M</td>\n",
       "      <td>technician</td>\n",
       "      <td>43537</td>\n",
       "    </tr>\n",
       "    <tr>\n",
       "      <th>4</th>\n",
       "      <td>5</td>\n",
       "      <td>33</td>\n",
       "      <td>F</td>\n",
       "      <td>other</td>\n",
       "      <td>15213</td>\n",
       "    </tr>\n",
       "  </tbody>\n",
       "</table>\n",
       "</div>"
      ],
      "text/plain": [
       "   user_id  age sex  occupation zip_code\n",
       "0        1   24   M  technician    85711\n",
       "1        2   53   F       other    94043\n",
       "2        3   23   M      writer    32067\n",
       "3        4   24   M  technician    43537\n",
       "4        5   33   F       other    15213"
      ]
     },
     "execution_count": 3,
     "metadata": {},
     "output_type": "execute_result"
    }
   ],
   "source": [
    "# pass in column names for each CSV\n",
    "u_cols = ['user_id', 'age', 'sex', 'occupation', 'zip_code']\n",
    "\n",
    "users = pd.read_csv(\n",
    "    'http://files.grouplens.org/datasets/movielens/ml-100k/u.user', \n",
    "    sep='|', names=u_cols)\n",
    "\n",
    "users.head(5)"
   ]
  },
  {
   "cell_type": "markdown",
   "metadata": {
    "slideshow": {
     "slide_type": "slide"
    }
   },
   "source": [
    "Read the ratings\n",
    "============"
   ]
  },
  {
   "cell_type": "code",
   "execution_count": 4,
   "metadata": {},
   "outputs": [
    {
     "data": {
      "text/html": [
       "<div>\n",
       "<style>\n",
       "    .dataframe thead tr:only-child th {\n",
       "        text-align: right;\n",
       "    }\n",
       "\n",
       "    .dataframe thead th {\n",
       "        text-align: left;\n",
       "    }\n",
       "\n",
       "    .dataframe tbody tr th {\n",
       "        vertical-align: top;\n",
       "    }\n",
       "</style>\n",
       "<table border=\"1\" class=\"dataframe\">\n",
       "  <thead>\n",
       "    <tr style=\"text-align: right;\">\n",
       "      <th></th>\n",
       "      <th>user_id</th>\n",
       "      <th>movie_id</th>\n",
       "      <th>rating</th>\n",
       "      <th>unix_timestamp</th>\n",
       "    </tr>\n",
       "  </thead>\n",
       "  <tbody>\n",
       "    <tr>\n",
       "      <th>0</th>\n",
       "      <td>196</td>\n",
       "      <td>242</td>\n",
       "      <td>3</td>\n",
       "      <td>881250949</td>\n",
       "    </tr>\n",
       "    <tr>\n",
       "      <th>1</th>\n",
       "      <td>186</td>\n",
       "      <td>302</td>\n",
       "      <td>3</td>\n",
       "      <td>891717742</td>\n",
       "    </tr>\n",
       "    <tr>\n",
       "      <th>2</th>\n",
       "      <td>22</td>\n",
       "      <td>377</td>\n",
       "      <td>1</td>\n",
       "      <td>878887116</td>\n",
       "    </tr>\n",
       "    <tr>\n",
       "      <th>3</th>\n",
       "      <td>244</td>\n",
       "      <td>51</td>\n",
       "      <td>2</td>\n",
       "      <td>880606923</td>\n",
       "    </tr>\n",
       "    <tr>\n",
       "      <th>4</th>\n",
       "      <td>166</td>\n",
       "      <td>346</td>\n",
       "      <td>1</td>\n",
       "      <td>886397596</td>\n",
       "    </tr>\n",
       "  </tbody>\n",
       "</table>\n",
       "</div>"
      ],
      "text/plain": [
       "   user_id  movie_id  rating  unix_timestamp\n",
       "0      196       242       3       881250949\n",
       "1      186       302       3       891717742\n",
       "2       22       377       1       878887116\n",
       "3      244        51       2       880606923\n",
       "4      166       346       1       886397596"
      ]
     },
     "execution_count": 4,
     "metadata": {},
     "output_type": "execute_result"
    }
   ],
   "source": [
    "r_cols = ['user_id', 'movie_id', 'rating', 'unix_timestamp']\n",
    "ratings = pd.read_csv(\n",
    "    'http://files.grouplens.org/datasets/movielens/ml-100k/u.data', \n",
    "    sep='\\t', names=r_cols)\n",
    "\n",
    "ratings.head() "
   ]
  },
  {
   "cell_type": "markdown",
   "metadata": {
    "slideshow": {
     "slide_type": "slide"
    }
   },
   "source": [
    "Now data about the movies\n",
    "========================="
   ]
  },
  {
   "cell_type": "code",
   "execution_count": 5,
   "metadata": {},
   "outputs": [
    {
     "data": {
      "text/html": [
       "<div>\n",
       "<style>\n",
       "    .dataframe thead tr:only-child th {\n",
       "        text-align: right;\n",
       "    }\n",
       "\n",
       "    .dataframe thead th {\n",
       "        text-align: left;\n",
       "    }\n",
       "\n",
       "    .dataframe tbody tr th {\n",
       "        vertical-align: top;\n",
       "    }\n",
       "</style>\n",
       "<table border=\"1\" class=\"dataframe\">\n",
       "  <thead>\n",
       "    <tr style=\"text-align: right;\">\n",
       "      <th></th>\n",
       "      <th>movie_id</th>\n",
       "      <th>title</th>\n",
       "      <th>release_date</th>\n",
       "      <th>video_release_date</th>\n",
       "      <th>imdb_url</th>\n",
       "    </tr>\n",
       "  </thead>\n",
       "  <tbody>\n",
       "    <tr>\n",
       "      <th>0</th>\n",
       "      <td>1</td>\n",
       "      <td>Toy Story (1995)</td>\n",
       "      <td>01-Jan-1995</td>\n",
       "      <td>NaN</td>\n",
       "      <td>http://us.imdb.com/M/title-exact?Toy%20Story%2...</td>\n",
       "    </tr>\n",
       "    <tr>\n",
       "      <th>1</th>\n",
       "      <td>2</td>\n",
       "      <td>GoldenEye (1995)</td>\n",
       "      <td>01-Jan-1995</td>\n",
       "      <td>NaN</td>\n",
       "      <td>http://us.imdb.com/M/title-exact?GoldenEye%20(...</td>\n",
       "    </tr>\n",
       "    <tr>\n",
       "      <th>2</th>\n",
       "      <td>3</td>\n",
       "      <td>Four Rooms (1995)</td>\n",
       "      <td>01-Jan-1995</td>\n",
       "      <td>NaN</td>\n",
       "      <td>http://us.imdb.com/M/title-exact?Four%20Rooms%...</td>\n",
       "    </tr>\n",
       "    <tr>\n",
       "      <th>3</th>\n",
       "      <td>4</td>\n",
       "      <td>Get Shorty (1995)</td>\n",
       "      <td>01-Jan-1995</td>\n",
       "      <td>NaN</td>\n",
       "      <td>http://us.imdb.com/M/title-exact?Get%20Shorty%...</td>\n",
       "    </tr>\n",
       "    <tr>\n",
       "      <th>4</th>\n",
       "      <td>5</td>\n",
       "      <td>Copycat (1995)</td>\n",
       "      <td>01-Jan-1995</td>\n",
       "      <td>NaN</td>\n",
       "      <td>http://us.imdb.com/M/title-exact?Copycat%20(1995)</td>\n",
       "    </tr>\n",
       "  </tbody>\n",
       "</table>\n",
       "</div>"
      ],
      "text/plain": [
       "   movie_id              title release_date  video_release_date  \\\n",
       "0         1   Toy Story (1995)  01-Jan-1995                 NaN   \n",
       "1         2   GoldenEye (1995)  01-Jan-1995                 NaN   \n",
       "2         3  Four Rooms (1995)  01-Jan-1995                 NaN   \n",
       "3         4  Get Shorty (1995)  01-Jan-1995                 NaN   \n",
       "4         5     Copycat (1995)  01-Jan-1995                 NaN   \n",
       "\n",
       "                                            imdb_url  \n",
       "0  http://us.imdb.com/M/title-exact?Toy%20Story%2...  \n",
       "1  http://us.imdb.com/M/title-exact?GoldenEye%20(...  \n",
       "2  http://us.imdb.com/M/title-exact?Four%20Rooms%...  \n",
       "3  http://us.imdb.com/M/title-exact?Get%20Shorty%...  \n",
       "4  http://us.imdb.com/M/title-exact?Copycat%20(1995)  "
      ]
     },
     "execution_count": 5,
     "metadata": {},
     "output_type": "execute_result"
    }
   ],
   "source": [
    "# the movies file contains columns indicating the movie's genres\n",
    "# let's only load the first five columns of the file with usecols\n",
    "m_cols = ['movie_id', 'title', 'release_date', \n",
    "            'video_release_date', 'imdb_url']\n",
    "\n",
    "movies = pd.read_csv(\n",
    "    'http://files.grouplens.org/datasets/movielens/ml-100k/u.item', \n",
    "    sep='|', names=m_cols, usecols=range(5))\n",
    "\n",
    "movies.head()"
   ]
  },
  {
   "cell_type": "markdown",
   "metadata": {
    "slideshow": {
     "slide_type": "slide"
    }
   },
   "source": [
    "Get information about data\n",
    "======================="
   ]
  },
  {
   "cell_type": "code",
   "execution_count": 6,
   "metadata": {},
   "outputs": [
    {
     "name": "stdout",
     "output_type": "stream",
     "text": [
      "movie_id                int64\n",
      "title                  object\n",
      "release_date           object\n",
      "video_release_date    float64\n",
      "imdb_url               object\n",
      "dtype: object\n",
      "\n",
      "          movie_id  video_release_date\n",
      "count  1682.000000                 0.0\n",
      "mean    841.500000                 NaN\n",
      "std     485.695893                 NaN\n",
      "min       1.000000                 NaN\n",
      "25%     421.250000                 NaN\n",
      "50%     841.500000                 NaN\n",
      "75%    1261.750000                 NaN\n",
      "max    1682.000000                 NaN\n"
     ]
    }
   ],
   "source": [
    "print movies.dtypes\n",
    "print\n",
    "print movies.describe()\n",
    "# *** Why only those two columns? ***"
   ]
  },
  {
   "cell_type": "markdown",
   "metadata": {
    "slideshow": {
     "slide_type": "slide"
    }
   },
   "source": [
    "Selecting data\n",
    "==============\n",
    "\n",
    "* DataFrame => group of Series with shared index\n",
    "* single DataFrame column => Series"
   ]
  },
  {
   "cell_type": "code",
   "execution_count": 21,
   "metadata": {
    "scrolled": true,
    "slideshow": {
     "slide_type": "slide"
    }
   },
   "outputs": [
    {
     "name": "stdout",
     "output_type": "stream",
     "text": [
      "   user_id  age sex  occupation zip_code\n",
      "0        1   24   M  technician    85711\n",
      "1        2   53   F       other    94043\n",
      "2        3   23   M      writer    32067\n",
      "3        4   24   M  technician    43537\n",
      "4        5   33   F       other    15213\n",
      "\n",
      "   occupation  age\n",
      "0  technician   24\n",
      "1       other   53\n",
      "2      writer   23\n",
      "3  technician   24\n",
      "4       other   33\n",
      "\n",
      "   user_id  age sex  occupation zip_code\n",
      "0        1   24   M  technician    85711\n",
      "1        2   53   F       other    94043\n",
      "2        3   23   M      writer    32067\n",
      "\n",
      "   occupation  age\n",
      "0  technician   24\n",
      "1       other   53\n",
      "2      writer   23\n",
      "3  technician   24\n",
      "\n",
      "0    technician\n",
      "1         other\n",
      "2        writer\n",
      "3    technician\n",
      "4         other\n",
      "Name: occupation, dtype: object\n",
      "\n"
     ]
    }
   ],
   "source": [
    "users.head()\n",
    "users['occupation'].head()\n",
    "## *** Where did the nice design go? ***\n",
    "columns_you_want = ['occupation', 'sex'] \n",
    "#print users[columns_you_want].head()\n",
    "#print\n",
    "print users.head(5)\n",
    "print \n",
    "print users[['occupation','age']].head(5)\n",
    "print\n",
    "print users[:3]\n",
    "print\n",
    "\n",
    "\n",
    "print users.loc[:3][['occupation','age']]\n",
    "# = print users.loc[[0,1,2,3]][['occupation','age']]\n",
    "# = print users.iloc[:3][['occupation','age']]\n",
    "print \n",
    "print users['occupation'].head(5)\n",
    "print\n"
   ]
  },
  {
   "cell_type": "markdown",
   "metadata": {
    "slideshow": {
     "slide_type": "slide"
    }
   },
   "source": [
    "Filtering data\n",
    "==============\n",
    "\n",
    "Select users older than 25"
   ]
  },
  {
   "cell_type": "code",
   "execution_count": 19,
   "metadata": {},
   "outputs": [
    {
     "data": {
      "text/html": [
       "<div>\n",
       "<style>\n",
       "    .dataframe thead tr:only-child th {\n",
       "        text-align: right;\n",
       "    }\n",
       "\n",
       "    .dataframe thead th {\n",
       "        text-align: left;\n",
       "    }\n",
       "\n",
       "    .dataframe tbody tr th {\n",
       "        vertical-align: top;\n",
       "    }\n",
       "</style>\n",
       "<table border=\"1\" class=\"dataframe\">\n",
       "  <thead>\n",
       "    <tr style=\"text-align: right;\">\n",
       "      <th></th>\n",
       "      <th>user_id</th>\n",
       "      <th>age</th>\n",
       "      <th>sex</th>\n",
       "      <th>occupation</th>\n",
       "      <th>zip_code</th>\n",
       "    </tr>\n",
       "  </thead>\n",
       "  <tbody>\n",
       "    <tr>\n",
       "      <th>1</th>\n",
       "      <td>2</td>\n",
       "      <td>53</td>\n",
       "      <td>F</td>\n",
       "      <td>other</td>\n",
       "      <td>94043</td>\n",
       "    </tr>\n",
       "    <tr>\n",
       "      <th>4</th>\n",
       "      <td>5</td>\n",
       "      <td>33</td>\n",
       "      <td>F</td>\n",
       "      <td>other</td>\n",
       "      <td>15213</td>\n",
       "    </tr>\n",
       "    <tr>\n",
       "      <th>5</th>\n",
       "      <td>6</td>\n",
       "      <td>42</td>\n",
       "      <td>M</td>\n",
       "      <td>executive</td>\n",
       "      <td>98101</td>\n",
       "    </tr>\n",
       "    <tr>\n",
       "      <th>6</th>\n",
       "      <td>7</td>\n",
       "      <td>57</td>\n",
       "      <td>M</td>\n",
       "      <td>administrator</td>\n",
       "      <td>91344</td>\n",
       "    </tr>\n",
       "    <tr>\n",
       "      <th>7</th>\n",
       "      <td>8</td>\n",
       "      <td>36</td>\n",
       "      <td>M</td>\n",
       "      <td>administrator</td>\n",
       "      <td>05201</td>\n",
       "    </tr>\n",
       "  </tbody>\n",
       "</table>\n",
       "</div>"
      ],
      "text/plain": [
       "   user_id  age sex     occupation zip_code\n",
       "1        2   53   F          other    94043\n",
       "4        5   33   F          other    15213\n",
       "5        6   42   M      executive    98101\n",
       "6        7   57   M  administrator    91344\n",
       "7        8   36   M  administrator    05201"
      ]
     },
     "execution_count": 19,
     "metadata": {},
     "output_type": "execute_result"
    }
   ],
   "source": [
    "oldUsers = users[users.age > 25]\n",
    "oldUsers.head()"
   ]
  },
  {
   "cell_type": "markdown",
   "metadata": {
    "slideshow": {
     "slide_type": "slide"
    }
   },
   "source": [
    "Quiz:\n",
    "=====\n",
    "\n",
    "* show users aged 40 and male\n",
    "\n",
    "* show the mean age of female programmers"
   ]
  },
  {
   "cell_type": "code",
   "execution_count": 134,
   "metadata": {
    "slideshow": {
     "slide_type": "slide"
    }
   },
   "outputs": [
    {
     "data": {
      "text/html": [
       "<div>\n",
       "<style>\n",
       "    .dataframe thead tr:only-child th {\n",
       "        text-align: right;\n",
       "    }\n",
       "\n",
       "    .dataframe thead th {\n",
       "        text-align: left;\n",
       "    }\n",
       "\n",
       "    .dataframe tbody tr th {\n",
       "        vertical-align: top;\n",
       "    }\n",
       "</style>\n",
       "<table border=\"1\" class=\"dataframe\">\n",
       "  <thead>\n",
       "    <tr style=\"text-align: right;\">\n",
       "      <th></th>\n",
       "      <th>user_id</th>\n",
       "      <th>age</th>\n",
       "      <th>sex</th>\n",
       "      <th>occupation</th>\n",
       "      <th>zip_code</th>\n",
       "    </tr>\n",
       "  </thead>\n",
       "  <tbody>\n",
       "    <tr>\n",
       "      <th>18</th>\n",
       "      <td>19</td>\n",
       "      <td>40</td>\n",
       "      <td>M</td>\n",
       "      <td>librarian</td>\n",
       "      <td>02138</td>\n",
       "    </tr>\n",
       "    <tr>\n",
       "      <th>82</th>\n",
       "      <td>83</td>\n",
       "      <td>40</td>\n",
       "      <td>M</td>\n",
       "      <td>other</td>\n",
       "      <td>44133</td>\n",
       "    </tr>\n",
       "    <tr>\n",
       "      <th>115</th>\n",
       "      <td>116</td>\n",
       "      <td>40</td>\n",
       "      <td>M</td>\n",
       "      <td>healthcare</td>\n",
       "      <td>97232</td>\n",
       "    </tr>\n",
       "    <tr>\n",
       "      <th>199</th>\n",
       "      <td>200</td>\n",
       "      <td>40</td>\n",
       "      <td>M</td>\n",
       "      <td>programmer</td>\n",
       "      <td>93402</td>\n",
       "    </tr>\n",
       "    <tr>\n",
       "      <th>283</th>\n",
       "      <td>284</td>\n",
       "      <td>40</td>\n",
       "      <td>M</td>\n",
       "      <td>executive</td>\n",
       "      <td>92629</td>\n",
       "    </tr>\n",
       "  </tbody>\n",
       "</table>\n",
       "</div>"
      ],
      "text/plain": [
       "     user_id  age sex  occupation zip_code\n",
       "18        19   40   M   librarian    02138\n",
       "82        83   40   M       other    44133\n",
       "115      116   40   M  healthcare    97232\n",
       "199      200   40   M  programmer    93402\n",
       "283      284   40   M   executive    92629"
      ]
     },
     "execution_count": 134,
     "metadata": {},
     "output_type": "execute_result"
    }
   ],
   "source": [
    "# users aged 40 AND male\n",
    "q1 = users[(users.age == 40) & (users.sex == 'M')]\n",
    "q1.head()"
   ]
  },
  {
   "cell_type": "code",
   "execution_count": 35,
   "metadata": {
    "slideshow": {
     "slide_type": "slide"
    }
   },
   "outputs": [
    {
     "name": "stdout",
     "output_type": "stream",
     "text": [
      "     user_id  age sex  occupation zip_code\n",
      "291      292   35   F  programmer    94703\n",
      "299      300   26   F  programmer    55106\n",
      "351      352   37   F  programmer    55105\n",
      "403      404   29   F  programmer    55108\n",
      "420      421   38   F  programmer    55105\n",
      "\n",
      "          user_id        age\n",
      "count    6.000000   6.000000\n",
      "mean   411.166667  32.166667\n",
      "std    149.987222   5.115336\n",
      "min    292.000000  26.000000\n",
      "25%    313.000000  28.250000\n",
      "50%    378.000000  32.000000\n",
      "75%    416.750000  36.500000\n",
      "max    698.000000  38.000000\n",
      "\n",
      "32.1666666667\n"
     ]
    }
   ],
   "source": [
    "## users who are female and programmers\n",
    "q2 = users[(users.occupation == 'programmer') & (users.sex == 'F')]\n",
    "print q2.head()\n",
    "print\n",
    "## show statistic summary or compute mean\n",
    "# your code here\n",
    "print q2.describe()\n",
    "print\n",
    "print q2['age'].mean()"
   ]
  },
  {
   "cell_type": "markdown",
   "metadata": {
    "slideshow": {
     "slide_type": "slide"
    }
   },
   "source": [
    "Split-apply-combine\n",
    "===================\n",
    "\n",
    "* splitting the data into groups based on some criteria\n",
    "* applying a function to each group independently\n",
    "* combining the results into a data structure"
   ]
  },
  {
   "cell_type": "markdown",
   "metadata": {
    "slideshow": {
     "slide_type": "slide"
    }
   },
   "source": [
    "Split-apply-combine\n",
    "===================\n",
    "\n",
    "<img src=http://i.imgur.com/yjNkiwL.png></img>"
   ]
  },
  {
   "cell_type": "markdown",
   "metadata": {
    "slideshow": {
     "slide_type": "slide"
    }
   },
   "source": [
    "Find Diligent Users\n",
    "===================\n",
    "\n",
    "* split data per user ID\n",
    "* count ratings\n",
    "* combine result"
   ]
  },
  {
   "cell_type": "code",
   "execution_count": 53,
   "metadata": {
    "slideshow": {
     "slide_type": "slide"
    }
   },
   "outputs": [
    {
     "name": "stdout",
     "output_type": "stream",
     "text": [
      "   user_id  movie_id  rating  unix_timestamp\n",
      "0      196       242       3       881250949\n",
      "1      186       302       3       891717742\n",
      "2       22       377       1       878887116\n",
      "3      244        51       2       880606923\n",
      "4      166       346       1       886397596\n",
      "\n",
      "         movie_id  rating  unix_timestamp\n",
      "user_id                                  \n",
      "1             272     272             272\n",
      "2              62      62              62\n",
      "3              54      54              54\n",
      "\n",
      "         movie_id\n",
      "user_id          \n",
      "1             272\n",
      "2              62\n",
      "3              54\n"
     ]
    }
   ],
   "source": [
    "print ratings.head()\n",
    "print\n",
    "## split data\n",
    "grouped_data = ratings.groupby('user_id')\n",
    "print grouped_data.count().head(3)\n",
    "grouped_data = ratings[['movie_id']].groupby(ratings['user_id'])\n",
    "print\n",
    "#print grouped_data.head(5)\n",
    "\n",
    "##must need count and combine\n",
    "ratings_per_user = grouped_data.count()\n",
    "\n",
    "\n",
    "print ratings_per_user.head(3)"
   ]
  },
  {
   "cell_type": "markdown",
   "metadata": {
    "slideshow": {
     "slide_type": "slide"
    }
   },
   "source": [
    "Quiz\n",
    "====\n",
    "\n",
    "* get the average rating per movie\n",
    "* advanced: get the movie titles with the highest average rating"
   ]
  },
  {
   "cell_type": "code",
   "execution_count": 106,
   "metadata": {
    "slideshow": {
     "slide_type": "slide"
    }
   },
   "outputs": [
    {
     "name": "stdout",
     "output_type": "stream",
     "text": [
      "movie_id\n",
      "1    3.878319\n",
      "2    3.206107\n",
      "3    3.033333\n",
      "Name: rating, dtype: float64\n",
      "\n",
      "5.0\n",
      "\n",
      "Int64Index([814, 1122, 1189, 1201, 1293, 1467, 1500, 1536, 1599, 1653], dtype='int64', name=u'movie_id')\n"
     ]
    }
   ],
   "source": [
    "## split data\n",
    "# your code here\n",
    "#grouped_movie = ratings[['rating']].groupby(ratings['movie_id'])\n",
    "#Wrong all movie selected\n",
    "grouped_movie = ratings['rating'].groupby(ratings['movie_id'])\n",
    "#grouped_movie = grouped_all_movie\n",
    "#Wrong\n",
    "movieMean = grouped_movie.mean()\n",
    "print movieMean.head(3)\n",
    "print\n",
    "## average and combine\n",
    "# your code here\n",
    "\n",
    "maxv = movieMean.max()\n",
    "maxidx = movieMean[movieMean == maxv].index\n",
    "print maxv\n",
    "print\n",
    "print maxidx\n",
    "#print movieMean[movieMean == maxv].movie_id\n",
    "#wrong\n",
    "#TODO ?? print grouped_all_movie.mean().iloc[813]\n",
    "# get the maximum rating\n",
    "# your code here\n",
    "\n",
    "# get movie ids with that rating\n",
    "# your code here"
   ]
  },
  {
   "cell_type": "code",
   "execution_count": 125,
   "metadata": {
    "slideshow": {
     "slide_type": "slide"
    }
   },
   "outputs": [
    {
     "name": "stdout",
     "output_type": "stream",
     "text": [
      "Good movie ids:\n",
      "Int64Index([814, 1122, 1189, 1201, 1293, 1467, 1500, 1536, 1599, 1653], dtype='int64', name=u'movie_id')\n",
      "\n",
      "Best movie titles\n",
      "813                         Great Day in Harlem, A (1994)\n",
      "1121                       They Made Me a Criminal (1939)\n",
      "1188                                   Prefontaine (1997)\n",
      "1200           Marlene Dietrich: Shadow and Light (1996) \n",
      "1292                                      Star Kid (1997)\n",
      "1466                 Saint of Fort Washington, The (1993)\n",
      "1499                            Santa with Muscles (1996)\n",
      "1535                                 Aiqing wansui (1994)\n",
      "1598                        Someone Else's America (1995)\n",
      "1652    Entertaining Angels: The Dorothy Day Story (1996)\n",
      "Name: title, dtype: object\n",
      "\n",
      "Great Day in Harlem, A (1994)\n",
      "\n",
      "Great Day in Harlem, A (1994)\n",
      "\n",
      "Great Day in Harlem, A (1994)\n",
      "\n",
      "title    Great Day in Harlem, A (1994)\n",
      "Name: 813, dtype: object\n",
      "\n",
      "real index\n",
      "0       False\n",
      "1       False\n",
      "2       False\n",
      "3       False\n",
      "4       False\n",
      "5       False\n",
      "6       False\n",
      "7       False\n",
      "8       False\n",
      "9       False\n",
      "10      False\n",
      "11      False\n",
      "12      False\n",
      "13      False\n",
      "14      False\n",
      "15      False\n",
      "16      False\n",
      "17      False\n",
      "18      False\n",
      "19      False\n",
      "20      False\n",
      "21      False\n",
      "22      False\n",
      "23      False\n",
      "24      False\n",
      "25      False\n",
      "26      False\n",
      "27      False\n",
      "28      False\n",
      "29      False\n",
      "        ...  \n",
      "1652     True\n",
      "1653    False\n",
      "1654    False\n",
      "1655    False\n",
      "1656    False\n",
      "1657    False\n",
      "1658    False\n",
      "1659    False\n",
      "1660    False\n",
      "1661    False\n",
      "1662    False\n",
      "1663    False\n",
      "1664    False\n",
      "1665    False\n",
      "1666    False\n",
      "1667    False\n",
      "1668    False\n",
      "1669    False\n",
      "1670    False\n",
      "1671    False\n",
      "1672    False\n",
      "1673    False\n",
      "1674    False\n",
      "1675    False\n",
      "1676    False\n",
      "1677    False\n",
      "1678    False\n",
      "1679    False\n",
      "1680    False\n",
      "1681    False\n",
      "Name: movie_id, Length: 1682, dtype: bool\n",
      "\n"
     ]
    }
   ],
   "source": [
    "print \"Good movie ids:\"\n",
    "print maxidx\n",
    "print\n",
    "\n",
    "print \"Best movie titles\"\n",
    "print movies[movies.movie_id.isin(maxidx)].title\n",
    "print\n",
    "print movies.iloc[813].title\n",
    "print\n",
    "print movies.loc[813].title\n",
    "print\n",
    "print (movies.loc[813])[1]\n",
    "print\n",
    "print (movies.loc[813])[[1]]\n",
    "print\n",
    "#iloc[2]的意思是选择第三行的数据，也就是索引号为4的那一行数据，因为iloc[]的计算也是从0开始的，\n",
    "#所以iloc[]适用于数据进行了筛选后造成索引号与原来不一致的情况\n",
    "#loc[]与iloc[]方法之间还有一个巨大的差别，那就是loc[]里的参数是对应的索引值即可，\n",
    "#所以参数可以是整数，也可以是字符串。而iloc[]里的参数表示的是第几行的数据，所以只能是整数\n",
    "print \"real index\"\n",
    "print movies.movie_id.isin(maxidx)\n",
    "print\n",
    "\n"
   ]
  },
  {
   "cell_type": "code",
   "execution_count": 128,
   "metadata": {
    "slideshow": {
     "slide_type": "slide"
    }
   },
   "outputs": [
    {
     "name": "stdout",
     "output_type": "stream",
     "text": [
      "movie_id\n",
      "1    452\n",
      "2    131\n",
      "3     90\n",
      "4    209\n",
      "5     86\n",
      "Name: rating, dtype: int64\n",
      "\n",
      "movie_id\n",
      "814     1\n",
      "1122    1\n",
      "1189    3\n",
      "1201    1\n",
      "1293    3\n",
      "1467    2\n",
      "1500    2\n",
      "1536    1\n",
      "1599    1\n",
      "1653    1\n",
      "Name: rating, dtype: int64\n",
      "Number of ratings per movie\n",
      "\n"
     ]
    }
   ],
   "source": [
    "# get number of ratings per movie\n",
    "# your code here\n",
    "grouped_movie = ratings['rating'].groupby(ratings['movie_id'])\n",
    "print grouped_movie.count().head()\n",
    "print \n",
    "print grouped_movie.count()[movieMean == maxv]\n",
    "print \"Number of ratings per movie\"\n",
    "print # your code here"
   ]
  },
  {
   "cell_type": "markdown",
   "metadata": {
    "slideshow": {
     "slide_type": "slide"
    }
   },
   "source": [
    "Passing a Function\n",
    "==================\n"
   ]
  },
  {
   "cell_type": "code",
   "execution_count": 129,
   "metadata": {},
   "outputs": [
    {
     "data": {
      "text/html": [
       "<div>\n",
       "<style>\n",
       "    .dataframe thead tr:only-child th {\n",
       "        text-align: right;\n",
       "    }\n",
       "\n",
       "    .dataframe thead th {\n",
       "        text-align: left;\n",
       "    }\n",
       "\n",
       "    .dataframe tbody tr th {\n",
       "        vertical-align: top;\n",
       "    }\n",
       "</style>\n",
       "<table border=\"1\" class=\"dataframe\">\n",
       "  <thead>\n",
       "    <tr style=\"text-align: right;\">\n",
       "      <th></th>\n",
       "      <th>movie_id</th>\n",
       "    </tr>\n",
       "    <tr>\n",
       "      <th>user_id</th>\n",
       "      <th></th>\n",
       "    </tr>\n",
       "  </thead>\n",
       "  <tbody>\n",
       "    <tr>\n",
       "      <th>1</th>\n",
       "      <td>136.500000</td>\n",
       "    </tr>\n",
       "    <tr>\n",
       "      <th>2</th>\n",
       "      <td>249.500000</td>\n",
       "    </tr>\n",
       "    <tr>\n",
       "      <th>3</th>\n",
       "      <td>318.814815</td>\n",
       "    </tr>\n",
       "    <tr>\n",
       "      <th>4</th>\n",
       "      <td>291.041667</td>\n",
       "    </tr>\n",
       "    <tr>\n",
       "      <th>5</th>\n",
       "      <td>291.291429</td>\n",
       "    </tr>\n",
       "  </tbody>\n",
       "</table>\n",
       "</div>"
      ],
      "text/plain": [
       "           movie_id\n",
       "user_id            \n",
       "1        136.500000\n",
       "2        249.500000\n",
       "3        318.814815\n",
       "4        291.041667\n",
       "5        291.291429"
      ]
     },
     "execution_count": 129,
     "metadata": {},
     "output_type": "execute_result"
    }
   ],
   "source": [
    "average_ratings = grouped_data.apply(lambda f: f.mean())\n",
    "average_ratings.head()"
   ]
  },
  {
   "cell_type": "markdown",
   "metadata": {
    "slideshow": {
     "slide_type": "slide"
    }
   },
   "source": [
    "Quiz\n",
    "====\n",
    "\n",
    "* get the average rating per user\n",
    "* advanced: list all occupations and if they are male or female dominant"
   ]
  },
  {
   "cell_type": "code",
   "execution_count": 132,
   "metadata": {
    "slideshow": {
     "slide_type": "slide"
    }
   },
   "outputs": [
    {
     "name": "stdout",
     "output_type": "stream",
     "text": [
      "user_id\n",
      "1    3.610294\n",
      "2    3.709677\n",
      "3    2.796296\n",
      "4    4.333333\n",
      "5    2.874286\n",
      "Name: rating, dtype: float64\n"
     ]
    }
   ],
   "source": [
    "# get the average rating per user\n",
    "#['user_id', 'movie_id', 'rating', 'unix_timestamp']\n",
    "#ratings\n",
    "grate = ratings['rating'].groupby(ratings['user_id'])\n",
    "umean = grate.mean()\n",
    "print umean.head()\n",
    "# your code here"
   ]
  },
  {
   "cell_type": "code",
   "execution_count": 136,
   "metadata": {
    "slideshow": {
     "slide_type": "slide"
    }
   },
   "outputs": [
    {
     "name": "stdout",
     "output_type": "stream",
     "text": [
      "occupation\n",
      "administrator     True\n",
      "artist            True\n",
      "doctor            True\n",
      "educator          True\n",
      "engineer          True\n",
      "entertainment     True\n",
      "executive         True\n",
      "healthcare       False\n",
      "homemaker        False\n",
      "lawyer            True\n",
      "librarian        False\n",
      "marketing         True\n",
      "none              True\n",
      "other             True\n",
      "programmer        True\n",
      "retired           True\n",
      "salesman          True\n",
      "scientist         True\n",
      "student           True\n",
      "technician        True\n",
      "writer            True\n",
      "Name: sex, dtype: bool\n"
     ]
    }
   ],
   "source": [
    "# list all occupations and if they are male or female dominant\n",
    "#['user_id', 'age', 'sex', 'occupation', 'zip_code']\n",
    "#users\n",
    "grouped_data = users['sex'].groupby(users['occupation'])\n",
    "male_dominant_occupations = grouped_data.apply(lambda f: \n",
    "                                               sum(f == 'M') > sum(f == 'F'))\n",
    "#apply lambda f for every group\n",
    "print male_dominant_occupations\n",
    "# your code here"
   ]
  },
  {
   "cell_type": "code",
   "execution_count": 135,
   "metadata": {
    "slideshow": {
     "slide_type": "slide"
    }
   },
   "outputs": [
    {
     "name": "stdout",
     "output_type": "stream",
     "text": [
      "number of male users: \n",
      "670\n",
      "number of female users: \n",
      "273\n"
     ]
    }
   ],
   "source": [
    "print 'number of male users: '\n",
    "print sum(users['sex'] == 'M')\n",
    "\n",
    "print 'number of female users: '\n",
    "print sum(users['sex'] == 'F')"
   ]
  },
  {
   "cell_type": "markdown",
   "metadata": {
    "slideshow": {
     "slide_type": "slide"
    }
   },
   "source": [
    "Pandas \"wrapup\"\n",
    "==========\n",
    "\n",
    "- create data frames\n",
    "- get sub-frames\n",
    "- filter data \n",
    "- use group-by\n",
    "- apply a user defined function\n",
    "\n",
    "\n",
    "![cute panda](images/cute_panda.jpg)"
   ]
  },
  {
   "cell_type": "markdown",
   "metadata": {
    "slideshow": {
     "slide_type": "slide"
    }
   },
   "source": [
    "Python data scraping\n",
    "====================\n",
    "\n",
    "* Why scrape the web?\n",
    "    - vast source of information\n",
    "    - automate tasks\n",
    "    - keep up with sites\n",
    "    - fun!\n",
    "\n",
    "** Can you think of examples ? **"
   ]
  },
  {
   "cell_type": "markdown",
   "metadata": {
    "slideshow": {
     "slide_type": "slide"
    }
   },
   "source": [
    "Read and Tweet!\n",
    "=================\n",
    "\n",
    "![ReadTweet](https://developer.nytimes.com/files/readtweet.jpg)\n",
    "\n",
    "* by Justin Blinder\n",
    "* http://projects.justinblinder.com/We-Read-We-Tweet"
   ]
  },
  {
   "cell_type": "markdown",
   "metadata": {
    "slideshow": {
     "slide_type": "skip"
    }
   },
   "source": [
    "“We Read, We Tweet” geographically visualizes the dissemination of New York Times articles through Twitter. Each line connects the location of a tweet to the contextual location of the New York Times article it referenced. The lines are generated in a sequence based on the time in which a tweet occurs. The project explores digital news distribution in a temporal and spatial context through the social space of Twitter."
   ]
  },
  {
   "cell_type": "markdown",
   "metadata": {
    "slideshow": {
     "slide_type": "slide"
    }
   },
   "source": [
    "Twitter Sentiments\n",
    "=================\n",
    "\n",
    "![TwitterSentiments](http://www.csc.ncsu.edu/faculty/healey/tweet_viz/figs/tweet-viz-ex.png\n",
    " \"Twitter Sentiments\")\n",
    "\n",
    "* by Healey and Ramaswamy\n",
    "* http://www.csc.ncsu.edu/faculty/healey/tweet_viz/tweet_app/"
   ]
  },
  {
   "cell_type": "markdown",
   "metadata": {
    "slideshow": {
     "slide_type": "skip"
    }
   },
   "source": [
    "Type a keyword into the input field, then click the Query button. Recent tweets that contain your keyword are pulled from Twitter and visualized in the Sentiment tab as circles. Hover your mouse over a tweet or click on it to see its text."
   ]
  },
  {
   "cell_type": "markdown",
   "metadata": {
    "slideshow": {
     "slide_type": "slide"
    }
   },
   "source": [
    "Python data scraping\n",
    "====================\n",
    "\n",
    "* copyrights and permission:\n",
    "    - be careful and polite\n",
    "    - give credit\n",
    "    - care about media law\n",
    "    - don't be evil (no spam, overloading sites, etc.)"
   ]
  },
  {
   "cell_type": "markdown",
   "metadata": {
    "slideshow": {
     "slide_type": "slide"
    }
   },
   "source": [
    "Robots.txt\n",
    "==========\n",
    "\n",
    "![Robots.txt](images/robots_txt.jpg \"Robots.txt\")"
   ]
  },
  {
   "cell_type": "markdown",
   "metadata": {
    "slideshow": {
     "slide_type": "slide"
    }
   },
   "source": [
    "Robots.txt\n",
    "==========\n",
    "\n",
    "* specified by web site owner\n",
    "* gives instructions to web robots (aka your script)\n",
    "* is located at the top-level directory of the web server\n",
    "\n",
    "http://www.example.com/robots.txt\n",
    "\n",
    "If you want you can also have a look at\n",
    "\n",
    "http://google.com/robots.txt"
   ]
  },
  {
   "cell_type": "markdown",
   "metadata": {
    "slideshow": {
     "slide_type": "slide"
    }
   },
   "source": [
    "Robots.txt\n",
    "==========\n",
    "\n",
    "*** What does this one do? ***"
   ]
  },
  {
   "cell_type": "raw",
   "metadata": {},
   "source": [
    "\n",
    "User-agent: Google\n",
    "Disallow:\n",
    "\n",
    "User-agent: *\n",
    "Disallow: /"
   ]
  },
  {
   "cell_type": "markdown",
   "metadata": {
    "slideshow": {
     "slide_type": "slide"
    }
   },
   "source": [
    "Things to consider:\n",
    "-------------------\n",
    "\n",
    "* can be just ignored\n",
    "* can be a security risk - *** Why? ***"
   ]
  },
  {
   "cell_type": "markdown",
   "metadata": {
    "slideshow": {
     "slide_type": "slide"
    }
   },
   "source": [
    "Scraping with Python:\n",
    "=====================\n",
    "\n",
    "* scraping is all about HTML tags\n",
    "* bad news: \n",
    "    - need to learn about tags\n",
    "    - websites can be ugly"
   ]
  },
  {
   "cell_type": "markdown",
   "metadata": {
    "slideshow": {
     "slide_type": "slide"
    }
   },
   "source": [
    "HTML\n",
    "=====\n",
    "\n",
    "* HyperText Markup Language\n",
    "\n",
    "* standard for creating webpages\n",
    "\n",
    "* HTML tags \n",
    "    - have angle brackets\n",
    "    - typically come in pairs"
   ]
  },
  {
   "cell_type": "markdown",
   "metadata": {
    "slideshow": {
     "slide_type": "skip"
    }
   },
   "source": [
    "This is an example for a minimal webpage defined in HTML tags. The root tag is `<html>` and then you have the `<head>` tag. This part of the page typically includes the title of the page and might also have other meta information like the author or keywords that are important for search engines. The `<body>` tag marks the actual content of the page. You can play around with the `<h2>` tag trying different header levels. They range from 1 to 6. "
   ]
  },
  {
   "cell_type": "code",
   "execution_count": 138,
   "metadata": {
    "slideshow": {
     "slide_type": "slide"
    }
   },
   "outputs": [
    {
     "data": {
      "text/html": [
       "<!DOCTYPE html>\n",
       "<html>\n",
       "  <head>\n",
       "    <title>This is a title</title>\n",
       "  </head>\n",
       "  <body>\n",
       "    <h2> Test </h2>\n",
       "    <p>Hello world!</p>\n",
       "  </body>\n",
       "</html>"
      ],
      "text/plain": [
       "<IPython.core.display.HTML object>"
      ]
     },
     "execution_count": 138,
     "metadata": {},
     "output_type": "execute_result"
    }
   ],
   "source": [
    "htmlString = \"\"\"<!DOCTYPE html>\n",
    "<html>\n",
    "  <head>\n",
    "    <title>This is a title</title>\n",
    "  </head>\n",
    "  <body>\n",
    "    <h2> Test </h2>\n",
    "    <p>Hello world!</p>\n",
    "  </body>\n",
    "</html>\"\"\"\n",
    "\n",
    "htmlOutput = HTML(htmlString)\n",
    "htmlOutput"
   ]
  },
  {
   "cell_type": "markdown",
   "metadata": {
    "slideshow": {
     "slide_type": "slide"
    }
   },
   "source": [
    "Useful Tags\n",
    "===========\n",
    "\n",
    "* heading\n",
    "`<h1></h1> ... <h6></h6>`\n",
    "\n",
    "* paragraph\n",
    "`<p></p>` \n",
    "\n",
    "* line break\n",
    "`<br>` \n",
    "\n",
    "* link with attribute\n",
    "\n",
    "`<a href=\"http://www.example.com/\">An example link</a>`\n"
   ]
  },
  {
   "cell_type": "markdown",
   "metadata": {
    "slideshow": {
     "slide_type": "slide"
    }
   },
   "source": [
    "Scraping with Python:\n",
    "=====================\n",
    "\n",
    "* example of a beautifully simple webpage:\n",
    "\n",
    "http://www.crummy.com/software/BeautifulSoup"
   ]
  },
  {
   "cell_type": "markdown",
   "metadata": {
    "slideshow": {
     "slide_type": "slide"
    }
   },
   "source": [
    "Scraping with Python:\n",
    "=====================\n",
    "\n",
    "* good news: \n",
    "    - some browsers help\n",
    "    - look for: inspect element\n",
    "    - need only basic html\n",
    "    \n",
    "** Try 'Ctrl-Shift I' in Chrome **\n",
    "\n",
    "** Try 'Command-Option I' in Safari **\n"
   ]
  },
  {
   "cell_type": "markdown",
   "metadata": {
    "slideshow": {
     "slide_type": "slide"
    }
   },
   "source": [
    "Scraping with Python\n",
    "==================\n",
    "\n",
    "* different useful libraries:\n",
    "    - urllib\n",
    "    - beautifulsoup\n",
    "    - pattern\n",
    "    - soupy\n",
    "    - LXML\n",
    "    - ...\n",
    "    "
   ]
  },
  {
   "cell_type": "markdown",
   "metadata": {
    "slideshow": {
     "slide_type": "skip"
    }
   },
   "source": [
    "The following cell just defines a url as a string and then reads the data from that url using the `urllib` library. If you uncomment the print command you see that we got the whole HTML content of the page into the string variable source."
   ]
  },
  {
   "cell_type": "code",
   "execution_count": 139,
   "metadata": {
    "slideshow": {
     "slide_type": "slide"
    }
   },
   "outputs": [
    {
     "name": "stdout",
     "output_type": "stream",
     "text": [
      "<!DOCTYPE HTML PUBLIC \"-//W3C//DTD HTML 4.0 Transitional//EN\"\n",
      "\"http://www.w3.org/TR/REC-html40/transitional.dtd\">\n",
      "<html>\n",
      "<head>\n",
      "<meta http-equiv=\"Content-Type\" content=\"text/html; charset=utf-8\">\n",
      "<title>Beautiful Soup: We called him Tortoise because he taught us.</title>\n",
      "<link rev=\"made\" href=\"mailto:leonardr@segfault.org\">\n",
      "<link rel=\"stylesheet\" type=\"text/css\" href=\"/nb/themes/Default/nb.css\">\n",
      "<meta name=\"Description\" content=\"Beautiful Soup: a library designed for screen-scraping HTML and XML.\">\n",
      "<meta name=\"generator\" content=\"Markov Approximation 1.4 (module: leonardr)\">\n",
      "<meta name=\"author\" content=\"Leonard Richardson\">\n",
      "</head>\n",
      "<body bgcolor=\"white\" text=\"black\" link=\"blue\" vlink=\"660066\" alink=\"red\">\n",
      "<img align=\"right\" src=\"10.1.jpg\" width=\"250\"><br />\n",
      "\n",
      "<p>You didn't write that awful page. You're just trying to get some\n",
      "data out of it. Beautiful Soup is here to help. Since 2004, it's been\n",
      "saving programmers hours or days of work on quick-turnaround\n",
      "screen scraping projects.</p>\n",
      "\n",
      "<div align=\"center\">\n",
      "\n",
      "<a href=\"bs4/download/\"><h1>Beautiful Soup</h1></a>\n",
      "\n",
      "<p>\"A tremendous boon.\" -- Python411 Podcast</p>\n",
      "\n",
      "<p>[ <a href=\"#Download\">Download</a> | <a\n",
      "href=\"bs4/doc/\">Documentation</a> | <a href=\"#HallOfFame\">Hall of Fame</a> | <a href=\"https://code.launchpad.net/beautifulsoup\">Source</a> | <a href=\"https://groups.google.com/forum/?fromgroups#!forum/beautifulsoup\">Discussion group</a> ]</p>\n",
      "\n",
      "<small>If Beautiful Soup has saved you a lot of time and money, one way to pay me back is to check out <a\n",
      "href=\"http://www.candlemarkandgleam.com/shop/constellation-games/\"><i>Constellation\n",
      "Games</i>, my sci-fi novel about alien video games</a>.<br />You can\n",
      "<a\n",
      "href=\"http://constellation.crummy.com/Constellation%20Games%20excerpt.html\">read\n",
      "the first two chapters for free</a>, and the full novel starts at 5\n",
      "USD. Thanks!</small> </div>\n",
      "\n",
      "<p><i>If you have questions, send them to <a\n",
      "href=\"https://groups.google.com/forum/?fromgroups#!forum/beautifulsoup\">the discussion\n",
      "group</a>. If you find a bug, <a href=\"https://bugs.launchpad.net/beautifulsoup/\">file it</a>.</i></p>\n",
      "\n",
      "<p>Beautiful Soup is a Python library designed for quick turnaround\n",
      "projects like screen-scraping. Three features make it powerful:\n",
      "\n",
      "<ol>\n",
      "\n",
      "<li>Beautiful Soup provides a few simple methods and Pythonic idioms\n",
      "for navigating, searching, and modifying a parse tree: a toolkit for\n",
      "dissecting a document and extracting what you need. It doesn't take\n",
      "much code to write an application\n",
      "\n",
      "<li>Beautiful Soup automatically converts incoming documents to\n",
      "Unicode and outgoing documents to UTF-8. You don't have to think\n",
      "about encodings, unless the document doesn't specify an encoding and\n",
      "Beautiful Soup can't detect one. Then you just have to specify the\n",
      "original encoding.\n",
      "\n",
      "<li>Beautiful Soup sits on top of popular Python parsers like <a\n",
      "href=\"http://lxml.de/\">lxml</a> and <a\n",
      "href=\"http://code.google.com/p/html5lib/\">html5lib</a>, allowing you\n",
      "to try out different parsing strategies or trade speed for\n",
      "flexibility.\n",
      "\n",
      "</ol>\n",
      "\n",
      "<p>Beautiful Soup parses anything you give it, and does the tree\n",
      "traversal stuff for you. You can tell it \"Find all the links\", or\n",
      "\"Find all the links of class <tt>externalLink</tt>\", or \"Find all the\n",
      "links whose urls match \"foo.com\", or \"Find the table heading that's\n",
      "got bold text, then give me that text.\"\n",
      "\n",
      "<p>Valuable data that was once locked up in poorly-designed websites\n",
      "is now within your reach. Projects that would have taken hours take\n",
      "only minutes with Beautiful Soup.\n",
      "\n",
      "<p>Interested? <a href=\"bs4/doc/\">Read more.</a>\n",
      "\n",
      "<a name=\"Download\"><h2>Download Beautiful Soup</h2></a>\n",
      "\n",
      "<p>The current release is <a href=\"bs4/download/\">Beautiful Soup\n",
      "4.6.0</a> (May 7, 2017). You can install Beautiful Soup 4 with\n",
      "<code>pip install beautifulsoup4</code>.\n",
      "\n",
      "<p>In Debian and Ubuntu, Beautiful Soup is available as the\n",
      "<code>python-bs4</code> package (for Python 2) or the\n",
      "<code>python3-bs4</code> package (for Python 3). In Fedora it's\n",
      "available as the <code>python-beautifulsoup4</code> package.\n",
      "\n",
      "<p>Beautiful Soup is licensed under the MIT license, so you can also\n",
      "download the tarball, drop the <code>bs4/</code> directory into almost\n",
      "any Python application (or into your library path) and start using it\n",
      "immediately. (If you want to do this under Python 3, you will need to\n",
      "manually convert the code using <code>2to3</code>.)\n",
      "\n",
      "<p>Beautiful Soup 4 works on both Python 2 (2.7+) and Python 3.\n",
      "\n",
      "<h3>Beautiful Soup 3</h3>\n",
      "\n",
      "<p>Beautiful Soup 3 was the official release line of Beautiful Soup\n",
      "from May 2006 to March 2012. It is considered stable, and only\n",
      "critical security bugs will be fixed. <a\n",
      "href=\"http://www.crummy.com/software/BeautifulSoup/bs3/documentation.html\">Here's\n",
      "the Beautiful Soup 3 documentation.</a>\n",
      "\n",
      "<p>Beautiful Soup 3 works only under Python 2.x. It is licensed under\n",
      "the same license as Python itself.\n",
      "\n",
      "<p>The current release of Beautiful Soup 3 is <a\n",
      "href=\"download/3.x/BeautifulSoup-3.2.1.tar.gz\">3.2.1</a> (February 16,\n",
      "2012). You can install Beautiful Soup 3 with <code>pip install\n",
      "BeautifulSoup</code>. It's also available as\n",
      "<code>python-beautifulsoup</code> in Debian and Ubuntu, and as\n",
      "<code>python-BeautifulSoup</code> in Fedora.\n",
      "\n",
      "<p>You can also download the tarball and use\n",
      "<code>BeautifulSoup.py</code> in your project directly.\n",
      "\n",
      "\n",
      "<a name=\"HallOfFame\"><h2>Hall of Fame</h2></a>\n",
      "\n",
      "<p>Over the years, Beautiful Soup has been used in hundreds of\n",
      "different projects. There's no way I can list them all, but I want to\n",
      "highlight a few high-profile projects. Beautiful Soup isn't what makes\n",
      "these projects interesting, but it did make their completion easier:\n",
      "\n",
      "<ul>\n",
      "\n",
      "<li><a\n",
      " href=\"http://www.nytimes.com/2007/10/25/arts/design/25vide.html\">\"Movable\n",
      " Type\"</a>, a work of digital art on display in the lobby of the New\n",
      " York Times building, uses Beautiful Soup to scrape news feeds.\n",
      "\n",
      "<li>Reddit uses Beautiful Soup to <a\n",
      "href=\"https://github.com/reddit/reddit/blob/85f9cff3e2ab9bb8f19b96acd8da4ebacc079f04/r2/r2/lib/media.py\">parse\n",
      "a page that's been linked to and find a representative image</a>.\n",
      "\n",
      "<li>Alexander Harrowell uses Beautiful Soup to <a\n",
      " href=\"http://www.harrowell.org.uk/viktormap.html\">track the business\n",
      " activities</a> of an arms merchant.\n",
      "\n",
      "<li>The developers of Python itself used Beautiful Soup to <a\n",
      "href=\"http://svn.python.org/view/tracker/importer/\">migrate the Python\n",
      "bug tracker from Sourceforge to Roundup</a>.\n",
      "\n",
      "<li>The <a href=\"http://www2.ljworld.com/\">Lawrence Journal-World</a>\n",
      "uses Beautiful Soup to <A\n",
      "href=\"http://www.b-list.org/weblog/2010/nov/02/news-done-broke/\">gather\n",
      "statewide election results</a>.\n",
      "\n",
      "<li>The <a href=\"http://esrl.noaa.gov/gsd/fab/\">NOAA's Forecast\n",
      "Applications Branch</a> uses Beautiful Soup in <a\n",
      "href=\"http://laps.noaa.gov/topograbber/\">TopoGrabber</a>, a script for\n",
      "downloading \"high resolution USGS datasets.\"\n",
      "\n",
      "</ul>\n",
      "\n",
      "<p>If you've used Beautiful Soup in a project you'd like me to know\n",
      "about, please do send email to me or <a\n",
      "href=\"http://groups.google.com/group/beautifulsoup/\">the discussion\n",
      "group</a>.\n",
      "\n",
      "<h2>Development</h2>\n",
      "\n",
      "<p>Development happens at <a\n",
      "href=\"https://launchpad.net/beautifulsoup\">Launchpad</a>. You can <a\n",
      "href=\"https://code.launchpad.net/beautifulsoup/\">get the source\n",
      "code</a> or <a href=\"https://bugs.launchpad.net/beautifulsoup/\">file\n",
      "bugs</a>.<hr><table><tr><td valign=\"top\">\n",
      "<p>This document (<a href=\"/source/software/BeautifulSoup/index.bhtml\">source</a>) is part of Crummy, the webspace of <a href=\"/self/\">Leonard Richardson</a> (<a href=\"/self/contact.html\">contact information</a>). It was last modified on Friday, May 19 2017, 22:10:19 Nowhere Standard Time and last built on Saturday, June 17 2017, 13:00:02 Nowhere Standard Time.</p><p><table class=\"licenseText\"><tr><td><a href=\"http://creativecommons.org/licenses/by-sa/2.0/\"><img border=\"0\" src=\"/nb//resources/img/somerights20.jpg\"></a></td><td valign=\"top\">Crummy is &copy; 1996-2017 Leonard Richardson. Unless otherwise noted, all text licensed under a <a href=\"http://creativecommons.org/licenses/by-sa/2.0/\">Creative Commons License</a>.</td></tr></table></span><!--<rdf:RDF xmlns=\"http://web.resource.org/cc/\" xmlns:dc=\"http://purl.org/dc/elements/1.1/\" xmlns:rdf=\"http://www.w3.org/1999/02/22-rdf-syntax-ns#\"><Work rdf:about=\"http://www.crummy.com/\"><dc:title>Crummy: The Site</dc:title><dc:rights><Agent><dc:title>Crummy: the Site</dc:title></Agent></dc:rights><dc:format>text/html</dc:format><license rdf:resource=http://creativecommons.org/licenses/by-sa/2.0//></Work><License rdf:about=\"http://creativecommons.org/licenses/by-sa/2.0/\"></License></rdf:RDF>--></p></td><td valign=top><p><b>Document tree:</b>\n",
      "<dl><dd><a href=\"http://www.crummy.com/\">http://www.crummy.com/</a><dl><dd><a href=\"http://www.crummy.com/software/\">software/</a><dl><dd><a href=\"http://www.crummy.com/software/BeautifulSoup/\">BeautifulSoup/</a></dl>\n",
      "</dl>\n",
      "</dl>\n",
      "\n",
      "\n",
      "Site Search:\n",
      "\n",
      "<form method=\"get\" action=\"/search/\">\n",
      "        <input type=\"text\" name=\"q\" maxlength=\"255\" value=\"\"></input>\n",
      "        </form>\n",
      "        </td>\n",
      "\n",
      "</tr>\n",
      "\n",
      "</table>\n",
      "</body>\n",
      "</html>\n",
      "\n"
     ]
    }
   ],
   "source": [
    "url = 'http://www.crummy.com/software/BeautifulSoup'\n",
    "source = urllib2.urlopen(url).read()\n",
    "print source"
   ]
  },
  {
   "cell_type": "markdown",
   "metadata": {
    "slideshow": {
     "slide_type": "slide"
    }
   },
   "source": [
    "Quiz :\n",
    "======\n",
    "\n",
    "* Is the word 'Alice' mentioned on the beautiful soup homepage?\n",
    "* How often does the word 'Soup' occur on the site?\n",
    "    - hint: use `.count()`\n",
    "* At what index occurs the substring 'alien video games' ?\n",
    "    - hint: use `.find()`"
   ]
  },
  {
   "cell_type": "code",
   "execution_count": 144,
   "metadata": {
    "slideshow": {
     "slide_type": "slide"
    }
   },
   "outputs": [
    {
     "name": "stdout",
     "output_type": "stream",
     "text": [
      "-1\n",
      "False\n",
      "42\n",
      "1634\n",
      "alien video games</a\n",
      "alien video games\n"
     ]
    }
   ],
   "source": [
    "## is 'Alice' in source?\n",
    "print source.find('Alice')\n",
    "print 'Alice' in source\n",
    "## count occurences of 'Soup'\n",
    "print source.count('Soup')\n",
    "## find index of 'alien video games'\n",
    "position =  source.find('alien video games')\n",
    "print position\n",
    "\n",
    "## quick test to see the substring in the source variable\n",
    "## you can access strings like lists\n",
    "print source[position:position + 20]\n",
    "\n",
    "## or the tidier version:\n",
    "print source[position:position + len('alien video games')]"
   ]
  },
  {
   "cell_type": "markdown",
   "metadata": {
    "slideshow": {
     "slide_type": "slide"
    }
   },
   "source": [
    "Beautiful Soup\n",
    "==============\n",
    "\n",
    "* designed to make your life easier\n",
    "* many good functions for parsing html code"
   ]
  },
  {
   "cell_type": "markdown",
   "metadata": {
    "slideshow": {
     "slide_type": "slide"
    }
   },
   "source": [
    "Some examples\n",
    "=============\n"
   ]
  },
  {
   "cell_type": "code",
   "execution_count": 165,
   "metadata": {},
   "outputs": [
    {
     "name": "stdout",
     "output_type": "stream",
     "text": [
      "<!DOCTYPE HTML PUBLIC \"-//W3C//DTD HTML 4.0 Transitional//EN\" \"http://www.w3.org/TR/REC-html40/transitional.dtd\">\n",
      "<html>\n",
      "<head>\n",
      "<meta content=\"text/html; charset=utf-8\" http-equiv=\"Content-Type\"/>\n",
      "<title>Beautiful Soup: We called him Tortoise because he taught us.</title>\n",
      "<link href=\"mailto:leonardr@segfault.org\" rev=\"made\"/>\n",
      "<link href=\"/nb/themes/Default/nb.css\" rel=\"stylesheet\" type=\"text/css\"/>\n",
      "<meta content=\"Beautiful Soup: a library designed for screen-scraping HTML and XML.\" name=\"Description\"/>\n",
      "<meta content=\"Markov Approximation 1.4 (module: leonardr)\" name=\"generator\"/>\n",
      "<meta content=\"Leonard Richardson\" name=\"author\"/>\n",
      "</head>\n",
      "<body alink=\"red\" bgcolor=\"white\" link=\"blue\" text=\"black\" vlink=\"660066\">\n",
      "<img align=\"right\" src=\"10.1.jpg\" width=\"250\"/><br/>\n",
      "<p>You didn't write that awful page. You're just trying to get some\n",
      "data out of it. Beautiful Soup is here to help. Since 2004, it's been\n",
      "saving programmers hours or days of work on quick-turnaround\n",
      "screen scraping projects.</p>\n",
      "<div align=\"center\">\n",
      "<a href=\"bs4/download/\"><h1>Beautiful Soup</h1></a>\n",
      "<p>\"A tremendous boon.\" -- Python411 Podcast</p>\n",
      "<p>[ <a href=\"#Download\">Download</a> | <a href=\"bs4/doc/\">Documentation</a> | <a href=\"#HallOfFame\">Hall of Fame</a> | <a href=\"https://code.launchpad.net/beautifulsoup\">Source</a> | <a href=\"https://groups.google.com/forum/?fromgroups#!forum/beautifulsoup\">Discussion group</a> ]</p>\n",
      "<small>If Beautiful Soup has saved you a lot of time and money, one way to pay me back is to check out <a href=\"http://www.candlemarkandgleam.com/shop/constellation-games/\"><i>Constellation\n",
      "Games</i>, my sci-fi novel about alien video games</a>.<br/>You can\n",
      "<a href=\"http://constellation.crummy.com/Constellation%20Games%20excerpt.html\">read\n",
      "the first two chapters for free</a>, and the full novel starts at 5\n",
      "USD. Thanks!</small> </div>\n",
      "<p><i>If you have questions, send them to <a href=\"https://groups.google.com/forum/?fromgroups#!forum/beautifulsoup\">the discussion\n",
      "group</a>. If you find a bug, <a href=\"https://bugs.launchpad.net/beautifulsoup/\">file it</a>.</i></p>\n",
      "<p>Beautiful Soup is a Python library designed for quick turnaround\n",
      "projects like screen-scraping. Three features make it powerful:\n",
      "\n",
      "</p><ol>\n",
      "<li>Beautiful Soup provides a few simple methods and Pythonic idioms\n",
      "for navigating, searching, and modifying a parse tree: a toolkit for\n",
      "dissecting a document and extracting what you need. It doesn't take\n",
      "much code to write an application\n",
      "\n",
      "</li><li>Beautiful Soup automatically converts incoming documents to\n",
      "Unicode and outgoing documents to UTF-8. You don't have to think\n",
      "about encodings, unless the document doesn't specify an encoding and\n",
      "Beautiful Soup can't detect one. Then you just have to specify the\n",
      "original encoding.\n",
      "\n",
      "</li><li>Beautiful Soup sits on top of popular Python parsers like <a href=\"http://lxml.de/\">lxml</a> and <a href=\"http://code.google.com/p/html5lib/\">html5lib</a>, allowing you\n",
      "to try out different parsing strategies or trade speed for\n",
      "flexibility.\n",
      "\n",
      "</li></ol>\n",
      "<p>Beautiful Soup parses anything you give it, and does the tree\n",
      "traversal stuff for you. You can tell it \"Find all the links\", or\n",
      "\"Find all the links of class <tt>externalLink</tt>\", or \"Find all the\n",
      "links whose urls match \"foo.com\", or \"Find the table heading that's\n",
      "got bold text, then give me that text.\"\n",
      "\n",
      "</p><p>Valuable data that was once locked up in poorly-designed websites\n",
      "is now within your reach. Projects that would have taken hours take\n",
      "only minutes with Beautiful Soup.\n",
      "\n",
      "</p><p>Interested? <a href=\"bs4/doc/\">Read more.</a>\n",
      "<a name=\"Download\"><h2>Download Beautiful Soup</h2></a>\n",
      "</p><p>The current release is <a href=\"bs4/download/\">Beautiful Soup\n",
      "4.6.0</a> (May 7, 2017). You can install Beautiful Soup 4 with\n",
      "<code>pip install beautifulsoup4</code>.\n",
      "\n",
      "</p><p>In Debian and Ubuntu, Beautiful Soup is available as the\n",
      "<code>python-bs4</code> package (for Python 2) or the\n",
      "<code>python3-bs4</code> package (for Python 3). In Fedora it's\n",
      "available as the <code>python-beautifulsoup4</code> package.\n",
      "\n",
      "</p><p>Beautiful Soup is licensed under the MIT license, so you can also\n",
      "download the tarball, drop the <code>bs4/</code> directory into almost\n",
      "any Python application (or into your library path) and start using it\n",
      "immediately. (If you want to do this under Python 3, you will need to\n",
      "manually convert the code using <code>2to3</code>.)\n",
      "\n",
      "</p><p>Beautiful Soup 4 works on both Python 2 (2.7+) and Python 3.\n",
      "\n",
      "</p><h3>Beautiful Soup 3</h3>\n",
      "<p>Beautiful Soup 3 was the official release line of Beautiful Soup\n",
      "from May 2006 to March 2012. It is considered stable, and only\n",
      "critical security bugs will be fixed. <a href=\"http://www.crummy.com/software/BeautifulSoup/bs3/documentation.html\">Here's\n",
      "the Beautiful Soup 3 documentation.</a>\n",
      "</p><p>Beautiful Soup 3 works only under Python 2.x. It is licensed under\n",
      "the same license as Python itself.\n",
      "\n",
      "</p><p>The current release of Beautiful Soup 3 is <a href=\"download/3.x/BeautifulSoup-3.2.1.tar.gz\">3.2.1</a> (February 16,\n",
      "2012). You can install Beautiful Soup 3 with <code>pip install\n",
      "BeautifulSoup</code>. It's also available as\n",
      "<code>python-beautifulsoup</code> in Debian and Ubuntu, and as\n",
      "<code>python-BeautifulSoup</code> in Fedora.\n",
      "\n",
      "</p><p>You can also download the tarball and use\n",
      "<code>BeautifulSoup.py</code> in your project directly.\n",
      "\n",
      "\n",
      "<a name=\"HallOfFame\"><h2>Hall of Fame</h2></a>\n",
      "</p><p>Over the years, Beautiful Soup has been used in hundreds of\n",
      "different projects. There's no way I can list them all, but I want to\n",
      "highlight a few high-profile projects. Beautiful Soup isn't what makes\n",
      "these projects interesting, but it did make their completion easier:\n",
      "\n",
      "</p><ul>\n",
      "<li><a href=\"http://www.nytimes.com/2007/10/25/arts/design/25vide.html\">\"Movable\n",
      " Type\"</a>, a work of digital art on display in the lobby of the New\n",
      " York Times building, uses Beautiful Soup to scrape news feeds.\n",
      "\n",
      "</li><li>Reddit uses Beautiful Soup to <a href=\"https://github.com/reddit/reddit/blob/85f9cff3e2ab9bb8f19b96acd8da4ebacc079f04/r2/r2/lib/media.py\">parse\n",
      "a page that's been linked to and find a representative image</a>.\n",
      "\n",
      "</li><li>Alexander Harrowell uses Beautiful Soup to <a href=\"http://www.harrowell.org.uk/viktormap.html\">track the business\n",
      " activities</a> of an arms merchant.\n",
      "\n",
      "</li><li>The developers of Python itself used Beautiful Soup to <a href=\"http://svn.python.org/view/tracker/importer/\">migrate the Python\n",
      "bug tracker from Sourceforge to Roundup</a>.\n",
      "\n",
      "</li><li>The <a href=\"http://www2.ljworld.com/\">Lawrence Journal-World</a>\n",
      "uses Beautiful Soup to <a href=\"http://www.b-list.org/weblog/2010/nov/02/news-done-broke/\">gather\n",
      "statewide election results</a>.\n",
      "\n",
      "</li><li>The <a href=\"http://esrl.noaa.gov/gsd/fab/\">NOAA's Forecast\n",
      "Applications Branch</a> uses Beautiful Soup in <a href=\"http://laps.noaa.gov/topograbber/\">TopoGrabber</a>, a script for\n",
      "downloading \"high resolution USGS datasets.\"\n",
      "\n",
      "</li></ul>\n",
      "<p>If you've used Beautiful Soup in a project you'd like me to know\n",
      "about, please do send email to me or <a href=\"http://groups.google.com/group/beautifulsoup/\">the discussion\n",
      "group</a>.\n",
      "\n",
      "</p><h2>Development</h2>\n",
      "<p>Development happens at <a href=\"https://launchpad.net/beautifulsoup\">Launchpad</a>. You can <a href=\"https://code.launchpad.net/beautifulsoup/\">get the source\n",
      "code</a> or <a href=\"https://bugs.launchpad.net/beautifulsoup/\">file\n",
      "bugs</a>.</p><hr/><table><tr><td valign=\"top\">\n",
      "<p>This document (<a href=\"/source/software/BeautifulSoup/index.bhtml\">source</a>) is part of Crummy, the webspace of <a href=\"/self/\">Leonard Richardson</a> (<a href=\"/self/contact.html\">contact information</a>). It was last modified on Friday, May 19 2017, 22:10:19 Nowhere Standard Time and last built on Saturday, June 17 2017, 13:00:02 Nowhere Standard Time.</p><p></p><table class=\"licenseText\"><tr><td><a href=\"http://creativecommons.org/licenses/by-sa/2.0/\"><img border=\"0\" src=\"/nb//resources/img/somerights20.jpg\"/></a></td><td valign=\"top\">Crummy is © 1996-2017 Leonard Richardson. Unless otherwise noted, all text licensed under a <a href=\"http://creativecommons.org/licenses/by-sa/2.0/\">Creative Commons License</a>.</td></tr></table><!--<rdf:RDF xmlns=\"http://web.resource.org/cc/\" xmlns:dc=\"http://purl.org/dc/elements/1.1/\" xmlns:rdf=\"http://www.w3.org/1999/02/22-rdf-syntax-ns#\"><Work rdf:about=\"http://www.crummy.com/\"><dc:title>Crummy: The Site</dc:title><dc:rights><Agent><dc:title>Crummy: the Site</dc:title></Agent></dc:rights><dc:format>text/html</dc:format><license rdf:resource=http://creativecommons.org/licenses/by-sa/2.0//></Work><License rdf:about=\"http://creativecommons.org/licenses/by-sa/2.0/\"></License></rdf:RDF>--></td><td valign=\"top\"><p><b>Document tree:</b>\n",
      "</p><dl><dd><a href=\"http://www.crummy.com/\">http://www.crummy.com/</a><dl><dd><a href=\"http://www.crummy.com/software/\">software/</a><dl><dd><a href=\"http://www.crummy.com/software/BeautifulSoup/\">BeautifulSoup/</a></dd></dl>\n",
      "</dd></dl>\n",
      "</dd></dl>\n",
      "\n",
      "\n",
      "Site Search:\n",
      "\n",
      "<form action=\"/search/\" method=\"get\">\n",
      "<input maxlength=\"255\" name=\"q\" type=\"text\" value=\"\"/>\n",
      "</form>\n",
      "</td>\n",
      "</tr>\n",
      "</table>\n",
      "</body>\n",
      "</html>\n",
      "\n"
     ]
    },
    {
     "data": {
      "text/plain": [
       "[<a href=\"bs4/download/\"><h1>Beautiful Soup</h1></a>,\n",
       " <a href=\"#Download\">Download</a>,\n",
       " <a href=\"bs4/doc/\">Documentation</a>,\n",
       " <a href=\"#HallOfFame\">Hall of Fame</a>,\n",
       " <a href=\"https://code.launchpad.net/beautifulsoup\">Source</a>,\n",
       " <a href=\"https://groups.google.com/forum/?fromgroups#!forum/beautifulsoup\">Discussion group</a>,\n",
       " <a href=\"http://www.candlemarkandgleam.com/shop/constellation-games/\"><i>Constellation\\nGames</i>, my sci-fi novel about alien video games</a>,\n",
       " <a href=\"http://constellation.crummy.com/Constellation%20Games%20excerpt.html\">read\\nthe first two chapters for free</a>,\n",
       " <a href=\"https://groups.google.com/forum/?fromgroups#!forum/beautifulsoup\">the discussion\\ngroup</a>,\n",
       " <a href=\"https://bugs.launchpad.net/beautifulsoup/\">file it</a>,\n",
       " <a href=\"http://lxml.de/\">lxml</a>,\n",
       " <a href=\"http://code.google.com/p/html5lib/\">html5lib</a>,\n",
       " <a href=\"bs4/doc/\">Read more.</a>,\n",
       " <a name=\"Download\"><h2>Download Beautiful Soup</h2></a>,\n",
       " <a href=\"bs4/download/\">Beautiful Soup\\n4.6.0</a>,\n",
       " <a href=\"http://www.crummy.com/software/BeautifulSoup/bs3/documentation.html\">Here's\\nthe Beautiful Soup 3 documentation.</a>,\n",
       " <a href=\"download/3.x/BeautifulSoup-3.2.1.tar.gz\">3.2.1</a>,\n",
       " <a name=\"HallOfFame\"><h2>Hall of Fame</h2></a>,\n",
       " <a href=\"http://www.nytimes.com/2007/10/25/arts/design/25vide.html\">\"Movable\\n Type\"</a>,\n",
       " <a href=\"https://github.com/reddit/reddit/blob/85f9cff3e2ab9bb8f19b96acd8da4ebacc079f04/r2/r2/lib/media.py\">parse\\na page that's been linked to and find a representative image</a>,\n",
       " <a href=\"http://www.harrowell.org.uk/viktormap.html\">track the business\\n activities</a>,\n",
       " <a href=\"http://svn.python.org/view/tracker/importer/\">migrate the Python\\nbug tracker from Sourceforge to Roundup</a>,\n",
       " <a href=\"http://www2.ljworld.com/\">Lawrence Journal-World</a>,\n",
       " <a href=\"http://www.b-list.org/weblog/2010/nov/02/news-done-broke/\">gather\\nstatewide election results</a>,\n",
       " <a href=\"http://esrl.noaa.gov/gsd/fab/\">NOAA's Forecast\\nApplications Branch</a>,\n",
       " <a href=\"http://laps.noaa.gov/topograbber/\">TopoGrabber</a>,\n",
       " <a href=\"http://groups.google.com/group/beautifulsoup/\">the discussion\\ngroup</a>,\n",
       " <a href=\"https://launchpad.net/beautifulsoup\">Launchpad</a>,\n",
       " <a href=\"https://code.launchpad.net/beautifulsoup/\">get the source\\ncode</a>,\n",
       " <a href=\"https://bugs.launchpad.net/beautifulsoup/\">file\\nbugs</a>,\n",
       " <a href=\"/source/software/BeautifulSoup/index.bhtml\">source</a>,\n",
       " <a href=\"/self/\">Leonard Richardson</a>,\n",
       " <a href=\"/self/contact.html\">contact information</a>,\n",
       " <a href=\"http://creativecommons.org/licenses/by-sa/2.0/\"><img border=\"0\" src=\"/nb//resources/img/somerights20.jpg\"/></a>,\n",
       " <a href=\"http://creativecommons.org/licenses/by-sa/2.0/\">Creative Commons License</a>,\n",
       " <a href=\"http://www.crummy.com/\">http://www.crummy.com/</a>,\n",
       " <a href=\"http://www.crummy.com/software/\">software/</a>,\n",
       " <a href=\"http://www.crummy.com/software/BeautifulSoup/\">BeautifulSoup/</a>]"
      ]
     },
     "execution_count": 165,
     "metadata": {},
     "output_type": "execute_result"
    }
   ],
   "source": [
    "## get bs4 object\n",
    "soup = bs4.BeautifulSoup(source)\n",
    " \n",
    "## compare the two print statements\n",
    "print soup\n",
    "#print soup.prettify()\n",
    "\n",
    "## show how to find all a tags\n",
    "soup.findAll('a')\n",
    "\n",
    "## ***Why does this not work? ***\n",
    "#print soup.findAll('Soup')\n",
    "#The last command only returns an empty list, because Soup is not an HTML tag. \n",
    "#It is just a string that occours in the webpage."
   ]
  },
  {
   "cell_type": "markdown",
   "metadata": {
    "slideshow": {
     "slide_type": "slide"
    }
   },
   "source": [
    "Some examples\n",
    "============="
   ]
  },
  {
   "cell_type": "code",
   "execution_count": 155,
   "metadata": {},
   "outputs": [
    {
     "name": "stdout",
     "output_type": "stream",
     "text": [
      "<a href=\"bs4/download/\"><h1>Beautiful Soup</h1></a>\n",
      "\n",
      "bs4/download/\n",
      "\n"
     ]
    },
    {
     "data": {
      "text/plain": [
       "['bs4/download/',\n",
       " '#Download',\n",
       " 'bs4/doc/',\n",
       " '#HallOfFame',\n",
       " 'https://code.launchpad.net/beautifulsoup',\n",
       " 'https://groups.google.com/forum/?fromgroups#!forum/beautifulsoup',\n",
       " 'http://www.candlemarkandgleam.com/shop/constellation-games/',\n",
       " 'http://constellation.crummy.com/Constellation%20Games%20excerpt.html',\n",
       " 'https://groups.google.com/forum/?fromgroups#!forum/beautifulsoup',\n",
       " 'https://bugs.launchpad.net/beautifulsoup/',\n",
       " 'http://lxml.de/',\n",
       " 'http://code.google.com/p/html5lib/',\n",
       " 'bs4/doc/',\n",
       " None,\n",
       " 'bs4/download/',\n",
       " 'http://www.crummy.com/software/BeautifulSoup/bs3/documentation.html',\n",
       " 'download/3.x/BeautifulSoup-3.2.1.tar.gz',\n",
       " None,\n",
       " 'http://www.nytimes.com/2007/10/25/arts/design/25vide.html',\n",
       " 'https://github.com/reddit/reddit/blob/85f9cff3e2ab9bb8f19b96acd8da4ebacc079f04/r2/r2/lib/media.py',\n",
       " 'http://www.harrowell.org.uk/viktormap.html',\n",
       " 'http://svn.python.org/view/tracker/importer/',\n",
       " 'http://www2.ljworld.com/',\n",
       " 'http://www.b-list.org/weblog/2010/nov/02/news-done-broke/',\n",
       " 'http://esrl.noaa.gov/gsd/fab/',\n",
       " 'http://laps.noaa.gov/topograbber/',\n",
       " 'http://groups.google.com/group/beautifulsoup/',\n",
       " 'https://launchpad.net/beautifulsoup',\n",
       " 'https://code.launchpad.net/beautifulsoup/',\n",
       " 'https://bugs.launchpad.net/beautifulsoup/',\n",
       " '/source/software/BeautifulSoup/index.bhtml',\n",
       " '/self/',\n",
       " '/self/contact.html',\n",
       " 'http://creativecommons.org/licenses/by-sa/2.0/',\n",
       " 'http://creativecommons.org/licenses/by-sa/2.0/',\n",
       " 'http://www.crummy.com/',\n",
       " 'http://www.crummy.com/software/',\n",
       " 'http://www.crummy.com/software/BeautifulSoup/']"
      ]
     },
     "execution_count": 155,
     "metadata": {},
     "output_type": "execute_result"
    }
   ],
   "source": [
    "## get attribute value from an element:\n",
    "## find tag: this only returns the first occurrence, not all tags in the string\n",
    "first_tag = soup.find('a')\n",
    "print first_tag\n",
    "print\n",
    "## get attribute `href`\n",
    "print first_tag.get('href')\n",
    "print\n",
    "\n",
    "## get all links in the page\n",
    "link_list = [l.get('href') for l in soup.findAll('a')]\n",
    "link_list"
   ]
  },
  {
   "cell_type": "code",
   "execution_count": 159,
   "metadata": {
    "slideshow": {
     "slide_type": "slide"
    }
   },
   "outputs": [
    {
     "ename": "TypeError",
     "evalue": "'NoneType' object has no attribute '__getitem__'",
     "output_type": "error",
     "traceback": [
      "\u001b[0;31m---------------------------------------------------------------------------\u001b[0m",
      "\u001b[0;31mTypeError\u001b[0m                                 Traceback (most recent call last)",
      "\u001b[0;32m<ipython-input-159-db28b6c7151c>\u001b[0m in \u001b[0;36m<module>\u001b[0;34m()\u001b[0m\n\u001b[1;32m      6\u001b[0m \u001b[0;31m# if it starts with 'http' we are happy\u001b[0m\u001b[0;34m\u001b[0m\u001b[0;34m\u001b[0m\u001b[0m\n\u001b[1;32m      7\u001b[0m \u001b[0;32mfor\u001b[0m \u001b[0ml\u001b[0m \u001b[0;32min\u001b[0m \u001b[0mlink_list\u001b[0m\u001b[0;34m:\u001b[0m\u001b[0;34m\u001b[0m\u001b[0m\n\u001b[0;32m----> 8\u001b[0;31m     \u001b[0;32mif\u001b[0m \u001b[0ml\u001b[0m\u001b[0;34m[\u001b[0m\u001b[0;34m:\u001b[0m\u001b[0;36m4\u001b[0m\u001b[0;34m]\u001b[0m \u001b[0;34m==\u001b[0m \u001b[0;34m'http'\u001b[0m\u001b[0;34m:\u001b[0m\u001b[0;34m\u001b[0m\u001b[0m\n\u001b[0m\u001b[1;32m      9\u001b[0m         \u001b[0mexternal_links\u001b[0m\u001b[0;34m.\u001b[0m\u001b[0mappend\u001b[0m\u001b[0;34m(\u001b[0m\u001b[0ml\u001b[0m\u001b[0;34m)\u001b[0m\u001b[0;34m\u001b[0m\u001b[0m\n\u001b[1;32m     10\u001b[0m \u001b[0;34m\u001b[0m\u001b[0m\n",
      "\u001b[0;31mTypeError\u001b[0m: 'NoneType' object has no attribute '__getitem__'"
     ]
    }
   ],
   "source": [
    "## filter all external links\n",
    "# create an empty list to collect the valid links\n",
    "external_links = []\n",
    "\n",
    "# write a loop to filter the links\n",
    "# if it starts with 'http' we are happy\n",
    "for l in link_list:\n",
    "    if l[:4] == 'http':\n",
    "        external_links.append(l)\n",
    "\n",
    "# this throws an error! It says something about 'NoneType'"
   ]
  },
  {
   "cell_type": "code",
   "execution_count": 160,
   "metadata": {
    "slideshow": {
     "slide_type": "slide"
    }
   },
   "outputs": [
    {
     "data": {
      "text/plain": [
       "['bs4/download/',\n",
       " '#Download',\n",
       " 'bs4/doc/',\n",
       " '#HallOfFame',\n",
       " 'https://code.launchpad.net/beautifulsoup',\n",
       " 'https://groups.google.com/forum/?fromgroups#!forum/beautifulsoup',\n",
       " 'http://www.candlemarkandgleam.com/shop/constellation-games/',\n",
       " 'http://constellation.crummy.com/Constellation%20Games%20excerpt.html',\n",
       " 'https://groups.google.com/forum/?fromgroups#!forum/beautifulsoup',\n",
       " 'https://bugs.launchpad.net/beautifulsoup/',\n",
       " 'http://lxml.de/',\n",
       " 'http://code.google.com/p/html5lib/',\n",
       " 'bs4/doc/',\n",
       " None,\n",
       " 'bs4/download/',\n",
       " 'http://www.crummy.com/software/BeautifulSoup/bs3/documentation.html',\n",
       " 'download/3.x/BeautifulSoup-3.2.1.tar.gz',\n",
       " None,\n",
       " 'http://www.nytimes.com/2007/10/25/arts/design/25vide.html',\n",
       " 'https://github.com/reddit/reddit/blob/85f9cff3e2ab9bb8f19b96acd8da4ebacc079f04/r2/r2/lib/media.py',\n",
       " 'http://www.harrowell.org.uk/viktormap.html',\n",
       " 'http://svn.python.org/view/tracker/importer/',\n",
       " 'http://www2.ljworld.com/',\n",
       " 'http://www.b-list.org/weblog/2010/nov/02/news-done-broke/',\n",
       " 'http://esrl.noaa.gov/gsd/fab/',\n",
       " 'http://laps.noaa.gov/topograbber/',\n",
       " 'http://groups.google.com/group/beautifulsoup/',\n",
       " 'https://launchpad.net/beautifulsoup',\n",
       " 'https://code.launchpad.net/beautifulsoup/',\n",
       " 'https://bugs.launchpad.net/beautifulsoup/',\n",
       " '/source/software/BeautifulSoup/index.bhtml',\n",
       " '/self/',\n",
       " '/self/contact.html',\n",
       " 'http://creativecommons.org/licenses/by-sa/2.0/',\n",
       " 'http://creativecommons.org/licenses/by-sa/2.0/',\n",
       " 'http://www.crummy.com/',\n",
       " 'http://www.crummy.com/software/',\n",
       " 'http://www.crummy.com/software/BeautifulSoup/']"
      ]
     },
     "execution_count": 160,
     "metadata": {},
     "output_type": "execute_result"
    }
   ],
   "source": [
    "# lets investigate. Have a close look at the link_list:\n",
    "link_list\n",
    "\n",
    "# Seems that there are None elements!\n",
    "# Let's verify\n",
    "#print sum([l is None for l in link_list])\n",
    "\n",
    "# So there are two elements in the list that are None!"
   ]
  },
  {
   "cell_type": "code",
   "execution_count": 156,
   "metadata": {
    "slideshow": {
     "slide_type": "slide"
    }
   },
   "outputs": [
    {
     "data": {
      "text/plain": [
       "['https://code.launchpad.net/beautifulsoup',\n",
       " 'https://groups.google.com/forum/?fromgroups#!forum/beautifulsoup',\n",
       " 'http://www.candlemarkandgleam.com/shop/constellation-games/',\n",
       " 'http://constellation.crummy.com/Constellation%20Games%20excerpt.html',\n",
       " 'https://groups.google.com/forum/?fromgroups#!forum/beautifulsoup',\n",
       " 'https://bugs.launchpad.net/beautifulsoup/',\n",
       " 'http://lxml.de/',\n",
       " 'http://code.google.com/p/html5lib/',\n",
       " 'http://www.crummy.com/software/BeautifulSoup/bs3/documentation.html',\n",
       " 'http://www.nytimes.com/2007/10/25/arts/design/25vide.html',\n",
       " 'https://github.com/reddit/reddit/blob/85f9cff3e2ab9bb8f19b96acd8da4ebacc079f04/r2/r2/lib/media.py',\n",
       " 'http://www.harrowell.org.uk/viktormap.html',\n",
       " 'http://svn.python.org/view/tracker/importer/',\n",
       " 'http://www2.ljworld.com/',\n",
       " 'http://www.b-list.org/weblog/2010/nov/02/news-done-broke/',\n",
       " 'http://esrl.noaa.gov/gsd/fab/',\n",
       " 'http://laps.noaa.gov/topograbber/',\n",
       " 'http://groups.google.com/group/beautifulsoup/',\n",
       " 'https://launchpad.net/beautifulsoup',\n",
       " 'https://code.launchpad.net/beautifulsoup/',\n",
       " 'https://bugs.launchpad.net/beautifulsoup/',\n",
       " 'http://creativecommons.org/licenses/by-sa/2.0/',\n",
       " 'http://creativecommons.org/licenses/by-sa/2.0/',\n",
       " 'http://www.crummy.com/',\n",
       " 'http://www.crummy.com/software/',\n",
       " 'http://www.crummy.com/software/BeautifulSoup/']"
      ]
     },
     "execution_count": 156,
     "metadata": {},
     "output_type": "execute_result"
    }
   ],
   "source": [
    "# Let's filter those objects out in the for loop\n",
    "external_links = []\n",
    "\n",
    "# write a loop to filter the links\n",
    "# if it is not None and starts with 'http' we are happy\n",
    "for l in link_list:\n",
    "    if l is not None and l[:4] == 'http':\n",
    "        external_links.append(l)\n",
    "        \n",
    "external_links"
   ]
  },
  {
   "cell_type": "markdown",
   "metadata": {
    "slideshow": {
     "slide_type": "skip"
    }
   },
   "source": [
    "Note: The above `if` condition works because of lazy evaluation in Python. The `and` statement becomes `False` if the first part is `False`, so there is no need to ever evaluate the second part. Thus a `None` entry in the list gets never asked about its first four characters. "
   ]
  },
  {
   "cell_type": "code",
   "execution_count": 161,
   "metadata": {
    "slideshow": {
     "slide_type": "slide"
    }
   },
   "outputs": [
    {
     "data": {
      "text/plain": [
       "['https://code.launchpad.net/beautifulsoup',\n",
       " 'https://groups.google.com/forum/?fromgroups#!forum/beautifulsoup',\n",
       " 'http://www.candlemarkandgleam.com/shop/constellation-games/',\n",
       " 'http://constellation.crummy.com/Constellation%20Games%20excerpt.html',\n",
       " 'https://groups.google.com/forum/?fromgroups#!forum/beautifulsoup',\n",
       " 'https://bugs.launchpad.net/beautifulsoup/',\n",
       " 'http://lxml.de/',\n",
       " 'http://code.google.com/p/html5lib/',\n",
       " 'http://www.crummy.com/software/BeautifulSoup/bs3/documentation.html',\n",
       " 'http://www.nytimes.com/2007/10/25/arts/design/25vide.html',\n",
       " 'https://github.com/reddit/reddit/blob/85f9cff3e2ab9bb8f19b96acd8da4ebacc079f04/r2/r2/lib/media.py',\n",
       " 'http://www.harrowell.org.uk/viktormap.html',\n",
       " 'http://svn.python.org/view/tracker/importer/',\n",
       " 'http://www2.ljworld.com/',\n",
       " 'http://www.b-list.org/weblog/2010/nov/02/news-done-broke/',\n",
       " 'http://esrl.noaa.gov/gsd/fab/',\n",
       " 'http://laps.noaa.gov/topograbber/',\n",
       " 'http://groups.google.com/group/beautifulsoup/',\n",
       " 'https://launchpad.net/beautifulsoup',\n",
       " 'https://code.launchpad.net/beautifulsoup/',\n",
       " 'https://bugs.launchpad.net/beautifulsoup/',\n",
       " 'http://creativecommons.org/licenses/by-sa/2.0/',\n",
       " 'http://creativecommons.org/licenses/by-sa/2.0/',\n",
       " 'http://www.crummy.com/',\n",
       " 'http://www.crummy.com/software/',\n",
       " 'http://www.crummy.com/software/BeautifulSoup/']"
      ]
     },
     "execution_count": 161,
     "metadata": {},
     "output_type": "execute_result"
    }
   ],
   "source": [
    "# and we can put this in a list comprehension as well, it almost reads like \n",
    "# a sentence.\n",
    "\n",
    "[l for l in link_list if l is not None and l.startswith('http')]"
   ]
  },
  {
   "cell_type": "markdown",
   "metadata": {
    "slideshow": {
     "slide_type": "slide"
    }
   },
   "source": [
    "Parsing the Tree\n",
    "================\n",
    "\n"
   ]
  },
  {
   "cell_type": "code",
   "execution_count": 163,
   "metadata": {},
   "outputs": [
    {
     "name": "stdout",
     "output_type": "stream",
     "text": [
      "<html><head><title>This is a title</title></head><body><h3> Test </h3><p>Hello world!</p></body></html>\n",
      "\n",
      "<head><title>This is a title</title></head>\n",
      "\n",
      "<body><h3> Test </h3><p>Hello world!</p></body>\n"
     ]
    },
    {
     "data": {
      "text/plain": [
       "<body><h3> Test </h3><p>Hello world!</p></body>"
      ]
     },
     "execution_count": 163,
     "metadata": {},
     "output_type": "execute_result"
    }
   ],
   "source": [
    "# redifining `s` without any line breaks\n",
    "s = \"\"\"<!DOCTYPE html><html><head><title>This is a title</title></head><body><h3> Test </h3><p>Hello world!</p></body></html>\"\"\"\n",
    "## get bs4 object\n",
    "tree = bs4.BeautifulSoup(s)\n",
    "\n",
    "## get html root node\n",
    "root_node = tree.html\n",
    "print root_node\n",
    "print\n",
    "## get head from root using contents\n",
    "head = root_node.contents[0]\n",
    "print head\n",
    "print\n",
    "## get body from root\n",
    "body = root_node.contents[1]\n",
    "print body\n",
    "## could directly access body\n",
    "tree.body"
   ]
  },
  {
   "cell_type": "markdown",
   "metadata": {
    "slideshow": {
     "slide_type": "slide"
    }
   },
   "source": [
    "Quiz:\n",
    "=====\n",
    "\n",
    "* Find the `h3` tag by parsing the tree starting at `body`\n",
    "* Create a list of all __Hall of Fame__ entries listed on the Beautiful Soup webpage\n",
    "    - hint: it is the only unordered list in the page (tag `ul`)\n"
   ]
  },
  {
   "cell_type": "code",
   "execution_count": 164,
   "metadata": {
    "slideshow": {
     "slide_type": "slide"
    }
   },
   "outputs": [
    {
     "name": "stdout",
     "output_type": "stream",
     "text": [
      "<h3> Test </h3>\n"
     ]
    }
   ],
   "source": [
    "## get h3 tag from body\n",
    "body.contents[0]\n",
    "print body.contents[0]"
   ]
  },
  {
   "cell_type": "code",
   "execution_count": 186,
   "metadata": {
    "slideshow": {
     "slide_type": "slide"
    }
   },
   "outputs": [
    {
     "name": "stdout",
     "output_type": "stream",
     "text": [
      "<ul>\n",
      "<li><a href=\"http://www.nytimes.com/2007/10/25/arts/design/25vide.html\">\"Movable\n",
      " Type\"</a>, a work of digital art on display in the lobby of the New\n",
      " York Times building, uses Beautiful Soup to scrape news feeds.\n",
      "\n",
      "</li><li>Reddit uses Beautiful Soup to <a href=\"https://github.com/reddit/reddit/blob/85f9cff3e2ab9bb8f19b96acd8da4ebacc079f04/r2/r2/lib/media.py\">parse\n",
      "a page that's been linked to and find a representative image</a>.\n",
      "\n",
      "</li><li>Alexander Harrowell uses Beautiful Soup to <a href=\"http://www.harrowell.org.uk/viktormap.html\">track the business\n",
      " activities</a> of an arms merchant.\n",
      "\n",
      "</li><li>The developers of Python itself used Beautiful Soup to <a href=\"http://svn.python.org/view/tracker/importer/\">migrate the Python\n",
      "bug tracker from Sourceforge to Roundup</a>.\n",
      "\n",
      "</li><li>The <a href=\"http://www2.ljworld.com/\">Lawrence Journal-World</a>\n",
      "uses Beautiful Soup to <a href=\"http://www.b-list.org/weblog/2010/nov/02/news-done-broke/\">gather\n",
      "statewide election results</a>.\n",
      "\n",
      "</li><li>The <a href=\"http://esrl.noaa.gov/gsd/fab/\">NOAA's Forecast\n",
      "Applications Branch</a> uses Beautiful Soup in <a href=\"http://laps.noaa.gov/topograbber/\">TopoGrabber</a>, a script for\n",
      "downloading \"high resolution USGS datasets.\"\n",
      "\n",
      "</li></ul>\n",
      "-----------\n",
      "\n",
      "\n",
      "-----------\n",
      "<li><a href=\"http://www.nytimes.com/2007/10/25/arts/design/25vide.html\">\"Movable\n",
      " Type\"</a>, a work of digital art on display in the lobby of the New\n",
      " York Times building, uses Beautiful Soup to scrape news feeds.\n",
      "\n",
      "</li>\n",
      "-----------\n",
      "---------\n",
      "[<a href=\"http://www.nytimes.com/2007/10/25/arts/design/25vide.html\">\"Movable\\n Type\"</a>, u', a work of digital art on display in the lobby of the New\\n York Times building, uses Beautiful Soup to scrape news feeds.\\n\\n']\n",
      "-----------\n",
      "[u'Reddit uses Beautiful Soup to ', <a href=\"https://github.com/reddit/reddit/blob/85f9cff3e2ab9bb8f19b96acd8da4ebacc079f04/r2/r2/lib/media.py\">parse\\na page that's been linked to and find a representative image</a>, u'.\\n\\n']\n",
      "-----------\n",
      "[u'Alexander Harrowell uses Beautiful Soup to ', <a href=\"http://www.harrowell.org.uk/viktormap.html\">track the business\\n activities</a>, u' of an arms merchant.\\n\\n']\n",
      "-----------\n",
      "[u'The developers of Python itself used Beautiful Soup to ', <a href=\"http://svn.python.org/view/tracker/importer/\">migrate the Python\\nbug tracker from Sourceforge to Roundup</a>, u'.\\n\\n']\n",
      "-----------\n",
      "[u'The ', <a href=\"http://www2.ljworld.com/\">Lawrence Journal-World</a>, u'\\nuses Beautiful Soup to ', <a href=\"http://www.b-list.org/weblog/2010/nov/02/news-done-broke/\">gather\\nstatewide election results</a>, u'.\\n\\n']\n",
      "-----------\n",
      "[u'The ', <a href=\"http://esrl.noaa.gov/gsd/fab/\">NOAA's Forecast\\nApplications Branch</a>, u' uses Beautiful Soup in ', <a href=\"http://laps.noaa.gov/topograbber/\">TopoGrabber</a>, u', a script for\\ndownloading \"high resolution USGS datasets.\"\\n\\n']\n",
      "-----------\n",
      "[[<a href=\"http://www.nytimes.com/2007/10/25/arts/design/25vide.html\">\"Movable\\n Type\"</a>, u', a work of digital art on display in the lobby of the New\\n York Times building, uses Beautiful Soup to scrape news feeds.\\n\\n'], [u'Reddit uses Beautiful Soup to ', <a href=\"https://github.com/reddit/reddit/blob/85f9cff3e2ab9bb8f19b96acd8da4ebacc079f04/r2/r2/lib/media.py\">parse\\na page that's been linked to and find a representative image</a>, u'.\\n\\n'], [u'Alexander Harrowell uses Beautiful Soup to ', <a href=\"http://www.harrowell.org.uk/viktormap.html\">track the business\\n activities</a>, u' of an arms merchant.\\n\\n'], [u'The developers of Python itself used Beautiful Soup to ', <a href=\"http://svn.python.org/view/tracker/importer/\">migrate the Python\\nbug tracker from Sourceforge to Roundup</a>, u'.\\n\\n'], [u'The ', <a href=\"http://www2.ljworld.com/\">Lawrence Journal-World</a>, u'\\nuses Beautiful Soup to ', <a href=\"http://www.b-list.org/weblog/2010/nov/02/news-done-broke/\">gather\\nstatewide election results</a>, u'.\\n\\n'], [u'The ', <a href=\"http://esrl.noaa.gov/gsd/fab/\">NOAA's Forecast\\nApplications Branch</a>, u' uses Beautiful Soup in ', <a href=\"http://laps.noaa.gov/topograbber/\">TopoGrabber</a>, u', a script for\\ndownloading \"high resolution USGS datasets.\"\\n\\n']]\n"
     ]
    }
   ],
   "source": [
    "## use ul as entry point\n",
    "entry_point = soup.find('ul')\n",
    "#\n",
    "print entry_point \n",
    "print '-----------'\n",
    "#<ul>....</ul>\n",
    "## get hall of fame list from entry point\n",
    "## skip the first entry,\n",
    "#since first entry is none\n",
    "hall_of_fame_list = entry_point.contents[1:]\n",
    "print entry_point.contents[0]\n",
    "print '-----------'\n",
    "print hall_of_fame_list[0]\n",
    "print '-----------'\n",
    "print '---------'\n",
    "## reformat into a list containing strings\n",
    "## it is ok to have a list of lists\n",
    "tmp = []\n",
    "for li in hall_of_fame_list:\n",
    "    tmp.append(li.contents)\n",
    "    print li.contents\n",
    "    print '-----------'\n",
    "print tmp"
   ]
  },
  {
   "cell_type": "markdown",
   "metadata": {
    "slideshow": {
     "slide_type": "slide"
    }
   },
   "source": [
    "`tmp` now is actually a list of lists containing the hall of fame entries. \n",
    "Here is some advanced Python on how to print really just one entry per list item.\n",
    "\n",
    "The cool things about this are: \n",
    "* The use of `\"\"` to just access the `join` function of strings.\n",
    "* The `join` function itself\n",
    "* that you can actually have two nested for loops in a list comprehension"
   ]
  },
  {
   "cell_type": "code",
   "execution_count": 183,
   "metadata": {
    "slideshow": {
     "slide_type": "-"
    }
   },
   "outputs": [
    {
     "name": "stdout",
     "output_type": "stream",
     "text": [
      "a-b-c\n",
      "sublist1 sublist2\n",
      "----------\n",
      "+++\n",
      "[<a href=\"http://www.nytimes.com/2007/10/25/arts/design/25vide.html\">\"Movable\\n Type\"</a>, u', a work of digital art on display in the lobby of the New\\n York Times building, uses Beautiful Soup to scrape news feeds.\\n\\n']\n",
      "+++\n",
      "===\n",
      "<a href=\"http://www.nytimes.com/2007/10/25/arts/design/25vide.html\">\"Movable\n",
      " Type\"</a>\n",
      "===\n",
      "===\n",
      ", a work of digital art on display in the lobby of the New\n",
      " York Times building, uses Beautiful Soup to scrape news feeds.\n",
      "\n",
      "\n",
      "===\n",
      "+++\n",
      "[u'Reddit uses Beautiful Soup to ', <a href=\"https://github.com/reddit/reddit/blob/85f9cff3e2ab9bb8f19b96acd8da4ebacc079f04/r2/r2/lib/media.py\">parse\\na page that's been linked to and find a representative image</a>, u'.\\n\\n']\n",
      "+++\n",
      "===\n",
      "Reddit uses Beautiful Soup to \n",
      "===\n",
      "===\n",
      "<a href=\"https://github.com/reddit/reddit/blob/85f9cff3e2ab9bb8f19b96acd8da4ebacc079f04/r2/r2/lib/media.py\">parse\n",
      "a page that's been linked to and find a representative image</a>\n",
      "===\n",
      "===\n",
      ".\n",
      "\n",
      "\n",
      "===\n",
      "+++\n",
      "[u'Alexander Harrowell uses Beautiful Soup to ', <a href=\"http://www.harrowell.org.uk/viktormap.html\">track the business\\n activities</a>, u' of an arms merchant.\\n\\n']\n",
      "+++\n",
      "===\n",
      "Alexander Harrowell uses Beautiful Soup to \n",
      "===\n",
      "===\n",
      "<a href=\"http://www.harrowell.org.uk/viktormap.html\">track the business\n",
      " activities</a>\n",
      "===\n",
      "===\n",
      " of an arms merchant.\n",
      "\n",
      "\n",
      "===\n",
      "+++\n",
      "[u'The developers of Python itself used Beautiful Soup to ', <a href=\"http://svn.python.org/view/tracker/importer/\">migrate the Python\\nbug tracker from Sourceforge to Roundup</a>, u'.\\n\\n']\n",
      "+++\n",
      "===\n",
      "The developers of Python itself used Beautiful Soup to \n",
      "===\n",
      "===\n",
      "<a href=\"http://svn.python.org/view/tracker/importer/\">migrate the Python\n",
      "bug tracker from Sourceforge to Roundup</a>\n",
      "===\n",
      "===\n",
      ".\n",
      "\n",
      "\n",
      "===\n",
      "+++\n",
      "[u'The ', <a href=\"http://www2.ljworld.com/\">Lawrence Journal-World</a>, u'\\nuses Beautiful Soup to ', <a href=\"http://www.b-list.org/weblog/2010/nov/02/news-done-broke/\">gather\\nstatewide election results</a>, u'.\\n\\n']\n",
      "+++\n",
      "===\n",
      "The \n",
      "===\n",
      "===\n",
      "<a href=\"http://www2.ljworld.com/\">Lawrence Journal-World</a>\n",
      "===\n",
      "===\n",
      "\n",
      "uses Beautiful Soup to \n",
      "===\n",
      "===\n",
      "<a href=\"http://www.b-list.org/weblog/2010/nov/02/news-done-broke/\">gather\n",
      "statewide election results</a>\n",
      "===\n",
      "===\n",
      ".\n",
      "\n",
      "\n",
      "===\n",
      "+++\n",
      "[u'The ', <a href=\"http://esrl.noaa.gov/gsd/fab/\">NOAA's Forecast\\nApplications Branch</a>, u' uses Beautiful Soup in ', <a href=\"http://laps.noaa.gov/topograbber/\">TopoGrabber</a>, u', a script for\\ndownloading \"high resolution USGS datasets.\"\\n\\n']\n",
      "+++\n",
      "===\n",
      "The \n",
      "===\n",
      "===\n",
      "<a href=\"http://esrl.noaa.gov/gsd/fab/\">NOAA's Forecast\n",
      "Applications Branch</a>\n",
      "===\n",
      "===\n",
      " uses Beautiful Soup in \n",
      "===\n",
      "===\n",
      "<a href=\"http://laps.noaa.gov/topograbber/\">TopoGrabber</a>\n",
      "===\n",
      "===\n",
      ", a script for\n",
      "downloading \"high resolution USGS datasets.\"\n",
      "\n",
      "\n",
      "===\n",
      "--------\n",
      "<a href=\"http://www.nytimes.com/2007/10/25/arts/design/25vide.html\">\"Movable\n",
      " Type\"</a>, a work of digital art on display in the lobby of the New\n",
      " York Times building, uses Beautiful Soup to scrape news feeds.\n",
      "\n",
      "\n",
      "Reddit uses Beautiful Soup to <a href=\"https://github.com/reddit/reddit/blob/85f9cff3e2ab9bb8f19b96acd8da4ebacc079f04/r2/r2/lib/media.py\">parse\n",
      "a page that's been linked to and find a representative image</a>.\n",
      "\n",
      "\n",
      "Alexander Harrowell uses Beautiful Soup to <a href=\"http://www.harrowell.org.uk/viktormap.html\">track the business\n",
      " activities</a> of an arms merchant.\n",
      "\n",
      "\n",
      "The developers of Python itself used Beautiful Soup to <a href=\"http://svn.python.org/view/tracker/importer/\">migrate the Python\n",
      "bug tracker from Sourceforge to Roundup</a>.\n",
      "\n",
      "\n",
      "The <a href=\"http://www2.ljworld.com/\">Lawrence Journal-World</a>\n",
      "uses Beautiful Soup to <a href=\"http://www.b-list.org/weblog/2010/nov/02/news-done-broke/\">gather\n",
      "statewide election results</a>.\n",
      "\n",
      "\n",
      "The <a href=\"http://esrl.noaa.gov/gsd/fab/\">NOAA's Forecast\n",
      "Applications Branch</a> uses Beautiful Soup in <a href=\"http://laps.noaa.gov/topograbber/\">TopoGrabber</a>, a script for\n",
      "downloading \"high resolution USGS datasets.\"\n",
      "\n",
      "\n"
     ]
    }
   ],
   "source": [
    "s = \"-\";\n",
    "seq = (\"a\", \"b\", \"c\"); # This is sequence of strings.\n",
    "print s.join( seq )\n",
    "#a-b-c\n",
    "print \" \".join(str(a) for a in ['sublist1','sublist2'])\n",
    "print '----------'\n",
    "for sublist in tmp:\n",
    "    print '+++'\n",
    "    print sublist\n",
    "    print '+++'\n",
    "    for a in sublist:\n",
    "        print '==='\n",
    "        print a\n",
    "        print '==='\n",
    "print '--------'\n",
    "test =  [\"\".join(str(a) for a in sublist) for sublist in tmp]\n",
    "print '\\n'.join(test)"
   ]
  },
  {
   "cell_type": "markdown",
   "metadata": {
    "slideshow": {
     "slide_type": "slide"
    }
   },
   "source": [
    "Advanced Example\n",
    "===============\n",
    "\n",
    "Idea by [Jesse Steinweg-Woods](https://jessesw.com/Data-Science-Skills/)\n",
    "--------------------------------------------------------------------------------"
   ]
  },
  {
   "cell_type": "markdown",
   "metadata": {
    "slideshow": {
     "slide_type": "slide"
    }
   },
   "source": [
    "Scraping data science skills\n",
    "=============================\n",
    "\n",
    "- What skills are in demand for data scientists?\n",
    "- Should we have a lecture on Spark or only on MapReduce?\n",
    "\n",
    "We want to scrape the information from job advertisements for data scientists from indeed.com\n",
    "Let's scrape and find out!"
   ]
  },
  {
   "cell_type": "code",
   "execution_count": 193,
   "metadata": {
    "slideshow": {
     "slide_type": "slide"
    }
   },
   "outputs": [
    {
     "name": "stdout",
     "output_type": "stream",
     "text": [
      "<!DOCTYPE html>\n",
      "<html lang=\"en\">\n",
      "<head>\n",
      "<meta content=\"text/html;charset=utf-8\" http-equiv=\"content-type\"/>\n",
      "<!-- pll --><script src=\"/s/b163a41/en_US.js\" type=\"text/javascript\"></script>\n",
      "<link href=\"/s/bd40840/jobsearch_all.css\" rel=\"stylesheet\" type=\"text/css\"/>\n",
      "<link href=\"http://rss.indeed.com/rss?q=data+scientist\" rel=\"alternate\" title=\"Data Scientist Jobs, Employment\" type=\"application/rss+xml\"/>\n",
      "<link href=\"/m/jobs?q=data+scientist\" media=\"only screen and (max-width: 640px)\" rel=\"alternate\"/>\n",
      "<link href=\"/m/jobs?q=data+scientist\" media=\"handheld\" rel=\"alternate\"/>\n",
      "<script type=\"text/javascript\">\n",
      "    \n",
      "    if (typeof window['closureReadyCallbacks'] == 'undefined') {\n",
      "        window['closureReadyCallbacks'] = [];\n",
      "    }\n",
      "\n",
      "    function call_when_jsall_loaded(cb) {\n",
      "        if (window['closureReady']) {\n",
      "            cb();\n",
      "        } else {\n",
      "            window['closureReadyCallbacks'].push(cb);\n",
      "        }\n",
      "    }\n",
      "</script>\n",
      "<script src=\"/s/6a0b901/jobsearch-all-compiled.js\" type=\"text/javascript\"></script>\n",
      "<script type=\"text/javascript\">\n",
      "var pingUrlsForGA = [];\n",
      "\n",
      "var searchUID = '1bir89mko1fqt76d';\n",
      "var tk = '1bir89mko1fqt76d';\n",
      "\n",
      "var loggedIn = false;\n",
      "var myindeed = true;\n",
      "var userEmail = '';\n",
      "var tellFriendEmail = '';\n",
      "var globalLoginURL = 'http:\\/\\/www.indeed.com\\/account\\/login?dest=%2Fq-data-scientist-jobs.html';\n",
      "var globalRegisterURL = 'http:\\/\\/www.indeed.com\\/account\\/register?dest=%2Fq-data-scientist-jobs.html';\n",
      "var searchKey = 'bebb41335ed80f2a';\n",
      "var searchState = 'q=data+scientist&amp;';\n",
      "var searchQS = 'q=data+scientist';\n",
      "var eventType = 'jobsearch';\n",
      "var locale = 'en_US';\n",
      "function clk(id) { var a = document.getElementById(id); var hr = a.href; var si = a.href.indexOf('&jsa='); if (si > 0) return; var jsh = hr + '&tk=1bir89mko1fqt76d&jsa=9032'; a.href = jsh; }\n",
      "function sjomd(id) { var a = document.getElementById(id); var hr = a.href; var ocs = hr.indexOf('&oc=1'); if (ocs < 0) return; var oce = ocs + 5; a.href = hr.substring(0, ocs) + hr.substring(oce); }\n",
      "function sjoc(id, sal) { var a = document.getElementById(id); a.href = a.href + '&oc=1&sal='+sal; }\n",
      "function ptk(st,p) {document.cookie = 'PTK=\"tk=1bir89mko1fqt76d&type=jobsearch&subtype='+st+(p?'&'+p:'')+'\"; path=/';}\n",
      "function rbptk(st, c, p) { ptk(st, 'cat='+c+(p?'&p='+p:''));}\n",
      "</script>\n",
      "<script type=\"text/javascript\">\n",
      "function loadJSAsync( ) {\n",
      "for ( var i = 0; i < arguments.length; i++ ) {\n",
      "var url = arguments[i];\n",
      "(function() {\n",
      "var s = document.createElement(\"script\"), el = document.getElementsByTagName(\"script\")[0];\n",
      "s.async = true;\n",
      "s.src = url;\n",
      "el.parentNode.insertBefore(s, el);\n",
      "})();\n",
      "}\n",
      "}\n",
      "</script>\n",
      "<meta content=\"22,324  Data Scientist Jobs available on Indeed.com.  one search.  all jobs.\" name=\"description\"/>\n",
      "<meta content=\"Data Scientist Jobs, Employment,  careers,  employment,  job listings,  job search,  search engine, work in \" name=\"keywords\"/>\n",
      "<meta content=\"origin\" name=\"referrer\"/>\n",
      "<link href=\"/q-Data-Scientist-jobs.html\" rel=\"canonical\"/>\n",
      "<link href=\"/jobs?q=data+scientist&amp;start=10\" rel=\"next\"/><script type=\"text/javascript\">\n",
      "var indeedCsrfToken = 'LSiafo0WJ23G6JCnDuLgKx2GFopvQzd0';\n",
      "var hashedCsrfToken = '943cb99974c09cd92fb97cedce688884';\n",
      "</script>\n",
      "<style type=\"text/css\">\n",
      ".jasxcustomfonttst-useCustomHostedFontFullPage *{font-family:\"Open Sans\", sans-serif !important}.jasxcustomfonttst-useLato *{font-family:\"Lato\", sans-serif !important}.jasxcustomfonttst-useFira *{font-family:\"Fira Sans\", sans-serif !important}.jasxcustomfonttst-useGibson *{font-family:\"Gibson\", sans-serif !important}.jasxcustomfonttst-useAvenir *{font-family:\"Avenir Next\", sans-serif !important}\n",
      "</style>\n",
      "<style type=\"text/css\">\n",
      "#resultsCol { padding-top: 0; }\n",
      ".searchCount { margin-top: 6px; }\n",
      ".showing { padding-top: 9px; padding-bottom: 9px; }\n",
      "\n",
      ".brdr { height: 1px; overflow: hidden; background-color: #ccc; }\n",
      "\n",
      "#bjobalerts { margin-top: 0; }\n",
      "\n",
      "/* Tall window sizes */\n",
      "@media only screen and (min-height:780px){\n",
      ".showing { padding-bottom: 0; }\n",
      "}\n",
      "\n",
      "/* Wide window sizes */\n",
      "@media only screen and (min-width:1125px){\n",
      ".brdr  { margin-left: 12px; margin-right: 12px; }\n",
      "}\n",
      "\n",
      "a,a:link,.link,.btn,.btn:hover{text-decoration:none}a:hover,.link:hover{text-decoration:underline}.dya-container a{text-decoration:underline !important}</style>\n",
      "<script>\n",
      "function onLoadHandler() {\n",
      "\n",
      "document.js.reset();\n",
      "jobSeenInit('1bir89mko1fqt76d');\n",
      "\n",
      "if ( document.radius_update ) { document.radius_update.reset(); }\n",
      "\n",
      "}\n",
      "\n",
      "initLogInitialUserInteraction('1bir89mko1fqt76d', 'serp');\n",
      "\n",
      "window.onload = onLoadHandler;\n",
      "</script>\n",
      "<link href=\"android-app://com.indeed.android.jobsearch/http/www.indeed.com/m/jobs?q=data+scientist\" rel=\"alternate\"/>\n",
      "<title>Data Scientist Jobs, Employment | Indeed.com</title>\n",
      "<style>\n",
      "</style>\n",
      "<style>\n",
      ".rbList li a, .rbList li a:visited {\n",
      "    color: #7777CC;\n",
      "}\n",
      "\n",
      ".rbList li {\n",
      "    color: #999;\n",
      "    margin: 4px 0;\n",
      "}\n",
      "\n",
      ".rbHeader .ws_bold {\n",
      "    font-weight: normal;\n",
      "    outline: 0;\n",
      "    color: #6f6f6f;\n",
      "    padding:3px;\n",
      "}\n",
      "\n",
      ".femp_header {\n",
      "    font-size: 12px;\n",
      "    margin-bottom: 0.5em;\n",
      "}\n",
      "\n",
      "#recentsearches {\n",
      "\tmargin: 0 9px 1em 6px;\n",
      "\tborder-bottom: 1px #ccc solid;\n",
      "    padding-bottom: 1em;\n",
      "}\n",
      "\n",
      "#recPromoDisplay {\n",
      "    margin-bottom: 1em;\n",
      "    margin-left: 0.5em;\n",
      "}\n",
      "\n",
      "\n",
      "\n",
      "h1 {\n",
      "    margin: 0 6px 1em;\n",
      "}\n",
      "\n",
      "#refineresults div[style=\"margin-left: 6px; margin-bottom: 1em;\"] {\n",
      "   font-size: 12px;\n",
      "}\n",
      "\n",
      "#refineresults div[style=\"margin-left: 6px; margin-bottom: 1em;\"] b {\n",
      "    color:#000;\n",
      "}\n",
      "#refineresults div[style=\"margin-left: 6px; margin-bottom: 1em;\"] a {\n",
      "    color:#77c;\n",
      "}\n",
      "\n",
      "#radius_update label {\n",
      "    font-weight: normal;\n",
      "    font-size: 12px;\n",
      "    color: #6f6f6f;\n",
      "}\n",
      "\n",
      ".more_link {\n",
      "    color:#77c;\n",
      "    font-weight:normal;\n",
      "}\n",
      "\n",
      ".more_link span {\n",
      "    dispaly:none\n",
      "}\n",
      "\n",
      "#jobsearch .sl {\n",
      "    display:none;\n",
      "}\n",
      "\n",
      ".advSearch {\n",
      "    display:inline;\n",
      "    font-size:12px;\n",
      "    padding:6px;\n",
      "}</style>\n",
      "<style type=\"text/css\">\n",
      ".btn,.sg-btn{display:inline-block;padding:9px 15px;border:1px solid #9a99ac;border-bottom-color:#a2a2a2;-webkit-border-radius:6px;-moz-border-radius:6px;-ms-border-radius:6px;-o-border-radius:6px;border-radius:6px;background-color:#D9D9E2;background-image:-moz-linear-gradient(top, #f8f8f9, #D9D9E2);background-image:-webkit-gradient(linear, 0 0, 0 100%, from(#f8f8f9), to(#D9D9E2));background-image:-webkit-linear-gradient(top, #f8f8f9, #D9D9E2);background-image:linear-gradient(to bottom, #f8f8f9, #D9D9E2);background-repeat:repeat-x;-webkit-box-shadow:0 1px 5px rgba(0,0,0,0.2);-moz-box-shadow:0 1px 5px rgba(0,0,0,0.2);-ms-box-shadow:0 1px 5px rgba(0,0,0,0.2);-o-box-shadow:0 1px 5px rgba(0,0,0,0.2);box-shadow:0 1px 5px rgba(0,0,0,0.2);color:#333;vertical-align:middle;text-align:center;text-decoration:none;text-shadow:0 1px #fff;font-weight:700;font-size:16px;font-family:\"Helvetica Neue\",Helvetica,Arial,\"Lucida Grande\",sans-serif;line-height:22px;filter:progid:DXImageTransform.Microsoft.gradient(startColorstr='#fff8f8f9', endColorstr='#ffe6e6e6', GradientType=0);cursor:pointer;-webkit-user-select:none;-moz-user-select:none;-ms-user-select:none;-o-user-select:none;user-select:none;-webkit-touch-callout:none;-webkit-highlight:none;-webkit-tap-highlight-color:transparent;text-overflow:ellipsis;white-space:nowrap;overflow:hidden}.btn.active,.btn.sg-active,.btn:active,.btn.disabled,.btn.sg-disabled,.btn[disabled],.sg-btn.active,.sg-btn.sg-active,.sg-btn:active,.sg-btn.disabled,.sg-btn.sg-disabled,.sg-btn[disabled]{outline:none;background-color:#f8f8f9;color:#333}.btn:focus,.sg-btn:focus{outline:0;box-shadow:0 0 1px 0 #1642bb;-webkit-transition:box-shadow 0.2s linear;-moz-transition:box-shadow 0.2s linear;transition:box-shadow 0.2s linear}.btn.active,.btn.sg-active,.btn:active,.sg-btn.active,.sg-btn.sg-active,.sg-btn:active{background-color:#f8f8f9;background-image:none;-webkit-box-shadow:inset 0 2px 4px rgba(0,0,0,0.15),0 1px 2px rgba(0,0,0,0.05);-moz-box-shadow:inset 0 2px 4px rgba(0,0,0,0.15),0 1px 2px rgba(0,0,0,0.05);box-shadow:inset 0 2px 4px rgba(0,0,0,0.15),0 1px 2px rgba(0,0,0,0.05)}.btn.disabled,.btn.sg-disabled,.btn[disabled],.sg-btn.disabled,.sg-btn.sg-disabled,.sg-btn[disabled]{background-color:#f8f8f9;background-image:none;-webkit-box-shadow:none;-moz-box-shadow:none;box-shadow:none;opacity:.65;filter:alpha(opacity=65);cursor:default}.btn-primary,.sg-btn-primary{border-color:#1642bb;background-color:#5585f2;background-image:-moz-linear-gradient(top, #6598ff, #2e5ad7);background-image:-webkit-gradient(linear, 0 0, 0 100%, from(#6598ff), to(#2e5ad7));background-image:-webkit-linear-gradient(top, #6598ff, #2e5ad7);background-image:linear-gradient(to bottom, #6598ff, #2e5ad7);background-repeat:repeat-x;color:#F8F8F9;text-shadow:0 -1px #0f2299;-ms-filter:progid:DXImageTransform.Microsoft.dropshadow(OffX=0, OffY=-1, Color=#e80f2299, Positive=true);filter:progid:DXImageTransform.Microsoft.dropshadow(OffX=0, OffY=-1, Color=#e80f2299, Positive=true);filter:progid:DXImageTransform.Microsoft.gradient(startColorstr='#ff6598fe', endColorstr='#ff3c69e0', GradientType=0);zoom:1}.btn-primary.active,.btn-primary.sg-active,.btn-primary:active,.btn-primary.disabled,.btn-primary.sg-disabled,.btn-primary[disabled],.sg-btn-primary.active,.sg-btn-primary.sg-active,.sg-btn-primary:active,.sg-btn-primary.disabled,.sg-btn-primary.sg-disabled,.sg-btn-primary[disabled]{background-color:#2e5ad7;color:#F8F8F9}.btn-primary:focus,.sg-btn-primary:focus{box-shadow:0 0 1px 0 #000}.btn-special,.sg-btn-special{border-color:#ba3200;background-color:#5585f2;background-image:-moz-linear-gradient(top, #f60, #f14200);background-image:-webkit-gradient(linear, 0 0, 0 100%, from(#f60), to(#f14200));background-image:-webkit-linear-gradient(top, #f60, #f14200);background-image:linear-gradient(to bottom, #f60, #f14200);background-repeat:repeat-x;color:#F8F8F9;text-shadow:0 -1px #000;-ms-filter:progid:DXImageTransform.Microsoft.dropshadow(OffX=0, OffY=-1, Color=#e80f2299, Positive=true);filter:progid:DXImageTransform.Microsoft.dropshadow(OffX=0, OffY=-1, Color=#e80f2299, Positive=true);filter:progid:DXImageTransform.Microsoft.gradient(startColorstr='#ff6598fe', endColorstr='#ff3c69e0', GradientType=0);zoom:1}.btn-special.active,.btn-special.sg-active,.btn-special:active,.btn-special.disabled,.btn-special.sg-disabled,.btn-special[disabled],.sg-btn-special.active,.sg-btn-special.sg-active,.sg-btn-special:active,.sg-btn-special.disabled,.sg-btn-special.sg-disabled,.sg-btn-special[disabled]{background-color:#f14200;color:#F8F8F9}.btn-special:focus,.sg-btn-special:focus{box-shadow:0 0 1px 0 #000}.btn-danger,.sg-btn-danger{border-color:#83121b;background-color:#5585f2;background-image:-moz-linear-gradient(top, #d1787f, #b01825);background-image:-webkit-gradient(linear, 0 0, 0 100%, from(#d1787f), to(#b01825));background-image:-webkit-linear-gradient(top, #d1787f, #b01825);background-image:linear-gradient(to bottom, #d1787f, #b01825);background-repeat:repeat-x;color:#F8F8F9;text-shadow:0 -1px #000;-ms-filter:progid:DXImageTransform.Microsoft.dropshadow(OffX=0, OffY=-1, Color=#e80f2299, Positive=true);filter:progid:DXImageTransform.Microsoft.dropshadow(OffX=0, OffY=-1, Color=#e80f2299, Positive=true);filter:progid:DXImageTransform.Microsoft.gradient(startColorstr='#ff6598fe', endColorstr='#ff3c69e0', GradientType=0);zoom:1}.btn-danger.active,.btn-danger.sg-active,.btn-danger:active,.btn-danger.disabled,.btn-danger.sg-disabled,.btn-danger[disabled],.sg-btn-danger.active,.sg-btn-danger.sg-active,.sg-btn-danger:active,.sg-btn-danger.disabled,.sg-btn-danger.sg-disabled,.sg-btn-danger[disabled]{background-color:#b01825;color:#F8F8F9}.btn-danger:focus,.sg-btn-danger:focus{box-shadow:0 0 1px 0 #000}input.btn,input.sg-btn{-webkit-appearance:none}button.btn::-moz-focus-inner,button.sg-btn::-moz-focus-inner{border:0}.btn-sm,.sg-btn-sm,.btn-xs,.sg-bt-xs{padding:6px 12px}.btn-xs,.sg-btn-xs{padding:3px 6px;line-height:15px}.btn-md,.sg-btn-md{padding:6px 6px}.btn-lg,.sg-btn-lg{padding:9px 18px;border-radius:6px;font-size:18px}.btn-block,.sg-btn-block{display:block;margin:9px auto;-webkit-box-sizing:border-box !important;-moz-box-sizing:border-box !important;box-sizing:border-box !important;max-width:352px}.btn-block-compact,.sg-btn-block-compact{margin:2px auto}input.btn-block,input.sg-btn-block,button.btn-block,button.sg-btn-block{width:100%;max-width:351px}.btn-block+.btn-block,.sg-btn-block+.sg-btn-block{margin-top:5px}#buttonContainer .btn,#buttonContainer .sg-btn{margin:0}.btn-icon .cssImage{margin-bottom:-40px;position:relative;top:-27px}.btn-pair{-webkit-box-sizing:border-box !important;-moz-box-sizing:border-box !important;box-sizing:border-box !important;width:49%}#refineresultscol{width:184px}#refineresults{width:180px}#branding-td{width:186px;text-align:center}.ltr #searchCount{margin-right:4px;margin-left:4px}.ltr #resultsCol .sorting{padding-right:4px}.ltr #resultsCol .showing{padding-left:4px}.ltr #jobsearch{padding-left:4px}.rtl #searchCount{margin-left:4px;margin-right:4px}.rtl #resultsCol .sorting{padding-left:4px}.rtl #resultsCol .showing{padding-right:4px}.rtl #jobsearch{padding-right:4px}.jaui,.hasu .gasc,.row,.message,.oocs{padding-left:4px;padding-right:4px}#resumePromo{padding-left:4px;padding-right:4px}#primePromo{padding-left:4px;padding-right:4px}@media only screen and (min-width: 1125px){.ltr #refineresults{padding-left:15px}.ltr #branding img{margin-left:16px;margin-right:28px}.rtl #refineresults{padding-right:15px}.rtl #branding img{margin-right:16px;margin-left:28px}.ltr #searchCount{margin-right:12px;margin-left:12px}.ltr #resultsCol .sorting{padding-right:12px}.ltr #resultsCol .showing{padding-left:12px}.ltr #jobsearch{padding-left:12px}.rtl #searchCount{margin-left:12px;margin-right:12px}.rtl #resultsCol .sorting{padding-left:12px}.rtl #resultsCol .showing{padding-right:12px}.rtl #jobsearch{padding-right:12px}.jaui,.hasu .gasc,.row,.message,.oocs{padding-left:12px;padding-right:12px}#resumePromo{padding-left:12px;padding-right:12px}#primePromo{padding-left:12px;padding-right:12px}#resultsBody{width:1125px}#refineresultscol,#branding-td{width:225px}#refineresults{width:210px}}@media only screen and (min-width: 1250px){#resultsBody{width:1250px}#auxCol{width:315px}#refineresultscol,#branding-td{width:275px}#refineresults{width:260px}.ltr #refineresults{padding-left:15px}.ltr #branding img{margin-left:16px;margin-right:28px}.rtl #refineresults{padding-right:15px}.rtl #branding img{margin-right:16px;margin-left:28px}.ltr #searchCount{margin-right:12px;margin-left:12px}.ltr #resultsCol .sorting{padding-right:12px}.ltr #resultsCol .showing{padding-left:12px}.ltr #jobsearch{padding-left:12px}.rtl #searchCount{margin-left:12px;margin-right:12px}.rtl #resultsCol .sorting{padding-left:12px}.rtl #resultsCol .showing{padding-right:12px}.rtl #jobsearch{padding-right:12px}.jaui,.hasu .gasc,.row,.message,.oocs{padding-left:12px;padding-right:12px}#resumePromo{padding-left:12px;padding-right:12px}#primePromo{padding-left:12px;padding-right:12px}}#branding-td{padding:5px 0 5px 0px}.resultsTop{padding-top:9px}\n",
      "</style>\n",
      "</head>\n",
      "<body class=\"ltr jasxcustomfonttst-inactive\" data-tn-application=\"jasx\" data-tn-olth=\"9d2bcadf63a72746e920e0ea88bc9d14\" data-tn-originlogid=\"1bir89mko1fqt76d\" data-tn-originlogtype=\"jobsearch\">\n",
      "<div id=\"accessibilityBanner\"><span id=\"accessibilityText\">Skip to <!-- This is translated before reaching this state --><a class=\"accessibilityMenu\" href=\"#jobPostingsAnchor\" id=\"skipToJobs\">Job Postings</a>, <!-- This is translated before reaching this state --><a class=\"accessibilityMenu\" href=\"#what\" id=\"skipToSearch\">Search</a></span><a id=\"accessibilityClose\">Close</a></div><link href=\"/s/36397a3/accessibility.css\" rel=\"stylesheet\" type=\"text/css\"/>\n",
      "<script type=\"text/javascript\">\n",
      "createTabBar('1bir89mko1fqt76d');\n",
      "</script>\n",
      "<style type=\"text/css\">\n",
      "body { margin-top: 0; margin-left: 0; margin-right: 0; padding-top: 0; padding-right: 0; padding-left: 0; }\n",
      "\n",
      "#g_nav { border-bottom:1px solid #ccc; margin-bottom:9px; }\n",
      "\n",
      "#g_nav a,\n",
      "#g_nav a:visited { color: #00c; }\n",
      "\n",
      ".navBi { display: -moz-inline-box; display: inline-block; padding: 9px 12px; margin: 0; list-style-type: none; }\n",
      "</style>\n",
      "<div class=\"left\" data-tn-section=\"globalNav\" id=\"g_nav\" role=\"navigation\">\n",
      "<table cellpadding=\"0\" cellspacing=\"0\" width=\"100%\">\n",
      "<tr>\n",
      "<td nowrap=\"\"><style type=\"text/css\">\n",
      "#p_nav a.selected { font-weight: bold; text-decoration:none; color: #000 !important; }\n",
      "</style>\n",
      "<div id=\"p_nav\"><span class=\"navBi\"><a class=\"selected\" href=\"/\" id=\"jobsLink\" title=\"Jobs\">Find Jobs</a></span><span class=\"navBi\"><a href=\"/Best-Places-to-Work\" onmousedown=\"this.href = appendParamsOnce(this.href, '?from=headercmplink&amp;attributionid=jobsearch')\">Company Reviews</a></span><span class=\"navBi\"><a href=\"/salaries\" onmousedown=\"this.href = appendParamsOnce(this.href, '?from=headercmplink&amp;attributionid=jobsearch')\">Find Salaries</a></span><span class=\"navBi\"><a href=\"/resumes?isid=find-resumes&amp;ikw=SERPtop&amp;co=US&amp;hl=en\" id=\"rezLink\">Find Resumes</a></span><span class=\"navBi\"><a href=\"/hire?hl=en&amp;cc=US\" id=\"empLink\" onclick=\"if ( this.href.match('&amp;isid=employerlink-US-control&amp;ikw=SERPtop') == null ) { this.href += '&amp;isid=employerlink-US-control&amp;ikw=SERPtop' };\">Employers / Post Job</a></span></div>\n",
      "</td>\n",
      "<td align=\"right\" nowrap=\"\"><style type=\"text/css\">\n",
      "\n",
      "\n",
      "#navpromo a,\n",
      "#navpromo a:visited {\n",
      "color: #f60;\n",
      "}\n",
      "\n",
      "\n",
      "#u_nav .login_unconfirmed,\n",
      "#u_nav .login_unconfirmed a,\n",
      "#u_nav .login_unconfirmed a:visited {\n",
      "color: #c00\n",
      "}\n",
      "\n",
      "#u_nav .resume_pending,\n",
      "#u_nav .resume_pending a,\n",
      "#u_nav .resume_pending a:visited {\n",
      "color: #c00\n",
      "}\n",
      "\n",
      "#userOptionsLabel {\n",
      "position: relative;\n",
      "z-index: 5;\n",
      "}\n",
      "\n",
      "#userOptionsLabel b {\n",
      "cursor: pointer;\n",
      "text-decoration: underline;\n",
      "position: relative;\n",
      "z-index: 5;\n",
      "}\n",
      "\n",
      "#userOptionsLabel:active {\n",
      "outline: none;\n",
      "}\n",
      "\n",
      "#userOptionsLabel.active {\n",
      "padding: 9px 11px;\n",
      "margin-bottom: -1px;\n",
      "_margin-bottom: 0px;\n",
      "border: 1px solid #ccc;\n",
      "border-top: 0;\n",
      "}\n",
      "\n",
      "#userOptionsLabel.active .arrowStub {\n",
      "border-width: 0 3px 3px;\n",
      "_border-width: 0px 3px 4px;\n",
      "border-color: transparent;\n",
      "border-bottom-color: #666;\n",
      "top: -2px;\n",
      "border-style: dashed dashed solid;\n",
      "}\n",
      "\n",
      "#userOptionsLabel.active .halfPxlFix {\n",
      "background: #fff;\n",
      "bottom: -3px;\n",
      "height: 6px;\n",
      "left: 0;\n",
      "position: absolute;\n",
      "right: 0;\n",
      "border: 1px solid #fff;\n",
      "}\n",
      "\n",
      ".arrowStub {\n",
      "position: relative;\n",
      "border-style: solid dashed dashed;\n",
      "border-color: transparent;\n",
      "border-top-color: #666;\n",
      "display: -moz-inline-box;\n",
      "display: inline-block;\n",
      "font-size: 0;\n",
      "height: 0;\n",
      "line-height: 0;\n",
      "width: 0;\n",
      "left: 4px;\n",
      "border-top-width: 3px;\n",
      "border-bottom-width: 0;\n",
      "border-right-width: 3px;\n",
      "padding-top: 1px;\n",
      "top: -1px;\n",
      "}\n",
      "\n",
      "#userOptions {\n",
      "z-index: 2;\n",
      "visibility: hidden;\n",
      "position: absolute;\n",
      "right: 0;\n",
      "x_right: -1px;\n",
      "top: 100%;\n",
      "padding: 9px 15px;\n",
      "border: 1px solid #ccc;\n",
      "background: #fff;\n",
      "min-width: 150px;\n",
      "_width: 150px;\n",
      "text-align: left;\n",
      "}\n",
      "\n",
      "#userOptions.open {\n",
      "visibility: visible;\n",
      "}\n",
      "\n",
      ".userOptionItem {\n",
      "margin: 6px 0;\n",
      "}\n",
      "\n",
      ".userOptionItem a {\n",
      "white-space: nowrap;\n",
      "}\n",
      "\n",
      ".userOptionGroup {\n",
      "border-top: 1px solid #e8e8e8;\n",
      "margin-top: 12px;\n",
      "}\n",
      "\n",
      ".userNameRepeat {\n",
      "color: #a8a8a8;\n",
      "padding-right: 48px;\n",
      "font-weight: bold;\n",
      "}\n",
      "\n",
      ".userOptionGroupHeader {\n",
      "font-weight: bold;\n",
      "margin: 6px 0;\n",
      "}\n",
      "</style>\n",
      "<div id=\"u_nav\">\n",
      "<script>\n",
      "\n",
      "function regExpEscape(s) {\n",
      "    return String(s).replace(/([-()\\[\\]{}+?*.$\\^|,:#<!\\\\])/g, '\\\\$1').\n",
      "            replace(/\\x08/g, '\\\\x08');\n",
      "}\n",
      "\n",
      "\n",
      "function appendParamsOnce(url, params) {\n",
      "    var useParams = params.replace(/^(\\?|\\&)/, '');\n",
      "    if (url.match(new RegExp('[\\\\?|\\\\&]' + regExpEscape(useParams))) == null) {\n",
      "        return url += (url.indexOf('?') > 0 ? '&' : '?' ) + useParams;\n",
      "    }\n",
      "    return url;\n",
      "}\n",
      "\n",
      "</script>\n",
      "<div id=\"user_actions\">\n",
      "<span class=\"navBi\">\n",
      "<span class=\"resume-promo\" id=\"navpromo\">\n",
      "<a href=\"/promo/resume\" onclick=\"window.location=this.href + '?from=nav&amp;subfrom=rezprmstd&amp;trk.origin=jobsearch&amp;trk.variant=rezprmstd&amp;trk.pos=nav&amp;trk.tk=1bir89mko1fqt76d'; return false;\">Upload your resume</a>\n",
      "</span>\n",
      "</span>\n",
      "<span class=\"navBi\"><a href=\"http://www.indeed.com/account/login?dest=%2Fjobs%3Fq%3Ddata%2Bscientist\" id=\"userOptionsLabel\" rel=\"nofollow\">Sign in</a></span>\n",
      "</div>\n",
      "</div>\n",
      "</td>\n",
      "</tr>\n",
      "</table>\n",
      "</div>\n",
      "<style type=\"text/css\">\n",
      ".indeedLogo {\n",
      "background: url(/images/medium_logo.png) no-repeat;\n",
      "\n",
      "margin: 8px 0 0 9px;\n",
      "border: 0;\n",
      "width: 166px;\n",
      "height: 64px;\n",
      "-webkit-background-size: 155px 43px;\n",
      "background-size: 155px 43px;\n",
      "}\n",
      "@media (-webkit-min-device-pixel-ratio: 2),\n",
      "(   min--moz-device-pixel-ratio: 2),\n",
      "(     -o-min-device-pixel-ratio: 2/1),\n",
      "(        min-device-pixel-ratio: 2),\n",
      "(                min-resolution: 192dpi),\n",
      "(                min-resolution: 2dppx) {\n",
      ".indeedLogo {\n",
      "background: url(/images/medium_logo@2x.png) no-repeat;\n",
      "-webkit-background-size: 155px 43px;\n",
      "background-size: 155px 43px;\n",
      "}\n",
      "}\n",
      "#branding img { border: 0; }\n",
      "#jobsearch { margin: 0 }\n",
      ".inwrap { border-right: 1px solid #e8e8e8;border-bottom: 1px solid #e8e8e8;display:inline-block; }\n",
      ".inwrap input { box-sizing: border-box; margin:0; height: 30px; font-family:Arial,sans-serif;border:1px solid #ccc; border-bottom-color:#aaa;border-right-color:#aaa; -webkit-border-radius: 0; -webkit-appearance: none; }\n",
      ".inwrap .input_text { font-size:18px;padding:3px 6px;_margin: -1px 0; }\n",
      ".inwrap .input_submit {color:#614041;font-size:15px;height:30px;background: #e8e8e8; padding:3px 9px;cursor:pointer;_padding:3px;}\n",
      ".inwrap .input_submit:active { background: #ccc; }\n",
      ".lnav  {width:100%;line-height:1;;font-size:10pt;}\n",
      ".jsf .label {font-size:12px; line-height:1.2;padding-top:0;color:#aaa;font-weight:normal;white-space:nowrap;padding-right:1.5em}\n",
      ".jsf .label label {font-weight:normal}\n",
      ".jsf .sl { font-size: 11px; color: #77c; white-space: nowrap; }\n",
      ".npb { padding-bottom: 0; color: #f60; text-transform: lowercase;font-weight:bold; }\n",
      ".npl { padding-left: 0 }\n",
      "iframe { display:block; }\n",
      ".acd { border: 1px solid #333; background: #fff; position:absolute; width:100%; z-index: 1; }\n",
      ".aci { font-size: 18px; padding:1px 6px; cursor:pointer; }\n",
      ".acis { background:#36c; color:#fff; }\n",
      "\n",
      "#tjobalerts .ws_label,\n",
      "#bjobalerts .ws_label,\n",
      "#tjobalerts .member,\n",
      "#bjobalerts .member{ z-index: 1; }\n",
      "#acr td { padding-top:0; padding-bottom:0; }\n",
      "#acr td .h { display:none; }\n",
      "\n",
      "#what { width: 280px; }\n",
      "#where { width: 260px; }\n",
      ".inwrapBorder{border:1px solid #1c4ed9;border-top-color:#2f62f1;border-bottom-color:#133fbb;display:inline-block;width:auto}.inwrapBorderTop{border-top:1px solid #69F;display:inline-block;background-color:#3163f2;filter:progid:DXImageTransform.Microsoft.gradient(startColorstr='#3163F2',endColorstr='#2B57D5');background:-webkit-gradient(linear,left top,left bottom,from(#3163f2),to(#2b57d5));background:-moz-linear-gradient(top,#3163f2,#2b57d5);background:linear-gradient(top,#3163f2,#2b57d5)}.inwrapBorder .input_submit{background:transparent;border:0;color:#fff;font-family:Arial;font-size:15px;margin:0;padding:4px 9px;cursor:pointer;_padding:3px}.inwrapBorder a.input_submit{text-decoration:none;display:block}.inwrapBorder:hover{border-color:#235af6;border-top-color:#4072ff;border-bottom-color:#1e4fd9}.inwrapBorderTop:hover{border-top-color:#7ba7ff;background-color:#4273ff;filter:progid:DXImageTransform.Microsoft.gradient(startColorstr='#4273ff',endColorstr='#3364f1');background:-webkit-gradient(linear,left top,left bottom,from(#4273ff),to(#3364f1));background:-moz-linear-gradient(top,#4273ff,#3364f1);background:linear-gradient(top,#4273ff,#3364f1)}.inwrapBorder:active{border-color:#536db7;border-top-color:#4b69c1;border-bottom-color:#3753a6}.inwrapBorder:active .inwrapBorderTop{border-top-color:#6c82c1;background-color:#4b69c1;filter:progid:DXImageTransform.Microsoft.gradient(startColorstr='#4b69c1',endColorstr='#3753a6');background:-webkit-gradient(linear,left top,left bottom,from(#4b69c1),to(#3753a6));background:-moz-linear-gradient(top,#4b69c1,#3753a6);background:linear-gradient(top,#4b69c1,#3753a6)}.roundedCorner{display:inline-block;zoom:1;*display:inline;vertical-align:baseline;margin:0 2px;outline:0;cursor:pointer;text-align:center;text-decoration:none;font:15px/100% Arial,Helvetica,sans-serif;padding:.5em 2em .55em;text-shadow:0 1px 1px rgba(0,0,0,.3);-webkit-border-radius:.5em;-moz-border-radius:.5em;border-radius:.5em;-webkit-box-shadow:0 1px 2px rgba(0,0,0,.2);-moz-box-shadow:0 1px 2px rgba(0,0,0,.2);box-shadow:0 1px 2px rgba(0,0,0,.2)}.roundedCorner:hover{text-decoration:none}.roundedCorner:active{position:relative;top:1px}.bigrounded{-webkit-border-radius:2em;-moz-border-radius:2em;border-radius:2em}.medium{font-size:12px;padding:.4em 1.5em .42em}.small{font-size:11px;padding:.2em 1em .275em}.indeedblue{color:#d9eef7;border:solid 1px #1c4ed9;background:#3163f2;background:-webkit-gradient(linear,left top,left bottom,from(#2f62f1),to(#133fbb));background:-moz-linear-gradient(top,#2f62f1,#133fbb);filter:progid:DXImageTransform.Microsoft.gradient(startColorstr='#2F62F1',endColorstr='#133FBB')}.indeedblue:hover,.indeedblue:focus{background:#235af6;background:-webkit-gradient(linear,left top,left bottom,from(#4072ff),to(#1e4fd9));background:-moz-linear-gradient(top,#4072ff,#1e4fd9);filter:progid:DXImageTransform.Microsoft.gradient(startColorstr='#4072ff',endColorstr='#1e4fd9')}.indeedblue:active{color:#d9eef7;background:-webkit-gradient(linear,left top,left bottom,from(#4b69c1),to(#3753a6));background:-moz-linear-gradient(top,#4b69c1,#3753a6);filter:progid:DXImageTransform.Microsoft.gradient(startColorstr='#4b69c1',endColorstr='#3753a6')}</style>\n",
      "<span id=\"hidden_colon\" style=\"display:none\">:</span>\n",
      "<table border=\"0\" cellpadding=\"0\" cellspacing=\"0\" role=\"banner\"><tr><td width=\"1125\"><table cellpadding=\"0\" cellspacing=\"0\" class=\"lnav\">\n",
      "<tr>\n",
      "<td id=\"branding-td\" style=\"vertical-align:top;\"><a href=\"/\" id=\"branding\" onmousedown=\"ptk('logo');\"><img alt=\"one search. all jobs. Indeed\" class=\"indeedLogo\" src=\"data:image/gif;base64,R0lGODlhAQABAJEAAAAAAP///////wAAACH5BAEHAAIALAAAAAABAAEAAAICVAEAOw==\" style=\"margin-bottom:6px;display:block;\" title=\"one search. all jobs. Indeed\"/></a></td>\n",
      "<td style=\"padding-top:3px;\" valign=\"top\">\n",
      "<form action=\"/jobs\" class=\"jsf\" id=\"jobsearch\" method=\"get\" name=\"js\" onsubmit=\"formptk('topsearch','where_ac','',['where_ac','what_ac'], ptk);formptk('topsearch','what_ac','w',['where_ac','what_ac'], ptk);\">\n",
      "<table align=\"left\" cellpadding=\"3\" cellspacing=\"0\">\n",
      "<tr>\n",
      "<td class=\"npb\"><label for=\"what\" id=\"what_label_top\">What</label></td>\n",
      "<td class=\"npb\" colspan=\"3\"><label for=\"where\" id=\"where_label_top\">Where</label></td>\n",
      "</tr>\n",
      "<tr role=\"search\">\n",
      "<td class=\"npl epr\"><span class=\"inwrap\"><input aria-labelledby=\"what_label_top hidden_colon what_label\" class=\"input_text\" id=\"what\" maxlength=\"512\" name=\"q\" size=\"31\" value=\"data scientist\"/></span><div style=\"width:250px\"><!-- --></div></td>\n",
      "<td class=\"npl epr\"><span class=\"inwrap\"><input aria-labelledby=\"where_label_top hidden_colon where_label\" class=\"input_text\" id=\"where\" maxlength=\"45\" name=\"l\" size=\"27\" value=\"\"/></span><div style=\"width:200px\"><!-- --></div></td>\n",
      "<td class=\"npl\" style=\"width:1px\"><span class=\"inwrapBorder\" style=\"width:auto;padding-right:0;\"><span class=\"inwrapBorderTop\"><input class=\"input_submit\" id=\"fj\" type=\"submit\" value=\"Find Jobs\"/></span></span></td>\n",
      "<td class=\"npl advanced-search\" style=\"width:240px;\"><div style=\"margin-left:12px; display:flex;\"><a class=\"sl\" href=\"/advanced_search?q=data+scientist\">Advanced Job Search</a></div></td>\n",
      "</tr>\n",
      "<tr id=\"acr\">\n",
      "<td><span class=\"h\"> </span></td>\n",
      "<td class=\"npl\" colspan=\"2\"><div style=\"position:relative;z-index:2\"><div class=\"acd\" id=\"acdiv\" style=\"display:none;\"></div></div></td>\n",
      "<td><span class=\"h\"> </span></td>\n",
      "</tr>\n",
      "<tr id=\"acr\">\n",
      "<td class=\"npl\" colspan=\"3\"><div style=\"position:relative;z-index:2\"><div class=\"acd\" id=\"what_acdiv\" style=\"display:none;\"></div></div></td>\n",
      "<td><span class=\"h\"> </span></td>\n",
      "</tr>\n",
      "<tr valign=\"baseline\">\n",
      "<td class=\"label\" id=\"what_label_cell\">\n",
      "<label aria-hidden=\"true\" for=\"what\" id=\"what_label\">job title, keywords or company</label>\n",
      "</td>\n",
      "<td class=\"label\" colspan=\"3\" id=\"where_label_cell\">\n",
      "<label aria-hidden=\"true\" for=\"where\" id=\"where_label\">city, state, or zip</label>\n",
      "</td>\n",
      "</tr>\n",
      "</table>\n",
      "</form>\n",
      "</td>\n",
      "</tr>\n",
      "</table>\n",
      "</td></tr></table>\n",
      "<script type=\"text/javascript\">\n",
      "\n",
      "        initAutocomplete('where_ac', gbid('where'), gbid('acdiv'), '/rpc/suggest?from=serp&tk=1bir89mko1fqt76d', function() { formptk('topsearch','where_ac', '', ['where_ac','what_ac'], ptk); }, gbid('where'));\n",
      "        \n",
      "        initAutocomplete('what_ac', gbid('what'), gbid('what_acdiv'), '/rpc/suggest?what=true&tk=1bir89mko1fqt76d', function () {formptk('topsearch', 'what_ac', 'w', ['where_ac','what_ac'], ptk);}, gbid('what'));\n",
      "        </script>\n",
      "<script type=\"text/javascript\">\n",
      "function rclk(el,jobdata,oc,sal) { var ocstr = oc ? '&onclick=1' : ''; document.cookie='RCLK=\"jk='+jobdata.jk+'&tk=1bir89mko1fqt76d&from=web&rd='+jobdata.rd+'&qd=7tdTJLF8oc4dPpT7T_zGvGA3XpPBAN42oEhBbwa0-XP0q_5iKGXhGepJfZBzu_OoRyeU208KA0Lt3eyqj3fh19mtKo9mPOW-ULFMqx_qQIqz7hDrrRzVOIzLVftKaJeo&ts=1497710779032&sal='+sal+ocstr+'\"; path=/'; return true;}\n",
      "function zrprclk(el,jobdata,oc) { var ocstr = oc ? '&onclick=1' : ''; document.cookie='RCLK=\"jk='+jobdata.jk+'&tk=1bir89mko1fqt76d&from=reconzrp&rd='+jobdata.rd+'&qd=7tdTJLF8oc4dPpT7T_zGvGA3XpPBAN42oEhBbwa0-XP0q_5iKGXhGepJfZBzu_OoRyeU208KA0Lt3eyqj3fh19mtKo9mPOW-ULFMqx_qQIqz7hDrrRzVOIzLVftKaJeo&ts=1497710779032'+ocstr+'\"; path=/'; return true;}\n",
      "function prjbottomclk(el,jobdata,oc) { var ocstr = oc ? '&onclick=1' : ''; document.cookie='RCLK=\"jk='+jobdata.jk+'&tk=1bir89mko1fqt76d&from=reconserp&rd='+jobdata.rd+'&qd=7tdTJLF8oc4dPpT7T_zGvGA3XpPBAN42oEhBbwa0-XP0q_5iKGXhGepJfZBzu_OoRyeU208KA0Lt3eyqj3fh19mtKo9mPOW-ULFMqx_qQIqz7hDrrRzVOIzLVftKaJeo&ts=1497710779032'+ocstr+'\"; path=/'; return true;}\n",
      "\n",
      "\n",
      "var jobmap = {};\n",
      "\n",
      "jobmap[0]= {jk:'a13038ba8ea31fe1',efccid: 'fc795989ca54f422',srcid:'efe5e2d22a1d29e5',cmpid:'de71a49b535e21cb',num:'0',srcname:'IBM',cmp:'IBM',cmpesc:'IBM',cmplnk:'/q-IBM-jobs.html',loc:'United States',country:'US',zip:'',city:'',title:'Entry Level Data Scientist',locid:'e3da0a390617907b',rd:'ifLLha17ynEBlt7hho3JcfEjTYFBCydOHIJo0jSLt2v45dE2Xc7f0LxoyV9j6I_6'};\n",
      "\n",
      "jobmap[1]= {jk:'6e4c08399d7effdb',efccid: 'b20b2faf870bd47c',srcid:'4fe0d94f01338715',cmpid:'75c71bbad326298c',num:'1',srcname:'Indeed',cmp:'CareerMonks',cmpesc:'CareerMonks',cmplnk:'/q-CareerMonks-jobs.html',loc:'Chicago, IL',country:'US',zip:'',city:'Chicago',title:'Data Scientist',locid:'402d6ad50e16c894',rd:'LdTfyXn3BJUQ3DP1gWsaHwfmkRX_hXv5vdGF0Dj9Cb8'};\n",
      "\n",
      "jobmap[2]= {jk:'503c2538b1491049',efccid: '8028746c46b6220b',srcid:'a3a306beea3ea31b',cmpid:'f1374be6a45f4b8a',num:'2',srcname:'Intel',cmp:'Intel',cmpesc:'Intel',cmplnk:'/q-Intel-jobs.html',loc:'San Diego, CA 92129',country:'US',zip:'92129',city:'San Diego',title:'Data Scientist\\/Machine Learning Engineer',locid:'15daff915f69f903',rd:'0nbXxlm8yujnNeH6qUX3_PEjTYFBCydOHIJo0jSLt2uuIEyVEsFa1GnfHxCZMExg'};\n",
      "\n",
      "jobmap[3]= {jk:'516fc216c1b0166b',efccid: '92df7517638c7280',srcid:'775e06551bfe2554',cmpid:'5ed3d6e8b04e853e',num:'3',srcname:'FireEye',cmp:'FireEye',cmpesc:'FireEye',cmplnk:'/q-FireEye-jobs.html',loc:'Reston, VA 20190',country:'US',zip:'20190',city:'Reston',title:'Data Scientist',locid:'9143fe28c6a4570c',rd:'b51lnbclQQLZ1hYs6VDb6vEjTYFBCydOHIJo0jSLt2vznZRC5vNCJgR7tGAMSCH-'};\n",
      "\n",
      "jobmap[4]= {jk:'15eb18345642c0e6',efccid: '47b27ecc19433b76',srcid:'30eb8a5517825677',cmpid:'026a169b2ca27b1f',num:'4',srcname:'Indeed',cmp:'Nityo Infotech',cmpesc:'Nityo Infotech',cmplnk:'/q-Nityo-Infotech-jobs.html',loc:'Newark, DE',country:'US',zip:'',city:'Newark',title:'Data Scientist',locid:'4bbc9b3a2539d76d',rd:'vV1ywF_BeuSvqZv0gbug_gfmkRX_hXv5vdGF0Dj9Cb8'};\n",
      "\n",
      "jobmap[5]= {jk:'0ed717cec9b0e1a4',efccid: '929a5ca94a87aed1',srcid:'bbb13f8b8953d7be',cmpid:'b733e7615b26b758',num:'5',srcname:'Toptal',cmp:'TopTal',cmpesc:'TopTal',cmplnk:'/q-TopTal-jobs.html',loc:'United States',country:'US',zip:'',city:'',title:'Data Scientist',locid:'e3da0a390617907b',rd:'ypQSWt1Kpk7SEQoWpXENyvEjTYFBCydOHIJo0jSLt2vhZQCZZPRCz0hxOGFCekI-'};\n",
      "\n",
      "jobmap[6]= {jk:'07b19e1211995c68',efccid: 'b20b2faf870bd47c',srcid:'4fe0d94f01338715',cmpid:'75c71bbad326298c',num:'6',srcname:'Indeed',cmp:'CareerMonks',cmpesc:'CareerMonks',cmplnk:'/q-CareerMonks-jobs.html',loc:'St. Louis, MO',country:'US',zip:'',city:'St. Louis',title:'Big data Engineer',locid:'67612839f9db3f30',rd:'fzmDV2NONvSY9hUwu9yCTwfmkRX_hXv5vdGF0Dj9Cb8'};\n",
      "\n",
      "jobmap[7]= {jk:'391885e2c738c2df',efccid: 'bf7b92453c920709',srcid:'f08a40e7a7f6c0fa',cmpid:'e779d33455756e06',num:'7',srcname:'Lab126',cmp:'A2Z Development Center, Inc.',cmpesc:'A2Z Development Center, Inc.',cmplnk:'/q-A2Z-Development-Center-jobs.html',loc:'Sunnyvale, CA',country:'US',zip:'',city:'Sunnyvale',title:'Data Scientist',locid:'62f8f620fe0679b7',rd:'gIBhyxjX88CBheNzlvzgWAfmkRX_hXv5vdGF0Dj9Cb8'};\n",
      "\n",
      "jobmap[8]= {jk:'299deb9ae19c52bf',efccid: '6283cda6a2daf87c',srcid:'dd1bf779dfdb42dd',cmpid:'9a9618f10ebad356',num:'8',srcname:'Tinder',cmp:'Tinder',cmpesc:'Tinder',cmplnk:'/q-Tinder-jobs.html',loc:'Palo Alto, CA',country:'US',zip:'',city:'Palo Alto',title:'Machine Learning Scientist',locid:'417f86aed2946c16',rd:'4END045ptKKmHngt72SuiPEjTYFBCydOHIJo0jSLt2vhZQCZZPRCz0hxOGFCekI-'};\n",
      "\n",
      "jobmap[9]= {jk:'68802073a68f004a',efccid: 'caff23281376b83d',srcid:'c6c40f68ed4ae948',cmpid:'db9f9b9d28743c59',num:'9',srcname:'Amazon.com',cmp:'Amazon Corporate LLC',cmpesc:'Amazon Corporate LLC',cmplnk:'/q-Amazon-Corporate-jobs.html',loc:'Cambridge, MA',country:'US',zip:'',city:'Cambridge',title:'Data Scientist',locid:'28b85bba6e466386',rd:'HgqJEbKk5cQW1h3qe3-fi_EjTYFBCydOHIJo0jSLt2v643S2KwFAze-YU5kL_RQ0'};\n",
      "</script>\n",
      "<style type=\"text/css\">\n",
      ".jobtitle {\n",
      "font-weight: bold;\n",
      "}\n",
      "td.snip b, span.company b, #femp_list .jobtitle, #cmpinfo_list .jobtitle, .jobtitle .new {\n",
      "font-weight: normal;\n",
      "}\n",
      "</style>\n",
      "<style type=\"text/css\">\n",
      "div.row table tr td.snip { line-height: 1.4; }\n",
      "</style>\n",
      "<table border=\"0\" cellpadding=\"0\" cellspacing=\"0\" id=\"resultsBody\" role=\"main\"><tr><td>\n",
      "<script type=\"text/javascript\">\n",
      "window['ree'] = \"pdsssps\";\n",
      "window['jas'] = \"ES1ifcy1sC\";\n",
      "</script>\n",
      "<style type=\"text/css\">\n",
      ".basePromo{margin-top:8px;margin-bottom:13px;padding-left:12px;padding-right:12px}.redText{color:red}.bold{font-weight:bold}.basePromo.resume{font-size:14px;margin-top:5px}.basePromo.resume>img{height:20px;margin-right:5px;margin-bottom:3px;width:16px}</style>\n",
      "<table border=\"0\" cellpadding=\"0\" cellspacing=\"0\" id=\"pageContent\" width=\"100%\">\n",
      "<tr valign=\"top\">\n",
      "<td data-tn-section=\"refineBy\" id=\"refineresultscol\">\n",
      "<div id=\"refineresults\">\n",
      "<h1><font size=\"+1\">data scientist jobs</font></h1>\n",
      "<span aria-level=\"2\" role=\"heading\" style=\"height: 0; overflow: hidden; position: absolute;\">Filter results by:</span>\n",
      "<div style=\"margin-left: 6px; margin-bottom: 1em;\">Sort by: <span class=\"no-wrap\"><b>relevance</b> -\n",
      "            <a href=\"/jobs?q=data+scientist&amp;sort=date\" rel=\"nofollow\">date</a></span></div>\n",
      "<div class=\"rbSection rbOpen\" id=\"rb_Salary Estimate\">\n",
      "<div class=\"rbHeader\">\n",
      "<span aria-level=\"3\" class=\"ws_bold\" role=\"heading\">\n",
      "Salary Estimate</span>\n",
      "</div>\n",
      "<div class=\"rbsrbo\" id=\"SALARY_rbo\">\n",
      "<ul class=\"rbList\">\n",
      "<li onmousedown=\"rbptk('rb', 'salest', '1');\">\n",
      "<a href=\"/q-data-scientist-$50,000-jobs.html\" rel=\"nofollow\" title=\"$50,000+ (17752)\">$50,000+</a> (17752)</li>\n",
      "<li onmousedown=\"rbptk('rb', 'salest', '2');\">\n",
      "<a href=\"/q-data-scientist-$70,000-jobs.html\" rel=\"nofollow\" title=\"$70,000+ (14000)\">$70,000+</a> (14000)</li>\n",
      "<li onmousedown=\"rbptk('rb', 'salest', '3');\">\n",
      "<a href=\"/q-data-scientist-$85,000-jobs.html\" rel=\"nofollow\" title=\"$85,000+ (10734)\">$85,000+</a> (10734)</li>\n",
      "<li onmousedown=\"rbptk('rb', 'salest', '4');\">\n",
      "<a href=\"/q-data-scientist-$100,000-jobs.html\" rel=\"nofollow\" title=\"$100,000+ (7362)\">$100,000+</a> (7362)</li>\n",
      "<li onmousedown=\"rbptk('rb', 'salest', '5');\">\n",
      "<a href=\"/q-data-scientist-$120,000-jobs.html\" rel=\"nofollow\" title=\"$120,000+ (3642)\">$120,000+</a> (3642)</li>\n",
      "</ul>\n",
      "</div>\n",
      "</div>\n",
      "<div class=\"rbSection rbOpen\" id=\"rb_Job Type\">\n",
      "<div class=\"rbHeader\">\n",
      "<span aria-level=\"3\" class=\"ws_bold\" role=\"heading\">\n",
      "Job Type</span>\n",
      "</div>\n",
      "<div class=\"rbsrbo\" id=\"JOB_TYPE_rbo\">\n",
      "<ul class=\"rbList\">\n",
      "<li onmousedown=\"rbptk('rb', 'jobtype', '1');\">\n",
      "<a href=\"/jobs?q=data+scientist&amp;jt=fulltime\" rel=\"nofollow\" title=\"Full-time (20849)\">Full-time</a> (20849)</li>\n",
      "<li onmousedown=\"rbptk('rb', 'jobtype', '2');\">\n",
      "<a href=\"/jobs?q=data+scientist&amp;jt=contract\" rel=\"nofollow\" title=\"Contract (1179)\">Contract</a> (1179)</li>\n",
      "<li onmousedown=\"rbptk('rb', 'jobtype', '3');\">\n",
      "<a href=\"/jobs?q=data+scientist&amp;jt=parttime\" rel=\"nofollow\" title=\"Part-time (466)\">Part-time</a> (466)</li>\n",
      "<li onmousedown=\"rbptk('rb', 'jobtype', '4');\">\n",
      "<a href=\"/jobs?q=data+scientist&amp;jt=temporary\" rel=\"nofollow\" title=\"Temporary (441)\">Temporary</a> (441)</li>\n",
      "<li onmousedown=\"rbptk('rb', 'jobtype', '5');\">\n",
      "<a href=\"/jobs?q=data+scientist&amp;jt=internship\" rel=\"nofollow\" title=\"Internship (226)\">Internship</a> (226)</li>\n",
      "<li onmousedown=\"rbptk('rb', 'jobtype', '6');\">\n",
      "<a href=\"/jobs?q=data+scientist&amp;jt=commission\" rel=\"nofollow\" title=\"Commission (58)\">Commission</a> (58)</li>\n",
      "</ul>\n",
      "</div>\n",
      "</div>\n",
      "<div class=\"rbSection rbOpen\" id=\"rb_Location\">\n",
      "<div class=\"rbHeader\">\n",
      "<span aria-level=\"3\" class=\"ws_bold\" role=\"heading\">\n",
      "Location</span>\n",
      "</div>\n",
      "<div class=\"rbsrbo\" id=\"LOCATION_rbo\">\n",
      "<ul class=\"rbList\">\n",
      "<li onmousedown=\"rbptk('rb', 'loc', '1');\">\n",
      "<a href=\"/jobs?q=data+scientist&amp;rbl=New+York,+NY&amp;jlid=45f6c4ded55c00bf\" rel=\"nofollow\" title=\"New York, NY (1768)\">New York, NY</a> (1768)</li>\n",
      "<li onmousedown=\"rbptk('rb', 'loc', '2');\">\n",
      "<a href=\"/jobs?q=data+scientist&amp;rbl=Seattle,+WA&amp;jlid=1e8a7dce52945215\" rel=\"nofollow\" title=\"Seattle, WA (1174)\">Seattle, WA</a> (1174)</li>\n",
      "<li onmousedown=\"rbptk('rb', 'loc', '3');\">\n",
      "<a href=\"/jobs?q=data+scientist&amp;rbl=San+Francisco,+CA&amp;jlid=6cf5e6d389fd6d6b\" rel=\"nofollow\" title=\"San Francisco, CA (915)\">San Francisco, CA</a> (915)</li>\n",
      "<li onmousedown=\"rbptk('rb', 'loc', '4');\">\n",
      "<a href=\"/jobs?q=data+scientist&amp;rbl=Cambridge,+MA&amp;jlid=28b85bba6e466386\" rel=\"nofollow\" title=\"Cambridge, MA (570)\">Cambridge, MA</a> (570)</li>\n",
      "<li onmousedown=\"rbptk('rb', 'loc', '5');\">\n",
      "<a href=\"/jobs?q=data+scientist&amp;rbl=Boston,+MA&amp;jlid=e167aeb8a259bcac\" rel=\"nofollow\" title=\"Boston, MA (564)\">Boston, MA</a> (564)</li>\n",
      "<li class=\"moreLi\" onmousedown=\"rbptk('rb', 'loc', '6');\">\n",
      "<a href=\"/jobs?q=data+scientist&amp;rbl=Chicago,+IL&amp;jlid=402d6ad50e16c894\" rel=\"nofollow\" title=\"Chicago, IL (425)\">Chicago, IL</a> (425)</li>\n",
      "<li class=\"moreLi\" onmousedown=\"rbptk('rb', 'loc', '7');\">\n",
      "<a href=\"/jobs?q=data+scientist&amp;rbl=San+Diego,+CA&amp;jlid=15daff915f69f903\" rel=\"nofollow\" title=\"San Diego, CA (330)\">San Diego, CA</a> (330)</li>\n",
      "<li class=\"moreLi\" onmousedown=\"rbptk('rb', 'loc', '8');\">\n",
      "<a href=\"/jobs?q=data+scientist&amp;rbl=Washington,+DC&amp;jlid=c08ec92d8c031faa\" rel=\"nofollow\" title=\"Washington, DC (324)\">Washington, DC</a> (324)</li>\n",
      "<li class=\"moreLi\" onmousedown=\"rbptk('rb', 'loc', '9');\">\n",
      "<a href=\"/jobs?q=data+scientist&amp;rbl=Palo+Alto,+CA&amp;jlid=417f86aed2946c16\" rel=\"nofollow\" title=\"Palo Alto, CA (304)\">Palo Alto, CA</a> (304)</li>\n",
      "<li class=\"moreLi\" onmousedown=\"rbptk('rb', 'loc', '10');\">\n",
      "<a href=\"/jobs?q=data+scientist&amp;rbl=Los+Angeles,+CA&amp;jlid=d05a4fe50c5af0a8\" rel=\"nofollow\" title=\"Los Angeles, CA (288)\">Los Angeles, CA</a> (288)</li>\n",
      "<li class=\"moreLi\" onmousedown=\"rbptk('rb', 'loc', '11');\">\n",
      "<a href=\"/jobs?q=data+scientist&amp;rbl=Atlanta,+GA&amp;jlid=966e6327a98f7e81\" rel=\"nofollow\" title=\"Atlanta, GA (276)\">Atlanta, GA</a> (276)</li>\n",
      "<li class=\"moreLi\" onmousedown=\"rbptk('rb', 'loc', '12');\">\n",
      "<a href=\"/jobs?q=data+scientist&amp;rbl=Sunnyvale,+CA&amp;jlid=62f8f620fe0679b7\" rel=\"nofollow\" title=\"Sunnyvale, CA (252)\">Sunnyvale, CA</a> (252)</li>\n",
      "<li class=\"moreLi\" onmousedown=\"rbptk('rb', 'loc', '13');\">\n",
      "<a href=\"/jobs?q=data+scientist&amp;rbl=San+Jose,+CA&amp;jlid=4a7e972a82badd7a\" rel=\"nofollow\" title=\"San Jose, CA (242)\">San Jose, CA</a> (242)</li>\n",
      "<li class=\"moreLi\" onmousedown=\"rbptk('rb', 'loc', '14');\">\n",
      "<a href=\"/jobs?q=data+scientist&amp;rbl=South+San+Francisco,+CA&amp;jlid=0baeb5b4b6b0c7f9\" rel=\"nofollow\" title=\"South San Francisco, CA (216)\">South San Francisco, CA</a> (216)</li>\n",
      "</ul>\n",
      "<div class=\"more_link\"><span onclick=\"showAllRefinements('rb_Location'); return false;\" onkeyup=\"if (event.keyCode == 13) showAllRefinements('rb_Location'); return false;\" tabindex=\"0\">more »</span></div></div>\n",
      "</div>\n",
      "<div class=\"rbSection rbOpen\" id=\"rb_Company\">\n",
      "<div class=\"rbHeader\">\n",
      "<span aria-level=\"3\" class=\"ws_bold\" role=\"heading\">\n",
      "Company</span>\n",
      "</div>\n",
      "<div class=\"rbsrbo\" id=\"COMPANY_rbo\">\n",
      "<ul class=\"rbList\">\n",
      "<li onmousedown=\"rbptk('rb', 'cmp', '1');\">\n",
      "<a href=\"/jobs?q=data+scientist&amp;rbc=Amazon+Corporate+LLC&amp;jcid=db9f9b9d28743c59\" rel=\"nofollow\" title=\"Amazon Corporate LLC (846)\">Amazon Corporate LLC</a> (846)</li>\n",
      "<li onmousedown=\"rbptk('rb', 'cmp', '2');\">\n",
      "<a href=\"/jobs?q=data+scientist&amp;rbc=Walmart+eCommerce&amp;jcid=8c49e99f20f89e48\" rel=\"nofollow\" title=\"Walmart eCommerce (274)\">Walmart eCommerce</a> (274)</li>\n",
      "<li onmousedown=\"rbptk('rb', 'cmp', '3');\">\n",
      "<a href=\"/jobs?q=data+scientist&amp;rbc=Ball+Aerospace&amp;jcid=82c5e27e77990fa2\" rel=\"nofollow\" title=\"Ball Aerospace (214)\">Ball Aerospace</a> (214)</li>\n",
      "<li onmousedown=\"rbptk('rb', 'cmp', '4');\">\n",
      "<a href=\"/jobs?q=data+scientist&amp;rbc=ICF&amp;jcid=cc35f9c14f8799a9\" rel=\"nofollow\" title=\"ICF (171)\">ICF</a> (171)</li>\n",
      "<li onmousedown=\"rbptk('rb', 'cmp', '5');\">\n",
      "<a href=\"/jobs?q=data+scientist&amp;rbc=Microsoft&amp;jcid=734cb5a01ee60f80\" rel=\"nofollow\" title=\"Microsoft (170)\">Microsoft</a> (170)</li>\n",
      "<li class=\"moreLi\" onmousedown=\"rbptk('rb', 'cmp', '6');\">\n",
      "<a href=\"/jobs?q=data+scientist&amp;rbc=Bristol-Myers+Squibb&amp;jcid=45f7e11d0973ee3a\" rel=\"nofollow\" title=\"Bristol-Myers Squibb (156)\">Bristol-Myers Squibb</a> (156)</li>\n",
      "<li class=\"moreLi\" onmousedown=\"rbptk('rb', 'cmp', '7');\">\n",
      "<a href=\"/jobs?q=data+scientist&amp;rbc=NYU+School+of+Medicine&amp;jcid=fb8afb99610b0769\" rel=\"nofollow\" title=\"NYU School of Medicine (155)\">NYU School of Medicine</a> (155)</li>\n",
      "<li class=\"moreLi\" onmousedown=\"rbptk('rb', 'cmp', '8');\">\n",
      "<a href=\"/jobs?q=data+scientist&amp;rbc=University+of+Washington+Medical+Center&amp;jcid=4da4b12db8062858\" rel=\"nofollow\" title=\"University of Washington Medical Center (143)\">University of Washington Medical Center</a> (143)</li>\n",
      "<li class=\"moreLi\" onmousedown=\"rbptk('rb', 'cmp', '9');\">\n",
      "<a href=\"/jobs?q=data+scientist&amp;rbc=Booz+Allen+Hamilton&amp;jcid=4e041af1d0af1bc8\" rel=\"nofollow\" title=\"Booz Allen Hamilton (136)\">Booz Allen Hamilton</a> (136)</li>\n",
      "<li class=\"moreLi\" onmousedown=\"rbptk('rb', 'cmp', '10');\">\n",
      "<a href=\"/jobs?q=data+scientist&amp;rbc=Mount+Sinai+Health+System&amp;jcid=c007936ceb766fe5\" rel=\"nofollow\" title=\"Mount Sinai Health System (131)\">Mount Sinai Health System</a> (131)</li>\n",
      "<li class=\"moreLi\" onmousedown=\"rbptk('rb', 'cmp', '11');\">\n",
      "<a href=\"/jobs?q=data+scientist&amp;rbc=Workbridge+Associates&amp;jcid=a6920e0a635e5c4e\" rel=\"nofollow\" title=\"Workbridge Associates (124)\">Workbridge Associates</a> (124)</li>\n",
      "<li class=\"moreLi\" onmousedown=\"rbptk('rb', 'cmp', '12');\">\n",
      "<a href=\"/jobs?q=data+scientist&amp;rbc=NYU+Hospitals+Center&amp;jcid=7533ecbac58681c6\" rel=\"nofollow\" title=\"NYU Hospitals Center (119)\">NYU Hospitals Center</a> (119)</li>\n",
      "<li class=\"moreLi\" onmousedown=\"rbptk('rb', 'cmp', '13');\">\n",
      "<a href=\"/jobs?q=data+scientist&amp;rbc=BOEING&amp;jcid=edae4285faf6c2f0\" rel=\"nofollow\" title=\"BOEING (106)\">BOEING</a> (106)</li>\n",
      "<li class=\"moreLi\" onmousedown=\"rbptk('rb', 'cmp', '14');\">\n",
      "<a href=\"/jobs?q=data+scientist&amp;rbc=IBM&amp;jcid=de71a49b535e21cb\" rel=\"nofollow\" title=\"IBM (104)\">IBM</a> (104)</li>\n",
      "<li class=\"moreLi\" onmousedown=\"rbptk('rb', 'cmp', '15');\">\n",
      "<a href=\"/jobs?q=data+scientist&amp;rbc=AbbVie&amp;jcid=8e5fe3bb72b1ffcf\" rel=\"nofollow\" title=\"AbbVie (103)\">AbbVie</a> (103)</li>\n",
      "</ul>\n",
      "<div class=\"more_link\"><span onclick=\"showAllRefinements('rb_Company'); return false;\" onkeyup=\"if (event.keyCode == 13) showAllRefinements('rb_Company'); return false;\" tabindex=\"0\">more »</span></div></div>\n",
      "</div>\n",
      "<div class=\"rbSection rbOpen\" id=\"rb_Experience Level\">\n",
      "<div class=\"rbHeader\">\n",
      "<span aria-level=\"3\" class=\"ws_bold\" role=\"heading\">\n",
      "Experience Level</span>\n",
      "</div>\n",
      "<div class=\"rbsrbo\" id=\"EXP_LVL_rbo\">\n",
      "<ul class=\"rbList\">\n",
      "<li onmousedown=\"rbptk('rb', 'explvl', '1');\">\n",
      "<a href=\"/jobs?q=data+scientist&amp;explvl=mid_level\" rel=\"nofollow\" title=\"Mid Level (9260)\">Mid Level</a> (9260)</li>\n",
      "<li onmousedown=\"rbptk('rb', 'explvl', '2');\">\n",
      "<a href=\"/jobs?q=data+scientist&amp;explvl=entry_level\" rel=\"nofollow\" title=\"Entry Level (5939)\">Entry Level</a> (5939)</li>\n",
      "<li onmousedown=\"rbptk('rb', 'explvl', '3');\">\n",
      "<a href=\"/jobs?q=data+scientist&amp;explvl=senior_level\" rel=\"nofollow\" title=\"Senior Level (3340)\">Senior Level</a> (3340)</li>\n",
      "</ul>\n",
      "</div>\n",
      "</div>\n",
      "</div>\n",
      "</td>\n",
      "<td id=\"resultsCol\">\n",
      "<div class=\"messageContainer\">\n",
      "<script type=\"text/javascript\">\n",
      "function setJaPromoCookie() {\n",
      "var expires = new Date();\n",
      "expires.setTime(expires.getTime() + (5 * 365 * 24 * 60 * 60 * 1000));\n",
      "setCookie(\"showJaPromo\", \"1\", expires);\n",
      "}\n",
      "function setRefineByCookie(refineByTypes) {\n",
      "var expires = new Date();\n",
      "expires.setTime(expires.getTime() + (10 * 1000));\n",
      "for (var i = 0; i < refineByTypes.length; i++) {\n",
      "setCookie(refineByTypes[i], \"1\", expires);\n",
      "}\n",
      "}\n",
      "</script>\n",
      "<p class=\"message\">Tip: Enter your zip code in the \"where\" box to show results in your area.</p>\n",
      "</div>\n",
      "<style type=\"text/css\">\n",
      "#increased_radius_result {\n",
      "font-size: 16px;\n",
      "font-style: italic;\n",
      "}\n",
      "#original_radius_result{\n",
      "font-size: 13px;\n",
      "font-style: italic;\n",
      "color: #666666;\n",
      "}\n",
      "</style>\n",
      "<div class=\"resultsTop\"><div id=\"searchCount\">Jobs 1 to 10 of 22,324</div>\n",
      "<div data-tn-section=\"primePromo\" id=\"primePromo\">\n",
      "<span class=\"new\">New!</span> <a href=\"/promo/prime\" onclick=\"this.href = appendParamsOnce( this.href, '?from=serptop&amp;subfrom=primeprmtop&amp;trk.origin=jobsearch&amp;trk.variant=primeprmtop&amp;trk.tk=1bir89mko1fqt76d&amp;vertical=TECH&amp;x_isid=serptop&amp;x_ikw=data+scientist&amp;x_sid=serptop&amp;x_kw=data+scientist')\">Join Indeed Prime</a> - Get offers from great tech companies</div></div>\n",
      "<a id=\"jobPostingsAnchor\" tabindex=\"-1\"></a>\n",
      "<div class=\" row result\" data-jk=\"a13038ba8ea31fe1\" data-tn-component=\"organicJob\" id=\"p_a13038ba8ea31fe1\" itemscope=\"\" itemtype=\"http://schema.org/JobPosting\">\n",
      "<h2 class=\"jobtitle\" id=\"jl_a13038ba8ea31fe1\">\n",
      "<a class=\"turnstileLink\" data-tn-element=\"jobTitle\" href=\"/rc/clk?jk=a13038ba8ea31fe1&amp;fccid=de71a49b535e21cb\" itemprop=\"title\" onclick=\"setRefineByCookie([]); return rclk(this,jobmap[0],true,0);\" onmousedown=\"return rclk(this,jobmap[0],0);\" rel=\"nofollow\" target=\"_blank\" title=\"Entry Level Data Scientist\">Entry Level <b>Data</b> <b>Scientist</b></a>\n",
      "</h2>\n",
      "<span class=\"company\" itemprop=\"hiringOrganization\" itemtype=\"http://schema.org/Organization\">\n",
      "<span itemprop=\"name\">\n",
      "<a href=\"/cmp/IBM\" onmousedown=\"this.href = appendParamsOnce(this.href, 'from=SERP&amp;campaignid=serp-linkcompanyname&amp;fromjk=a13038ba8ea31fe1&amp;jcid=de71a49b535e21cb')\" target=\"_blank\">\n",
      "    IBM</a></span>\n",
      "</span>\n",
      "\n",
      " - <a class=\"turnstileLink slNoUnderline \" data-tn-element=\"reviewStars\" data-tn-variant=\"cmplinktst2\" href=\"/cmp/IBM/reviews\" onmousedown=\"this.href = appendParamsOnce(this.href, '?campaignid=cmplinktst2&amp;from=SERP&amp;jt=Entry+Level+Data+Scientist&amp;fromjk=a13038ba8ea31fe1&amp;jcid=de71a49b535e21cb');\" target=\"_blank\" title=\"IBM reviews\">\n",
      "<span class=\"ratings\"><span class=\"rating\" style=\"width:51.0px\"><!-- --></span></span>\n",
      "<span class=\"slNoUnderline\">16,110 reviews</span></a>\n",
      " - <span itemprop=\"jobLocation\" itemscope=\"\" itemtype=\"http://schema.org/Place\"><span class=\"location\" itemprop=\"address\" itemscope=\"\" itemtype=\"http://schema.org/Postaladdress\"><span itemprop=\"addressLocality\">United States</span></span></span>\n",
      "<table border=\"0\" cellpadding=\"0\" cellspacing=\"0\">\n",
      "<tr>\n",
      "<td class=\"snip\">\n",
      "<div>\n",
      "<span class=\"summary\" itemprop=\"description\">\n",
      "They draw upon the practice of <b>data</b> analysis, using predictive analytics, <b>data</b> mining, pattern recognition, <b>data</b> modeling, machine learning and various...</span>\n",
      "</div>\n",
      "<div class=\"result-link-bar-container\">\n",
      "<div class=\"result-link-bar\"><span class=\"date\">14 hours ago</span> <span class=\"tt_set\" id=\"tt_set_0\">  -  <a class=\"sl resultLink save-job-link \" href=\"#\" id=\"sj_a13038ba8ea31fe1\" onclick=\"changeJobState('a13038ba8ea31fe1', 'save', 'linkbar', false); return false;\" title=\"Save this job to my.indeed\">save job</a> - <a class=\"sl resultLink more-link \" href=\"#\" id=\"tog_0\" onclick=\"toggleMoreLinks('a13038ba8ea31fe1'); return false;\">more...</a></span><div class=\"edit_note_content\" id=\"editsaved2_a13038ba8ea31fe1\" style=\"display:none;\"></div><script>window['result_a13038ba8ea31fe1'] = {\"showSource\": false, \"source\": \"IBM\", \"loggedIn\": false, \"showMyJobsLinks\": false,\"undoAction\": \"unsave\",\"relativeJobAge\": \"14 hours ago\",\"jobKey\": \"a13038ba8ea31fe1\", \"myIndeedAvailable\": true, \"showMoreActionsLink\": true, \"resultNumber\": 0, \"jobStateChangedToSaved\": false, \"searchState\": \"q=data scientist&amp;\", \"basicPermaLink\": \"http://www.indeed.com\", \"saveJobFailed\": false, \"removeJobFailed\": false, \"requestPending\": false, \"notesEnabled\": true, \"currentPage\" : \"serp\", \"mjwebtransgroupactive\" : true, \"sponsored\" : false,\"reportJobButtonEnabled\": false, \"showMyJobsHired\": false, \"showSaveForSponsored\": false, \"showJobAge\": true};</script></div></div>\n",
      "<div class=\"tab-container\">\n",
      "<div class=\"more-links-container result-tab\" id=\"tt_display_0\" style=\"display:none;\"><a class=\"close-link closeLink\" href=\"#\" onclick=\"toggleMoreLinks('a13038ba8ea31fe1'); return false;\" title=\"Close\"></a><div class=\"more_actions\" id=\"more_0\"><ul><li><span class=\"mat\">View all <a href=\"/q-IBM-l-United-States-jobs.html\" rel=\"nofollow\">IBM jobs in United States</a> - <a href=\"/l-United-States-jobs.html\">United States jobs</a></span></li><li><span class=\"mat\">Salary Search: <a href=\"/salaries/Entry-Level-Scientist-Salaries,-US\" onmousedown=\"this.href = appendParamsOnce(this.href, '?campaignid=serp-more&amp;fromjk=a13038ba8ea31fe1&amp;from=serp-more');\">Entry Level Scientist salaries in United States</a></span></li><li><span class=\"mat\">Learn more about working at <a href=\"/cmp/IBM\" onmousedown=\"this.href = appendParamsOnce(this.href, '?fromjk=a13038ba8ea31fe1&amp;from=serp-more&amp;campaignid=serp-more&amp;jcid=de71a49b535e21cb');\">IBM</a></span></li><li><span class=\"mat\"><a href=\"/cmp/IBM/faq\" onmousedown=\"this.href = appendParamsOnce(this.href, '?from=serp-more&amp;campaignid=serp-more&amp;fromjk=a13038ba8ea31fe1&amp;jcid=de71a49b535e21cb');\">IBM questions about work, benefits, interviews and hiring process:</a><ul><li><a href=\"/cmp/IBM/faq/how-are-the-working-hours?quid=1albasgq1as0qfi6\" onmousedown=\"this.href = appendParamsOnce(this.href, '?from=serp-more&amp;campaignid=serp-more&amp;fromjk=a13038ba8ea31fe1&amp;jcid=de71a49b535e21cb');\">How are the working hours?</a></li><li><a href=\"/cmp/IBM/faq/how-long-does-it-take-to-get-hired-from-start-to-finish-what-are-the-steps-along-the-way?quid=1ambua0tv5nbuf10\" onmousedown=\"this.href = appendParamsOnce(this.href, '?from=serp-more&amp;campaignid=serp-more&amp;fromjk=a13038ba8ea31fe1&amp;jcid=de71a49b535e21cb');\">How long does it take to get hired from start to finish? What are the st...</a></li></ul></span></li><li><span class=\"mat\">Related forums: <a href=\"/forum/cmp/IBM.html\">IBM</a></span></li></ul></div></div><div class=\"dya-container result-tab\"></div>\n",
      "<div class=\"tellafriend-container result-tab email_job_content\"></div>\n",
      "<div class=\"sign-in-container result-tab\"></div>\n",
      "<div class=\"notes-container result-tab\"></div>\n",
      "</div>\n",
      "</td>\n",
      "</tr>\n",
      "</table>\n",
      "</div>\n",
      "<div class=\" row result\" data-jk=\"6e4c08399d7effdb\" data-tn-component=\"organicJob\" id=\"p_6e4c08399d7effdb\" itemscope=\"\" itemtype=\"http://schema.org/JobPosting\">\n",
      "<h2 class=\"jobtitle\" id=\"jl_6e4c08399d7effdb\">\n",
      "<a class=\"turnstileLink\" data-tn-element=\"jobTitle\" href=\"/company/CareerMonks/jobs/Data-Scientist-6e4c08399d7effdb?fccid=0df7c0983f070559\" itemprop=\"title\" onclick=\"setRefineByCookie([]); return rclk(this,jobmap[1],true,1);\" onmousedown=\"return rclk(this,jobmap[1],1);\" rel=\"nofollow\" target=\"_blank\" title=\"Data Scientist\"><b>Data</b> <b>Scientist</b></a>\n",
      "</h2>\n",
      "<span class=\"company\" itemprop=\"hiringOrganization\" itemtype=\"http://schema.org/Organization\">\n",
      "<span itemprop=\"name\">\n",
      "    CareerMonks</span>\n",
      "</span>\n",
      "\n",
      " - <span itemprop=\"jobLocation\" itemscope=\"\" itemtype=\"http://schema.org/Place\"><span class=\"location\" itemprop=\"address\" itemscope=\"\" itemtype=\"http://schema.org/Postaladdress\"><span itemprop=\"addressLocality\">Chicago, IL</span></span></span>\n",
      "<table border=\"0\" cellpadding=\"0\" cellspacing=\"0\">\n",
      "<tr>\n",
      "<td class=\"snip\">\n",
      "<span class=\"no-wrap\">$110,000 - $125,000 a year</span>\n",
      "<div>\n",
      "<span class=\"summary\" itemprop=\"description\">\n",
      "The successful candidate will have strong analytical expertise, <b>data</b> manipulation skills and modeling (or machine learning) experience focused on driving...</span>\n",
      "</div>\n",
      "<div class=\"iaP\">\n",
      "<span class=\"iaLabel\"> Easily apply</span>\n",
      "</div>\n",
      "<div class=\"result-link-bar-container\">\n",
      "<div class=\"result-link-bar\"><span class=\"date\">14 hours ago</span> <span class=\"tt_set\" id=\"tt_set_1\">  -  <a class=\"sl resultLink save-job-link \" href=\"#\" id=\"sj_6e4c08399d7effdb\" onclick=\"changeJobState('6e4c08399d7effdb', 'save', 'linkbar', false); return false;\" title=\"Save this job to my.indeed\">save job</a> - <a class=\"sl resultLink more-link \" href=\"#\" id=\"tog_1\" onclick=\"toggleMoreLinks('6e4c08399d7effdb'); return false;\">more...</a></span><div class=\"edit_note_content\" id=\"editsaved2_6e4c08399d7effdb\" style=\"display:none;\"></div><script>window['result_6e4c08399d7effdb'] = {\"showSource\": false, \"source\": \"Indeed\", \"loggedIn\": false, \"showMyJobsLinks\": false,\"undoAction\": \"unsave\",\"relativeJobAge\": \"14 hours ago\",\"jobKey\": \"6e4c08399d7effdb\", \"myIndeedAvailable\": true, \"showMoreActionsLink\": true, \"resultNumber\": 1, \"jobStateChangedToSaved\": false, \"searchState\": \"q=data scientist&amp;\", \"basicPermaLink\": \"http://www.indeed.com\", \"saveJobFailed\": false, \"removeJobFailed\": false, \"requestPending\": false, \"notesEnabled\": true, \"currentPage\" : \"serp\", \"mjwebtransgroupactive\" : true, \"sponsored\" : false,\"reportJobButtonEnabled\": false, \"showMyJobsHired\": false, \"showSaveForSponsored\": false, \"showJobAge\": true};</script></div></div>\n",
      "<div class=\"tab-container\">\n",
      "<div class=\"more-links-container result-tab\" id=\"tt_display_1\" style=\"display:none;\"><a class=\"close-link closeLink\" href=\"#\" onclick=\"toggleMoreLinks('6e4c08399d7effdb'); return false;\" title=\"Close\"></a><div class=\"more_actions\" id=\"more_1\"><ul><li><span class=\"mat\">View all <a href=\"/q-Careermonks-l-Chicago,-IL-jobs.html\" rel=\"nofollow\">CareerMonks jobs in Chicago, IL</a> - <a href=\"/l-Chicago,-IL-jobs.html\">Chicago jobs</a></span></li><li><span class=\"mat\">Salary Search: <a href=\"/salaries/Data-Scientist-Salaries,-Chicago-IL\" onmousedown=\"this.href = appendParamsOnce(this.href, '?campaignid=serp-more&amp;fromjk=6e4c08399d7effdb&amp;from=serp-more');\">Data Scientist salaries in Chicago, IL</a></span></li><li><span class=\"mat\">Learn more about working at <a href=\"/cmp/Careermonks-2\" onmousedown=\"this.href = appendParamsOnce(this.href, '?fromjk=6e4c08399d7effdb&amp;from=serp-more&amp;campaignid=serp-more&amp;jcid=75c71bbad326298c');\">Careermonks</a></span></li><li><span class=\"mat\">Related forums: <a href=\"/forum/loc/Chicago-Illinois.html\">Chicago, Illinois</a> - <a href=\"/forum/cmp/Careermonks-2.html\">CareerMonks</a></span></li></ul></div></div><div class=\"dya-container result-tab\"></div>\n",
      "<div class=\"tellafriend-container result-tab email_job_content\"></div>\n",
      "<div class=\"sign-in-container result-tab\"></div>\n",
      "<div class=\"notes-container result-tab\"></div>\n",
      "</div>\n",
      "</td>\n",
      "</tr>\n",
      "</table>\n",
      "</div>\n",
      "<div class=\" row result\" data-jk=\"503c2538b1491049\" data-tn-component=\"organicJob\" id=\"p_503c2538b1491049\" itemscope=\"\" itemtype=\"http://schema.org/JobPosting\">\n",
      "<h2 class=\"jobtitle\" id=\"jl_503c2538b1491049\">\n",
      "<a class=\"turnstileLink\" data-tn-element=\"jobTitle\" href=\"/rc/clk?jk=503c2538b1491049&amp;fccid=f1374be6a45f4b8a\" itemprop=\"title\" onclick=\"setRefineByCookie([]); return rclk(this,jobmap[2],true,0);\" onmousedown=\"return rclk(this,jobmap[2],0);\" rel=\"nofollow\" target=\"_blank\" title=\"Data Scientist/Machine Learning Engineer\"><b>Data</b> <b>Scientist</b>/Machine Learning Engineer</a>\n",
      "</h2>\n",
      "<span class=\"company\" itemprop=\"hiringOrganization\" itemtype=\"http://schema.org/Organization\">\n",
      "<span itemprop=\"name\">\n",
      "<a href=\"/cmp/Intel\" onmousedown=\"this.href = appendParamsOnce(this.href, 'from=SERP&amp;campaignid=serp-linkcompanyname&amp;fromjk=503c2538b1491049&amp;jcid=f1374be6a45f4b8a')\" target=\"_blank\">\n",
      "    Intel</a></span>\n",
      "</span>\n",
      "\n",
      " - <a class=\"turnstileLink slNoUnderline \" data-tn-element=\"reviewStars\" data-tn-variant=\"cmplinktst2\" href=\"/cmp/Intel/reviews\" onmousedown=\"this.href = appendParamsOnce(this.href, '?campaignid=cmplinktst2&amp;from=SERP&amp;jt=Data+Scientist%5C%2FMachine+Learning+Engineer&amp;fromjk=503c2538b1491049&amp;jcid=f1374be6a45f4b8a');\" target=\"_blank\" title=\"Intel reviews\">\n",
      "<span class=\"ratings\"><span class=\"rating\" style=\"width:52.2px\"><!-- --></span></span>\n",
      "<span class=\"slNoUnderline\">2,458 reviews</span></a>\n",
      " - <span itemprop=\"jobLocation\" itemscope=\"\" itemtype=\"http://schema.org/Place\"><span class=\"location\" itemprop=\"address\" itemscope=\"\" itemtype=\"http://schema.org/Postaladdress\"><span itemprop=\"addressLocality\">San Diego, CA 92129</span></span></span>\n",
      "<table border=\"0\" cellpadding=\"0\" cellspacing=\"0\">\n",
      "<tr>\n",
      "<td class=\"snip\">\n",
      "<div>\n",
      "<span class=\"summary\" itemprop=\"description\">\n",
      "Uses predictive modeling, statistics, Machine Learning, <b>Data</b> Mining, and other <b>data</b> analysis techniques to collect, explore, and extract insights from structure...</span>\n",
      "</div>\n",
      "<div class=\"result-link-bar-container\">\n",
      "<div class=\"result-link-bar\"><span class=\"date\">4 hours ago</span> <span class=\"tt_set\" id=\"tt_set_2\">  -  <a class=\"sl resultLink save-job-link \" href=\"#\" id=\"sj_503c2538b1491049\" onclick=\"changeJobState('503c2538b1491049', 'save', 'linkbar', false); return false;\" title=\"Save this job to my.indeed\">save job</a> - <a class=\"sl resultLink more-link \" href=\"#\" id=\"tog_2\" onclick=\"toggleMoreLinks('503c2538b1491049'); return false;\">more...</a></span><div class=\"edit_note_content\" id=\"editsaved2_503c2538b1491049\" style=\"display:none;\"></div><script>window['result_503c2538b1491049'] = {\"showSource\": false, \"source\": \"Intel\", \"loggedIn\": false, \"showMyJobsLinks\": false,\"undoAction\": \"unsave\",\"relativeJobAge\": \"4 hours ago\",\"jobKey\": \"503c2538b1491049\", \"myIndeedAvailable\": true, \"showMoreActionsLink\": true, \"resultNumber\": 2, \"jobStateChangedToSaved\": false, \"searchState\": \"q=data scientist&amp;\", \"basicPermaLink\": \"http://www.indeed.com\", \"saveJobFailed\": false, \"removeJobFailed\": false, \"requestPending\": false, \"notesEnabled\": true, \"currentPage\" : \"serp\", \"mjwebtransgroupactive\" : true, \"sponsored\" : false,\"reportJobButtonEnabled\": false, \"showMyJobsHired\": false, \"showSaveForSponsored\": false, \"showJobAge\": true};</script></div></div>\n",
      "<div class=\"tab-container\">\n",
      "<div class=\"more-links-container result-tab\" id=\"tt_display_2\" style=\"display:none;\"><a class=\"close-link closeLink\" href=\"#\" onclick=\"toggleMoreLinks('503c2538b1491049'); return false;\" title=\"Close\"></a><div class=\"more_actions\" id=\"more_2\"><ul><li><span class=\"mat\">View all <a href=\"/q-Intel-l-San-Diego,-CA-jobs.html\" rel=\"nofollow\">Intel jobs in San Diego, CA</a> - <a href=\"/l-San-Diego,-CA-jobs.html\">San Diego jobs</a></span></li><li><span class=\"mat\">Salary Search: <a href=\"/salaries/Machine-Learning-Engineer-Salaries,-San-Diego-CA\" onmousedown=\"this.href = appendParamsOnce(this.href, '?campaignid=serp-more&amp;fromjk=503c2538b1491049&amp;from=serp-more');\">Machine Learning Engineer salaries in San Diego, CA</a></span></li><li><span class=\"mat\">Learn more about working at <a href=\"/cmp/Intel\" onmousedown=\"this.href = appendParamsOnce(this.href, '?fromjk=503c2538b1491049&amp;from=serp-more&amp;campaignid=serp-more&amp;jcid=f1374be6a45f4b8a');\">Intel</a></span></li><li><span class=\"mat\"><a href=\"/cmp/Intel/faq\" onmousedown=\"this.href = appendParamsOnce(this.href, '?from=serp-more&amp;campaignid=serp-more&amp;fromjk=503c2538b1491049&amp;jcid=f1374be6a45f4b8a');\">Intel questions about work, benefits, interviews and hiring process:</a><ul><li><a href=\"/cmp/Intel/faq/how-did-you-get-your-first-interview-at-intel?quid=1akoobgvtb83seu0\" onmousedown=\"this.href = appendParamsOnce(this.href, '?from=serp-more&amp;campaignid=serp-more&amp;fromjk=503c2538b1491049&amp;jcid=f1374be6a45f4b8a');\">How did you get your first interview at Intel?</a></li><li><a href=\"/cmp/Intel/faq/what-benefits-does-the-company-provide?quid=1alla1csvb85ab14\" onmousedown=\"this.href = appendParamsOnce(this.href, '?from=serp-more&amp;campaignid=serp-more&amp;fromjk=503c2538b1491049&amp;jcid=f1374be6a45f4b8a');\">What benefits does the company provide?</a></li></ul></span></li><li><span class=\"mat\">Related forums: <a href=\"/forum/loc/SAN-Diego-California.html\">SAN Diego, California</a> - <a href=\"/forum/cmp/Intel.html\">Intel</a></span></li></ul></div></div><div class=\"dya-container result-tab\"></div>\n",
      "<div class=\"tellafriend-container result-tab email_job_content\"></div>\n",
      "<div class=\"sign-in-container result-tab\"></div>\n",
      "<div class=\"notes-container result-tab\"></div>\n",
      "</div>\n",
      "</td>\n",
      "</tr>\n",
      "</table>\n",
      "</div>\n",
      "<div class=\" row result\" data-jk=\"516fc216c1b0166b\" data-tn-component=\"organicJob\" id=\"p_516fc216c1b0166b\" itemscope=\"\" itemtype=\"http://schema.org/JobPosting\">\n",
      "<h2 class=\"jobtitle\" id=\"jl_516fc216c1b0166b\">\n",
      "<a class=\"turnstileLink\" data-tn-element=\"jobTitle\" href=\"/rc/clk?jk=516fc216c1b0166b&amp;fccid=5ed3d6e8b04e853e\" itemprop=\"title\" onclick=\"setRefineByCookie([]); return rclk(this,jobmap[3],true,0);\" onmousedown=\"return rclk(this,jobmap[3],0);\" rel=\"nofollow\" target=\"_blank\" title=\"Data Scientist\"><b>Data</b> <b>Scientist</b></a>\n",
      "</h2>\n",
      "<span class=\"company\" itemprop=\"hiringOrganization\" itemtype=\"http://schema.org/Organization\">\n",
      "<span itemprop=\"name\">\n",
      "<a href=\"/cmp/Fireeye\" onmousedown=\"this.href = appendParamsOnce(this.href, 'from=SERP&amp;campaignid=serp-linkcompanyname&amp;fromjk=516fc216c1b0166b&amp;jcid=5ed3d6e8b04e853e')\" target=\"_blank\">\n",
      "    FireEye</a></span>\n",
      "</span>\n",
      "\n",
      " - <a class=\"turnstileLink slNoUnderline \" data-tn-element=\"reviewStars\" data-tn-variant=\"cmplinktst2\" href=\"/cmp/Fireeye/reviews\" onmousedown=\"this.href = appendParamsOnce(this.href, '?campaignid=cmplinktst2&amp;from=SERP&amp;jt=Data+Scientist&amp;fromjk=516fc216c1b0166b&amp;jcid=5ed3d6e8b04e853e');\" target=\"_blank\" title=\"Fireeye reviews\">\n",
      "<span class=\"ratings\"><span class=\"rating\" style=\"width:42.6px\"><!-- --></span></span>\n",
      "<span class=\"slNoUnderline\">48 reviews</span></a>\n",
      " - <span itemprop=\"jobLocation\" itemscope=\"\" itemtype=\"http://schema.org/Place\"><span class=\"location\" itemprop=\"address\" itemscope=\"\" itemtype=\"http://schema.org/Postaladdress\"><span itemprop=\"addressLocality\">Reston, VA 20190</span></span></span>\n",
      "<table border=\"0\" cellpadding=\"0\" cellspacing=\"0\">\n",
      "<tr>\n",
      "<td class=\"snip\">\n",
      "<div>\n",
      "<span class=\"summary\" itemprop=\"description\">\n",
      "Experience designing machine learning algorithms to extract insights from large <b>data</b> sets. Advanced degree (Master’s or above) in a quantitative, scientific, or...</span>\n",
      "</div>\n",
      "<div class=\"iaP\">\n",
      "<span class=\"iaLabel\"> Easily apply</span>\n",
      "</div>\n",
      "<div class=\"result-link-bar-container\">\n",
      "<div class=\"result-link-bar\"><span class=\"date\">1 day ago</span> <span class=\"tt_set\" id=\"tt_set_3\">  -  <a class=\"sl resultLink save-job-link \" href=\"#\" id=\"sj_516fc216c1b0166b\" onclick=\"changeJobState('516fc216c1b0166b', 'save', 'linkbar', false); return false;\" title=\"Save this job to my.indeed\">save job</a> - <a class=\"sl resultLink more-link \" href=\"#\" id=\"tog_3\" onclick=\"toggleMoreLinks('516fc216c1b0166b'); return false;\">more...</a></span><div class=\"edit_note_content\" id=\"editsaved2_516fc216c1b0166b\" style=\"display:none;\"></div><script>window['result_516fc216c1b0166b'] = {\"showSource\": false, \"source\": \"FireEye\", \"loggedIn\": false, \"showMyJobsLinks\": false,\"undoAction\": \"unsave\",\"relativeJobAge\": \"1 day ago\",\"jobKey\": \"516fc216c1b0166b\", \"myIndeedAvailable\": true, \"showMoreActionsLink\": true, \"resultNumber\": 3, \"jobStateChangedToSaved\": false, \"searchState\": \"q=data scientist&amp;\", \"basicPermaLink\": \"http://www.indeed.com\", \"saveJobFailed\": false, \"removeJobFailed\": false, \"requestPending\": false, \"notesEnabled\": true, \"currentPage\" : \"serp\", \"mjwebtransgroupactive\" : true, \"sponsored\" : false,\"reportJobButtonEnabled\": false, \"showMyJobsHired\": false, \"showSaveForSponsored\": false, \"showJobAge\": true};</script></div></div>\n",
      "<div class=\"tab-container\">\n",
      "<div class=\"more-links-container result-tab\" id=\"tt_display_3\" style=\"display:none;\"><a class=\"close-link closeLink\" href=\"#\" onclick=\"toggleMoreLinks('516fc216c1b0166b'); return false;\" title=\"Close\"></a><div class=\"more_actions\" id=\"more_3\"><ul><li><span class=\"mat\">View all <a href=\"/q-Fireeye-l-Reston,-VA-jobs.html\" rel=\"nofollow\">FireEye jobs in Reston, VA</a> - <a href=\"/l-Reston,-VA-jobs.html\">Reston jobs</a></span></li><li><span class=\"mat\">Salary Search: <a href=\"/salaries/Data-Scientist-Salaries,-Reston-VA\" onmousedown=\"this.href = appendParamsOnce(this.href, '?campaignid=serp-more&amp;fromjk=516fc216c1b0166b&amp;from=serp-more');\">Data Scientist salaries in Reston, VA</a></span></li><li><span class=\"mat\">Learn more about working at <a href=\"/cmp/Fireeye\" onmousedown=\"this.href = appendParamsOnce(this.href, '?fromjk=516fc216c1b0166b&amp;from=serp-more&amp;campaignid=serp-more&amp;jcid=5ed3d6e8b04e853e');\">Fireeye</a></span></li><li><span class=\"mat\"><a href=\"/cmp/Fireeye/faq\" onmousedown=\"this.href = appendParamsOnce(this.href, '?from=serp-more&amp;campaignid=serp-more&amp;fromjk=516fc216c1b0166b&amp;jcid=5ed3d6e8b04e853e');\">Fireeye questions about work, benefits, interviews and hiring process:</a><ul><li><a href=\"/cmp/Fireeye/faq/what-is-the-work-environment-and-culture-like-at-fireeye?quid=1aqlhqbjdb898cm9\" onmousedown=\"this.href = appendParamsOnce(this.href, '?from=serp-more&amp;campaignid=serp-more&amp;fromjk=516fc216c1b0166b&amp;jcid=5ed3d6e8b04e853e');\">What is the work environment and culture like at FireEye?</a></li><li><a href=\"/cmp/Fireeye/faq/what-is-the-sick-leave-policy-like-how-many-sick-days-do-you-get-per-year?quid=1b67krhth0mts2l4\" onmousedown=\"this.href = appendParamsOnce(this.href, '?from=serp-more&amp;campaignid=serp-more&amp;fromjk=516fc216c1b0166b&amp;jcid=5ed3d6e8b04e853e');\">What is the sick leave policy like? How many sick days do you get per year?</a></li></ul></span></li><li><span class=\"mat\">Related forums: <a href=\"/forum/loc/Reston-Virginia.html\">Reston, Virginia</a> - <a href=\"/forum/cmp/Fireeye.html\">FireEye</a></span></li></ul></div></div><div class=\"dya-container result-tab\"></div>\n",
      "<div class=\"tellafriend-container result-tab email_job_content\"></div>\n",
      "<div class=\"sign-in-container result-tab\"></div>\n",
      "<div class=\"notes-container result-tab\"></div>\n",
      "</div>\n",
      "</td>\n",
      "</tr>\n",
      "</table>\n",
      "</div>\n",
      "<div class=\" row result\" data-jk=\"15eb18345642c0e6\" data-tn-component=\"organicJob\" id=\"p_15eb18345642c0e6\" itemscope=\"\" itemtype=\"http://schema.org/JobPosting\">\n",
      "<h2 class=\"jobtitle\" id=\"jl_15eb18345642c0e6\">\n",
      "<a class=\"turnstileLink\" data-tn-element=\"jobTitle\" href=\"/company/Nityo-Infotech/jobs/Data-Scientist-15eb18345642c0e6?fccid=3905dabdfb38f01b\" itemprop=\"title\" onclick=\"setRefineByCookie([]); return rclk(this,jobmap[4],true,1);\" onmousedown=\"return rclk(this,jobmap[4],1);\" rel=\"nofollow\" target=\"_blank\" title=\"Data Scientist\"><b>Data</b> <b>Scientist</b></a>\n",
      "</h2>\n",
      "<span class=\"company\" itemprop=\"hiringOrganization\" itemtype=\"http://schema.org/Organization\">\n",
      "<span itemprop=\"name\">\n",
      "    Nityo Infotech</span>\n",
      "</span>\n",
      "\n",
      " - <span itemprop=\"jobLocation\" itemscope=\"\" itemtype=\"http://schema.org/Place\"><span class=\"location\" itemprop=\"address\" itemscope=\"\" itemtype=\"http://schema.org/Postaladdress\"><span itemprop=\"addressLocality\">Newark, DE</span></span></span>\n",
      " <a class=\"more_loc\" href=\"/jobs?q=data+scientist&amp;rbt=Data+Scientist&amp;rbc=Nityo+Infotech&amp;jtid=1872a3288ede048a&amp;jcid=026a169b2ca27b1f&amp;grp=tcl\" onmousedown=\"ptk('addlloc');\" rel=\"nofollow\">+1 location</a><table border=\"0\" cellpadding=\"0\" cellspacing=\"0\">\n",
      "<tr>\n",
      "<td class=\"snip\">\n",
      "<span class=\"no-wrap\">$125,000 a year</span>\n",
      "<div>\n",
      "<span class=\"summary\" itemprop=\"description\">\n",
      "Experienced in <b>Data</b> analysis ,Analysis, Predictive Modeling, <b>Data</b> Analytics/Analysis and <b>Data</b> Mining techniques....</span>\n",
      "</div>\n",
      "<div class=\"iaP\">\n",
      "<span class=\"iaLabel\"> Easily apply</span>\n",
      "</div>\n",
      "<div class=\"result-link-bar-container\">\n",
      "<div class=\"result-link-bar\"><span class=\"date\">23 hours ago</span> <span class=\"tt_set\" id=\"tt_set_4\">  -  <a class=\"sl resultLink save-job-link \" href=\"#\" id=\"sj_15eb18345642c0e6\" onclick=\"changeJobState('15eb18345642c0e6', 'save', 'linkbar', false); return false;\" title=\"Save this job to my.indeed\">save job</a> - <a class=\"sl resultLink more-link \" href=\"#\" id=\"tog_4\" onclick=\"toggleMoreLinks('15eb18345642c0e6'); return false;\">more...</a></span><div class=\"edit_note_content\" id=\"editsaved2_15eb18345642c0e6\" style=\"display:none;\"></div><script>window['result_15eb18345642c0e6'] = {\"showSource\": false, \"source\": \"Indeed\", \"loggedIn\": false, \"showMyJobsLinks\": false,\"undoAction\": \"unsave\",\"relativeJobAge\": \"23 hours ago\",\"jobKey\": \"15eb18345642c0e6\", \"myIndeedAvailable\": true, \"showMoreActionsLink\": true, \"resultNumber\": 4, \"jobStateChangedToSaved\": false, \"searchState\": \"q=data scientist&amp;\", \"basicPermaLink\": \"http://www.indeed.com\", \"saveJobFailed\": false, \"removeJobFailed\": false, \"requestPending\": false, \"notesEnabled\": true, \"currentPage\" : \"serp\", \"mjwebtransgroupactive\" : true, \"sponsored\" : false,\"reportJobButtonEnabled\": false, \"showMyJobsHired\": false, \"showSaveForSponsored\": false, \"showJobAge\": true};</script></div></div>\n",
      "<div class=\"tab-container\">\n",
      "<div class=\"more-links-container result-tab\" id=\"tt_display_4\" style=\"display:none;\"><a class=\"close-link closeLink\" href=\"#\" onclick=\"toggleMoreLinks('15eb18345642c0e6'); return false;\" title=\"Close\"></a><div class=\"more_actions\" id=\"more_4\"><ul><li><span class=\"mat\">View all <a href=\"/q-Nityo-Infotech-l-Newark,-DE-jobs.html\" rel=\"nofollow\">Nityo Infotech jobs in Newark, DE</a> - <a href=\"/l-Newark,-DE-jobs.html\">Newark jobs</a></span></li><li><span class=\"mat\">Salary Search: <a href=\"/salaries/Data-Scientist-Salaries,-Newark-DE\" onmousedown=\"this.href = appendParamsOnce(this.href, '?campaignid=serp-more&amp;fromjk=15eb18345642c0e6&amp;from=serp-more');\">Data Scientist salaries in Newark, DE</a></span></li><li><span class=\"mat\">Related forums: <a href=\"/forum/cmp/Nityo-Infotech-63a0f155.html\">Nityo Infotech</a> - <a href=\"/forum/loc/Newark-Delaware.html\">Newark, Delaware</a></span></li></ul></div></div><div class=\"dya-container result-tab\"></div>\n",
      "<div class=\"tellafriend-container result-tab email_job_content\"></div>\n",
      "<div class=\"sign-in-container result-tab\"></div>\n",
      "<div class=\"notes-container result-tab\"></div>\n",
      "</div>\n",
      "</td>\n",
      "</tr>\n",
      "</table>\n",
      "</div>\n",
      "<div class=\" row result\" data-jk=\"0ed717cec9b0e1a4\" data-tn-component=\"organicJob\" id=\"p_0ed717cec9b0e1a4\" itemscope=\"\" itemtype=\"http://schema.org/JobPosting\">\n",
      "<h2 class=\"jobtitle\" id=\"jl_0ed717cec9b0e1a4\">\n",
      "<a class=\"turnstileLink\" data-tn-element=\"jobTitle\" href=\"/rc/clk?jk=0ed717cec9b0e1a4&amp;fccid=8736b2d9913c2962\" itemprop=\"title\" onclick=\"setRefineByCookie([]); return rclk(this,jobmap[5],true,0);\" onmousedown=\"return rclk(this,jobmap[5],0);\" rel=\"nofollow\" target=\"_blank\" title=\"Data Scientist\"><b>Data</b> <b>Scientist</b></a>\n",
      "</h2>\n",
      "<span class=\"company\" itemprop=\"hiringOrganization\" itemtype=\"http://schema.org/Organization\">\n",
      "<span itemprop=\"name\">\n",
      "    TopTal</span>\n",
      "</span>\n",
      "\n",
      " - <span itemprop=\"jobLocation\" itemscope=\"\" itemtype=\"http://schema.org/Place\"><span class=\"location\" itemprop=\"address\" itemscope=\"\" itemtype=\"http://schema.org/Postaladdress\"><span itemprop=\"addressLocality\">United States</span></span></span>\n",
      "<table border=\"0\" cellpadding=\"0\" cellspacing=\"0\">\n",
      "<tr>\n",
      "<td class=\"snip\">\n",
      "<div>\n",
      "<span class=\"summary\" itemprop=\"description\">\n",
      "Use statistical, algorithmic, <b>data</b> mining, and visualization techniques to model complex problems, identify opportunities, discover solutions, and deliver...</span>\n",
      "</div>\n",
      "<div class=\"result-link-bar-container\">\n",
      "<div class=\"result-link-bar\"><span class=\"date\">5 hours ago</span> <span class=\"tt_set\" id=\"tt_set_5\">  -  <a class=\"sl resultLink save-job-link \" href=\"#\" id=\"sj_0ed717cec9b0e1a4\" onclick=\"changeJobState('0ed717cec9b0e1a4', 'save', 'linkbar', false); return false;\" title=\"Save this job to my.indeed\">save job</a> - <a class=\"sl resultLink more-link \" href=\"#\" id=\"tog_5\" onclick=\"toggleMoreLinks('0ed717cec9b0e1a4'); return false;\">more...</a></span><div class=\"edit_note_content\" id=\"editsaved2_0ed717cec9b0e1a4\" style=\"display:none;\"></div><script>window['result_0ed717cec9b0e1a4'] = {\"showSource\": false, \"source\": \"Toptal\", \"loggedIn\": false, \"showMyJobsLinks\": false,\"undoAction\": \"unsave\",\"relativeJobAge\": \"5 hours ago\",\"jobKey\": \"0ed717cec9b0e1a4\", \"myIndeedAvailable\": true, \"showMoreActionsLink\": true, \"resultNumber\": 5, \"jobStateChangedToSaved\": false, \"searchState\": \"q=data scientist&amp;\", \"basicPermaLink\": \"http://www.indeed.com\", \"saveJobFailed\": false, \"removeJobFailed\": false, \"requestPending\": false, \"notesEnabled\": true, \"currentPage\" : \"serp\", \"mjwebtransgroupactive\" : true, \"sponsored\" : false,\"reportJobButtonEnabled\": false, \"showMyJobsHired\": false, \"showSaveForSponsored\": false, \"showJobAge\": true};</script></div></div>\n",
      "<div class=\"tab-container\">\n",
      "<div class=\"more-links-container result-tab\" id=\"tt_display_5\" style=\"display:none;\"><a class=\"close-link closeLink\" href=\"#\" onclick=\"toggleMoreLinks('0ed717cec9b0e1a4'); return false;\" title=\"Close\"></a><div class=\"more_actions\" id=\"more_5\"><ul><li><span class=\"mat\">View all <a href=\"/q-Toptal-l-United-States-jobs.html\" rel=\"nofollow\">TopTal jobs in United States</a> - <a href=\"/l-United-States-jobs.html\">United States jobs</a></span></li><li><span class=\"mat\">Salary Search: <a href=\"/salaries/Data-Scientist-Salaries,-US\" onmousedown=\"this.href = appendParamsOnce(this.href, '?campaignid=serp-more&amp;fromjk=0ed717cec9b0e1a4&amp;from=serp-more');\">Data Scientist salaries in United States</a></span></li><li><span class=\"mat\">Learn more about working at <a href=\"/cmp/Toptal\" onmousedown=\"this.href = appendParamsOnce(this.href, '?fromjk=0ed717cec9b0e1a4&amp;from=serp-more&amp;campaignid=serp-more&amp;jcid=b733e7615b26b758');\">Toptal</a></span></li><li><span class=\"mat\">Related forums:  - <a href=\"/forum/cmp/Toptal.html\">Toptal</a></span></li></ul></div></div><div class=\"dya-container result-tab\"></div>\n",
      "<div class=\"tellafriend-container result-tab email_job_content\"></div>\n",
      "<div class=\"sign-in-container result-tab\"></div>\n",
      "<div class=\"notes-container result-tab\"></div>\n",
      "</div>\n",
      "</td>\n",
      "</tr>\n",
      "</table>\n",
      "</div>\n",
      "<div class=\" row result\" data-jk=\"07b19e1211995c68\" data-tn-component=\"organicJob\" id=\"p_07b19e1211995c68\" itemscope=\"\" itemtype=\"http://schema.org/JobPosting\">\n",
      "<h2 class=\"jobtitle\" id=\"jl_07b19e1211995c68\">\n",
      "<a class=\"turnstileLink\" data-tn-element=\"jobTitle\" href=\"/company/CareerMonks/jobs/Big-Data-Engineer-07b19e1211995c68?fccid=0df7c0983f070559\" itemprop=\"title\" onclick=\"setRefineByCookie([]); return rclk(this,jobmap[6],true,1);\" onmousedown=\"return rclk(this,jobmap[6],1);\" rel=\"nofollow\" target=\"_blank\" title=\"Big data Engineer\">Big <b>data</b> Engineer</a>\n",
      "</h2>\n",
      "<span class=\"company\" itemprop=\"hiringOrganization\" itemtype=\"http://schema.org/Organization\">\n",
      "<span itemprop=\"name\">\n",
      "    CareerMonks</span>\n",
      "</span>\n",
      "\n",
      " - <span itemprop=\"jobLocation\" itemscope=\"\" itemtype=\"http://schema.org/Place\"><span class=\"location\" itemprop=\"address\" itemscope=\"\" itemtype=\"http://schema.org/Postaladdress\"><span itemprop=\"addressLocality\">St. Louis, MO</span></span></span>\n",
      "<table border=\"0\" cellpadding=\"0\" cellspacing=\"0\">\n",
      "<tr>\n",
      "<td class=\"snip\">\n",
      "<span class=\"no-wrap\">$100,000 - $120,000 a year</span>\n",
      "<div>\n",
      "<span class=\"summary\" itemprop=\"description\">\n",
      "Participate in meetings with business (account/product management, <b>data</b> <b>scientists</b>) to obtain new requirements....</span>\n",
      "</div>\n",
      "<div class=\"iaP\">\n",
      "<span class=\"iaLabel\"> Easily apply</span>\n",
      "</div>\n",
      "<div class=\"result-link-bar-container\">\n",
      "<div class=\"result-link-bar\"><span class=\"date\">15 hours ago</span> <span class=\"tt_set\" id=\"tt_set_6\">  -  <a class=\"sl resultLink save-job-link \" href=\"#\" id=\"sj_07b19e1211995c68\" onclick=\"changeJobState('07b19e1211995c68', 'save', 'linkbar', false); return false;\" title=\"Save this job to my.indeed\">save job</a> - <a class=\"sl resultLink more-link \" href=\"#\" id=\"tog_6\" onclick=\"toggleMoreLinks('07b19e1211995c68'); return false;\">more...</a></span><div class=\"edit_note_content\" id=\"editsaved2_07b19e1211995c68\" style=\"display:none;\"></div><script>window['result_07b19e1211995c68'] = {\"showSource\": false, \"source\": \"Indeed\", \"loggedIn\": false, \"showMyJobsLinks\": false,\"undoAction\": \"unsave\",\"relativeJobAge\": \"15 hours ago\",\"jobKey\": \"07b19e1211995c68\", \"myIndeedAvailable\": true, \"showMoreActionsLink\": true, \"resultNumber\": 6, \"jobStateChangedToSaved\": false, \"searchState\": \"q=data scientist&amp;\", \"basicPermaLink\": \"http://www.indeed.com\", \"saveJobFailed\": false, \"removeJobFailed\": false, \"requestPending\": false, \"notesEnabled\": true, \"currentPage\" : \"serp\", \"mjwebtransgroupactive\" : true, \"sponsored\" : false,\"reportJobButtonEnabled\": false, \"showMyJobsHired\": false, \"showSaveForSponsored\": false, \"showJobAge\": true};</script></div></div>\n",
      "<div class=\"tab-container\">\n",
      "<div class=\"more-links-container result-tab\" id=\"tt_display_6\" style=\"display:none;\"><a class=\"close-link closeLink\" href=\"#\" onclick=\"toggleMoreLinks('07b19e1211995c68'); return false;\" title=\"Close\"></a><div class=\"more_actions\" id=\"more_6\"><ul><li><span class=\"mat\">View all <a href=\"/q-Careermonks-l-St.-Louis,-MO-jobs.html\" rel=\"nofollow\">CareerMonks jobs in St. Louis, MO</a> - <a href=\"/l-St.-Louis,-MO-jobs.html\">St. Louis jobs</a></span></li><li><span class=\"mat\">Salary Search: <a href=\"/salaries/Data-Warehouse-Engineer-Salaries,-St.-Louis-MO\" onmousedown=\"this.href = appendParamsOnce(this.href, '?campaignid=serp-more&amp;fromjk=07b19e1211995c68&amp;from=serp-more');\">Data Warehouse Engineer salaries in St. Louis, MO</a></span></li><li><span class=\"mat\">Learn more about working at <a href=\"/cmp/Careermonks-2\" onmousedown=\"this.href = appendParamsOnce(this.href, '?fromjk=07b19e1211995c68&amp;from=serp-more&amp;campaignid=serp-more&amp;jcid=75c71bbad326298c');\">Careermonks</a></span></li><li><span class=\"mat\">Related forums: <a href=\"/forum/cmp/Careermonks-2.html\">CareerMonks</a></span></li></ul></div></div><div class=\"dya-container result-tab\"></div>\n",
      "<div class=\"tellafriend-container result-tab email_job_content\"></div>\n",
      "<div class=\"sign-in-container result-tab\"></div>\n",
      "<div class=\"notes-container result-tab\"></div>\n",
      "</div>\n",
      "</td>\n",
      "</tr>\n",
      "</table>\n",
      "</div>\n",
      "<div class=\" row result\" data-jk=\"391885e2c738c2df\" data-tn-component=\"organicJob\" id=\"p_391885e2c738c2df\" itemscope=\"\" itemtype=\"http://schema.org/JobPosting\">\n",
      "<h2 class=\"jobtitle\" id=\"jl_391885e2c738c2df\">\n",
      "<a class=\"turnstileLink\" data-tn-element=\"jobTitle\" href=\"/rc/clk?jk=391885e2c738c2df&amp;fccid=e779d33455756e06\" itemprop=\"title\" onclick=\"setRefineByCookie([]); return rclk(this,jobmap[7],true,0);\" onmousedown=\"return rclk(this,jobmap[7],0);\" rel=\"nofollow\" target=\"_blank\" title=\"Data Scientist\"><b>Data</b> <b>Scientist</b></a>\n",
      "</h2>\n",
      "<span class=\"company\" itemprop=\"hiringOrganization\" itemtype=\"http://schema.org/Organization\">\n",
      "<span itemprop=\"name\">\n",
      "    A2Z Development Center, Inc.</span>\n",
      "</span>\n",
      "\n",
      " - <span itemprop=\"jobLocation\" itemscope=\"\" itemtype=\"http://schema.org/Place\"><span class=\"location\" itemprop=\"address\" itemscope=\"\" itemtype=\"http://schema.org/Postaladdress\"><span itemprop=\"addressLocality\">Sunnyvale, CA</span></span></span>\n",
      "<table border=\"0\" cellpadding=\"0\" cellspacing=\"0\">\n",
      "<tr>\n",
      "<td class=\"snip\">\n",
      "<div>\n",
      "<span class=\"summary\" itemprop=\"description\">\n",
      "As a <b>Data</b> <b>Scientist</b>, you will:. 3+ years experience with various machine learning/statistical modeling <b>data</b> analysis tools and techniques, and parameters that...</span>\n",
      "</div>\n",
      "<div class=\"result-link-bar-container\">\n",
      "<div class=\"result-link-bar\"><span class=\"result-link-source\">Lab126 </span>- <span class=\"date\">1 day ago</span> <span class=\"tt_set\" id=\"tt_set_7\">  -  <a class=\"sl resultLink save-job-link \" href=\"#\" id=\"sj_391885e2c738c2df\" onclick=\"changeJobState('391885e2c738c2df', 'save', 'linkbar', false); return false;\" title=\"Save this job to my.indeed\">save job</a> - <a class=\"sl resultLink more-link \" href=\"#\" id=\"tog_7\" onclick=\"toggleMoreLinks('391885e2c738c2df'); return false;\">more...</a></span><div class=\"edit_note_content\" id=\"editsaved2_391885e2c738c2df\" style=\"display:none;\"></div><script>window['result_391885e2c738c2df'] = {\"showSource\": true, \"source\": \"Lab126\", \"loggedIn\": false, \"showMyJobsLinks\": false,\"undoAction\": \"unsave\",\"relativeJobAge\": \"1 day ago\",\"jobKey\": \"391885e2c738c2df\", \"myIndeedAvailable\": true, \"showMoreActionsLink\": true, \"resultNumber\": 7, \"jobStateChangedToSaved\": false, \"searchState\": \"q=data scientist&amp;\", \"basicPermaLink\": \"http://www.indeed.com\", \"saveJobFailed\": false, \"removeJobFailed\": false, \"requestPending\": false, \"notesEnabled\": true, \"currentPage\" : \"serp\", \"mjwebtransgroupactive\" : true, \"sponsored\" : false,\"reportJobButtonEnabled\": false, \"showMyJobsHired\": false, \"showSaveForSponsored\": false, \"showJobAge\": true};</script></div></div>\n",
      "<div class=\"tab-container\">\n",
      "<div class=\"more-links-container result-tab\" id=\"tt_display_7\" style=\"display:none;\"><a class=\"close-link closeLink\" href=\"#\" onclick=\"toggleMoreLinks('391885e2c738c2df'); return false;\" title=\"Close\"></a><div class=\"more_actions\" id=\"more_7\"><ul><li><span class=\"mat\">View all <a href=\"/jobs?q=A2z+Development+Center,+Inc&amp;l=Sunnyvale,+CA&amp;nc=jasx\" rel=\"nofollow\">A2Z Development Center, Inc. jobs in Sunnyvale, CA</a> - <a href=\"/l-Sunnyvale,-CA-jobs.html\">Sunnyvale jobs</a></span></li><li><span class=\"mat\">Salary Search: <a href=\"/salaries/Data-Scientist-Salaries,-Sunnyvale-CA\" onmousedown=\"this.href = appendParamsOnce(this.href, '?campaignid=serp-more&amp;fromjk=391885e2c738c2df&amp;from=serp-more');\">Data Scientist salaries in Sunnyvale, CA</a></span></li><li><span class=\"mat\">Related forums: <a href=\"/forum/loc/Sunnyvale-California.html\">Sunnyvale, California</a></span></li></ul></div></div><div class=\"dya-container result-tab\"></div>\n",
      "<div class=\"tellafriend-container result-tab email_job_content\"></div>\n",
      "<div class=\"sign-in-container result-tab\"></div>\n",
      "<div class=\"notes-container result-tab\"></div>\n",
      "</div>\n",
      "</td>\n",
      "</tr>\n",
      "</table>\n",
      "</div>\n",
      "<div class=\" row result\" data-jk=\"299deb9ae19c52bf\" data-tn-component=\"organicJob\" id=\"p_299deb9ae19c52bf\" itemscope=\"\" itemtype=\"http://schema.org/JobPosting\">\n",
      "<h2 class=\"jobtitle\" id=\"jl_299deb9ae19c52bf\">\n",
      "<a class=\"turnstileLink\" data-tn-element=\"jobTitle\" href=\"/rc/clk?jk=299deb9ae19c52bf&amp;fccid=12c109dc261fc3cb\" itemprop=\"title\" onclick=\"setRefineByCookie([]); return rclk(this,jobmap[8],true,0);\" onmousedown=\"return rclk(this,jobmap[8],0);\" rel=\"nofollow\" target=\"_blank\" title=\"Machine Learning Scientist\">Machine Learning <b>Scientist</b></a>\n",
      "</h2>\n",
      "<span class=\"company\" itemprop=\"hiringOrganization\" itemtype=\"http://schema.org/Organization\">\n",
      "<span itemprop=\"name\">\n",
      "    Tinder</span>\n",
      "</span>\n",
      "\n",
      " - <span itemprop=\"jobLocation\" itemscope=\"\" itemtype=\"http://schema.org/Place\"><span class=\"location\" itemprop=\"address\" itemscope=\"\" itemtype=\"http://schema.org/Postaladdress\"><span itemprop=\"addressLocality\">Palo Alto, CA</span></span></span>\n",
      " <a class=\"more_loc\" href=\"/jobs?q=data+scientist&amp;rbt=Machine+Learning+Scientist&amp;rbc=Tinder&amp;jtid=b0c03ce435143d15&amp;jcid=9a9618f10ebad356&amp;grp=tcl\" onmousedown=\"ptk('addlloc');\" rel=\"nofollow\">+1 location</a><table border=\"0\" cellpadding=\"0\" cellspacing=\"0\">\n",
      "<tr>\n",
      "<td class=\"snip\">\n",
      "<div>\n",
      "<span class=\"summary\" itemprop=\"description\">\n",
      "We are looking for a Machine Learning <b>Scientist</b> to help us explore a vast amount of <b>data</b> and derive knowledge from that <b>data</b> that can be used to improve our...</span>\n",
      "</div>\n",
      "<div class=\"iaP\">\n",
      "<span class=\"iaLabel\"> Easily apply</span>\n",
      "</div>\n",
      "<div class=\"result-link-bar-container\">\n",
      "<div class=\"result-link-bar\"><span class=\"date\">9 days ago</span> <span class=\"tt_set\" id=\"tt_set_8\">  -  <a class=\"sl resultLink save-job-link \" href=\"#\" id=\"sj_299deb9ae19c52bf\" onclick=\"changeJobState('299deb9ae19c52bf', 'save', 'linkbar', false); return false;\" title=\"Save this job to my.indeed\">save job</a> - <a class=\"sl resultLink more-link \" href=\"#\" id=\"tog_8\" onclick=\"toggleMoreLinks('299deb9ae19c52bf'); return false;\">more...</a></span><div class=\"edit_note_content\" id=\"editsaved2_299deb9ae19c52bf\" style=\"display:none;\"></div><script>window['result_299deb9ae19c52bf'] = {\"showSource\": false, \"source\": \"Tinder\", \"loggedIn\": false, \"showMyJobsLinks\": false,\"undoAction\": \"unsave\",\"relativeJobAge\": \"9 days ago\",\"jobKey\": \"299deb9ae19c52bf\", \"myIndeedAvailable\": true, \"showMoreActionsLink\": true, \"resultNumber\": 8, \"jobStateChangedToSaved\": false, \"searchState\": \"q=data scientist&amp;\", \"basicPermaLink\": \"http://www.indeed.com\", \"saveJobFailed\": false, \"removeJobFailed\": false, \"requestPending\": false, \"notesEnabled\": true, \"currentPage\" : \"serp\", \"mjwebtransgroupactive\" : true, \"sponsored\" : false,\"reportJobButtonEnabled\": false, \"showMyJobsHired\": false, \"showSaveForSponsored\": false, \"showJobAge\": true};</script></div></div>\n",
      "<div class=\"tab-container\">\n",
      "<div class=\"more-links-container result-tab\" id=\"tt_display_8\" style=\"display:none;\"><a class=\"close-link closeLink\" href=\"#\" onclick=\"toggleMoreLinks('299deb9ae19c52bf'); return false;\" title=\"Close\"></a><div class=\"more_actions\" id=\"more_8\"><ul><li><span class=\"mat\">View all <a href=\"/q-Tinder-l-Palo-Alto,-CA-jobs.html\" rel=\"nofollow\">Tinder jobs in Palo Alto, CA</a> - <a href=\"/l-Palo-Alto,-CA-jobs.html\">Palo Alto jobs</a></span></li><li><span class=\"mat\">Salary Search: <a href=\"/salaries/Machine-Learning-Engineer-Salaries,-Palo-Alto-CA\" onmousedown=\"this.href = appendParamsOnce(this.href, '?campaignid=serp-more&amp;fromjk=299deb9ae19c52bf&amp;from=serp-more');\">Machine Learning Engineer salaries in Palo Alto, CA</a></span></li><li><span class=\"mat\">Learn more about working at <a href=\"/cmp/Tinder\" onmousedown=\"this.href = appendParamsOnce(this.href, '?fromjk=299deb9ae19c52bf&amp;from=serp-more&amp;campaignid=serp-more&amp;jcid=9a9618f10ebad356');\">Tinder</a></span></li><li><span class=\"mat\">Related forums: <a href=\"/forum/loc/Palo-Alto-California.html\">Palo Alto, California</a> - <a href=\"/forum/cmp/Tinder.html\">Tinder</a></span></li></ul></div></div><div class=\"dya-container result-tab\"></div>\n",
      "<div class=\"tellafriend-container result-tab email_job_content\"></div>\n",
      "<div class=\"sign-in-container result-tab\"></div>\n",
      "<div class=\"notes-container result-tab\"></div>\n",
      "</div>\n",
      "</td>\n",
      "</tr>\n",
      "</table>\n",
      "</div>\n",
      "<div class=\"lastRow row result\" data-jk=\"68802073a68f004a\" data-tn-component=\"organicJob\" id=\"p_68802073a68f004a\" itemscope=\"\" itemtype=\"http://schema.org/JobPosting\">\n",
      "<h2 class=\"jobtitle\" id=\"jl_68802073a68f004a\">\n",
      "<a class=\"turnstileLink\" data-tn-element=\"jobTitle\" href=\"/rc/clk?jk=68802073a68f004a&amp;fccid=fe2d21eef233e94a\" itemprop=\"title\" onclick=\"setRefineByCookie([]); return rclk(this,jobmap[9],true,0);\" onmousedown=\"return rclk(this,jobmap[9],0);\" rel=\"nofollow\" target=\"_blank\" title=\"Data Scientist\"><b>Data</b> <b>Scientist</b></a>\n",
      "</h2>\n",
      "<span class=\"company\" itemprop=\"hiringOrganization\" itemtype=\"http://schema.org/Organization\">\n",
      "<span itemprop=\"name\">\n",
      "<a href=\"/cmp/Amazon.com\" onmousedown=\"this.href = appendParamsOnce(this.href, 'from=SERP&amp;campaignid=serp-linkcompanyname&amp;fromjk=68802073a68f004a&amp;jcid=db9f9b9d28743c59')\" target=\"_blank\">\n",
      "    Amazon Corporate LLC</a></span>\n",
      "</span>\n",
      "\n",
      " - <a class=\"turnstileLink slNoUnderline \" data-tn-element=\"reviewStars\" data-tn-variant=\"cmplinktst2\" href=\"/cmp/Amazon.com/reviews\" onmousedown=\"this.href = appendParamsOnce(this.href, '?campaignid=cmplinktst2&amp;from=SERP&amp;jt=Data+Scientist&amp;fromjk=68802073a68f004a&amp;jcid=db9f9b9d28743c59');\" target=\"_blank\" title=\"Amazon Corporate reviews\">\n",
      "<span class=\"ratings\"><span class=\"rating\" style=\"width:43.2px\"><!-- --></span></span>\n",
      "<span class=\"slNoUnderline\">15,013 reviews</span></a>\n",
      " - <span itemprop=\"jobLocation\" itemscope=\"\" itemtype=\"http://schema.org/Place\"><span class=\"location\" itemprop=\"address\" itemscope=\"\" itemtype=\"http://schema.org/Postaladdress\"><span itemprop=\"addressLocality\">Cambridge, MA</span></span></span>\n",
      " <a class=\"more_loc\" href=\"/jobs?q=data+scientist&amp;rbt=Data+Scientist&amp;rbc=Amazon+Corporate+LLC&amp;jtid=1872a3288ede048a&amp;jcid=db9f9b9d28743c59&amp;grp=tcl\" onmousedown=\"ptk('addlloc');\" rel=\"nofollow\">+5 locations</a><table border=\"0\" cellpadding=\"0\" cellspacing=\"0\">\n",
      "<tr>\n",
      "<td class=\"snip\">\n",
      "<div>\n",
      "<span class=\"summary\" itemprop=\"description\">\n",
      "As a <b>Data</b> <b>Scientist</b> in our Applied Modeling team, you will be responsible for <b>data</b>-driven improvements to our spoken language understanding models....</span>\n",
      "</div>\n",
      "<div class=\"result-link-bar-container\">\n",
      "<div class=\"result-link-bar\"><span class=\"result-link-source\">Amazon.com </span>- <span class=\"date\">1 day ago</span> <span class=\"tt_set\" id=\"tt_set_9\">  -  <a class=\"sl resultLink save-job-link \" href=\"#\" id=\"sj_68802073a68f004a\" onclick=\"changeJobState('68802073a68f004a', 'save', 'linkbar', false); return false;\" title=\"Save this job to my.indeed\">save job</a> - <a class=\"sl resultLink more-link \" href=\"#\" id=\"tog_9\" onclick=\"toggleMoreLinks('68802073a68f004a'); return false;\">more...</a></span><div class=\"edit_note_content\" id=\"editsaved2_68802073a68f004a\" style=\"display:none;\"></div><script>window['result_68802073a68f004a'] = {\"showSource\": true, \"source\": \"Amazon.com\", \"loggedIn\": false, \"showMyJobsLinks\": false,\"undoAction\": \"unsave\",\"relativeJobAge\": \"1 day ago\",\"jobKey\": \"68802073a68f004a\", \"myIndeedAvailable\": true, \"showMoreActionsLink\": true, \"resultNumber\": 9, \"jobStateChangedToSaved\": false, \"searchState\": \"q=data scientist&amp;\", \"basicPermaLink\": \"http://www.indeed.com\", \"saveJobFailed\": false, \"removeJobFailed\": false, \"requestPending\": false, \"notesEnabled\": true, \"currentPage\" : \"serp\", \"mjwebtransgroupactive\" : true, \"sponsored\" : false,\"reportJobButtonEnabled\": false, \"showMyJobsHired\": false, \"showSaveForSponsored\": false, \"showJobAge\": true};</script></div></div>\n",
      "<div class=\"tab-container\">\n",
      "<div class=\"more-links-container result-tab\" id=\"tt_display_9\" style=\"display:none;\"><a class=\"close-link closeLink\" href=\"#\" onclick=\"toggleMoreLinks('68802073a68f004a'); return false;\" title=\"Close\"></a><div class=\"more_actions\" id=\"more_9\"><ul><li><span class=\"mat\">View all <a href=\"/jobs?q=Amazon+Corporate+LLC&amp;l=Cambridge,+MA&amp;nc=jasx\" rel=\"nofollow\">Amazon Corporate LLC jobs in Cambridge, MA</a> - <a href=\"/l-Cambridge,-MA-jobs.html\">Cambridge jobs</a></span></li><li><span class=\"mat\">Salary Search: <a href=\"/salaries/Data-Scientist-Salaries,-Cambridge-MA\" onmousedown=\"this.href = appendParamsOnce(this.href, '?campaignid=serp-more&amp;fromjk=68802073a68f004a&amp;from=serp-more');\">Data Scientist salaries in Cambridge, MA</a></span></li><li><span class=\"mat\">Learn more about working at <a href=\"/cmp/Amazon.com\" onmousedown=\"this.href = appendParamsOnce(this.href, '?fromjk=68802073a68f004a&amp;from=serp-more&amp;campaignid=serp-more&amp;jcid=db9f9b9d28743c59');\">Amazon Corporate LLC</a></span></li><li><span class=\"mat\"><a href=\"/cmp/Amazon.com/faq\" onmousedown=\"this.href = appendParamsOnce(this.href, '?from=serp-more&amp;campaignid=serp-more&amp;fromjk=68802073a68f004a&amp;jcid=db9f9b9d28743c59');\">Amazon Corporate LLC questions about work, benefits, interviews and hiring process:</a><ul><li><a href=\"/cmp/Amazon.com/faq/what-would-you-suggest-amazon-com-management-do-to-prevent-others-from-leaving-for-this-reason?quid=1bb857n98brch8lj\" onmousedown=\"this.href = appendParamsOnce(this.href, '?from=serp-more&amp;campaignid=serp-more&amp;fromjk=68802073a68f004a&amp;jcid=db9f9b9d28743c59');\">What would you suggest Amazon.com management do to prevent others from l...</a></li><li><a href=\"/cmp/Amazon.com/faq/there-s-been-a-lot-of-discussion-about-the-challenging-work-life-balance-at-amazon-the-ceo-jeff-bezos-has-even-commented-on-it-from-an-inside?quid=1aal1998q5ndk8o4\" onmousedown=\"this.href = appendParamsOnce(this.href, '?from=serp-more&amp;campaignid=serp-more&amp;fromjk=68802073a68f004a&amp;jcid=db9f9b9d28743c59');\">There's been a lot of discussion about the challenging work/life balance...</a></li></ul></span></li><li><span class=\"mat\">Related forums: <a href=\"/forum/loc/Cambridge-Massachusetts.html\">Cambridge, Massachusetts</a></span></li></ul></div></div><div class=\"dya-container result-tab\"></div>\n",
      "<div class=\"tellafriend-container result-tab email_job_content\"></div>\n",
      "<div class=\"sign-in-container result-tab\"></div>\n",
      "<div class=\"notes-container result-tab\"></div>\n",
      "</div>\n",
      "</td>\n",
      "</tr>\n",
      "</table>\n",
      "</div>\n",
      "<p class=\"footerJaPromoBubble\">\n",
      "<span>\n",
      "Never miss a job. Get new jobs emailed to you daily.</span>\n",
      "<script type=\"text/javascript\">setJaPromoCookie()</script>\n",
      "</p>\n",
      "<style>\n",
      ".fixed_ja_link_x { color:#00C; float: right; font-size: 22px; margin-top: -8px; font-weight: bold;}\n",
      ".fixed_ja_link_x:hover { cursor:pointer;}\n",
      ".fixed_ja_link { color:#00C; cursor: pointer;}\n",
      ".fixed_ja_link:hover { text-decoration: underline;}\n",
      ".fixed_ja_background { background-color: #ebebeb;}\n",
      "</style>\n",
      "<div id=\"bjobalertswrapper\">\n",
      "<div class=\"open jaPromoUi jaui ES1ifcy1sC\" id=\"bjobalerts\">\n",
      "<div class=\"jobalertlabel\">\n",
      "<span class=\"jobalerts_title\" id=\"bjobalertlabel\"><span aria-label=\"alert icon\" class=\"ico\" role=\"img\"></span>Be the first to see new <b>data scientist jobs</b></span>\n",
      "</div>\n",
      "<div class=\"jaform\" id=\"bjobalertform\">\n",
      "<span id=\"bjobalerttext\"></span><span id=\"bjobalertsending\"></span>\n",
      "<div id=\"bjobalertmessage\">\n",
      "<form action=\"/alert\" method=\"POST\" onsubmit=\"return addalertdelegate('data+scientist','','b','',this.email.value,'1bir89mko1fqt76d', this.verified.value, true, '661982', 'US', '943cb99974c09cd92fb97cedce688884', this.recjobalert.checked, false, false);\">\n",
      "<input name=\"a\" type=\"hidden\" value=\"add\"/>\n",
      "<input name=\"q\" type=\"hidden\" value=\"data scientist\"/>\n",
      "<input name=\"l\" type=\"hidden\" value=\"\"/>\n",
      "<input name=\"radius\" type=\"hidden\" value=\"25\"/>\n",
      "<input name=\"noscript\" type=\"hidden\" value=\"1\"/>\n",
      "<input name=\"fr\" type=\"hidden\" value=\"b\"/>\n",
      "<input name=\"tk\" type=\"hidden\" value=\"1bir89mko1fqt76d\"/>\n",
      "<input id=\"balertverified\" name=\"verified\" type=\"hidden\" value=\"0\"/>\n",
      "<input name=\"alertparams\" type=\"hidden\" value=\"\"/>\n",
      "<label for=\"balertemail\">My email:</label> <input id=\"balertemail\" maxlength=\"100\" name=\"email\" size=\"25\" type=\"text\" value=\"\"/>\n",
      "<span class=\"indeed-apply-button\"><span class=\"indeed-apply-button-inner\"><input class=\"indeed-apply-button-label\" id=\"balertsubmit\" type=\"submit\" value=\"Activate\"/></span></span>\n",
      "<style type=\"text/css\">\n",
      "    .indeed-apply-button { cursor : pointer !important; display : inline-block !important; padding : 1px !important; height : 31px !important; -moz-border-radius : 7px !important; border-radius : 7px !important; position : relative !important; text-decoration : none !important;background-color:#79788B; filter:progid:DXImageTransform.Microsoft.gradient(startColorstr='#BCBBCD', endColorstr='#79788B', GradientType=0);background-image: -webkit-gradient(linear, center top, center bottom, from(#BCBBCD), to(#79788B)) !important;background-image: -webkit-linear-gradient(top, #BCBBCD, #79788B) !important;background-image: -moz-linear-gradient(top, #BCBBCD, #79788B) !important;background-image: -o-linear-gradient(top, #BCBBCD, #79788B) !important;background-image: -ms-linear-gradient(top, #BCBBCD, #79788B) !important;background-image: linear-gradient(top, #BCBBCD, #79788B) !important;-webkit-box-shadow: 0 1px 2px rgba(0,0,0,0.2) !important;-moz-box-shadow: 0 1px 2px rgba(0,0,0,0.2) !important;box-shadow: 0 1px 2px rgba(0,0,0,0.2) !important; } #indeed-ia-1329175190441-0:link, #indeed-ia-1329175190441-0:visited, #indeed-ia-1329175190441-0:hover, #indeed-ia-1329175190441-0:active { border : 0 !important; text-decoration : none !important; }\n",
      "\n",
      "    .indeed-apply-button:hover { filter:progid:DXImageTransform.Microsoft.gradient(startColorstr='#6D99F6', endColorstr='#1B45A3', GradientType=0);background-image: -webkit-gradient(linear, center top, center bottom, from(#6D99F6), to(#1B45A3)) !important;background-image: -webkit-linear-gradient(top, #6D99F6, #1B45A3) !important;background-image: -moz-linear-gradient(top, #6D99F6, #1B45A3) !important;background-image: -o-linear-gradient(top, #6D99F6, #1B45A3) !important;background-image: -ms-linear-gradient(top, #6D99F6, #1B45A3) !important;background-image: linear-gradient(top, #6D99F6, #1B45A3) !important; }\n",
      "\n",
      "    .indeed-apply-state-clicked .indeed-apply-button,\n",
      "    .indeed-apply-button:active { filter:progid:DXImageTransform.Microsoft.gradient(startColorstr='#B3BACA', endColorstr='#7C8493', GradientType=0);background-image: -webkit-gradient(linear, center top, center bottom, from(#B3BACA), to(#7C8493)) !important;background-image: -webkit-linear-gradient(top, #B3BACA, #7C8493) !important;background-image: -moz-linear-gradient(top, #B3BACA, #7C8493) !important;background-image: -o-linear-gradient(top, #B3BACA, #7C8493) !important;background-image: -ms-linear-gradient(top, #B3BACA, #7C8493) !important;background-image: linear-gradient(top, #B3BACA, #7C8493) !important;-webkit-box-shadow: none !important;-moz-box-shadow: none !important;box-shadow: none !important; }\n",
      "\n",
      "    .indeed-apply-button-inner { display : inline-block !important; height : 31px !important; -moz-border-radius : 6px !important; border-radius : 6px !important; font : 18px 'Helvetica Neue','Helvetica',Arial !important; font-weight : 200 !important; text-decoration : none !important; text-shadow : 0px 1px #F1F1F4 !important;background-color:#D9D9E2;  color: #FF6703;filter:progid:DXImageTransform.Microsoft.gradient(startColorstr='#FAFAFB', endColorstr='#D9D9E2', GradientType=0);background-image: -webkit-gradient(linear, center top, center bottom, from(#FAFAFB), to(#D9D9E2)) !important;background-image: -webkit-linear-gradient(top, #FAFAFB, #D9D9E2) !important;background-image: -moz-linear-gradient(top, #FAFAFB, #D9D9E2) !important;background-image: -o-linear-gradient(top, #FAFAFB, #D9D9E2) !important;background-image: -ms-linear-gradient(top, #FAFAFB, #D9D9E2) !important;background-image: linear-gradient(top, #FAFAFB, #D9D9E2) !important; }\n",
      "\n",
      "    .indeed-apply-button:active .indeed-apply-button-inner { filter:progid:DXImageTransform.Microsoft.gradient(startColorstr='#E8E8E9', endColorstr='#CBCBD3', GradientType=0);background-image: -webkit-gradient(linear, center top, center bottom, from(#E8E8E9), to(#CBCBD3)) !important;background-image: -webkit-linear-gradient(top, #E8E8E9, #CBCBD3) !important;background-image: -moz-linear-gradient(top, #E8E8E9, #CBCBD3) !important;background-image: -o-linear-gradient(top, #E8E8E9, #CBCBD3) !important;background-image: -ms-linear-gradient(top, #E8E8E9, #CBCBD3) !important;background-image: linear-gradient(top, #E8E8E9, #CBCBD3) !important; }\n",
      "\n",
      "    .indeed-apply-button-label {cursor: pointer; text-align : center !important; border:0; background: transparent;font-size: 12px; font-family: Arial, sans-serif; padding:3px 14px 2px 12px; margin:0; line-height: 26px; }\n",
      "\n",
      "    .indeed-apply-button:active .indeed-apply-button-label,\n",
      "    .indeed-apply-state-clicked .indeed-apply-button-label { -ms-filter: \"progid:DXImageTransform.Microsoft.Alpha(Opacity=0.75)\" !important;filter: alpha(opacity=75) !important;-moz-opacity: 0.75 !important;-khtml-opacity: 0.75 !important;opacity: 0.75 !important; }\n",
      "\n",
      "    #talertemail, #balertemail {  height: 27px; line-height: 24px; padding-left: 6px; padding-right: 6px; font-size: 14px; font-family: Arial, sans-serif; }\n",
      "\n",
      "    .jobalertform-terms-outer-wrapper label {  position: fixed;  font-size: 1px;  transform: scale(0.3);  }\n",
      "\n",
      "    .jobalertform-terms-inner-wrapper {  position: relative;  z-index: 20;  width: 50%;  background: #ebebeb;  height: 12px;  }\n",
      "</style>\n",
      "<label for=\"brecjobalert\" id=\"brecjobalertlabel\">\n",
      "<input checked=\"\" id=\"brecjobalert\" name=\"recjobalert\" type=\"checkbox\"/>\n",
      "<span>Also get an email with jobs recommended just for me</span>\n",
      "</label>\n",
      "</form>\n",
      "<span class=\"caption\">\n",
      "You can cancel email alerts at any time.</span>\n",
      "</div>\n",
      "</div>\n",
      "</div>\n",
      "</div>\n",
      "<script type=\"text/javascript\">\n",
      "function ptk(st,p) {\n",
      "document.cookie = 'PTK=\"tk=&type=jobsearch&subtype=' + st + (p ? '&' + p : '')\n",
      " + (st == 'pagination' ? '&fp=1' : '')\n",
      "+'\"; path=/';\n",
      "}\n",
      "</script>\n",
      "<script type=\"text/javascript\">\n",
      "function pclk(event) {\n",
      "var evt = event || window.event;\n",
      "var target = evt.target || evt.srcElement;\n",
      "var el = target.nodeType == 1 ? target : target.parentNode;\n",
      "var tag = el.tagName.toLowerCase();\n",
      "if (tag == 'span' || tag == 'a') {\n",
      "ptk('pagination');\n",
      "}\n",
      "return true;\n",
      "}\n",
      "</script>\n",
      "<div class=\"pagination\" onmousedown=\"pclk(event);\">Results Page:  <b>1</b>  <a href=\"/jobs?q=data+scientist&amp;start=10&amp;pp=AAoAAAAAAAAAAAAAAAEQ_IoGAQAFbLQADZuudb1ey1b0W_AM1hE04u2b9dkWoyqeSpellA\"><span class=\"pn\">2</span></a>  <a href=\"/jobs?q=data+scientist&amp;start=20&amp;pp=ABQAAAAAAAAAAAAAAAEQ_IoGAQEBCDXhWbXKw7Z966G4Fl5zAPC1fQfx7WEoBldgCcsQZ5NiuFNE9JD28A1BWKXPfOTw\"><span class=\"pn\">3</span></a>  <a href=\"/jobs?q=data+scientist&amp;start=30&amp;pp=AB4AAAAAAAAAAAAAAAEQ_IoGAQEBCFiNGFcUb1_P6s8bUt-f2AoARcGfXFkMYQ2g2Wa-AUb07ysg_o2RZFSn3QV3kXN4VYNkDq4Z-mQImlw_yrM0\"><span class=\"pn\">4</span></a>  <a href=\"/jobs?q=data+scientist&amp;start=40&amp;pp=ACgAAAAAAAAAAAAAAAEQ_IoGAQEBCAQqfTmc0ioV6i3Y8zqObjA1s1qYXtYslP5UaqmQ22isgM8yLiQuw4bdQfQPpucHUHTeXI_Az6SEMxGrNk-ig93qAhXx_8Fv5-u84qeY4g\"><span class=\"pn\">5</span></a>   <a href=\"/jobs?q=data+scientist&amp;start=10&amp;pp=AAoAAAAAAAAAAAAAAAEQ_IoGAQAFbLQADZuudb1ey1b0W_AM1hE04u2b9dkWoyqeSpellA\"><span class=\"pn\"><span class=\"np\">Next »</span></span></a></div>\n",
      "<div class=\"related_searches\">\n",
      "<div class=\"related_searches_list\">\n",
      "<b>People also searched: </b><ul class=\"relatedQueries-listView-pageFirst\"><li class=\"relatedQueries-listItem-pageFirst rightBorder\"><a href=\"/q-Data-Analyst-jobs.html?from=relatedQueries&amp;saIdx=1&amp;rqf=1&amp;parentQnorm=data%2Bscientist\">data analyst</a></li><li class=\"relatedQueries-listItem-pageFirst rightBorder\"><a href=\"/q-Data-Science-jobs.html?from=relatedQueries&amp;saIdx=2&amp;rqf=1&amp;parentQnorm=data%2Bscientist\">data science</a></li><li class=\"relatedQueries-listItem-pageFirst rightBorder\"><a href=\"/q-Machine-Learning-jobs.html?from=relatedQueries&amp;saIdx=3&amp;rqf=1&amp;parentQnorm=data%2Bscientist\">machine learning</a></li><li class=\"relatedQueries-listItem-pageFirst rightBorder\"><a href=\"/q-Data-jobs.html?from=relatedQueries&amp;saIdx=4&amp;rqf=1&amp;parentQnorm=data%2Bscientist\">data</a></li><li class=\"relatedQueries-listItem-pageFirst rightBorder\"><a href=\"/q-Software-Engineer-jobs.html?from=relatedQueries&amp;saIdx=5&amp;rqf=1&amp;parentQnorm=data%2Bscientist\">software engineer</a></li><li class=\"relatedQueries-listItem-pageFirst rightBorder\"><a href=\"/q-Statistics-jobs.html?from=relatedQueries&amp;saIdx=6&amp;rqf=1&amp;parentQnorm=data%2Bscientist\">statistics</a></li><li class=\"relatedQueries-listItem-pageFirst rightBorder\"><a href=\"/q-Business-Analyst-jobs.html?from=relatedQueries&amp;saIdx=7&amp;rqf=1&amp;parentQnorm=data%2Bscientist\">business analyst</a></li><li class=\"relatedQueries-listItem-pageFirst rightBorder\"><a href=\"/q-Python-jobs.html?from=relatedQueries&amp;saIdx=8&amp;rqf=1&amp;parentQnorm=data%2Bscientist\">python</a></li><li class=\"relatedQueries-listItem-pageFirst rightBorder\"><a href=\"/q-Statistician-jobs.html?from=relatedQueries&amp;saIdx=9&amp;rqf=1&amp;parentQnorm=data%2Bscientist\">statistician</a></li><li class=\"relatedQueries-listItem-pageFirst\"><a href=\"/q-Analyst-jobs.html?from=relatedQueries&amp;saIdx=10&amp;rqf=1&amp;parentQnorm=data%2Bscientist\">analyst</a></li></ul></div>\n",
      "<style type=\"text/css\">\n",
      ".relatedQueries-listView-pageFirst {\n",
      "list-style-type: none;\n",
      "margin: 0;\n",
      "padding: 0;\n",
      "}\n",
      ".relatedQueries-listItem-pageFirst {\n",
      "display: inline-block;\n",
      "}\n",
      ".rightBorder {\n",
      "border-right: 1px solid #77c;\n",
      "margin-right: 5px;\n",
      "padding-right: 5px;\n",
      "}\n",
      ".related_searches_list > * {\n",
      "display: inline;\n",
      "}\n",
      "</style>\n",
      "</div> </td>\n",
      "<td id=\"auxCol\" role=\"complementary\">\n",
      "<div id=\"tjobalertswrapper\">\n",
      "<div class=\"open jaui \" id=\"tjobalerts\">\n",
      "<div class=\"jobalertlabel\">\n",
      "<span class=\"jobalerts_title\" id=\"tjobalertlabel\"><span aria-label=\"alert icon\" class=\"ico\" role=\"img\"></span>Be the first to see new <b>data scientist jobs</b></span>\n",
      "</div>\n",
      "<div class=\"jaform\" id=\"tjobalertform\">\n",
      "<span id=\"tjobalerttext\"></span><span id=\"tjobalertsending\"></span>\n",
      "<div id=\"tjobalertmessage\">\n",
      "<form action=\"/alert\" method=\"POST\" onsubmit=\"return addalertdelegate('data+scientist','','t','',this.email.value,'1bir89mko1fqt76d', this.verified.value, true, '661982', 'US', '943cb99974c09cd92fb97cedce688884', this.recjobalert.checked, false, false);\">\n",
      "<input name=\"a\" type=\"hidden\" value=\"add\"/>\n",
      "<input name=\"q\" type=\"hidden\" value=\"data scientist\"/>\n",
      "<input name=\"l\" type=\"hidden\" value=\"\"/>\n",
      "<input name=\"radius\" type=\"hidden\" value=\"25\"/>\n",
      "<input name=\"noscript\" type=\"hidden\" value=\"1\"/>\n",
      "<input name=\"fr\" type=\"hidden\" value=\"t\"/>\n",
      "<input name=\"tk\" type=\"hidden\" value=\"1bir89mko1fqt76d\"/>\n",
      "<input id=\"talertverified\" name=\"verified\" type=\"hidden\" value=\"0\"/>\n",
      "<input name=\"alertparams\" type=\"hidden\" value=\"\"/>\n",
      "<label for=\"talertemail\">My email:</label> <input id=\"talertemail\" maxlength=\"100\" name=\"email\" size=\"25\" type=\"text\" value=\"\"/>\n",
      "<label for=\"trecjobalert\" id=\"trecjobalertlabel\">\n",
      "<input checked=\"\" id=\"trecjobalert\" name=\"recjobalert\" type=\"checkbox\"/>\n",
      "<span>Also get an email with jobs recommended just for me</span>\n",
      "</label>\n",
      "<span class=\"indeed-apply-button\"><span class=\"indeed-apply-button-inner\"><input class=\"indeed-apply-button-label\" id=\"talertsubmit\" type=\"submit\" value=\"Activate\"/></span></span>\n",
      "<style type=\"text/css\">\n",
      "    .indeed-apply-button { cursor : pointer !important; display : inline-block !important; padding : 1px !important; height : 31px !important; -moz-border-radius : 7px !important; border-radius : 7px !important; position : relative !important; text-decoration : none !important;background-color:#79788B; filter:progid:DXImageTransform.Microsoft.gradient(startColorstr='#BCBBCD', endColorstr='#79788B', GradientType=0);background-image: -webkit-gradient(linear, center top, center bottom, from(#BCBBCD), to(#79788B)) !important;background-image: -webkit-linear-gradient(top, #BCBBCD, #79788B) !important;background-image: -moz-linear-gradient(top, #BCBBCD, #79788B) !important;background-image: -o-linear-gradient(top, #BCBBCD, #79788B) !important;background-image: -ms-linear-gradient(top, #BCBBCD, #79788B) !important;background-image: linear-gradient(top, #BCBBCD, #79788B) !important;-webkit-box-shadow: 0 1px 2px rgba(0,0,0,0.2) !important;-moz-box-shadow: 0 1px 2px rgba(0,0,0,0.2) !important;box-shadow: 0 1px 2px rgba(0,0,0,0.2) !important; } #indeed-ia-1329175190441-0:link, #indeed-ia-1329175190441-0:visited, #indeed-ia-1329175190441-0:hover, #indeed-ia-1329175190441-0:active { border : 0 !important; text-decoration : none !important; }\n",
      "\n",
      "    .indeed-apply-button:hover { filter:progid:DXImageTransform.Microsoft.gradient(startColorstr='#6D99F6', endColorstr='#1B45A3', GradientType=0);background-image: -webkit-gradient(linear, center top, center bottom, from(#6D99F6), to(#1B45A3)) !important;background-image: -webkit-linear-gradient(top, #6D99F6, #1B45A3) !important;background-image: -moz-linear-gradient(top, #6D99F6, #1B45A3) !important;background-image: -o-linear-gradient(top, #6D99F6, #1B45A3) !important;background-image: -ms-linear-gradient(top, #6D99F6, #1B45A3) !important;background-image: linear-gradient(top, #6D99F6, #1B45A3) !important; }\n",
      "\n",
      "    .indeed-apply-state-clicked .indeed-apply-button,\n",
      "    .indeed-apply-button:active { filter:progid:DXImageTransform.Microsoft.gradient(startColorstr='#B3BACA', endColorstr='#7C8493', GradientType=0);background-image: -webkit-gradient(linear, center top, center bottom, from(#B3BACA), to(#7C8493)) !important;background-image: -webkit-linear-gradient(top, #B3BACA, #7C8493) !important;background-image: -moz-linear-gradient(top, #B3BACA, #7C8493) !important;background-image: -o-linear-gradient(top, #B3BACA, #7C8493) !important;background-image: -ms-linear-gradient(top, #B3BACA, #7C8493) !important;background-image: linear-gradient(top, #B3BACA, #7C8493) !important;-webkit-box-shadow: none !important;-moz-box-shadow: none !important;box-shadow: none !important; }\n",
      "\n",
      "    .indeed-apply-button-inner { display : inline-block !important; height : 31px !important; -moz-border-radius : 6px !important; border-radius : 6px !important; font : 18px 'Helvetica Neue','Helvetica',Arial !important; font-weight : 200 !important; text-decoration : none !important; text-shadow : 0px 1px #F1F1F4 !important;background-color:#D9D9E2;  color: #FF6703;filter:progid:DXImageTransform.Microsoft.gradient(startColorstr='#FAFAFB', endColorstr='#D9D9E2', GradientType=0);background-image: -webkit-gradient(linear, center top, center bottom, from(#FAFAFB), to(#D9D9E2)) !important;background-image: -webkit-linear-gradient(top, #FAFAFB, #D9D9E2) !important;background-image: -moz-linear-gradient(top, #FAFAFB, #D9D9E2) !important;background-image: -o-linear-gradient(top, #FAFAFB, #D9D9E2) !important;background-image: -ms-linear-gradient(top, #FAFAFB, #D9D9E2) !important;background-image: linear-gradient(top, #FAFAFB, #D9D9E2) !important; }\n",
      "\n",
      "    .indeed-apply-button:active .indeed-apply-button-inner { filter:progid:DXImageTransform.Microsoft.gradient(startColorstr='#E8E8E9', endColorstr='#CBCBD3', GradientType=0);background-image: -webkit-gradient(linear, center top, center bottom, from(#E8E8E9), to(#CBCBD3)) !important;background-image: -webkit-linear-gradient(top, #E8E8E9, #CBCBD3) !important;background-image: -moz-linear-gradient(top, #E8E8E9, #CBCBD3) !important;background-image: -o-linear-gradient(top, #E8E8E9, #CBCBD3) !important;background-image: -ms-linear-gradient(top, #E8E8E9, #CBCBD3) !important;background-image: linear-gradient(top, #E8E8E9, #CBCBD3) !important; }\n",
      "\n",
      "    .indeed-apply-button-label {cursor: pointer; text-align : center !important; border:0; background: transparent;font-size: 12px; font-family: Arial, sans-serif; padding:3px 14px 2px 12px; margin:0; line-height: 26px; }\n",
      "\n",
      "    .indeed-apply-button:active .indeed-apply-button-label,\n",
      "    .indeed-apply-state-clicked .indeed-apply-button-label { -ms-filter: \"progid:DXImageTransform.Microsoft.Alpha(Opacity=0.75)\" !important;filter: alpha(opacity=75) !important;-moz-opacity: 0.75 !important;-khtml-opacity: 0.75 !important;opacity: 0.75 !important; }\n",
      "\n",
      "    #talertemail, #balertemail {  height: 27px; line-height: 24px; padding-left: 6px; padding-right: 6px; font-size: 14px; font-family: Arial, sans-serif; }\n",
      "\n",
      "    .jobalertform-terms-outer-wrapper label {  position: fixed;  font-size: 1px;  transform: scale(0.3);  }\n",
      "\n",
      "    .jobalertform-terms-inner-wrapper {  position: relative;  z-index: 20;  width: 50%;  background: #ebebeb;  height: 12px;  }\n",
      "</style>\n",
      "</form>\n",
      "<span class=\"caption\">\n",
      "You can cancel email alerts at any time.</span>\n",
      "</div>\n",
      "</div>\n",
      "</div>\n",
      "</div>\n",
      "<style type=\"text/css\">@import url(\"/styles/salaryWidget.css\");</style><div id=\"univsrch-salary-v3\"><div id=\"univsrch-salary-info\"><div id=\"univsrch-salary-title\">Data Scientist salaries in United States</div><div id=\"univsrch-salary-eval\"><div class=\"v3\" id=\"univsrch-salary-rates\"><p class=\"v3\" id=\"univsrch-salary-currentsalary\"><b>$130,232</b> per year</p></div><div class=\"v3\" id=\"univsrch-salary-stats\"><p class=\"v3\" id=\"univsrch-salary-stats-para\">Based on 37,493 salaries</p></div><div id=\"univsrch-sal-distribution\"><ul><li style=\"height:66.09412823963781%; width:9.2%; left:0.0%;\"></li><li style=\"height:81.95591256299089%; width:9.2%; left:10.088999999999999%;\"></li><li style=\"height:89.97927407045898%; width:9.2%; left:20.177999999999997%;\"></li><li class=\"univsrch-sal-highlight\" style=\"height:89.99999999999999%; width:9.2%; left:30.266999999999996%;\"></li><li style=\"height:83.73410000660871%; width:9.2%; left:40.355999999999995%;\"></li><li style=\"height:73.59216520181417%; width:9.2%; left:50.44499999999999%;\"></li><li style=\"height:61.817677784004246%; width:9.2%; left:60.53399999999999%;\"></li><li style=\"height:50.07923287226712%; width:9.2%; left:70.62299999999999%;\"></li><li style=\"height:39.40214266405309%; width:9.2%; left:80.71199999999999%;\"></li><li style=\"height:30.276915778079893%; width:9.2%; left:90.80099999999999%;\"></li></ul><div class=\"univsrch-sal-min univsrch-sal-caption float-left\"><div class=\"float-left\" style=\"width: 13.07px;\"></div><span>Min<br/>$45,000</span></div><div class=\"univsrch-sal-max univsrch-sal-caption float-right\"><div class=\"float-right\" style=\"width: 13.07px;\"></div><span>Max<br/>$258,000</span></div></div><div id=\"univsrch-salary-link\"><a href=\"/salaries/Data-Scientist-Salaries\" onmousedown=\"this.href = appendParamsOnce(this.href, 'from=serpsalaryblock');\" title=\"Data Scientist salaries by company in United States\">Data Scientist salaries by company in United States</a></div></div></div></div><script type=\"text/javascript\">usBindSalaryWidgetLoggingNew();</script></td></tr>\n",
      "</table>\n",
      "<div class=\"prime-popover\" id=\"prime-popover-background\">\n",
      "</div>\n",
      "<div class=\"prime-popover\" id=\"prime-popover-div\">\n",
      "<div id=\"prime-popover-x\">\n",
      "<button aria-label=\"close\" id=\"prime-popover-close-button\"><span>×</span></button>\n",
      "</div><style type=\"text/css\">\n",
      "    #prime_promo_logos {\n",
      "        width: 620px;\n",
      "        height: 436px;\n",
      "    }\n",
      "\n",
      "    #prime_promo_logos .heading_logo_div {\n",
      "        margin: 30px 0 24px 0;\n",
      "        text-align: center;\n",
      "    }\n",
      "\n",
      "    #prime_promo_logos .heading_logo_div .heading_logo {\n",
      "        max-height: 50px;\n",
      "        vertical-align: middle;\n",
      "    }\n",
      "\n",
      "    #prime_promo_logos .heading {\n",
      "        font-size: 24px;\n",
      "        color: #ff6600;\n",
      "        text-align: center;\n",
      "        line-height: 26px;\n",
      "    }\n",
      "\n",
      "    #prime_promo_logos .subheading {\n",
      "        font-size: 15px;\n",
      "        color: #666666;\n",
      "        text-align: center;\n",
      "        margin-top: 15px;\n",
      "        margin-bottom: 25px;\n",
      "    }\n",
      "\n",
      "    #prime_promo_logos .content {\n",
      "        background: #F8F8F8;\n",
      "    }\n",
      "\n",
      "    #prime_promo_logos .content .legal {\n",
      "        font-size: 11px;\n",
      "        color: #666666;\n",
      "        padding-top: 15px;\n",
      "        padding-bottom: 20px;\n",
      "        text-align: center;\n",
      "    }\n",
      "\n",
      "    #prime_promo_logos .apply_div {\n",
      "        margin-top: 22px;\n",
      "        margin-bottom: 31px;\n",
      "    }\n",
      "\n",
      "    #learnMore {\n",
      "        color: #FFFFFF;\n",
      "        text-decoration: none !important;\n",
      "        font-size: 18px;\n",
      "        font-weight: bold;\n",
      "    }\n",
      "\n",
      "    #learnMore:hover,  #learnMore:focus {\n",
      "        text-decoration: none !important;\n",
      "    }\n",
      "\n",
      "    #prime_promo_logos .logo_div div {\n",
      "        display: inline-block;\n",
      "        width: 144px;\n",
      "        height: 35px;\n",
      "        text-align: center;\n",
      "    }\n",
      "\n",
      "    #prime_promo_logos .logo {\n",
      "        padding: 0 22.5px 0 22.5px;\n",
      "        max-width: 576px;\n",
      "        max-height: 94px;\n",
      "    }\n",
      "\n",
      "    #prime_promo_logos .logo_center_helper {\n",
      "        display: inline-block;\n",
      "        height: 100%;\n",
      "        vertical-align: middle;\n",
      "    }\n",
      "\n",
      "    #learnMore_div {\n",
      "        text-align: center;\n",
      "    }\n",
      "    #hiddenPrimeButton {\n",
      "        height: 0;\n",
      "        border: 0;\n",
      "        width: 0;\n",
      "        padding: 0;\n",
      "    }\n",
      "</style>\n",
      "<div id=\"prime_promo_logos\">\n",
      "<div class=\"heading_logo_div\">\n",
      "<span class=\"logo_center_helper\"></span>\n",
      "<img alt=\"Indeed Prime\" class=\"heading_logo\" src=\"/images/prime/indeed_prime_logo.png\"/>\n",
      "</div>\n",
      "<div class=\"heading\"><b>3 minutes</b> could get you</div>\n",
      "<div class=\"heading\"><b>10 offers</b> from top tech companies</div>\n",
      "<div class=\"apply_div\" id=\"learnMore_div\">\n",
      "<button autofocus=\"\" id=\"hiddenPrimeButton\" tabindex=\"-1\"></button>\n",
      "<a class=\"roundedCorner indeedblue\" href=\"/promo/prime\" id=\"learnMore\" onclick=\"this.href = appendParamsOnce( this.href, '?from=primepopover&amp;subfrom=primepopover&amp;trk.origin=jobsearch&amp;trk.variant=primepopover&amp;trk.tk=1bir89mkl1fqt22c&amp;vertical=TECH&amp;x_isid=primepopover&amp;x_ikw=data+scientist&amp;x_sid=primepopover&amp;x_kw=data+scientist')\" role=\"button\">Learn More</a>\n",
      "</div>\n",
      "<div class=\"content\">\n",
      "<div class=\"logo_div\">\n",
      "<div>\n",
      "<span class=\"logo_center_helper\"></span>\n",
      "<img alt=\"Dropbox, Evernote, Facebook, Redfin, Twilio, Uber, Slack... and more!\" class=\"logo\" src=\"/images/prime/cmp-logos.png\"/>\n",
      "</div>\n",
      "</div>\n",
      "<div class=\"legal\">Representative Companies Using Indeed Prime</div>\n",
      "</div>\n",
      "</div>\n",
      "<img height=\"1\" src=\"/imgping?type=primepromo&amp;keyword=data scientist&amp;location=&amp;vertical=TECH&amp;promo=primepopover\" width=\"1\"/>\n",
      "</div>\n",
      "<style type=\"text/css\">\n",
      "    #prime-popover-background {\n",
      "        z-index: 2;\n",
      "        background: #000000;\n",
      "        width: 100%;\n",
      "        height: 100%;\n",
      "        opacity: .30;\n",
      "        filter: alpha(opacity=30);\n",
      "        top: 0;\n",
      "    }\n",
      "    #prime-popover-x {\n",
      "        float: right;\n",
      "        margin: 1px 1px 0 0;\n",
      "        cursor: pointer;\n",
      "        font-weight: bold;\n",
      "        font-size: 18px;\n",
      "        color: #666;\n",
      "    }\n",
      "    #prime-popover-close-button {\n",
      "        background:none;\n",
      "        border:none;\n",
      "        font-weight: bold;\n",
      "        font-size: 18px;\n",
      "        color: #666;\n",
      "    }\n",
      "    #prime-popover-close-button:hover {\n",
      "        cursor: pointer;\n",
      "    }\n",
      "    .prime-popover {\n",
      "        position: fixed;\n",
      "        display: none;\n",
      "    }\n",
      "    #prime-popover-div {\n",
      "        z-index: 3;\n",
      "        height: auto;\n",
      "        width: auto;\n",
      "        background: #ffffff;\n",
      "        display: none; /*hide before the cookie check*/\n",
      "        max-width: 620px;\n",
      "    }\n",
      "    \n",
      "    #prime_promo {\n",
      "        background:#ffffff\n",
      "    }\n",
      "</style>\n",
      "<script type=\"text/javascript\">\n",
      "            window['primePopoverShown'] = 'popover';\n",
      "        </script>\n",
      "<script>\n",
      "var focusHandlers = [];\n",
      "var linkHighlighter = new LinkHighlighter();\n",
      "focusHandlers.push(googBind(linkHighlighter.fadeToOriginalColor, linkHighlighter));\n",
      "var lostFocusHandlers = [];\n",
      "lostFocusHandlers.push(googBind(linkHighlighter.clickedAway, linkHighlighter, \"#551a8b\"));\n",
      "\n",
      "\n",
      "var didYouApplyPrompt = new DidYouApplyPrompt('1bir89mko1fqt76d',\n",
      "60, 'serp', false,\n",
      "true);\n",
      "focusHandlers.push(googBind(didYouApplyPrompt.returnedToPage, didYouApplyPrompt));\n",
      "lostFocusHandlers.push(googBind(didYouApplyPrompt.leftPage, didYouApplyPrompt));\n",
      "didYouApplyPrompt.dyaChangeFromCookie();\n",
      "\n",
      "var clickTime = new ClickTime(window.tk, 'serp', 'jobtitle', focusHandlers, lostFocusHandlers);\n",
      "</script>\n",
      "<script>enableAdometry();</script>\n",
      "<script>usBindRightRailLogging();</script>\n",
      "<style type=\"text/css\">\n",
      "#secondary_nav a,#secondary_nav a:link,#secondary_nav a:visited{color:#77c;text-decoration:none}#secondary_nav a:hover{text-decoration:underline}</style>\n",
      "<!-- jobs -->\n",
      "<div id=\"footerWrapper\" role=\"contentinfo\" style=\"text-align:center;\">\n",
      "<div id=\"footer\" style=\"text-align:left;\">\n",
      "<div class=\"separator_bottom\"></div>\n",
      "<div id=\"secondary_nav\">\n",
      "<div style=\"margin: 1em;\"><span class=\"gaj_heading\">Indeed helps people get jobs:</span> <a class=\"sl\" href=\"/promo/gotajob\" onmousedown=\"this.href = appendParamsOnce( this.href, '?trk.origin=jobsearch&amp;trk.tk=1bir89mko1fqt76d')\">Over 10 million stories shared</a></div><div style=\"text-align:center; padding:1em;\">For jobs in China, visit <a href=\"http://cn.indeed.com/\">Indeed China</a></div><a href=\"/\" id=\"jobs_product_link\" title=\"Jobs\">Jobs</a> - <a href=\"/Best-Places-to-Work\" id=\"companies_product_link\" title=\"Browse Companies\">Browse Companies</a> - <a href=\"/salaries\" id=\"salaries_product_link\" title=\"Salary Search\">Salaries</a> - <a href=\"/jobtrends\" id=\"trends_product_link\" title=\"Career Trends\">Trends</a> - <a href=\"/forum\" id=\"forums_product_link\" title=\"Employment Forums\">Forums</a> - <script type=\"text/javascript\">\n",
      "var jobsProductLink = document.getElementById('jobs_product_link');\n",
      "document.getElementById('trends_product_link').onclick = function() { if ( !document.js ) { return; } var q = document.js.q.value; if ( q ) { window.location = '/jobtrends?q=' + urlencode( q ) + '&l=' + urlencode( document.js.l.value ); return false; } };document.getElementById('forums_product_link').onclick = function() { if ( !document.js ) { return; } var q = document.js.q.value; if ( q ) { window.location = '/forum/?q=' + urlencode( q ) + '&l=' + urlencode( document.js.l.value ) + '&from=jsfooter'; return false; } };document.getElementById('companies_product_link').onclick = function() { window.location = '/Best-Places-to-Work?campaignid=jobs'; return false;};</script>\n",
      "<a href=\"/find-jobs.jsp\">Browse Jobs</a> - <a href=\"/tools/jobseeker/\">Tools</a> - <a href=\"http://www.indeed.jobs\">Work at Indeed</a> - <a href=\"/publisher\">API</a> - <a href=\"/intl/en/about.html\"><span style=\"white-space: nowrap;\">About</span></a> - <a href=\"https://indeed.zendesk.com/hc/en-us\">Help Center</a>\n",
      "<style type=\"text/css\">\n",
      "#footer-legal {\n",
      "margin-top: 10px;\n",
      "font-size: 9pt;\n",
      "}\n",
      "</style>\n",
      "<div id=\"footer-legal\">\n",
      "<div class=\"legal-footer\">©2017 Indeed - <a href=\"/legal\">Cookies, Privacy and Terms</a></div></div>\n",
      "</div>\n",
      "</div>\n",
      "</div>\n",
      "</td></tr></table>\n",
      "<script type=\"text/javascript\">\n",
      "        function sm_cv_tag(activityId) {\n",
      "            var ebRand = Math.random()+'';\n",
      "            ebRand = ebRand * 1000000;\n",
      "\n",
      "            var tagContainer = document.body.appendChild(document.createElement(\"div\"));\n",
      "            tagContainer.style.position=\"absolute\";\n",
      "            tagContainer.style.top=\"0\";\n",
      "            tagContainer.style.left=\"0\";\n",
      "            tagContainer.style.width=\"1px\";\n",
      "            tagContainer.style.height=\"1px\";\n",
      "            tagContainer.style.display=\"none\";\n",
      "\n",
      "            var jsTag = document.createElement('script');\n",
      "            jsTag.src = '//bs.serving-sys.com/Serving/ActivityServer.bs?cn=as&ActivityID=' + activityId + '&rnd=' + ebRand;\n",
      "            jsTag.setAttribute('crossorigin', 'anonymous');\n",
      "            jsTag.style.width=\"1px\";\n",
      "            jsTag.style.height=\"1px\";\n",
      "            jsTag.style.border=\"0\";\n",
      "            jsTag.async = 1;\n",
      "\n",
      "            var noScript = document.createElement(\"noscript\");\n",
      "            var noScriptText = '<img width=\"1\" height=\"1\" style=\"border:0\" src=\"//bs.serving-sys.com/Serving/ActivityServer.bs?cn=as&ActivityID=' + activityId + '&ns=1\"/>';\n",
      "\n",
      "            // IE less than 9 and RCs do not support innerHTML on some DOM elements, but supports .text for it\n",
      "            if (((typeof noScript.canHaveHTML) === \"boolean\") && (noScript.canHaveHTML === false)) { // canHaveHTML only exists for IE\n",
      "                noScript.text = noScriptText;\n",
      "            } else {\n",
      "                noScript.innerHTML = noScriptText;\n",
      "            }\n",
      "\n",
      "            tagContainer.appendChild(jsTag);\n",
      "            tagContainer.appendChild(noScript);\n",
      "        }\n",
      "    </script>\n",
      "<script type=\"text/javascript\">\n",
      "<!--\n",
      "(function ( tk ) { if ( tk && document.images ) { var s=\"/\", q=\"?\", a=\"&\", e=\"=\"; rpc(s+\"rpc\"+s+\"log\"+q+\"a\"+e+\"jsv\"+a+\"tk\"+e+tk); } })('1bir89mko1fqt76d');\n",
      "function jsall_loaded() {\n",
      "\n",
      "\n",
      "initProcessLeftoverDwellEntries();\n",
      "\n",
      "    detectBrowserState('jobsearch', '1bir89mko1fqt76d');\n",
      "\n",
      "attachSjBlock('');\n",
      "attachJaBlock('');\n",
      "}\n",
      "if (window['closureReady'] === true) {\n",
      "jsall_loaded();\n",
      "}\n",
      "//-->\n",
      "</script>\n",
      "<script type=\"text/javascript\">\n",
      "PENDING_ANALYTICS_VARS = window.PENDING_ANALYTICS_VARS || [];\n",
      "PENDING_ANALYTICS_VARS[PENDING_ANALYTICS_VARS.length] = ['_setCustomVar', 5, 'loggedIn', 'false', 3];\n",
      "</script>\n",
      "<script type=\"text/javascript\">\n",
      "        var ga_domains = [];\n",
      "        ga_domains.push('indeed.co.in');ga_domains.push('indeed.lu');ga_domains.push('indeed.fr');ga_domains.push('indeed.de');ga_domains.push('indeed.com.br');ga_domains.push('indeed.co.uk');ga_domains.push('indeed.hk');ga_domains.push('indeed.fi');ga_domains.push('indeed.pt');ga_domains.push('indeed.jp');ga_domains.push('indeed.com');ga_domains.push('indeed.com.sg');ga_domains.push('indeed.nl');ga_domains.push('indeed.com.pk');ga_domains.push('indeed.cl');ga_domains.push('indeed.es');ga_domains.push('indeed.co.ve');ga_domains.push('indeed.ae');ga_domains.push('indeed.com.mx');ga_domains.push('indeed.com.my');ga_domains.push('indeed.ch');ga_domains.push('indeed.com.co');ga_domains.push('indeed.com.ph');ga_domains.push('indeed.co.za');ga_domains.push('indeed.ie');ga_domains.push('indeed.com.au');ga_domains.push('indeed.ca');ga_domains.push('indeed.com.pe');\n",
      "\n",
      "        (function (i, s, o, g, r, a, m) {\n",
      "            i['GoogleAnalyticsObject'] = r;\n",
      "            i[r] = i[r] || function () {\n",
      "                (i[r].q = i[r].q || []).push(arguments)\n",
      "            }, i[r].l = 1 * new Date();\n",
      "            a = s.createElement(o),\n",
      "                    m = s.getElementsByTagName(o)[0];\n",
      "            a.async = 1;\n",
      "            a.src = g;\n",
      "            m.parentNode.insertBefore(a, m)\n",
      "        })(window, document, 'script', '//www.google-analytics.com/analytics.js', 'ga');\n",
      "\n",
      "        var ga = ga || [];\n",
      "        ga('create', 'UA-90780-1', 'auto', {\n",
      "            'allowLinker': true\n",
      "        });\n",
      "        ga('require', 'linkid');\n",
      "        ga('require', 'linker');\n",
      "        ga('linker:autoLink', ga_domains, false, true);\n",
      "        ga('require', 'displayfeatures');\n",
      "        ga('send', 'pageview');\n",
      "\n",
      "        \n",
      "        (function () {\n",
      "            if (window.PENDING_ANALYTICS_VARS && window.PENDING_ANALYTICS_VARS.length > 0) {\n",
      "                for (var i in PENDING_ANALYTICS_VARS) {\n",
      "                    ga('set', PENDING_ANALYTICS_VARS[i][2], PENDING_ANALYTICS_VARS[i][3]);\n",
      "                }\n",
      "            }\n",
      "        })();\n",
      "    </script>\n",
      "<script>\n",
      "    !function(f,b,e,v,n,t,s){if(f.fbq)return;n=f.fbq=function(){n.callMethod?\n",
      "            n.callMethod.apply(n,arguments):n.queue.push(arguments)};if(!f._fbq)f._fbq=n;\n",
      "        n.push=n;n.loaded=!0;n.version='2.0';n.queue=[];t=b.createElement(e);t.async=!0;\n",
      "        t.src=v;s=b.getElementsByTagName(e)[0];s.parentNode.insertBefore(t,s)}(window,\n",
      "            document,'script','https://connect.facebook.net/en_US/fbevents.js');\n",
      "\n",
      "    fbq('init', '579216298929618');\n",
      "    fbq('track', \"PageView\");</script>\n",
      "<noscript><img height=\"1\" src=\"https://www.facebook.com/tr?id=579216298929618&amp;ev=PageView&amp;noscript=1\" style=\"display:none\" width=\"1\"/></noscript>\n",
      "<script>\n",
      "var _comscore = _comscore || [];\n",
      "_comscore.push({ c1: \"2\", c2: \"6486505\", c4:\"www.indeed.com/q-data-scientist-jobs.html\", c15:\"1bir89mkl1fqt22c\"});\n",
      "(function() { var s = document.createElement(\"script\"), el = document.getElementsByTagName(\"script\")[0]; s.async = true; s.src = (document.location.protocol == \"https:\" ? \"https://sb\" : \"http://b\") + \".scorecardresearch.com/beacon.js\"; el.parentNode.insertBefore(s, el); })();\n",
      "</script>\n",
      "<noscript>\n",
      "<img alt=\"\" height=\"0\" src=\"http://b.scorecardresearch.com/p?c1=2&amp;c2=6486505&amp;c4=www.indeed.com%2Fq-data-scientist-jobs.html&amp;c15=1bir89mkl1fqt22c&amp;cv=2.0&amp;cj=1\" style=\"display:none\" width=\"0\"/>\n",
      "</noscript>\n",
      "<img height=\"0\" src=\"//log.dmtry.com/redir/1/0/4102/1011464/0/1/189/0/1017/1.ver?at=v&amp;d=PxConv\" width=\"0\"/>\n",
      "<script>(function(){\n",
      "(function(){\n",
      "var q = document.getElementById('what').value;\n",
      "if (q.indexOf('recruit') != -1 && window.location.search.indexOf('&start') == -1) {\n",
      "    var d1 = document.getElementById('searchCount');\n",
      "    if (d1 !== null) {\n",
      "        div = d1.nextSibling;\n",
      "        while (div !== null && div.tagName !== \"div\"){\n",
      "            toRemove = div;\n",
      "            div = div.nextSibling;\n",
      "            toRemove.remove(toRemove.selectedIndex);\n",
      "        }\n",
      "        d1.insertAdjacentHTML('afterend', '<div style=\"padding: 10px; margin-top: 20px; border-radius: 4px;font-size: 15px;padding-left: 12px;\"><img style=\"max-width:30px;\" src=\"data:image/png;base64,iVBORw0KGgoAAAANSUhEUgAAACoAAAAaCAYAAADBuc72AAAABGdBTUEAALGPC/xhBQAAAQtJREFUWAntlt8NgjAQxnuNE6iPOgFGXINFZAxxDFjENYSECfBVV6h3RkJ5KC/f1WACSUP/hK8/vruDUtu8MudcZZzbGeQi6ogoT47rGyITetaqQIq6c3vWKkMbofMWdtInYFh/qNm3mmIxtRZQbXdX2oKDXpNxhVXcsK+Joc4YyiOCakDKa38KtIyYo6iTQ2wENiKovxHeX0BxD8cKi6NjP/CRNUQPXCa+guWj2fkfYAn1oq2fBR/vLr3O4bT9at5dP6dxh4spSTcFR+WqATOlAYOK+C9g1f71AstpMGUKtAbnaHh3zRylTiX0YViNlejHPB9Sii0t/JkZ9SX00uq5AvZe/QWkwOo6+QY0CUZ8agJ1FQAAAABJRU5ErkJggg==\"> Get paid to recruit independently on Indeed - <a href=\"https://crowd.indeed.com/?sid=SERPpromo4&ikw=' +encodeURI(q) + '&from=SERPpromo4\">Start Today</a></div>');\n",
      "    }\n",
      "}\n",
      "\n",
      "})();\n",
      "})();</script>\n",
      "<script>(function(){\n",
      "var jsearch = document.getElementById('jobsearch');\n",
      "\n",
      "if (jsearch) {\n",
      "    var sl = jsearch.getElementsByTagName('a')[0];\n",
      "    var r = document.getElementById('refineresults');\n",
      "    if(sl && r) {\n",
      "        r.appendChild(sl);\n",
      "        sl.className += ' advSearch';\n",
      "    }\n",
      "}\n",
      "})();</script>\n",
      "</body>\n",
      "</html>\n",
      "\n"
     ]
    }
   ],
   "source": [
    "# Fixed url for job postings containing data scientist\n",
    "url = 'http://www.indeed.com/jobs?q=data+scientist&l='\n",
    "# read the website\n",
    "source = urllib2.urlopen(url).read()\n",
    "# parse html code\n",
    "bs_tree = bs4.BeautifulSoup(source)\n",
    "print bs_tree"
   ]
  },
  {
   "cell_type": "code",
   "execution_count": 192,
   "metadata": {
    "slideshow": {
     "slide_type": "slide"
    }
   },
   "outputs": [
    {
     "name": "stdout",
     "output_type": "stream",
     "text": [
      "Search yielded 22,319 hits.\n",
      "[2, 2, 3, 1, 9]\n",
      "[9, 1, 3, 2, 2]\n",
      "\n",
      "22319\n"
     ]
    }
   ],
   "source": [
    "# see how many job postings we found\n",
    "#<div id=\"searchCount\">Jobs 1 to 10 of 22,356</div>\n",
    "job_count_string = bs_tree.find(id = 'searchCount').contents[0]\n",
    "job_count_string = job_count_string.split()[-1]\n",
    "print(\"Search yielded %s hits.\" % (job_count_string))\n",
    "\n",
    "# not that job_count so far is still a string, \n",
    "# not an integer, and the , separator prevents \n",
    "# us from just casting it to int\n",
    "\n",
    "job_count_digits = [int(d) for d in job_count_string if d.isdigit()]\n",
    "print job_count_digits\n",
    "print job_count_digits[::-1]\n",
    "print \n",
    "job_count = np.sum([digit*(10**exponent) for digit, exponent in \n",
    "                    zip(job_count_digits[::-1], range(len(job_count_digits)))])\n",
    "\n",
    "print job_count"
   ]
  },
  {
   "cell_type": "code",
   "execution_count": 196,
   "metadata": {
    "slideshow": {
     "slide_type": "slide"
    }
   },
   "outputs": [
    {
     "name": "stdout",
     "output_type": "stream",
     "text": [
      "2232\n",
      "['http://www.indeed.com/rc/clk?jk=a13038ba8ea31fe1', 'http://www.indeed.com/rc/clk?jk=6e4c08399d7effdb', 'http://www.indeed.com/rc/clk?jk=503c2538b1491049', 'http://www.indeed.com/rc/clk?jk=516fc216c1b0166b', 'http://www.indeed.com/rc/clk?jk=15eb18345642c0e6', 'http://www.indeed.com/rc/clk?jk=0ed717cec9b0e1a4', 'http://www.indeed.com/rc/clk?jk=07b19e1211995c68', 'http://www.indeed.com/rc/clk?jk=391885e2c738c2df', 'http://www.indeed.com/rc/clk?jk=399259b3a54e4fa5']\n",
      "We found a lot of jobs:  9\n"
     ]
    }
   ],
   "source": [
    "# The website is only listing 10 results per page, \n",
    "# so we need to scrape them page after page\n",
    "num_pages = int(np.ceil(job_count/10.0))\n",
    "\n",
    "base_url = 'http://www.indeed.com'\n",
    "job_links = []\n",
    "for i in range(1): #do range(num_pages) if you want them all\n",
    "    if i%10==0:\n",
    "        print num_pages-i\n",
    "    url = 'http://www.indeed.com/jobs?q=data+scientist&start=' + str(i*10)\n",
    "    html_page = urllib2.urlopen(url).read() \n",
    "    bs_tree = bs4.BeautifulSoup(html_page)\n",
    "    job_link_area = bs_tree.find(id = 'resultsCol')\n",
    "    job_postings = job_link_area.findAll(\"div\")\n",
    "    job_postings = [jp for jp in job_postings if not jp.get('class') is None \n",
    "                    and ''.join(jp.get('class')) ==\"rowresult\"]\n",
    "    #not X has higher precedence than and\n",
    "    job_ids = [jp.get('data-jk') for jp in job_postings]\n",
    "    \n",
    "    # go after each link\n",
    "    for id in job_ids:\n",
    "        job_links.append(base_url + '/rc/clk?jk=' + id)\n",
    "\n",
    "    time.sleep(1)\n",
    "print job_links\n",
    "print \"We found a lot of jobs: \", len(job_links)"
   ]
  },
  {
   "cell_type": "markdown",
   "metadata": {
    "slideshow": {
     "slide_type": "slide"
    }
   },
   "source": [
    "Some precautions to enable us to restart our search\n",
    "========================="
   ]
  },
  {
   "cell_type": "code",
   "execution_count": 197,
   "metadata": {
    "collapsed": true,
    "slideshow": {
     "slide_type": "-"
    }
   },
   "outputs": [],
   "source": [
    "# Save the scraped links\n",
    "#with open('data/scraped_links.pkl', 'wb') as f:\n",
    "#    cPickle.dump(job_links, f)\n",
    "    \n",
    "# Read canned scraped links\n",
    "with open('data/scraped_links.pkl', 'r') as f:\n",
    "    job_links = cPickle.load(f)    "
   ]
  },
  {
   "cell_type": "code",
   "execution_count": 198,
   "metadata": {
    "collapsed": true,
    "slideshow": {
     "slide_type": "slide"
    }
   },
   "outputs": [],
   "source": [
    "skill_set = {'mapreduce': 0, 'spark': 0}\n",
    "\n",
    "## write initialization into a file, so we can restart later\n",
    "#with open('scraped_links_restart.pkl', 'wb') as f:\n",
    "#    cPickle.dump((skill_set, 0),f)    "
   ]
  },
  {
   "cell_type": "markdown",
   "metadata": {
    "slideshow": {
     "slide_type": "slide"
    }
   },
   "source": [
    "Python Dictonaries\n",
    "==================\n",
    "\n",
    "* build in data type\n",
    "* uses key: value pairs"
   ]
  },
  {
   "cell_type": "code",
   "execution_count": 199,
   "metadata": {
    "slideshow": {
     "slide_type": "slide"
    }
   },
   "outputs": [
    {
     "name": "stdout",
     "output_type": "stream",
     "text": [
      "{'a': 1, 'b': 2}\n",
      "['a', 'b']\n",
      "[1, 2]\n",
      "a 1\n",
      "b 2\n",
      "a 1\n",
      "b 2\n"
     ]
    }
   ],
   "source": [
    "a = {'a': 1, 'b':2}\n",
    "print a\n",
    "\n",
    "#show keys\n",
    "print a.keys()\n",
    "\n",
    "#show values\n",
    "print a.values()\n",
    "\n",
    "#show for loop over all entries\n",
    "# option 1 using zip\n",
    "# this works also for iterating over any\n",
    "# other two lists\n",
    "for k,v in zip(a.keys(), a.values()):\n",
    "    print k,v\n",
    "\n",
    "# option 2 using the dictionary `iteritems()` function\n",
    "for k,v in a.iteritems():\n",
    "    print k,v"
   ]
  },
  {
   "cell_type": "code",
   "execution_count": 200,
   "metadata": {
    "slideshow": {
     "slide_type": "slide"
    }
   },
   "outputs": [
    {
     "name": "stdout",
     "output_type": "stream",
     "text": [
      "How many websites still to go?  0\n"
     ]
    }
   ],
   "source": [
    "# This code below does the trick, but could be optimized for speed if necessary\n",
    "# e.g. skills are typically listed at the end of the webpage\n",
    "# might not need to split/join the whole webpage, as we already know\n",
    "# which words we are looking for \n",
    "# and could stop after the first occurance of each word\n",
    "\n",
    "with open('data/scraped_links_restart.pkl', 'r') as f:\n",
    "    skill_set, index = cPickle.load(f)\n",
    "    print \"How many websites still to go? \", len(job_links) - index\n",
    "    \n",
    "    "
   ]
  },
  {
   "cell_type": "code",
   "execution_count": 202,
   "metadata": {
    "collapsed": true,
    "slideshow": {
     "slide_type": "slide"
    }
   },
   "outputs": [],
   "source": [
    "counter = 0\n",
    "\n",
    "for link in job_links[index:]:\n",
    "    counter +=1  \n",
    "    \n",
    "    try:\n",
    "        html_page = urllib2.urlopen(link).read()\n",
    "    except urllib2.HTTPError:\n",
    "        print \"HTTPError:\"\n",
    "        continue\n",
    "    except urllib2.URLError:\n",
    "        print \"URLError:\"\n",
    "        continue\n",
    "    except socket.error as error:\n",
    "        print \"Connection closed\"\n",
    "        continue\n",
    "\n",
    "    html_text = re.sub(\"[^a-z.+3]\",\" \", html_page.lower()) \n",
    "    \n",
    "    # replace all but the listed characters\n",
    "        \n",
    "    for key in skill_set.keys():\n",
    "        if key in html_text:  \n",
    "            skill_set[key] +=1\n",
    "            \n",
    "    if counter % 5 == 0:\n",
    "        print len(job_links) - counter - index\n",
    "        print skill_set\n",
    "        with open('scraped_links_restart.pkl','wb') as f:\n",
    "            cPickle.dump((skill_set, index+counter),f)"
   ]
  },
  {
   "cell_type": "code",
   "execution_count": 203,
   "metadata": {
    "slideshow": {
     "slide_type": "slide"
    }
   },
   "outputs": [
    {
     "name": "stdout",
     "output_type": "stream",
     "text": [
      "{'spark': 31, 'mapreduce': 16}\n"
     ]
    }
   ],
   "source": [
    "print skill_set"
   ]
  },
  {
   "cell_type": "code",
   "execution_count": 204,
   "metadata": {
    "slideshow": {
     "slide_type": "slide"
    }
   },
   "outputs": [
    {
     "ename": "AttributeError",
     "evalue": "'Series' object has no attribute 'sort'",
     "output_type": "error",
     "traceback": [
      "\u001b[0;31m---------------------------------------------------------------------------\u001b[0m",
      "\u001b[0;31mAttributeError\u001b[0m                            Traceback (most recent call last)",
      "\u001b[0;32m<ipython-input-204-4e4ee95db334>\u001b[0m in \u001b[0;36m<module>\u001b[0;34m()\u001b[0m\n\u001b[1;32m      1\u001b[0m \u001b[0mpseries\u001b[0m \u001b[0;34m=\u001b[0m \u001b[0mpd\u001b[0m\u001b[0;34m.\u001b[0m\u001b[0mSeries\u001b[0m\u001b[0;34m(\u001b[0m\u001b[0mskill_set\u001b[0m\u001b[0;34m)\u001b[0m\u001b[0;34m\u001b[0m\u001b[0m\n\u001b[0;32m----> 2\u001b[0;31m \u001b[0mpseries\u001b[0m\u001b[0;34m.\u001b[0m\u001b[0msort\u001b[0m\u001b[0;34m(\u001b[0m\u001b[0mascending\u001b[0m\u001b[0;34m=\u001b[0m\u001b[0mFalse\u001b[0m\u001b[0;34m)\u001b[0m\u001b[0;34m\u001b[0m\u001b[0m\n\u001b[0m\u001b[1;32m      3\u001b[0m \u001b[0;34m\u001b[0m\u001b[0m\n\u001b[1;32m      4\u001b[0m \u001b[0mpseries\u001b[0m\u001b[0;34m.\u001b[0m\u001b[0mplot\u001b[0m\u001b[0;34m(\u001b[0m\u001b[0mkind\u001b[0m \u001b[0;34m=\u001b[0m \u001b[0;34m'bar'\u001b[0m\u001b[0;34m)\u001b[0m\u001b[0;34m\u001b[0m\u001b[0m\n\u001b[1;32m      5\u001b[0m \u001b[0;31m## set the title to Score Comparison\u001b[0m\u001b[0;34m\u001b[0m\u001b[0;34m\u001b[0m\u001b[0m\n",
      "\u001b[0;32m/home/csc/anaconda2/lib/python2.7/site-packages/pandas/core/generic.pyc\u001b[0m in \u001b[0;36m__getattr__\u001b[0;34m(self, name)\u001b[0m\n\u001b[1;32m   2968\u001b[0m             \u001b[0;32mif\u001b[0m \u001b[0mname\u001b[0m \u001b[0;32min\u001b[0m \u001b[0mself\u001b[0m\u001b[0;34m.\u001b[0m\u001b[0m_info_axis\u001b[0m\u001b[0;34m:\u001b[0m\u001b[0;34m\u001b[0m\u001b[0m\n\u001b[1;32m   2969\u001b[0m                 \u001b[0;32mreturn\u001b[0m \u001b[0mself\u001b[0m\u001b[0;34m[\u001b[0m\u001b[0mname\u001b[0m\u001b[0;34m]\u001b[0m\u001b[0;34m\u001b[0m\u001b[0m\n\u001b[0;32m-> 2970\u001b[0;31m             \u001b[0;32mreturn\u001b[0m \u001b[0mobject\u001b[0m\u001b[0;34m.\u001b[0m\u001b[0m__getattribute__\u001b[0m\u001b[0;34m(\u001b[0m\u001b[0mself\u001b[0m\u001b[0;34m,\u001b[0m \u001b[0mname\u001b[0m\u001b[0;34m)\u001b[0m\u001b[0;34m\u001b[0m\u001b[0m\n\u001b[0m\u001b[1;32m   2971\u001b[0m \u001b[0;34m\u001b[0m\u001b[0m\n\u001b[1;32m   2972\u001b[0m     \u001b[0;32mdef\u001b[0m \u001b[0m__setattr__\u001b[0m\u001b[0;34m(\u001b[0m\u001b[0mself\u001b[0m\u001b[0;34m,\u001b[0m \u001b[0mname\u001b[0m\u001b[0;34m,\u001b[0m \u001b[0mvalue\u001b[0m\u001b[0;34m)\u001b[0m\u001b[0;34m:\u001b[0m\u001b[0;34m\u001b[0m\u001b[0m\n",
      "\u001b[0;31mAttributeError\u001b[0m: 'Series' object has no attribute 'sort'"
     ]
    }
   ],
   "source": [
    "pseries = pd.Series(skill_set)\n",
    "pseries.sort(ascending=False)\n",
    "\n",
    "pseries.plot(kind = 'bar')\n",
    "## set the title to Score Comparison\n",
    "plt.title('Data Science Skills')\n",
    "## set the x label\n",
    "plt.xlabel('Skills')\n",
    "## set the y label\n",
    "plt.ylabel('Count')\n",
    "## show the plot\n",
    "plt.show()"
   ]
  },
  {
   "cell_type": "markdown",
   "metadata": {
    "slideshow": {
     "slide_type": "slide"
    }
   },
   "source": [
    "Another Example\n",
    "================\n",
    "\n",
    "Designed by Katharine Jarmul\n",
    "----------------------------\n",
    "\n",
    "https://github.com/kjam/python-web-scraping-tutorial\n",
    "\n",
    "\n"
   ]
  },
  {
   "cell_type": "markdown",
   "metadata": {
    "slideshow": {
     "slide_type": "slide"
    }
   },
   "source": [
    "Scraping Happy Hours\n",
    "====================\n",
    "\n",
    "Scrape the happy hour list of LA for personal preferences\n",
    "\n",
    "http://www.downtownla.com/3_10_happyHours.asp?action=ALL\n",
    "\n",
    "This example is part of her talk about data scraping at PyCon2014. She is a really good speaker and I enjoyed watching her talk. Check it out: http://www.youtube.com/watch?v=p1iX0uxM1w8"
   ]
  },
  {
   "cell_type": "code",
   "execution_count": 206,
   "metadata": {
    "slideshow": {
     "slide_type": "slide"
    }
   },
   "outputs": [
    {
     "ename": "HTTPError",
     "evalue": "HTTP Error 404: Not Found",
     "output_type": "error",
     "traceback": [
      "\u001b[0;31m---------------------------------------------------------------------------\u001b[0m",
      "\u001b[0;31mHTTPError\u001b[0m                                 Traceback (most recent call last)",
      "\u001b[0;32m<ipython-input-206-a72713a2ca4f>\u001b[0m in \u001b[0;36m<module>\u001b[0;34m()\u001b[0m\n\u001b[1;32m      4\u001b[0m \u001b[0;31m# First, I'm going to identify the areas of the page I want to look at\u001b[0m\u001b[0;34m\u001b[0m\u001b[0;34m\u001b[0m\u001b[0m\n\u001b[1;32m      5\u001b[0m \u001b[0murl\u001b[0m \u001b[0;34m=\u001b[0m \u001b[0;34m'https://www.downtownla.com/3_10_happyHours.asp?action=ALL'\u001b[0m\u001b[0;34m\u001b[0m\u001b[0m\n\u001b[0;32m----> 6\u001b[0;31m \u001b[0msource\u001b[0m \u001b[0;34m=\u001b[0m \u001b[0murllib2\u001b[0m\u001b[0;34m.\u001b[0m\u001b[0murlopen\u001b[0m\u001b[0;34m(\u001b[0m\u001b[0murl\u001b[0m\u001b[0;34m)\u001b[0m\u001b[0;34m.\u001b[0m\u001b[0mread\u001b[0m\u001b[0;34m(\u001b[0m\u001b[0;34m)\u001b[0m\u001b[0;34m\u001b[0m\u001b[0m\n\u001b[0m\u001b[1;32m      7\u001b[0m \u001b[0mtables\u001b[0m \u001b[0;34m=\u001b[0m \u001b[0mbs4\u001b[0m\u001b[0;34m.\u001b[0m\u001b[0mBeautifulSoup\u001b[0m\u001b[0;34m(\u001b[0m\u001b[0msource\u001b[0m\u001b[0;34m)\u001b[0m\u001b[0;34m\u001b[0m\u001b[0m\n",
      "\u001b[0;32m/home/csc/anaconda2/lib/python2.7/urllib2.pyc\u001b[0m in \u001b[0;36murlopen\u001b[0;34m(url, data, timeout, cafile, capath, cadefault, context)\u001b[0m\n\u001b[1;32m    152\u001b[0m     \u001b[0;32melse\u001b[0m\u001b[0;34m:\u001b[0m\u001b[0;34m\u001b[0m\u001b[0m\n\u001b[1;32m    153\u001b[0m         \u001b[0mopener\u001b[0m \u001b[0;34m=\u001b[0m \u001b[0m_opener\u001b[0m\u001b[0;34m\u001b[0m\u001b[0m\n\u001b[0;32m--> 154\u001b[0;31m     \u001b[0;32mreturn\u001b[0m \u001b[0mopener\u001b[0m\u001b[0;34m.\u001b[0m\u001b[0mopen\u001b[0m\u001b[0;34m(\u001b[0m\u001b[0murl\u001b[0m\u001b[0;34m,\u001b[0m \u001b[0mdata\u001b[0m\u001b[0;34m,\u001b[0m \u001b[0mtimeout\u001b[0m\u001b[0;34m)\u001b[0m\u001b[0;34m\u001b[0m\u001b[0m\n\u001b[0m\u001b[1;32m    155\u001b[0m \u001b[0;34m\u001b[0m\u001b[0m\n\u001b[1;32m    156\u001b[0m \u001b[0;32mdef\u001b[0m \u001b[0minstall_opener\u001b[0m\u001b[0;34m(\u001b[0m\u001b[0mopener\u001b[0m\u001b[0;34m)\u001b[0m\u001b[0;34m:\u001b[0m\u001b[0;34m\u001b[0m\u001b[0m\n",
      "\u001b[0;32m/home/csc/anaconda2/lib/python2.7/urllib2.pyc\u001b[0m in \u001b[0;36mopen\u001b[0;34m(self, fullurl, data, timeout)\u001b[0m\n\u001b[1;32m    433\u001b[0m         \u001b[0;32mfor\u001b[0m \u001b[0mprocessor\u001b[0m \u001b[0;32min\u001b[0m \u001b[0mself\u001b[0m\u001b[0;34m.\u001b[0m\u001b[0mprocess_response\u001b[0m\u001b[0;34m.\u001b[0m\u001b[0mget\u001b[0m\u001b[0;34m(\u001b[0m\u001b[0mprotocol\u001b[0m\u001b[0;34m,\u001b[0m \u001b[0;34m[\u001b[0m\u001b[0;34m]\u001b[0m\u001b[0;34m)\u001b[0m\u001b[0;34m:\u001b[0m\u001b[0;34m\u001b[0m\u001b[0m\n\u001b[1;32m    434\u001b[0m             \u001b[0mmeth\u001b[0m \u001b[0;34m=\u001b[0m \u001b[0mgetattr\u001b[0m\u001b[0;34m(\u001b[0m\u001b[0mprocessor\u001b[0m\u001b[0;34m,\u001b[0m \u001b[0mmeth_name\u001b[0m\u001b[0;34m)\u001b[0m\u001b[0;34m\u001b[0m\u001b[0m\n\u001b[0;32m--> 435\u001b[0;31m             \u001b[0mresponse\u001b[0m \u001b[0;34m=\u001b[0m \u001b[0mmeth\u001b[0m\u001b[0;34m(\u001b[0m\u001b[0mreq\u001b[0m\u001b[0;34m,\u001b[0m \u001b[0mresponse\u001b[0m\u001b[0;34m)\u001b[0m\u001b[0;34m\u001b[0m\u001b[0m\n\u001b[0m\u001b[1;32m    436\u001b[0m \u001b[0;34m\u001b[0m\u001b[0m\n\u001b[1;32m    437\u001b[0m         \u001b[0;32mreturn\u001b[0m \u001b[0mresponse\u001b[0m\u001b[0;34m\u001b[0m\u001b[0m\n",
      "\u001b[0;32m/home/csc/anaconda2/lib/python2.7/urllib2.pyc\u001b[0m in \u001b[0;36mhttp_response\u001b[0;34m(self, request, response)\u001b[0m\n\u001b[1;32m    546\u001b[0m         \u001b[0;32mif\u001b[0m \u001b[0;32mnot\u001b[0m \u001b[0;34m(\u001b[0m\u001b[0;36m200\u001b[0m \u001b[0;34m<=\u001b[0m \u001b[0mcode\u001b[0m \u001b[0;34m<\u001b[0m \u001b[0;36m300\u001b[0m\u001b[0;34m)\u001b[0m\u001b[0;34m:\u001b[0m\u001b[0;34m\u001b[0m\u001b[0m\n\u001b[1;32m    547\u001b[0m             response = self.parent.error(\n\u001b[0;32m--> 548\u001b[0;31m                 'http', request, response, code, msg, hdrs)\n\u001b[0m\u001b[1;32m    549\u001b[0m \u001b[0;34m\u001b[0m\u001b[0m\n\u001b[1;32m    550\u001b[0m         \u001b[0;32mreturn\u001b[0m \u001b[0mresponse\u001b[0m\u001b[0;34m\u001b[0m\u001b[0m\n",
      "\u001b[0;32m/home/csc/anaconda2/lib/python2.7/urllib2.pyc\u001b[0m in \u001b[0;36merror\u001b[0;34m(self, proto, *args)\u001b[0m\n\u001b[1;32m    471\u001b[0m         \u001b[0;32mif\u001b[0m \u001b[0mhttp_err\u001b[0m\u001b[0;34m:\u001b[0m\u001b[0;34m\u001b[0m\u001b[0m\n\u001b[1;32m    472\u001b[0m             \u001b[0margs\u001b[0m \u001b[0;34m=\u001b[0m \u001b[0;34m(\u001b[0m\u001b[0mdict\u001b[0m\u001b[0;34m,\u001b[0m \u001b[0;34m'default'\u001b[0m\u001b[0;34m,\u001b[0m \u001b[0;34m'http_error_default'\u001b[0m\u001b[0;34m)\u001b[0m \u001b[0;34m+\u001b[0m \u001b[0morig_args\u001b[0m\u001b[0;34m\u001b[0m\u001b[0m\n\u001b[0;32m--> 473\u001b[0;31m             \u001b[0;32mreturn\u001b[0m \u001b[0mself\u001b[0m\u001b[0;34m.\u001b[0m\u001b[0m_call_chain\u001b[0m\u001b[0;34m(\u001b[0m\u001b[0;34m*\u001b[0m\u001b[0margs\u001b[0m\u001b[0;34m)\u001b[0m\u001b[0;34m\u001b[0m\u001b[0m\n\u001b[0m\u001b[1;32m    474\u001b[0m \u001b[0;34m\u001b[0m\u001b[0m\n\u001b[1;32m    475\u001b[0m \u001b[0;31m# XXX probably also want an abstract factory that knows when it makes\u001b[0m\u001b[0;34m\u001b[0m\u001b[0;34m\u001b[0m\u001b[0m\n",
      "\u001b[0;32m/home/csc/anaconda2/lib/python2.7/urllib2.pyc\u001b[0m in \u001b[0;36m_call_chain\u001b[0;34m(self, chain, kind, meth_name, *args)\u001b[0m\n\u001b[1;32m    405\u001b[0m             \u001b[0mfunc\u001b[0m \u001b[0;34m=\u001b[0m \u001b[0mgetattr\u001b[0m\u001b[0;34m(\u001b[0m\u001b[0mhandler\u001b[0m\u001b[0;34m,\u001b[0m \u001b[0mmeth_name\u001b[0m\u001b[0;34m)\u001b[0m\u001b[0;34m\u001b[0m\u001b[0m\n\u001b[1;32m    406\u001b[0m \u001b[0;34m\u001b[0m\u001b[0m\n\u001b[0;32m--> 407\u001b[0;31m             \u001b[0mresult\u001b[0m \u001b[0;34m=\u001b[0m \u001b[0mfunc\u001b[0m\u001b[0;34m(\u001b[0m\u001b[0;34m*\u001b[0m\u001b[0margs\u001b[0m\u001b[0;34m)\u001b[0m\u001b[0;34m\u001b[0m\u001b[0m\n\u001b[0m\u001b[1;32m    408\u001b[0m             \u001b[0;32mif\u001b[0m \u001b[0mresult\u001b[0m \u001b[0;32mis\u001b[0m \u001b[0;32mnot\u001b[0m \u001b[0mNone\u001b[0m\u001b[0;34m:\u001b[0m\u001b[0;34m\u001b[0m\u001b[0m\n\u001b[1;32m    409\u001b[0m                 \u001b[0;32mreturn\u001b[0m \u001b[0mresult\u001b[0m\u001b[0;34m\u001b[0m\u001b[0m\n",
      "\u001b[0;32m/home/csc/anaconda2/lib/python2.7/urllib2.pyc\u001b[0m in \u001b[0;36mhttp_error_default\u001b[0;34m(self, req, fp, code, msg, hdrs)\u001b[0m\n\u001b[1;32m    554\u001b[0m \u001b[0;32mclass\u001b[0m \u001b[0mHTTPDefaultErrorHandler\u001b[0m\u001b[0;34m(\u001b[0m\u001b[0mBaseHandler\u001b[0m\u001b[0;34m)\u001b[0m\u001b[0;34m:\u001b[0m\u001b[0;34m\u001b[0m\u001b[0m\n\u001b[1;32m    555\u001b[0m     \u001b[0;32mdef\u001b[0m \u001b[0mhttp_error_default\u001b[0m\u001b[0;34m(\u001b[0m\u001b[0mself\u001b[0m\u001b[0;34m,\u001b[0m \u001b[0mreq\u001b[0m\u001b[0;34m,\u001b[0m \u001b[0mfp\u001b[0m\u001b[0;34m,\u001b[0m \u001b[0mcode\u001b[0m\u001b[0;34m,\u001b[0m \u001b[0mmsg\u001b[0m\u001b[0;34m,\u001b[0m \u001b[0mhdrs\u001b[0m\u001b[0;34m)\u001b[0m\u001b[0;34m:\u001b[0m\u001b[0;34m\u001b[0m\u001b[0m\n\u001b[0;32m--> 556\u001b[0;31m         \u001b[0;32mraise\u001b[0m \u001b[0mHTTPError\u001b[0m\u001b[0;34m(\u001b[0m\u001b[0mreq\u001b[0m\u001b[0;34m.\u001b[0m\u001b[0mget_full_url\u001b[0m\u001b[0;34m(\u001b[0m\u001b[0;34m)\u001b[0m\u001b[0;34m,\u001b[0m \u001b[0mcode\u001b[0m\u001b[0;34m,\u001b[0m \u001b[0mmsg\u001b[0m\u001b[0;34m,\u001b[0m \u001b[0mhdrs\u001b[0m\u001b[0;34m,\u001b[0m \u001b[0mfp\u001b[0m\u001b[0;34m)\u001b[0m\u001b[0;34m\u001b[0m\u001b[0m\n\u001b[0m\u001b[1;32m    557\u001b[0m \u001b[0;34m\u001b[0m\u001b[0m\n\u001b[1;32m    558\u001b[0m \u001b[0;32mclass\u001b[0m \u001b[0mHTTPRedirectHandler\u001b[0m\u001b[0;34m(\u001b[0m\u001b[0mBaseHandler\u001b[0m\u001b[0;34m)\u001b[0m\u001b[0;34m:\u001b[0m\u001b[0;34m\u001b[0m\u001b[0m\n",
      "\u001b[0;31mHTTPError\u001b[0m: HTTP Error 404: Not Found"
     ]
    }
   ],
   "source": [
    "stuff_i_like = ['burger', 'sushi', 'sweet potato fries', 'BBQ','beer']\n",
    "found_happy_hours = []\n",
    "my_happy_hours = []\n",
    "# First, I'm going to identify the areas of the page I want to look at\n",
    "url = 'http://www.downtownla.com/3_10_happyHours.asp?action=ALL'\n",
    "source = urllib2.urlopen(url).read()\n",
    "tables = bs4.BeautifulSoup(source)"
   ]
  },
  {
   "cell_type": "code",
   "execution_count": null,
   "metadata": {
    "collapsed": true,
    "slideshow": {
     "slide_type": "slide"
    }
   },
   "outputs": [],
   "source": [
    "# Then, I'm going to sort out the *exact* parts of the page\n",
    "# that match what I'm looking for...\n",
    "for t in tables.findAll('p', {'class': 'calendar_EventTitle'}):\n",
    "    text = t.text\n",
    "    for s in t.findNextSiblings():\n",
    "        text += '\\n' + s.text\n",
    "    found_happy_hours.append(text)\n",
    "\n",
    "print \"The scraper found %d happy hours!\" % len(found_happy_hours)"
   ]
  },
  {
   "cell_type": "code",
   "execution_count": null,
   "metadata": {
    "collapsed": true,
    "slideshow": {
     "slide_type": "slide"
    }
   },
   "outputs": [],
   "source": [
    "# Now I'm going to loop through the food I like\n",
    "# and see if any of the happy hour descriptions match\n",
    "for food in stuff_i_like:\n",
    "    for hh in found_happy_hours:\n",
    "        # checking for text AND making sure I don't have duplicates\n",
    "        if food in hh and hh not in my_happy_hours:\n",
    "            print \"YAY! I found some %s!\" % food\n",
    "            my_happy_hours.append(hh)\n",
    "\n",
    "print \"I think you might like %d of them, yipeeeee!\" % len(my_happy_hours)"
   ]
  },
  {
   "cell_type": "code",
   "execution_count": null,
   "metadata": {
    "collapsed": true,
    "slideshow": {
     "slide_type": "slide"
    }
   },
   "outputs": [],
   "source": [
    "# Now, let's make a mail message we can read:\n",
    "message = 'Hey Katharine,\\n\\n\\n'\n",
    "message += 'OMG, I found some stuff for you in Downtown, take a look.\\n\\n'\n",
    "message += '==============================\\n'.join(my_happy_hours)\n",
    "message = message.encode('utf-8')\n",
    "# To read more about encoding:\n",
    "# http://diveintopython.org/xml_processing/unicode.html\n",
    "message = message.replace('\\t', '').replace('\\r', '')\n",
    "message += '\\n\\nXOXO,\\n Your Py Script'\n",
    "\n",
    "#print message"
   ]
  },
  {
   "cell_type": "markdown",
   "metadata": {
    "slideshow": {
     "slide_type": "slide"
    }
   },
   "source": [
    "Getting Data with an API\n",
    "=========================\n",
    "\n",
    "* API: application programming interface\n",
    "* some sites try to make your life easier\n",
    "* Twitter, New York Times, ImDB, rotten Tomatoes, Yelp, ..."
   ]
  },
  {
   "cell_type": "markdown",
   "metadata": {
    "slideshow": {
     "slide_type": "slide"
    }
   },
   "source": [
    "Rotten Tomatoes\n",
    "===============\n",
    "\n",
    "![The Wizard of Oz](images/wiz_oz.png \"The wizard of Oz\")\n",
    "\n",
    "http://www.rottentomatoes.com/top/\n"
   ]
  },
  {
   "cell_type": "markdown",
   "metadata": {
    "slideshow": {
     "slide_type": "slide"
    }
   },
   "source": [
    "API keys\n",
    "=========\n",
    "\n",
    "* required for data access\n",
    "* identifies application (you)\n",
    "* monitors usage\n",
    "* limits rates"
   ]
  },
  {
   "cell_type": "markdown",
   "metadata": {
    "slideshow": {
     "slide_type": "slide"
    }
   },
   "source": [
    "Rotten Tomatoes Key\n",
    "===================\n",
    "\n",
    "http://developer.rottentomatoes.com/member/register"
   ]
  },
  {
   "cell_type": "code",
   "execution_count": 207,
   "metadata": {},
   "outputs": [
    {
     "ename": "NameError",
     "evalue": "name 'rottenTomatoes_key' is not defined",
     "output_type": "error",
     "traceback": [
      "\u001b[0;31m---------------------------------------------------------------------------\u001b[0m",
      "\u001b[0;31mNameError\u001b[0m                                 Traceback (most recent call last)",
      "\u001b[0;32m<ipython-input-207-de1794d1cf62>\u001b[0m in \u001b[0;36m<module>\u001b[0;34m()\u001b[0m\n\u001b[1;32m      2\u001b[0m \u001b[0;32mimport\u001b[0m \u001b[0mrequests\u001b[0m\u001b[0;34m\u001b[0m\u001b[0m\n\u001b[1;32m      3\u001b[0m \u001b[0;34m\u001b[0m\u001b[0m\n\u001b[0;32m----> 4\u001b[0;31m \u001b[0mapi_key\u001b[0m \u001b[0;34m=\u001b[0m \u001b[0mrottenTomatoes_key\u001b[0m\u001b[0;34m(\u001b[0m\u001b[0;34m)\u001b[0m\u001b[0;34m\u001b[0m\u001b[0m\n\u001b[0m\u001b[1;32m      5\u001b[0m \u001b[0;34m\u001b[0m\u001b[0m\n\u001b[1;32m      6\u001b[0m \u001b[0murl\u001b[0m \u001b[0;34m=\u001b[0m \u001b[0;34m'http://api.rottentomatoes.com/api/public/v1.0/lists/dvds/top_rentals.json?apikey='\u001b[0m \u001b[0;34m+\u001b[0m \u001b[0mapi_key\u001b[0m\u001b[0;34m\u001b[0m\u001b[0m\n",
      "\u001b[0;31mNameError\u001b[0m: name 'rottenTomatoes_key' is not defined"
     ]
    }
   ],
   "source": [
    "import json\n",
    "import requests\n",
    "\n",
    "api_key = rottenTomatoes_key()\n",
    "\n",
    "url = 'http://api.rottentomatoes.com/api/public/v1.0/lists/dvds/top_rentals.json?apikey=' + api_key\n",
    "data = urllib2.urlopen(url).read()\n",
    "#print data"
   ]
  },
  {
   "cell_type": "markdown",
   "metadata": {
    "slideshow": {
     "slide_type": "slide"
    }
   },
   "source": [
    "JSON\n",
    "======\n",
    "\n",
    "* JavaScript Object Notation\n",
    "* human readable\n",
    "* transmit attribute-value pairs"
   ]
  },
  {
   "cell_type": "code",
   "execution_count": 208,
   "metadata": {
    "slideshow": {
     "slide_type": "slide"
    }
   },
   "outputs": [
    {
     "name": "stdout",
     "output_type": "stream",
     "text": [
      "{'a': 1, 'b': 2}\n",
      "{\"a\": 1, \"b\": 2}\n",
      "{u'a': 1, u'b': 2}\n"
     ]
    }
   ],
   "source": [
    "a = {'a': 1, 'b':2}\n",
    "s = json.dumps(a)\n",
    "a2 = json.loads(s)\n",
    "\n",
    "## a is a dictionary\n",
    "print a\n",
    "## vs s is a string containing a in JSON encoding\n",
    "print s\n",
    "## reading back the keys are now in unicode\n",
    "print a2"
   ]
  },
  {
   "cell_type": "code",
   "execution_count": null,
   "metadata": {
    "collapsed": true,
    "slideshow": {
     "slide_type": "slide"
    }
   },
   "outputs": [],
   "source": [
    "## create dictionary from JSON \n",
    "dataDict = json.loads(data)\n",
    "\n",
    "## expore dictionary\n",
    "print dataDict.keys()\n",
    "\n",
    "## there is a key named `movies` containing a list of movies as a value\n",
    "movies = dataDict['movies']\n",
    "\n",
    "## each element of the list `movies` is a dictionary\n",
    "print movies[0].keys()\n",
    "\n",
    "## one of the keys is called `ratings`\n",
    "## the value is yet another dictionary\n",
    "print movies[0]['ratings'].keys()\n",
    "\n",
    "## so we made it all the way to find the critics score\n",
    "print movies[0]['ratings']['critics_score']\n"
   ]
  },
  {
   "cell_type": "markdown",
   "metadata": {
    "slideshow": {
     "slide_type": "slide"
    }
   },
   "source": [
    "Quiz\n",
    "=====\n",
    "\n",
    "* build a list with critics scores\n",
    "* build a list with audience scores"
   ]
  },
  {
   "cell_type": "code",
   "execution_count": null,
   "metadata": {
    "collapsed": true,
    "slideshow": {
     "slide_type": "slide"
    }
   },
   "outputs": [],
   "source": [
    "# critics scores list\n",
    "\n",
    "\n",
    "# audience scores list\n"
   ]
  },
  {
   "cell_type": "markdown",
   "metadata": {
    "slideshow": {
     "slide_type": "skip"
    }
   },
   "source": [
    "The following code shows how to create a pandas data frame with the data we gathered from the webpage.\n",
    "Beware of the `set_index()` function in pandas. Per default it does not change the actual data frame! You need to either reassign the output or set the `inplace` argument to `True`."
   ]
  },
  {
   "cell_type": "code",
   "execution_count": null,
   "metadata": {
    "collapsed": true,
    "slideshow": {
     "slide_type": "slide"
    }
   },
   "outputs": [],
   "source": [
    "## create pandas data frame with critics and audience score\n",
    "scores = pd.DataFrame(data=[critics_scores, audience_scores]).transpose()\n",
    "scores.columns = ['critics', 'audience']\n",
    "\n",
    "## also create a list with all movie titles\n",
    "movie_titles = [m['title'] for m in movies]\n",
    "\n",
    "## set index of dataFrame BEWARE of inplace!\n",
    "scores.set_index([movie_titles])\n",
    "\n",
    "## the line above does not changes scores!\n",
    "## You need to either reassign\n",
    "\n",
    "scores = scores.set_index([movie_titles])\n",
    "\n",
    "## or set the inplace argument to True\n",
    "scores.set_index([movie_titles], inplace=True)\n",
    "scores.head(3)"
   ]
  },
  {
   "cell_type": "code",
   "execution_count": null,
   "metadata": {
    "collapsed": true,
    "slideshow": {
     "slide_type": "slide"
    }
   },
   "outputs": [],
   "source": [
    "## create a bar plot with the data\n",
    "## notice that we are using the data frame itself and call its plot function\n",
    "scores.plot(kind = 'bar')\n",
    "\n",
    "## set the title to Score Comparison\n",
    "plt.title('Score Comparison')\n",
    "\n",
    "## set the x label\n",
    "plt.xlabel('Movies')\n",
    "\n",
    "## set the y label\n",
    "plt.ylabel('Scores')"
   ]
  },
  {
   "cell_type": "code",
   "execution_count": null,
   "metadata": {
    "collapsed": true,
    "slideshow": {
     "slide_type": "slide"
    }
   },
   "outputs": [],
   "source": [
    "## show the plot\n",
    "plt.show()"
   ]
  },
  {
   "cell_type": "markdown",
   "metadata": {
    "slideshow": {
     "slide_type": "slide"
    }
   },
   "source": [
    "Twitter Example:\n",
    "================\n",
    "\n",
    "* API a bit more complicated\n",
    "* libraries make life easier\n",
    "* python-twitter\n",
    "\n",
    "https://github.com/bear/python-twitter\n",
    "\n",
    "What we are going to do is scrape Joe's twitter account, and then filter it for the interesting tweets. Defining interesting as tweets that have be re-tweeted at least 10 times. \n"
   ]
  },
  {
   "cell_type": "code",
   "execution_count": null,
   "metadata": {
    "collapsed": true,
    "slideshow": {
     "slide_type": "slide"
    }
   },
   "outputs": [],
   "source": [
    "import twitter\n",
    "\n",
    "## define the necessary keys\n",
    "cKey = twitterAPI_key()\n",
    "cSecret = twitterAPI_secret()\n",
    "aKey = twitterAPI_access_token_key()\n",
    "aSecret = twitterAPI_access_token_secret()\n",
    "\n",
    "## create the api object with the twitter-python library\n",
    "api = twitter.Api(consumer_key=cKey, consumer_secret=cSecret, access_token_key=aKey, access_token_secret=aSecret)\n"
   ]
  },
  {
   "cell_type": "code",
   "execution_count": null,
   "metadata": {
    "collapsed": true,
    "slideshow": {
     "slide_type": "slide"
    }
   },
   "outputs": [],
   "source": [
    "## get the user timeline with screen_name = 'stat110'\n",
    "twitter_statuses = api.GetUserTimeline(screen_name = 'stat110')\n",
    "\n",
    "## create a data frame\n",
    "## first get a list of panda Series or dict\n",
    "pdSeriesList = [pd.Series(t.AsDict()) for t in twitter_statuses]\n",
    "\n",
    "## then create the data frame\n",
    "data = pd.DataFrame(pdSeriesList)\n",
    "\n",
    "data.head(2)"
   ]
  },
  {
   "cell_type": "code",
   "execution_count": null,
   "metadata": {
    "collapsed": true,
    "slideshow": {
     "slide_type": "slide"
    }
   },
   "outputs": [],
   "source": [
    "## filter tweets with enough retweet_count\n",
    "maybe_interesting = data[data.retweet_count>20]\n",
    "\n",
    "## get the text of these tweets\n",
    "tweet_text = maybe_interesting.text\n",
    "\n",
    "## print them out\n",
    "text = tweet_text.values\n",
    "\n",
    "for t in text:\n",
    "    print '######'\n",
    "    print t"
   ]
  },
  {
   "cell_type": "markdown",
   "metadata": {
    "slideshow": {
     "slide_type": "skip"
    }
   },
   "source": [
    "Extracting columns:\n",
    "===================\n",
    "\n",
    "__Warning:__ The returned column `tweet_text` is a `view` on the data\n",
    "    \n",
    "* it is not a copy\n",
    "* you change the Series => you change the DataFrame\n",
    "\n",
    "Below is another example of such a view:"
   ]
  },
  {
   "cell_type": "code",
   "execution_count": null,
   "metadata": {
    "collapsed": true,
    "slideshow": {
     "slide_type": "skip"
    }
   },
   "outputs": [],
   "source": [
    "## create a view for favorite_count on maybe_interesting\n",
    "view = maybe_interesting['favorite_count']\n",
    "print '-----------------'\n",
    "print \"This is view:\"\n",
    "print view\n",
    "## change a value\n",
    "view[8] = 9999\n",
    "\n",
    "## look at original frame\n",
    "print '-----------------'\n",
    "print \"This is view after changing view[8]\"\n",
    "print view\n",
    "\n",
    "print '-----------------'\n",
    "print \"This is maybe_interesting after changing view[8]\"\n",
    "print \"It changed too!\"\n",
    "print maybe_interesting['favorite_count']\n",
    "\n",
    "## to avoid this you can use copy\n",
    "independent_data = maybe_interesting['favorite_count'].copy()\n",
    "independent_data[10] = 999\n",
    "print '-----------------'\n",
    "print \"This is independent_data after changed at 10:\"\n",
    "print independent_data\n",
    "print '-----------------'\n",
    "print \"This is maybe_interesting after changing independent_data:\"\n",
    "print \"It did not change because we only changed a copy of it\"\n",
    "print maybe_interesting['favorite_count']"
   ]
  },
  {
   "cell_type": "markdown",
   "metadata": {
    "collapsed": true,
    "slideshow": {
     "slide_type": "slide"
    }
   },
   "source": [
    "What we covered today:\n",
    "============\n",
    "\n",
    "* Pandas data frames\n",
    "* Guidelines for friendly scraping\n",
    "* Scraping html sites\n",
    "* Scraping with Api's\n",
    "* Basic data cleanup\n"
   ]
  },
  {
   "cell_type": "markdown",
   "metadata": {
    "slideshow": {
     "slide_type": "slide"
    }
   },
   "source": [
    "Further material\n",
    "================\n",
    "\n",
    "* I highly recommend Katharine Jarmul's scraping tutorials\n",
    "* For example [this one](https://www.youtube.com/watch?v=p1iX0uxM1w8)\n",
    "* Pandas has extensive [documentation](http://pandas.pydata.org/pandas-docs/stable/)\n",
    "* Especially the [tem minutes to pandas chapter](http://pandas.pydata.org/pandas-docs/stable/10min.html)\n",
    "\n",
    "* [Greg Reda](http://www.gregreda.com/2013/10/26/using-pandas-on-the-movielens-dataset/) did a lot more pandas examples for the movie lens data set"
   ]
  }
 ],
 "metadata": {
  "celltoolbar": "Slideshow",
  "kernelspec": {
   "display_name": "Python 2",
   "language": "python",
   "name": "python2"
  },
  "language_info": {
   "codemirror_mode": {
    "name": "ipython",
    "version": 2
   },
   "file_extension": ".py",
   "mimetype": "text/x-python",
   "name": "python",
   "nbconvert_exporter": "python",
   "pygments_lexer": "ipython2",
   "version": "2.7.13"
  }
 },
 "nbformat": 4,
 "nbformat_minor": 1
}
